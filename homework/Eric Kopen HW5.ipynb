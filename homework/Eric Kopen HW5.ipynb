{
 "cells": [
  {
   "cell_type": "markdown",
   "metadata": {},
   "source": [
    "# Homework 5\n",
    "\n",
    "## FINM 36700 - 2024\n",
    "\n",
    "### UChicago Financial Mathematics\n",
    "\n",
    "* Mark Hendricks\n",
    "* hendricks@uchicago.edu"
   ]
  },
  {
   "cell_type": "markdown",
   "metadata": {},
   "source": [
    "***"
   ]
  },
  {
   "cell_type": "markdown",
   "metadata": {},
   "source": [
    "# Section 1: Harvard Case\n",
    "\n",
    "*This section will not be graded, but it will be discussed in class.*\n",
    "\n",
    "**Smart Beta Exchange-Traded-Funds and Factor Investing**.\n",
    "\n",
    "* The case is a good introduction to important pricing factors.\n",
    "* It also gives useful introduction and context to ETFs, passive vs active investing, and so-called “smart beta” funds."
   ]
  },
  {
   "cell_type": "markdown",
   "metadata": {},
   "source": [
    "1. Describe how each of the factors (other than MKT) is measured.1That is, each factor is a portfolio of stocks–which stocks are included in the factor portfolio?\n",
    "\n",
    "2. Is the factor portfolio...\n",
    "* long-only\n",
    "* long-short\n",
    "* value-weighted\n",
    "* equally-weighted\n",
    "\n",
    "4. What steps are taken in the factor construction to try to reduce the correlation between the factors?\n",
    "5. What is the point of figures 1-6?\n",
    "6. How is a “smart beta” ETF different from a traditional ETF?\n",
    "7. Is it possible for all investors to have exposure to the “value” factor?\n",
    "8. How does factor investing differ from traditional diversification?\n",
    "\n",
    "\n",
    "If you need more info in how these factor portfolios are created, see Ken French’s website, and the follow- details: \n",
    "\n",
    "https://mba.tuck.dartmouth.edu/pages/faculty/ken.french/Data_Library/f-f_5_factors_2x3.html\n",
    "\n",
    "https://mba.tuck.dartmouth.edu/pages/faculty/ken.french/Data_Library/det_mom_factor.html"
   ]
  },
  {
   "cell_type": "markdown",
   "metadata": {},
   "source": [
    "***"
   ]
  },
  {
   "cell_type": "markdown",
   "metadata": {},
   "source": [
    "# 2. The Factors\n",
    "\n",
    "Use the data found in `factor_pricing_data.xlsx`.\n",
    "\n",
    "* FACTORS: Monthly excess return data for the overall equity market, $\\tilde{r}^{\\text{MKT}}$.\n",
    "* The column header to the market factor is `MKT` rather than `MKT-RF`, but it is indeed already in excess return form.\n",
    "* The sheet also contains data on five additional factors.\n",
    "* All factor data is already provided as excess returns"
   ]
  },
  {
   "cell_type": "markdown",
   "metadata": {},
   "source": [
    "\n",
    "4. Report the tangency weights for a portfolio of these 6 factors.\n",
    "* Which factors seem most important? And Least?\n",
    "* Are the factors with low mean returns still useful?\n",
    "* Re-do the tangency portfolio, but this time only include MKT, SMB, HML, and UMD. Which factors get high/low tangency weights now?\n",
    "\n",
    "What do you conclude about the importance or unimportance of these styles?"
   ]
  },
  {
   "cell_type": "code",
   "execution_count": 67,
   "metadata": {},
   "outputs": [],
   "source": [
    "import pandas as pd\n",
    "import numpy as np\n",
    "import seaborn as sns\n",
    "import matplotlib.pyplot as plt"
   ]
  },
  {
   "cell_type": "markdown",
   "metadata": {},
   "source": [
    "1. Analyze the factors, similar to how you analyzed the three Fama-French factors in Homework 4.\n",
    "You now have three additional factors, so let’s compare there univariate statistics. • mean\n",
    "• volatility\n",
    "• Sharpe"
   ]
  },
  {
   "cell_type": "code",
   "execution_count": 68,
   "metadata": {},
   "outputs": [
    {
     "data": {
      "text/html": [
       "<div>\n",
       "<style scoped>\n",
       "    .dataframe tbody tr th:only-of-type {\n",
       "        vertical-align: middle;\n",
       "    }\n",
       "\n",
       "    .dataframe tbody tr th {\n",
       "        vertical-align: top;\n",
       "    }\n",
       "\n",
       "    .dataframe thead th {\n",
       "        text-align: right;\n",
       "    }\n",
       "</style>\n",
       "<table border=\"1\" class=\"dataframe\">\n",
       "  <thead>\n",
       "    <tr style=\"text-align: right;\">\n",
       "      <th></th>\n",
       "      <th>MKT</th>\n",
       "      <th>SMB</th>\n",
       "      <th>HML</th>\n",
       "      <th>RMW</th>\n",
       "      <th>CMA</th>\n",
       "      <th>UMD</th>\n",
       "    </tr>\n",
       "    <tr>\n",
       "      <th>Date</th>\n",
       "      <th></th>\n",
       "      <th></th>\n",
       "      <th></th>\n",
       "      <th></th>\n",
       "      <th></th>\n",
       "      <th></th>\n",
       "    </tr>\n",
       "  </thead>\n",
       "  <tbody>\n",
       "    <tr>\n",
       "      <th>1980-01-31</th>\n",
       "      <td>0.0551</td>\n",
       "      <td>0.0183</td>\n",
       "      <td>0.0175</td>\n",
       "      <td>-0.0170</td>\n",
       "      <td>0.0164</td>\n",
       "      <td>0.0755</td>\n",
       "    </tr>\n",
       "    <tr>\n",
       "      <th>1980-02-29</th>\n",
       "      <td>-0.0122</td>\n",
       "      <td>-0.0157</td>\n",
       "      <td>0.0061</td>\n",
       "      <td>0.0004</td>\n",
       "      <td>0.0268</td>\n",
       "      <td>0.0788</td>\n",
       "    </tr>\n",
       "    <tr>\n",
       "      <th>1980-03-31</th>\n",
       "      <td>-0.1290</td>\n",
       "      <td>-0.0693</td>\n",
       "      <td>-0.0101</td>\n",
       "      <td>0.0146</td>\n",
       "      <td>-0.0119</td>\n",
       "      <td>-0.0955</td>\n",
       "    </tr>\n",
       "    <tr>\n",
       "      <th>1980-04-30</th>\n",
       "      <td>0.0397</td>\n",
       "      <td>0.0105</td>\n",
       "      <td>0.0106</td>\n",
       "      <td>-0.0210</td>\n",
       "      <td>0.0029</td>\n",
       "      <td>-0.0043</td>\n",
       "    </tr>\n",
       "    <tr>\n",
       "      <th>1980-05-31</th>\n",
       "      <td>0.0526</td>\n",
       "      <td>0.0211</td>\n",
       "      <td>0.0038</td>\n",
       "      <td>0.0034</td>\n",
       "      <td>-0.0031</td>\n",
       "      <td>-0.0112</td>\n",
       "    </tr>\n",
       "    <tr>\n",
       "      <th>...</th>\n",
       "      <td>...</td>\n",
       "      <td>...</td>\n",
       "      <td>...</td>\n",
       "      <td>...</td>\n",
       "      <td>...</td>\n",
       "      <td>...</td>\n",
       "    </tr>\n",
       "    <tr>\n",
       "      <th>2024-04-30</th>\n",
       "      <td>-0.0467</td>\n",
       "      <td>-0.0256</td>\n",
       "      <td>-0.0052</td>\n",
       "      <td>0.0148</td>\n",
       "      <td>-0.0030</td>\n",
       "      <td>-0.0042</td>\n",
       "    </tr>\n",
       "    <tr>\n",
       "      <th>2024-05-31</th>\n",
       "      <td>0.0434</td>\n",
       "      <td>0.0076</td>\n",
       "      <td>-0.0166</td>\n",
       "      <td>0.0298</td>\n",
       "      <td>-0.0307</td>\n",
       "      <td>-0.0002</td>\n",
       "    </tr>\n",
       "    <tr>\n",
       "      <th>2024-06-30</th>\n",
       "      <td>0.0277</td>\n",
       "      <td>-0.0437</td>\n",
       "      <td>-0.0331</td>\n",
       "      <td>0.0051</td>\n",
       "      <td>-0.0178</td>\n",
       "      <td>0.0090</td>\n",
       "    </tr>\n",
       "    <tr>\n",
       "      <th>2024-07-31</th>\n",
       "      <td>0.0124</td>\n",
       "      <td>0.0828</td>\n",
       "      <td>0.0573</td>\n",
       "      <td>0.0022</td>\n",
       "      <td>0.0043</td>\n",
       "      <td>-0.0242</td>\n",
       "    </tr>\n",
       "    <tr>\n",
       "      <th>2024-08-31</th>\n",
       "      <td>0.0161</td>\n",
       "      <td>-0.0365</td>\n",
       "      <td>-0.0112</td>\n",
       "      <td>0.0085</td>\n",
       "      <td>0.0086</td>\n",
       "      <td>0.0478</td>\n",
       "    </tr>\n",
       "  </tbody>\n",
       "</table>\n",
       "<p>536 rows × 6 columns</p>\n",
       "</div>"
      ],
      "text/plain": [
       "               MKT     SMB     HML     RMW     CMA     UMD\n",
       "Date                                                      \n",
       "1980-01-31  0.0551  0.0183  0.0175 -0.0170  0.0164  0.0755\n",
       "1980-02-29 -0.0122 -0.0157  0.0061  0.0004  0.0268  0.0788\n",
       "1980-03-31 -0.1290 -0.0693 -0.0101  0.0146 -0.0119 -0.0955\n",
       "1980-04-30  0.0397  0.0105  0.0106 -0.0210  0.0029 -0.0043\n",
       "1980-05-31  0.0526  0.0211  0.0038  0.0034 -0.0031 -0.0112\n",
       "...            ...     ...     ...     ...     ...     ...\n",
       "2024-04-30 -0.0467 -0.0256 -0.0052  0.0148 -0.0030 -0.0042\n",
       "2024-05-31  0.0434  0.0076 -0.0166  0.0298 -0.0307 -0.0002\n",
       "2024-06-30  0.0277 -0.0437 -0.0331  0.0051 -0.0178  0.0090\n",
       "2024-07-31  0.0124  0.0828  0.0573  0.0022  0.0043 -0.0242\n",
       "2024-08-31  0.0161 -0.0365 -0.0112  0.0085  0.0086  0.0478\n",
       "\n",
       "[536 rows x 6 columns]"
      ]
     },
     "execution_count": 68,
     "metadata": {},
     "output_type": "execute_result"
    }
   ],
   "source": [
    "data = pd.read_excel('../data/factor_pricing_data.xlsx', sheet_name='factors (excess returns)', index_col='Date')\n",
    "data"
   ]
  },
  {
   "cell_type": "code",
   "execution_count": 69,
   "metadata": {},
   "outputs": [],
   "source": [
    "def stats_mean_vol_sharpe(data,portfolio = None, portfolio_name='Portfolio',annualize = 12):\n",
    "    if portfolio is None:\n",
    "        returns = data\n",
    "    else:\n",
    "        returns = data @ portfolio\n",
    "    \n",
    "    output = returns.agg(['mean','std'])\n",
    "    output.loc['sharpe'] = output.loc['mean'] / output.loc['std']\n",
    "    \n",
    "    output.loc['mean'] *= annualize\n",
    "    output.loc['std'] *= np.sqrt(annualize)\n",
    "    output.loc['sharpe'] *= np.sqrt(annualize)\n",
    "    \n",
    "    if portfolio is None:\n",
    "        pass\n",
    "    else:\n",
    "        output.columns = [portfolio_name]\n",
    "    \n",
    "    return output"
   ]
  },
  {
   "cell_type": "code",
   "execution_count": 70,
   "metadata": {},
   "outputs": [
    {
     "data": {
      "text/html": [
       "<div>\n",
       "<style scoped>\n",
       "    .dataframe tbody tr th:only-of-type {\n",
       "        vertical-align: middle;\n",
       "    }\n",
       "\n",
       "    .dataframe tbody tr th {\n",
       "        vertical-align: top;\n",
       "    }\n",
       "\n",
       "    .dataframe thead th {\n",
       "        text-align: right;\n",
       "    }\n",
       "</style>\n",
       "<table border=\"1\" class=\"dataframe\">\n",
       "  <thead>\n",
       "    <tr style=\"text-align: right;\">\n",
       "      <th></th>\n",
       "      <th>MKT</th>\n",
       "      <th>SMB</th>\n",
       "      <th>HML</th>\n",
       "      <th>RMW</th>\n",
       "      <th>CMA</th>\n",
       "      <th>UMD</th>\n",
       "    </tr>\n",
       "  </thead>\n",
       "  <tbody>\n",
       "    <tr>\n",
       "      <th>mean</th>\n",
       "      <td>0.086277</td>\n",
       "      <td>0.008319</td>\n",
       "      <td>0.025809</td>\n",
       "      <td>0.047096</td>\n",
       "      <td>0.029537</td>\n",
       "      <td>0.062709</td>\n",
       "    </tr>\n",
       "    <tr>\n",
       "      <th>std</th>\n",
       "      <td>0.156904</td>\n",
       "      <td>0.101873</td>\n",
       "      <td>0.109999</td>\n",
       "      <td>0.083213</td>\n",
       "      <td>0.073084</td>\n",
       "      <td>0.154564</td>\n",
       "    </tr>\n",
       "    <tr>\n",
       "      <th>sharpe</th>\n",
       "      <td>0.549872</td>\n",
       "      <td>0.081665</td>\n",
       "      <td>0.234629</td>\n",
       "      <td>0.565962</td>\n",
       "      <td>0.404148</td>\n",
       "      <td>0.405714</td>\n",
       "    </tr>\n",
       "  </tbody>\n",
       "</table>\n",
       "</div>"
      ],
      "text/plain": [
       "             MKT       SMB       HML       RMW       CMA       UMD\n",
       "mean    0.086277  0.008319  0.025809  0.047096  0.029537  0.062709\n",
       "std     0.156904  0.101873  0.109999  0.083213  0.073084  0.154564\n",
       "sharpe  0.549872  0.081665  0.234629  0.565962  0.404148  0.405714"
      ]
     },
     "execution_count": 70,
     "metadata": {},
     "output_type": "execute_result"
    }
   ],
   "source": [
    "stats = stats_mean_vol_sharpe(data)\n",
    "stats"
   ]
  },
  {
   "cell_type": "markdown",
   "metadata": {},
   "source": [
    "2. Based on the factor statistics above, answer the following.\n",
    "(a) Does each factor have a positive risk premium (positive expected excess return)? (b) How have the factors performed since the time of the case, (2015-present)?"
   ]
  },
  {
   "cell_type": "code",
   "execution_count": 71,
   "metadata": {},
   "outputs": [
    {
     "data": {
      "text/html": [
       "<div>\n",
       "<style scoped>\n",
       "    .dataframe tbody tr th:only-of-type {\n",
       "        vertical-align: middle;\n",
       "    }\n",
       "\n",
       "    .dataframe tbody tr th {\n",
       "        vertical-align: top;\n",
       "    }\n",
       "\n",
       "    .dataframe thead th {\n",
       "        text-align: right;\n",
       "    }\n",
       "</style>\n",
       "<table border=\"1\" class=\"dataframe\">\n",
       "  <thead>\n",
       "    <tr style=\"text-align: right;\">\n",
       "      <th></th>\n",
       "      <th>MKT</th>\n",
       "      <th>SMB</th>\n",
       "      <th>HML</th>\n",
       "      <th>RMW</th>\n",
       "      <th>CMA</th>\n",
       "      <th>UMD</th>\n",
       "    </tr>\n",
       "  </thead>\n",
       "  <tbody>\n",
       "    <tr>\n",
       "      <th>mean</th>\n",
       "      <td>0.116586</td>\n",
       "      <td>-0.019500</td>\n",
       "      <td>-0.017855</td>\n",
       "      <td>0.050886</td>\n",
       "      <td>-0.008410</td>\n",
       "      <td>0.021083</td>\n",
       "    </tr>\n",
       "    <tr>\n",
       "      <th>std</th>\n",
       "      <td>0.160285</td>\n",
       "      <td>0.104524</td>\n",
       "      <td>0.132709</td>\n",
       "      <td>0.073338</td>\n",
       "      <td>0.083989</td>\n",
       "      <td>0.140812</td>\n",
       "    </tr>\n",
       "    <tr>\n",
       "      <th>sharpe</th>\n",
       "      <td>0.727369</td>\n",
       "      <td>-0.186559</td>\n",
       "      <td>-0.134544</td>\n",
       "      <td>0.693862</td>\n",
       "      <td>-0.100137</td>\n",
       "      <td>0.149723</td>\n",
       "    </tr>\n",
       "  </tbody>\n",
       "</table>\n",
       "</div>"
      ],
      "text/plain": [
       "             MKT       SMB       HML       RMW       CMA       UMD\n",
       "mean    0.116586 -0.019500 -0.017855  0.050886 -0.008410  0.021083\n",
       "std     0.160285  0.104524  0.132709  0.073338  0.083989  0.140812\n",
       "sharpe  0.727369 -0.186559 -0.134544  0.693862 -0.100137  0.149723"
      ]
     },
     "execution_count": 71,
     "metadata": {},
     "output_type": "execute_result"
    }
   ],
   "source": [
    "data_2015_to_end = data.loc['2015':]\n",
    "stats_2015_to_end = stats_mean_vol_sharpe(data_2015_to_end)\n",
    "stats_2015_to_end"
   ]
  },
  {
   "cell_type": "markdown",
   "metadata": {},
   "source": [
    "a) for the entirety of the sample, the factors all have positive risk premiums\n",
    "\n",
    "b) From 2015 to the present, on average the factors the MKT and RMW factors have performed better, the UMD factor has performed weaker, and the SMB, HML, and CMA factors have performed weaker AND have negative returns"
   ]
  },
  {
   "cell_type": "markdown",
   "metadata": {},
   "source": [
    "3. Report the correlation matrix across the six factors.\n",
    "* Does the construction method succeed in keeping correlations small?\n",
    "* Fama and French say that HML is somewhat redundant in their 5-factor model. Does this seem to be the case?"
   ]
  },
  {
   "cell_type": "code",
   "execution_count": 72,
   "metadata": {},
   "outputs": [
    {
     "data": {
      "image/png": "[encoded data removed]",
      "text/plain": [
       "<Figure size 800x600 with 2 Axes>"
      ]
     },
     "metadata": {},
     "output_type": "display_data"
    }
   ],
   "source": [
    "corr_matrix = data.corr()\n",
    "\n",
    "plt.figure(figsize=(8, 6))  # Set figure size\n",
    "sns.heatmap(corr_matrix, annot=True, cmap=\"coolwarm\", square=True, fmt=\".2f\")\n",
    "plt.title(\"Correlation Matrix Heatmap\")\n",
    "plt.show()"
   ]
  },
  {
   "cell_type": "code",
   "execution_count": 73,
   "metadata": {},
   "outputs": [
    {
     "data": {
      "text/plain": [
       "UMD    0.107160\n",
       "SMB    0.155152\n",
       "RMW    0.217442\n",
       "MKT    0.242458\n",
       "CMA    0.244291\n",
       "HML    0.269703\n",
       "dtype: float64"
      ]
     },
     "execution_count": 73,
     "metadata": {},
     "output_type": "execute_result"
    }
   ],
   "source": [
    "abs_corr_matrix = corr_matrix.abs()\n",
    "np.fill_diagonal(abs_corr_matrix.values, np.nan)\n",
    "mean_corr = abs_corr_matrix.mean()\n",
    "\n",
    "mean_corr.sort_values()"
   ]
  },
  {
   "cell_type": "markdown",
   "metadata": {},
   "source": [
    "a) Looking at the average correlations, the values seem very low, and no one factor is overcorrelated\n",
    "\n",
    "b) While HML does have the higest overall correlation with other factors, and a large correlation with CMA (.68), it's not an outlier, and is comparable to the average correlations of CMA, MKT, and RMW."
   ]
  },
  {
   "cell_type": "markdown",
   "metadata": {},
   "source": [
    "***"
   ]
  },
  {
   "cell_type": "markdown",
   "metadata": {},
   "source": [
    "# 3. Testing Modern LPMs\n",
    "\n",
    "Consider the following factor models:\n",
    "* CAPM: MKT\n",
    "* Fama-French 3F: MKT, SMB, HML\n",
    "* Fama-French 5F: MKT, SMB, HML, RMW, CMA\n",
    "* AQR: MKT, HML, RMW, UMD\n",
    "\n",
    "We are not saying this is “the” AQR model, but it is a good illustration of their most publicized factors: value, momentum, and more recently, profitability."
   ]
  },
  {
   "cell_type": "markdown",
   "metadata": {},
   "source": [
    "For instance, for the AQR model is..."
   ]
  },
  {
   "cell_type": "markdown",
   "metadata": {},
   "source": [
    "![](../refs/LFP-4-factors.png)"
   ]
  },
  {
   "cell_type": "markdown",
   "metadata": {},
   "source": [
    "We will test these models with the time-series regressions. Namely, for each asset i, estimate the following regression to test the AQR model:"
   ]
  },
  {
   "cell_type": "markdown",
   "metadata": {},
   "source": [
    "![](../refs/LFD-4-factors.png)"
   ]
  },
  {
   "cell_type": "markdown",
   "metadata": {},
   "source": [
    "Data\n",
    "* PORTFOLIOS: Monthly excess return data on 49 equity portfolios sorted by their industry. Denote these as $\\tilde{r}^i$ , for $n = 1, . . . , 49.$\n",
    "\n",
    "* You do NOT need the risk-free rate data. It is provided only for completeness. The other two tabs are already in terms of excess returns."
   ]
  },
  {
   "cell_type": "markdown",
   "metadata": {},
   "source": [
    "***"
   ]
  },
  {
   "cell_type": "markdown",
   "metadata": {},
   "source": [
    "1. Test the AQR 4-Factor Model using the time-series test. (We are not doing the cross-sectional regression tests.)\n",
    "* For each regression, report the estimated α and r-squared.\n",
    "* Calculate the mean-absolute-error of the estimated alphas.\n",
    "* If the pricing model worked, should these alpha estimates be large or small? Why?\n",
    "* Based on your MAE stat, does this seem to support the pricing model or not?"
   ]
  },
  {
   "cell_type": "code",
   "execution_count": 74,
   "metadata": {},
   "outputs": [
    {
     "data": {
      "text/html": [
       "<div>\n",
       "<style scoped>\n",
       "    .dataframe tbody tr th:only-of-type {\n",
       "        vertical-align: middle;\n",
       "    }\n",
       "\n",
       "    .dataframe tbody tr th {\n",
       "        vertical-align: top;\n",
       "    }\n",
       "\n",
       "    .dataframe thead th {\n",
       "        text-align: right;\n",
       "    }\n",
       "</style>\n",
       "<table border=\"1\" class=\"dataframe\">\n",
       "  <thead>\n",
       "    <tr style=\"text-align: right;\">\n",
       "      <th></th>\n",
       "      <th>Agric</th>\n",
       "      <th>Food</th>\n",
       "      <th>Soda</th>\n",
       "      <th>Beer</th>\n",
       "      <th>Smoke</th>\n",
       "      <th>Toys</th>\n",
       "      <th>Fun</th>\n",
       "      <th>Books</th>\n",
       "      <th>Hshld</th>\n",
       "      <th>Clths</th>\n",
       "      <th>...</th>\n",
       "      <th>Boxes</th>\n",
       "      <th>Trans</th>\n",
       "      <th>Whlsl</th>\n",
       "      <th>Rtail</th>\n",
       "      <th>Meals</th>\n",
       "      <th>Banks</th>\n",
       "      <th>Insur</th>\n",
       "      <th>RlEst</th>\n",
       "      <th>Fin</th>\n",
       "      <th>Other</th>\n",
       "    </tr>\n",
       "    <tr>\n",
       "      <th>Date</th>\n",
       "      <th></th>\n",
       "      <th></th>\n",
       "      <th></th>\n",
       "      <th></th>\n",
       "      <th></th>\n",
       "      <th></th>\n",
       "      <th></th>\n",
       "      <th></th>\n",
       "      <th></th>\n",
       "      <th></th>\n",
       "      <th></th>\n",
       "      <th></th>\n",
       "      <th></th>\n",
       "      <th></th>\n",
       "      <th></th>\n",
       "      <th></th>\n",
       "      <th></th>\n",
       "      <th></th>\n",
       "      <th></th>\n",
       "      <th></th>\n",
       "      <th></th>\n",
       "    </tr>\n",
       "  </thead>\n",
       "  <tbody>\n",
       "    <tr>\n",
       "      <th>1980-01-31</th>\n",
       "      <td>-0.0076</td>\n",
       "      <td>0.0285</td>\n",
       "      <td>0.0084</td>\n",
       "      <td>0.1009</td>\n",
       "      <td>-0.0143</td>\n",
       "      <td>0.1002</td>\n",
       "      <td>0.0362</td>\n",
       "      <td>0.0323</td>\n",
       "      <td>0.0048</td>\n",
       "      <td>0.0059</td>\n",
       "      <td>...</td>\n",
       "      <td>0.0158</td>\n",
       "      <td>0.0875</td>\n",
       "      <td>0.0465</td>\n",
       "      <td>-0.0126</td>\n",
       "      <td>0.0430</td>\n",
       "      <td>-0.0283</td>\n",
       "      <td>0.0258</td>\n",
       "      <td>0.0768</td>\n",
       "      <td>0.0308</td>\n",
       "      <td>0.0669</td>\n",
       "    </tr>\n",
       "    <tr>\n",
       "      <th>1980-02-29</th>\n",
       "      <td>0.0105</td>\n",
       "      <td>-0.0608</td>\n",
       "      <td>-0.0966</td>\n",
       "      <td>-0.0322</td>\n",
       "      <td>-0.0569</td>\n",
       "      <td>-0.0323</td>\n",
       "      <td>-0.0521</td>\n",
       "      <td>-0.0800</td>\n",
       "      <td>-0.0555</td>\n",
       "      <td>-0.0167</td>\n",
       "      <td>...</td>\n",
       "      <td>-0.0079</td>\n",
       "      <td>-0.0541</td>\n",
       "      <td>-0.0346</td>\n",
       "      <td>-0.0639</td>\n",
       "      <td>-0.0652</td>\n",
       "      <td>-0.0854</td>\n",
       "      <td>-0.0959</td>\n",
       "      <td>-0.0347</td>\n",
       "      <td>-0.0282</td>\n",
       "      <td>-0.0274</td>\n",
       "    </tr>\n",
       "    <tr>\n",
       "      <th>1980-03-31</th>\n",
       "      <td>-0.2224</td>\n",
       "      <td>-0.1119</td>\n",
       "      <td>-0.0167</td>\n",
       "      <td>-0.1469</td>\n",
       "      <td>-0.0193</td>\n",
       "      <td>-0.1271</td>\n",
       "      <td>-0.0826</td>\n",
       "      <td>-0.1237</td>\n",
       "      <td>-0.0566</td>\n",
       "      <td>-0.0668</td>\n",
       "      <td>...</td>\n",
       "      <td>-0.0819</td>\n",
       "      <td>-0.1509</td>\n",
       "      <td>-0.1098</td>\n",
       "      <td>-0.0906</td>\n",
       "      <td>-0.1449</td>\n",
       "      <td>-0.0560</td>\n",
       "      <td>-0.0880</td>\n",
       "      <td>-0.2451</td>\n",
       "      <td>-0.1254</td>\n",
       "      <td>-0.1726</td>\n",
       "    </tr>\n",
       "    <tr>\n",
       "      <th>1980-04-30</th>\n",
       "      <td>0.0449</td>\n",
       "      <td>0.0766</td>\n",
       "      <td>0.0232</td>\n",
       "      <td>0.0321</td>\n",
       "      <td>0.0830</td>\n",
       "      <td>-0.0529</td>\n",
       "      <td>0.0783</td>\n",
       "      <td>0.0153</td>\n",
       "      <td>0.0304</td>\n",
       "      <td>0.0115</td>\n",
       "      <td>...</td>\n",
       "      <td>0.0420</td>\n",
       "      <td>-0.0103</td>\n",
       "      <td>-0.0312</td>\n",
       "      <td>0.0353</td>\n",
       "      <td>0.0542</td>\n",
       "      <td>0.0728</td>\n",
       "      <td>0.0530</td>\n",
       "      <td>0.0977</td>\n",
       "      <td>0.0447</td>\n",
       "      <td>0.0769</td>\n",
       "    </tr>\n",
       "    <tr>\n",
       "      <th>1980-05-31</th>\n",
       "      <td>0.0632</td>\n",
       "      <td>0.0793</td>\n",
       "      <td>0.0457</td>\n",
       "      <td>0.0863</td>\n",
       "      <td>0.0815</td>\n",
       "      <td>0.0509</td>\n",
       "      <td>0.0324</td>\n",
       "      <td>0.0886</td>\n",
       "      <td>0.0560</td>\n",
       "      <td>0.0098</td>\n",
       "      <td>...</td>\n",
       "      <td>0.0564</td>\n",
       "      <td>0.1063</td>\n",
       "      <td>0.1142</td>\n",
       "      <td>0.0877</td>\n",
       "      <td>0.1134</td>\n",
       "      <td>0.0578</td>\n",
       "      <td>0.0557</td>\n",
       "      <td>0.0915</td>\n",
       "      <td>0.0844</td>\n",
       "      <td>0.0685</td>\n",
       "    </tr>\n",
       "    <tr>\n",
       "      <th>...</th>\n",
       "      <td>...</td>\n",
       "      <td>...</td>\n",
       "      <td>...</td>\n",
       "      <td>...</td>\n",
       "      <td>...</td>\n",
       "      <td>...</td>\n",
       "      <td>...</td>\n",
       "      <td>...</td>\n",
       "      <td>...</td>\n",
       "      <td>...</td>\n",
       "      <td>...</td>\n",
       "      <td>...</td>\n",
       "      <td>...</td>\n",
       "      <td>...</td>\n",
       "      <td>...</td>\n",
       "      <td>...</td>\n",
       "      <td>...</td>\n",
       "      <td>...</td>\n",
       "      <td>...</td>\n",
       "      <td>...</td>\n",
       "      <td>...</td>\n",
       "    </tr>\n",
       "    <tr>\n",
       "      <th>2024-04-30</th>\n",
       "      <td>-0.0629</td>\n",
       "      <td>0.0018</td>\n",
       "      <td>-0.0234</td>\n",
       "      <td>-0.0244</td>\n",
       "      <td>0.0199</td>\n",
       "      <td>-0.0368</td>\n",
       "      <td>-0.0999</td>\n",
       "      <td>-0.0632</td>\n",
       "      <td>-0.0205</td>\n",
       "      <td>-0.0686</td>\n",
       "      <td>...</td>\n",
       "      <td>-0.0352</td>\n",
       "      <td>-0.0842</td>\n",
       "      <td>-0.0639</td>\n",
       "      <td>-0.0554</td>\n",
       "      <td>-0.0279</td>\n",
       "      <td>-0.0437</td>\n",
       "      <td>-0.0455</td>\n",
       "      <td>-0.1186</td>\n",
       "      <td>-0.0502</td>\n",
       "      <td>-0.0284</td>\n",
       "    </tr>\n",
       "    <tr>\n",
       "      <th>2024-05-31</th>\n",
       "      <td>0.0383</td>\n",
       "      <td>-0.0188</td>\n",
       "      <td>0.0159</td>\n",
       "      <td>-0.0224</td>\n",
       "      <td>0.0598</td>\n",
       "      <td>0.0017</td>\n",
       "      <td>0.0931</td>\n",
       "      <td>0.1255</td>\n",
       "      <td>-0.0024</td>\n",
       "      <td>0.0447</td>\n",
       "      <td>...</td>\n",
       "      <td>0.0350</td>\n",
       "      <td>-0.0008</td>\n",
       "      <td>-0.0029</td>\n",
       "      <td>0.0322</td>\n",
       "      <td>-0.0393</td>\n",
       "      <td>0.0251</td>\n",
       "      <td>0.0324</td>\n",
       "      <td>0.0427</td>\n",
       "      <td>0.0428</td>\n",
       "      <td>0.0348</td>\n",
       "    </tr>\n",
       "    <tr>\n",
       "      <th>2024-06-30</th>\n",
       "      <td>-0.0354</td>\n",
       "      <td>-0.0409</td>\n",
       "      <td>-0.0056</td>\n",
       "      <td>-0.0346</td>\n",
       "      <td>0.0062</td>\n",
       "      <td>-0.0406</td>\n",
       "      <td>0.0394</td>\n",
       "      <td>0.0075</td>\n",
       "      <td>-0.0053</td>\n",
       "      <td>-0.1286</td>\n",
       "      <td>...</td>\n",
       "      <td>-0.0877</td>\n",
       "      <td>0.0259</td>\n",
       "      <td>-0.0325</td>\n",
       "      <td>0.0468</td>\n",
       "      <td>0.0019</td>\n",
       "      <td>-0.0103</td>\n",
       "      <td>-0.0065</td>\n",
       "      <td>-0.0128</td>\n",
       "      <td>0.0005</td>\n",
       "      <td>-0.0170</td>\n",
       "    </tr>\n",
       "    <tr>\n",
       "      <th>2024-07-31</th>\n",
       "      <td>0.0466</td>\n",
       "      <td>0.0361</td>\n",
       "      <td>0.0312</td>\n",
       "      <td>0.0259</td>\n",
       "      <td>0.1124</td>\n",
       "      <td>0.0806</td>\n",
       "      <td>-0.0441</td>\n",
       "      <td>0.0270</td>\n",
       "      <td>-0.0152</td>\n",
       "      <td>-0.0281</td>\n",
       "      <td>...</td>\n",
       "      <td>0.1134</td>\n",
       "      <td>-0.0025</td>\n",
       "      <td>0.0599</td>\n",
       "      <td>-0.0058</td>\n",
       "      <td>-0.0311</td>\n",
       "      <td>0.0701</td>\n",
       "      <td>0.0799</td>\n",
       "      <td>0.1894</td>\n",
       "      <td>0.0628</td>\n",
       "      <td>0.0545</td>\n",
       "    </tr>\n",
       "    <tr>\n",
       "      <th>2024-08-31</th>\n",
       "      <td>0.0186</td>\n",
       "      <td>0.0461</td>\n",
       "      <td>0.0490</td>\n",
       "      <td>0.0040</td>\n",
       "      <td>0.0748</td>\n",
       "      <td>-0.0240</td>\n",
       "      <td>0.0550</td>\n",
       "      <td>0.0121</td>\n",
       "      <td>0.0582</td>\n",
       "      <td>0.0530</td>\n",
       "      <td>...</td>\n",
       "      <td>0.0076</td>\n",
       "      <td>0.0196</td>\n",
       "      <td>-0.0169</td>\n",
       "      <td>0.0027</td>\n",
       "      <td>0.0499</td>\n",
       "      <td>0.0172</td>\n",
       "      <td>0.0385</td>\n",
       "      <td>0.0008</td>\n",
       "      <td>0.0050</td>\n",
       "      <td>0.0579</td>\n",
       "    </tr>\n",
       "  </tbody>\n",
       "</table>\n",
       "<p>536 rows × 49 columns</p>\n",
       "</div>"
      ],
      "text/plain": [
       "             Agric   Food    Soda    Beer    Smoke   Toys    Fun     Books  \\\n",
       "Date                                                                         \n",
       "1980-01-31 -0.0076  0.0285  0.0084  0.1009 -0.0143  0.1002  0.0362  0.0323   \n",
       "1980-02-29  0.0105 -0.0608 -0.0966 -0.0322 -0.0569 -0.0323 -0.0521 -0.0800   \n",
       "1980-03-31 -0.2224 -0.1119 -0.0167 -0.1469 -0.0193 -0.1271 -0.0826 -0.1237   \n",
       "1980-04-30  0.0449  0.0766  0.0232  0.0321  0.0830 -0.0529  0.0783  0.0153   \n",
       "1980-05-31  0.0632  0.0793  0.0457  0.0863  0.0815  0.0509  0.0324  0.0886   \n",
       "...            ...     ...     ...     ...     ...     ...     ...     ...   \n",
       "2024-04-30 -0.0629  0.0018 -0.0234 -0.0244  0.0199 -0.0368 -0.0999 -0.0632   \n",
       "2024-05-31  0.0383 -0.0188  0.0159 -0.0224  0.0598  0.0017  0.0931  0.1255   \n",
       "2024-06-30 -0.0354 -0.0409 -0.0056 -0.0346  0.0062 -0.0406  0.0394  0.0075   \n",
       "2024-07-31  0.0466  0.0361  0.0312  0.0259  0.1124  0.0806 -0.0441  0.0270   \n",
       "2024-08-31  0.0186  0.0461  0.0490  0.0040  0.0748 -0.0240  0.0550  0.0121   \n",
       "\n",
       "             Hshld   Clths  ...   Boxes   Trans   Whlsl   Rtail   Meals  \\\n",
       "Date                        ...                                           \n",
       "1980-01-31  0.0048  0.0059  ...  0.0158  0.0875  0.0465 -0.0126  0.0430   \n",
       "1980-02-29 -0.0555 -0.0167  ... -0.0079 -0.0541 -0.0346 -0.0639 -0.0652   \n",
       "1980-03-31 -0.0566 -0.0668  ... -0.0819 -0.1509 -0.1098 -0.0906 -0.1449   \n",
       "1980-04-30  0.0304  0.0115  ...  0.0420 -0.0103 -0.0312  0.0353  0.0542   \n",
       "1980-05-31  0.0560  0.0098  ...  0.0564  0.1063  0.1142  0.0877  0.1134   \n",
       "...            ...     ...  ...     ...     ...     ...     ...     ...   \n",
       "2024-04-30 -0.0205 -0.0686  ... -0.0352 -0.0842 -0.0639 -0.0554 -0.0279   \n",
       "2024-05-31 -0.0024  0.0447  ...  0.0350 -0.0008 -0.0029  0.0322 -0.0393   \n",
       "2024-06-30 -0.0053 -0.1286  ... -0.0877  0.0259 -0.0325  0.0468  0.0019   \n",
       "2024-07-31 -0.0152 -0.0281  ...  0.1134 -0.0025  0.0599 -0.0058 -0.0311   \n",
       "2024-08-31  0.0582  0.0530  ...  0.0076  0.0196 -0.0169  0.0027  0.0499   \n",
       "\n",
       "             Banks   Insur   RlEst   Fin     Other  \n",
       "Date                                                \n",
       "1980-01-31 -0.0283  0.0258  0.0768  0.0308  0.0669  \n",
       "1980-02-29 -0.0854 -0.0959 -0.0347 -0.0282 -0.0274  \n",
       "1980-03-31 -0.0560 -0.0880 -0.2451 -0.1254 -0.1726  \n",
       "1980-04-30  0.0728  0.0530  0.0977  0.0447  0.0769  \n",
       "1980-05-31  0.0578  0.0557  0.0915  0.0844  0.0685  \n",
       "...            ...     ...     ...     ...     ...  \n",
       "2024-04-30 -0.0437 -0.0455 -0.1186 -0.0502 -0.0284  \n",
       "2024-05-31  0.0251  0.0324  0.0427  0.0428  0.0348  \n",
       "2024-06-30 -0.0103 -0.0065 -0.0128  0.0005 -0.0170  \n",
       "2024-07-31  0.0701  0.0799  0.1894  0.0628  0.0545  \n",
       "2024-08-31  0.0172  0.0385  0.0008  0.0050  0.0579  \n",
       "\n",
       "[536 rows x 49 columns]"
      ]
     },
     "execution_count": 74,
     "metadata": {},
     "output_type": "execute_result"
    }
   ],
   "source": [
    "portfolios = pd.read_excel('../data/factor_pricing_data.xlsx', sheet_name='portfolios (excess returns)', index_col='Date')\n",
    "portfolios"
   ]
  },
  {
   "cell_type": "code",
   "execution_count": 75,
   "metadata": {},
   "outputs": [],
   "source": [
    "import statsmodels.api as sm\n",
    "\n",
    "# def LFPM_TS(assets, factors, annualize = 12, name = 'asset', treynor = False, mkt_name = 'Mkt-RF'):\n",
    "def LFPM_TS(assets, factors, annualize = 12, name = 'asset'):\n",
    "    \n",
    "    if isinstance(assets,pd.Series):\n",
    "        assets = pd.DataFrame(assets,columns=name)\n",
    "    \n",
    "    model_output = pd.DataFrame()\n",
    "    stats_output = pd.DataFrame()\n",
    "    \n",
    "    x = sm.add_constant(factors)\n",
    "    \n",
    "    for asset in assets.columns:\n",
    "        \n",
    "        y = assets[asset]\n",
    "        model = sm.OLS(y,x).fit()\n",
    "        \n",
    "        model_output[asset] = model.params\n",
    "        \n",
    "        # mu = y.mean() * annualize\n",
    "        alpha = model.params.iloc[0] * annualize\n",
    "        # sig_ep = model.resid.std() * np.sqrt(annualize)\n",
    "        # IR = alpha / sig_ep\n",
    "        r_squared  = model.rsquared\n",
    "        \n",
    "        stats_output[asset] = pd.Series(data = [alpha,r_squared],index = ['Alpha','R Squared'])\n",
    "        \n",
    "        # if treynor:\n",
    "        #     mkt = model.params[mkt_name]\n",
    "        #     TR = mu / mkt\n",
    "            \n",
    "        #     stats_output.loc['Treynor',asset] = TR\n",
    "        \n",
    "    return model_output, stats_output"
   ]
  },
  {
   "cell_type": "code",
   "execution_count": 76,
   "metadata": {},
   "outputs": [],
   "source": [
    "def MAEcalc(data,name):\n",
    "    return pd.DataFrame({\n",
    "        'MAE': [data['const'].abs().mean()],\n",
    "        'MAE (Annualized)': [data['Alpha'].abs().mean()]\n",
    "    }, index=[name])\n"
   ]
  },
  {
   "cell_type": "code",
   "execution_count": 77,
   "metadata": {},
   "outputs": [
    {
     "data": {
      "text/html": [
       "<div>\n",
       "<style scoped>\n",
       "    .dataframe tbody tr th:only-of-type {\n",
       "        vertical-align: middle;\n",
       "    }\n",
       "\n",
       "    .dataframe tbody tr th {\n",
       "        vertical-align: top;\n",
       "    }\n",
       "\n",
       "    .dataframe thead th {\n",
       "        text-align: right;\n",
       "    }\n",
       "</style>\n",
       "<table border=\"1\" class=\"dataframe\">\n",
       "  <thead>\n",
       "    <tr style=\"text-align: right;\">\n",
       "      <th></th>\n",
       "      <th>MAE</th>\n",
       "      <th>MAE (Annualized)</th>\n",
       "    </tr>\n",
       "  </thead>\n",
       "  <tbody>\n",
       "    <tr>\n",
       "      <th>AQR</th>\n",
       "      <td>0.001916</td>\n",
       "      <td>0.022993</td>\n",
       "    </tr>\n",
       "  </tbody>\n",
       "</table>\n",
       "</div>"
      ],
      "text/plain": [
       "          MAE  MAE (Annualized)\n",
       "AQR  0.001916          0.022993"
      ]
     },
     "execution_count": 77,
     "metadata": {},
     "output_type": "execute_result"
    }
   ],
   "source": [
    "aqr_ts_reg_stats = pd.concat(LFPM_TS(portfolios,data[['MKT', 'HML', 'RMW', 'UMD']])).T\n",
    "MAEcalc(aqr_ts_reg_stats, \"AQR\")"
   ]
  },
  {
   "cell_type": "code",
   "execution_count": 78,
   "metadata": {},
   "outputs": [
    {
     "data": {
      "text/html": [
       "<div>\n",
       "<style scoped>\n",
       "    .dataframe tbody tr th:only-of-type {\n",
       "        vertical-align: middle;\n",
       "    }\n",
       "\n",
       "    .dataframe tbody tr th {\n",
       "        vertical-align: top;\n",
       "    }\n",
       "\n",
       "    .dataframe thead th {\n",
       "        text-align: right;\n",
       "    }\n",
       "</style>\n",
       "<table border=\"1\" class=\"dataframe\">\n",
       "  <thead>\n",
       "    <tr style=\"text-align: right;\">\n",
       "      <th></th>\n",
       "      <th>const</th>\n",
       "      <th>MKT</th>\n",
       "      <th>HML</th>\n",
       "      <th>RMW</th>\n",
       "      <th>UMD</th>\n",
       "      <th>Alpha</th>\n",
       "      <th>R Squared</th>\n",
       "    </tr>\n",
       "  </thead>\n",
       "  <tbody>\n",
       "    <tr>\n",
       "      <th>Agric</th>\n",
       "      <td>0.000643</td>\n",
       "      <td>0.836774</td>\n",
       "      <td>0.184332</td>\n",
       "      <td>-0.011247</td>\n",
       "      <td>0.080408</td>\n",
       "      <td>0.007721</td>\n",
       "      <td>0.339175</td>\n",
       "    </tr>\n",
       "    <tr>\n",
       "      <th>Food</th>\n",
       "      <td>0.000579</td>\n",
       "      <td>0.679100</td>\n",
       "      <td>0.183550</td>\n",
       "      <td>0.489345</td>\n",
       "      <td>0.042428</td>\n",
       "      <td>0.006950</td>\n",
       "      <td>0.464221</td>\n",
       "    </tr>\n",
       "    <tr>\n",
       "      <th>Soda</th>\n",
       "      <td>0.001436</td>\n",
       "      <td>0.783908</td>\n",
       "      <td>0.204231</td>\n",
       "      <td>0.490429</td>\n",
       "      <td>-0.084807</td>\n",
       "      <td>0.017230</td>\n",
       "      <td>0.308354</td>\n",
       "    </tr>\n",
       "    <tr>\n",
       "      <th>Beer</th>\n",
       "      <td>0.001422</td>\n",
       "      <td>0.721367</td>\n",
       "      <td>0.038420</td>\n",
       "      <td>0.584607</td>\n",
       "      <td>0.087322</td>\n",
       "      <td>0.017060</td>\n",
       "      <td>0.420762</td>\n",
       "    </tr>\n",
       "    <tr>\n",
       "      <th>Smoke</th>\n",
       "      <td>0.002942</td>\n",
       "      <td>0.737693</td>\n",
       "      <td>0.258770</td>\n",
       "      <td>0.655168</td>\n",
       "      <td>-0.028303</td>\n",
       "      <td>0.035306</td>\n",
       "      <td>0.273489</td>\n",
       "    </tr>\n",
       "  </tbody>\n",
       "</table>\n",
       "</div>"
      ],
      "text/plain": [
       "          const       MKT       HML       RMW       UMD     Alpha  R Squared\n",
       "Agric  0.000643  0.836774  0.184332 -0.011247  0.080408  0.007721   0.339175\n",
       "Food   0.000579  0.679100  0.183550  0.489345  0.042428  0.006950   0.464221\n",
       "Soda   0.001436  0.783908  0.204231  0.490429 -0.084807  0.017230   0.308354\n",
       "Beer   0.001422  0.721367  0.038420  0.584607  0.087322  0.017060   0.420762\n",
       "Smoke  0.002942  0.737693  0.258770  0.655168 -0.028303  0.035306   0.273489"
      ]
     },
     "execution_count": 78,
     "metadata": {},
     "output_type": "execute_result"
    }
   ],
   "source": [
    "aqr_ts_reg_stats.head()"
   ]
  },
  {
   "cell_type": "code",
   "execution_count": 79,
   "metadata": {},
   "outputs": [
    {
     "data": {
      "text/plain": [
       "-0.005247902656649154"
      ]
     },
     "execution_count": 79,
     "metadata": {},
     "output_type": "execute_result"
    }
   ],
   "source": [
    "aqr_ts_reg_stats['Alpha'].mean()"
   ]
  },
  {
   "cell_type": "markdown",
   "metadata": {},
   "source": [
    "If the pricing model worked, our alphas would be low or very close to zero. This is because a functioning pricing model should be able to explain the returns with just its factors. In our case, the average alpha is ~0.5%, which implies the model is doing a decent job, but not excellent."
   ]
  },
  {
   "cell_type": "markdown",
   "metadata": {},
   "source": [
    "Our average MAE is 2.3% a year, which is good, and we can use this to assert the pricing model is functioning well."
   ]
  },
  {
   "cell_type": "markdown",
   "metadata": {},
   "source": [
    "2. Test the CAPM, FF 3-Factor Model and the the FF 5-Factor Model.\n",
    "   * Report the MAE statistic for each of these models and compare it with the AQR Model MAE.\n",
    "   * Which model fits best?"
   ]
  },
  {
   "cell_type": "code",
   "execution_count": 80,
   "metadata": {},
   "outputs": [
    {
     "data": {
      "text/html": [
       "<div>\n",
       "<style scoped>\n",
       "    .dataframe tbody tr th:only-of-type {\n",
       "        vertical-align: middle;\n",
       "    }\n",
       "\n",
       "    .dataframe tbody tr th {\n",
       "        vertical-align: top;\n",
       "    }\n",
       "\n",
       "    .dataframe thead th {\n",
       "        text-align: right;\n",
       "    }\n",
       "</style>\n",
       "<table border=\"1\" class=\"dataframe\">\n",
       "  <thead>\n",
       "    <tr style=\"text-align: right;\">\n",
       "      <th></th>\n",
       "      <th>MAE</th>\n",
       "      <th>MAE (Annualized)</th>\n",
       "    </tr>\n",
       "  </thead>\n",
       "  <tbody>\n",
       "    <tr>\n",
       "      <th>CAPM</th>\n",
       "      <td>0.0017</td>\n",
       "      <td>0.020402</td>\n",
       "    </tr>\n",
       "  </tbody>\n",
       "</table>\n",
       "</div>"
      ],
      "text/plain": [
       "         MAE  MAE (Annualized)\n",
       "CAPM  0.0017          0.020402"
      ]
     },
     "execution_count": 80,
     "metadata": {},
     "output_type": "execute_result"
    }
   ],
   "source": [
    "MAEcalc(pd.concat(LFPM_TS(portfolios,data[['MKT']])).T,\"CAPM\")"
   ]
  },
  {
   "cell_type": "code",
   "execution_count": 81,
   "metadata": {},
   "outputs": [
    {
     "data": {
      "text/html": [
       "<div>\n",
       "<style scoped>\n",
       "    .dataframe tbody tr th:only-of-type {\n",
       "        vertical-align: middle;\n",
       "    }\n",
       "\n",
       "    .dataframe tbody tr th {\n",
       "        vertical-align: top;\n",
       "    }\n",
       "\n",
       "    .dataframe thead th {\n",
       "        text-align: right;\n",
       "    }\n",
       "</style>\n",
       "<table border=\"1\" class=\"dataframe\">\n",
       "  <thead>\n",
       "    <tr style=\"text-align: right;\">\n",
       "      <th></th>\n",
       "      <th>MAE</th>\n",
       "      <th>MAE (Annualized)</th>\n",
       "    </tr>\n",
       "  </thead>\n",
       "  <tbody>\n",
       "    <tr>\n",
       "      <th>FF3</th>\n",
       "      <td>0.001999</td>\n",
       "      <td>0.023984</td>\n",
       "    </tr>\n",
       "  </tbody>\n",
       "</table>\n",
       "</div>"
      ],
      "text/plain": [
       "          MAE  MAE (Annualized)\n",
       "FF3  0.001999          0.023984"
      ]
     },
     "execution_count": 81,
     "metadata": {},
     "output_type": "execute_result"
    }
   ],
   "source": [
    "MAEcalc(pd.concat(LFPM_TS(portfolios,data[['MKT','SMB','HML']])).T,\"FF3\")"
   ]
  },
  {
   "cell_type": "code",
   "execution_count": 82,
   "metadata": {},
   "outputs": [
    {
     "data": {
      "text/html": [
       "<div>\n",
       "<style scoped>\n",
       "    .dataframe tbody tr th:only-of-type {\n",
       "        vertical-align: middle;\n",
       "    }\n",
       "\n",
       "    .dataframe tbody tr th {\n",
       "        vertical-align: top;\n",
       "    }\n",
       "\n",
       "    .dataframe thead th {\n",
       "        text-align: right;\n",
       "    }\n",
       "</style>\n",
       "<table border=\"1\" class=\"dataframe\">\n",
       "  <thead>\n",
       "    <tr style=\"text-align: right;\">\n",
       "      <th></th>\n",
       "      <th>MAE</th>\n",
       "      <th>MAE (Annualized)</th>\n",
       "    </tr>\n",
       "  </thead>\n",
       "  <tbody>\n",
       "    <tr>\n",
       "      <th>FF5</th>\n",
       "      <td>0.002614</td>\n",
       "      <td>0.031367</td>\n",
       "    </tr>\n",
       "  </tbody>\n",
       "</table>\n",
       "</div>"
      ],
      "text/plain": [
       "          MAE  MAE (Annualized)\n",
       "FF5  0.002614          0.031367"
      ]
     },
     "execution_count": 82,
     "metadata": {},
     "output_type": "execute_result"
    }
   ],
   "source": [
    "MAEcalc(pd.concat(LFPM_TS(portfolios,data[['MKT','SMB','HML','RMW','CMA']])).T,\"FF5\")"
   ]
  },
  {
   "cell_type": "code",
   "execution_count": 83,
   "metadata": {},
   "outputs": [
    {
     "data": {
      "text/html": [
       "<div>\n",
       "<style scoped>\n",
       "    .dataframe tbody tr th:only-of-type {\n",
       "        vertical-align: middle;\n",
       "    }\n",
       "\n",
       "    .dataframe tbody tr th {\n",
       "        vertical-align: top;\n",
       "    }\n",
       "\n",
       "    .dataframe thead th {\n",
       "        text-align: right;\n",
       "    }\n",
       "</style>\n",
       "<table border=\"1\" class=\"dataframe\">\n",
       "  <thead>\n",
       "    <tr style=\"text-align: right;\">\n",
       "      <th></th>\n",
       "      <th>MAE</th>\n",
       "      <th>MAE (Annualized)</th>\n",
       "    </tr>\n",
       "  </thead>\n",
       "  <tbody>\n",
       "    <tr>\n",
       "      <th>AQR</th>\n",
       "      <td>0.001916</td>\n",
       "      <td>0.022993</td>\n",
       "    </tr>\n",
       "  </tbody>\n",
       "</table>\n",
       "</div>"
      ],
      "text/plain": [
       "          MAE  MAE (Annualized)\n",
       "AQR  0.001916          0.022993"
      ]
     },
     "execution_count": 83,
     "metadata": {},
     "output_type": "execute_result"
    }
   ],
   "source": [
    "MAEcalc(aqr_ts_reg_stats, \"AQR\")"
   ]
  },
  {
   "cell_type": "markdown",
   "metadata": {},
   "source": [
    "It seems as if the CAPM model fits the best, with the lowest MAE of 2.0%. However, AQR and FF3 are close, with MAEs of 2.2% and 2.4%. FF5 is the worst at 3.1%. All of them seem to perform fairly well."
   ]
  },
  {
   "cell_type": "markdown",
   "metadata": {},
   "source": [
    " 3. Does any particular factor seem especially important or unimportant for pricing? Do you think Fama and French should use the Momentum Factor?"
   ]
  },
  {
   "cell_type": "markdown",
   "metadata": {},
   "source": [
    "Based on these results, FF3 is slightly more robust, and may be a more simple and more explainable model. Therefore, I would question the need to include the RMW and CMA factors if simplicity is focus. It may be worth to include a momentum factor, as we could further reduce MAE/average alpha per portfolio."
   ]
  },
  {
   "cell_type": "markdown",
   "metadata": {},
   "source": [
    "4. This does not matter for pricing, but report the average (across $n$ estimations) of the time-series regression r-squared statistics.\n",
    "   * Do this for each of the three models you tested.\n",
    "   * Do these models lead to high time-series r-squared stats? That is, would these factors be good in a Linear Factor Decomposition of the assets?"
   ]
  },
  {
   "cell_type": "code",
   "execution_count": 84,
   "metadata": {},
   "outputs": [],
   "source": [
    "#todo"
   ]
  },
  {
   "cell_type": "markdown",
   "metadata": {},
   "source": [
    "\n",
    "5. We tested three models using the time-series tests (focusing on the time-series alphas.) Re-test these models, but this time use the cross-sectional test.\n",
    "* Report the time-series premia of the factors (just their sample averages,) and compare to the cross-sectionally estimated premia of the factors. Do they differ substantially?4\n",
    "* Report the MAE of the cross-sectional regression residuals for each of the four models. How do they compare to the MAE of the time-series alphas?"
   ]
  },
  {
   "cell_type": "code",
   "execution_count": 85,
   "metadata": {},
   "outputs": [],
   "source": [
    "#todo"
   ]
  }
 ],
 "metadata": {
  "kernelspec": {
   "display_name": "base",
   "language": "python",
   "name": "python3"
  },
  "language_info": {
   "codemirror_mode": {
    "name": "ipython",
    "version": 3
   },
   "file_extension": ".py",
   "mimetype": "text/x-python",
   "name": "python",
   "nbconvert_exporter": "python",
   "pygments_lexer": "ipython3",
   "version": "3.12.4"
  }
 },
 "nbformat": 4,
 "nbformat_minor": 4
}
