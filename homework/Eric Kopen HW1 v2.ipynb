{
 "cells": [
  {
   "cell_type": "markdown",
   "metadata": {},
   "source": [
    "Mean Variance Optimization"
   ]
  },
  {
   "cell_type": "markdown",
   "metadata": {},
   "source": [
    "1) Summary Stats"
   ]
  },
  {
   "cell_type": "code",
   "execution_count": 32,
   "metadata": {},
   "outputs": [
    {
     "data": {
      "text/html": [
       "<div>\n",
       "<style scoped>\n",
       "    .dataframe tbody tr th:only-of-type {\n",
       "        vertical-align: middle;\n",
       "    }\n",
       "\n",
       "    .dataframe tbody tr th {\n",
       "        vertical-align: top;\n",
       "    }\n",
       "\n",
       "    .dataframe thead th {\n",
       "        text-align: right;\n",
       "    }\n",
       "</style>\n",
       "<table border=\"1\" class=\"dataframe\">\n",
       "  <thead>\n",
       "    <tr style=\"text-align: right;\">\n",
       "      <th></th>\n",
       "      <th>BWX</th>\n",
       "      <th>DBC</th>\n",
       "      <th>EEM</th>\n",
       "      <th>EFA</th>\n",
       "      <th>HYG</th>\n",
       "      <th>IEF</th>\n",
       "      <th>IYR</th>\n",
       "      <th>PSP</th>\n",
       "      <th>QAI</th>\n",
       "      <th>SPY</th>\n",
       "      <th>TIP</th>\n",
       "    </tr>\n",
       "  </thead>\n",
       "  <tbody>\n",
       "    <tr>\n",
       "      <th>mean</th>\n",
       "      <td>-0.011888</td>\n",
       "      <td>-0.009086</td>\n",
       "      <td>0.026960</td>\n",
       "      <td>0.055037</td>\n",
       "      <td>0.037356</td>\n",
       "      <td>0.013939</td>\n",
       "      <td>0.077912</td>\n",
       "      <td>0.092851</td>\n",
       "      <td>0.014959</td>\n",
       "      <td>0.126983</td>\n",
       "      <td>0.016844</td>\n",
       "    </tr>\n",
       "    <tr>\n",
       "      <th>std</th>\n",
       "      <td>0.081671</td>\n",
       "      <td>0.168455</td>\n",
       "      <td>0.179940</td>\n",
       "      <td>0.152203</td>\n",
       "      <td>0.077289</td>\n",
       "      <td>0.063197</td>\n",
       "      <td>0.169585</td>\n",
       "      <td>0.215238</td>\n",
       "      <td>0.049007</td>\n",
       "      <td>0.143066</td>\n",
       "      <td>0.051258</td>\n",
       "    </tr>\n",
       "    <tr>\n",
       "      <th>sharpe</th>\n",
       "      <td>-0.145563</td>\n",
       "      <td>-0.053935</td>\n",
       "      <td>0.149829</td>\n",
       "      <td>0.361605</td>\n",
       "      <td>0.483335</td>\n",
       "      <td>0.220561</td>\n",
       "      <td>0.459426</td>\n",
       "      <td>0.431386</td>\n",
       "      <td>0.305241</td>\n",
       "      <td>0.887578</td>\n",
       "      <td>0.328618</td>\n",
       "    </tr>\n",
       "  </tbody>\n",
       "</table>\n",
       "</div>"
      ],
      "text/plain": [
       "             BWX       DBC       EEM       EFA       HYG       IEF       IYR  \\\n",
       "mean   -0.011888 -0.009086  0.026960  0.055037  0.037356  0.013939  0.077912   \n",
       "std     0.081671  0.168455  0.179940  0.152203  0.077289  0.063197  0.169585   \n",
       "sharpe -0.145563 -0.053935  0.149829  0.361605  0.483335  0.220561  0.459426   \n",
       "\n",
       "             PSP       QAI       SPY       TIP  \n",
       "mean    0.092851  0.014959  0.126983  0.016844  \n",
       "std     0.215238  0.049007  0.143066  0.051258  \n",
       "sharpe  0.431386  0.305241  0.887578  0.328618  "
      ]
     },
     "execution_count": 32,
     "metadata": {},
     "output_type": "execute_result"
    }
   ],
   "source": [
    "import pandas as pd\n",
    "import matplotlib.pyplot as plt\n",
    "import numpy as np\n",
    "\n",
    "# Load data\n",
    "path = '../data/multi_asset_etf_data.xlsx'\n",
    "descriptions_df = pd.read_excel(path, sheet_name='descriptions')\n",
    "prices_df = pd.read_excel(path, sheet_name='prices')\n",
    "total_returns_df = pd.read_excel(path, sheet_name='total returns')\n",
    "excess_returns_df = pd.read_excel(path, sheet_name='excess returns', index_col=0)\n",
    "\n",
    "# Summary statistics (annualized returns and volatilities)\n",
    "summary_stats = excess_returns_df.describe().iloc[1:3]\n",
    "summary_stats.loc['mean'] *= 12\n",
    "summary_stats.loc['std'] *= 12**0.5\n",
    "summary_stats.loc['sharpe'] = summary_stats.loc['mean'] / summary_stats.loc['std']\n",
    "summary_stats\n",
    "\n"
   ]
  },
  {
   "cell_type": "markdown",
   "metadata": {},
   "source": [
    "SPY has highest shapre, BMX is lowest."
   ]
  },
  {
   "cell_type": "markdown",
   "metadata": {},
   "source": [
    "2) Descriptive Analytics"
   ]
  },
  {
   "cell_type": "code",
   "execution_count": 33,
   "metadata": {},
   "outputs": [
    {
     "data": {
      "text/html": [
       "<div>\n",
       "<style scoped>\n",
       "    .dataframe tbody tr th:only-of-type {\n",
       "        vertical-align: middle;\n",
       "    }\n",
       "\n",
       "    .dataframe tbody tr th {\n",
       "        vertical-align: top;\n",
       "    }\n",
       "\n",
       "    .dataframe thead th {\n",
       "        text-align: right;\n",
       "    }\n",
       "</style>\n",
       "<table border=\"1\" class=\"dataframe\">\n",
       "  <thead>\n",
       "    <tr style=\"text-align: right;\">\n",
       "      <th></th>\n",
       "      <th>BWX</th>\n",
       "      <th>DBC</th>\n",
       "      <th>EEM</th>\n",
       "      <th>EFA</th>\n",
       "      <th>HYG</th>\n",
       "      <th>IEF</th>\n",
       "      <th>IYR</th>\n",
       "      <th>PSP</th>\n",
       "      <th>QAI</th>\n",
       "      <th>SPY</th>\n",
       "      <th>TIP</th>\n",
       "    </tr>\n",
       "  </thead>\n",
       "  <tbody>\n",
       "    <tr>\n",
       "      <th>BWX</th>\n",
       "      <td>1.000000</td>\n",
       "      <td>0.233222</td>\n",
       "      <td>0.638705</td>\n",
       "      <td>0.600620</td>\n",
       "      <td>0.620946</td>\n",
       "      <td>0.568903</td>\n",
       "      <td>0.562599</td>\n",
       "      <td>0.552010</td>\n",
       "      <td>0.662425</td>\n",
       "      <td>0.466152</td>\n",
       "      <td>0.680001</td>\n",
       "    </tr>\n",
       "    <tr>\n",
       "      <th>DBC</th>\n",
       "      <td>0.233222</td>\n",
       "      <td>1.000000</td>\n",
       "      <td>0.516908</td>\n",
       "      <td>0.521447</td>\n",
       "      <td>0.471924</td>\n",
       "      <td>-0.300523</td>\n",
       "      <td>0.290040</td>\n",
       "      <td>0.467111</td>\n",
       "      <td>0.494467</td>\n",
       "      <td>0.448389</td>\n",
       "      <td>0.114379</td>\n",
       "    </tr>\n",
       "    <tr>\n",
       "      <th>EEM</th>\n",
       "      <td>0.638705</td>\n",
       "      <td>0.516908</td>\n",
       "      <td>1.000000</td>\n",
       "      <td>0.820770</td>\n",
       "      <td>0.694174</td>\n",
       "      <td>0.020477</td>\n",
       "      <td>0.589003</td>\n",
       "      <td>0.761796</td>\n",
       "      <td>0.791130</td>\n",
       "      <td>0.699939</td>\n",
       "      <td>0.379465</td>\n",
       "    </tr>\n",
       "    <tr>\n",
       "      <th>EFA</th>\n",
       "      <td>0.600620</td>\n",
       "      <td>0.521447</td>\n",
       "      <td>0.820770</td>\n",
       "      <td>1.000000</td>\n",
       "      <td>0.790742</td>\n",
       "      <td>0.018537</td>\n",
       "      <td>0.705926</td>\n",
       "      <td>0.910596</td>\n",
       "      <td>0.863957</td>\n",
       "      <td>0.864822</td>\n",
       "      <td>0.386677</td>\n",
       "    </tr>\n",
       "    <tr>\n",
       "      <th>HYG</th>\n",
       "      <td>0.620946</td>\n",
       "      <td>0.471924</td>\n",
       "      <td>0.694174</td>\n",
       "      <td>0.790742</td>\n",
       "      <td>1.000000</td>\n",
       "      <td>0.180087</td>\n",
       "      <td>0.739567</td>\n",
       "      <td>0.814182</td>\n",
       "      <td>0.811161</td>\n",
       "      <td>0.794782</td>\n",
       "      <td>0.541758</td>\n",
       "    </tr>\n",
       "    <tr>\n",
       "      <th>IEF</th>\n",
       "      <td>0.568903</td>\n",
       "      <td>-0.300523</td>\n",
       "      <td>0.020477</td>\n",
       "      <td>0.018537</td>\n",
       "      <td>0.180087</td>\n",
       "      <td>1.000000</td>\n",
       "      <td>0.297047</td>\n",
       "      <td>0.017486</td>\n",
       "      <td>0.176287</td>\n",
       "      <td>-0.005053</td>\n",
       "      <td>0.745025</td>\n",
       "    </tr>\n",
       "    <tr>\n",
       "      <th>IYR</th>\n",
       "      <td>0.562599</td>\n",
       "      <td>0.290040</td>\n",
       "      <td>0.589003</td>\n",
       "      <td>0.705926</td>\n",
       "      <td>0.739567</td>\n",
       "      <td>0.297047</td>\n",
       "      <td>1.000000</td>\n",
       "      <td>0.753810</td>\n",
       "      <td>0.718397</td>\n",
       "      <td>0.760646</td>\n",
       "      <td>0.590805</td>\n",
       "    </tr>\n",
       "    <tr>\n",
       "      <th>PSP</th>\n",
       "      <td>0.552010</td>\n",
       "      <td>0.467111</td>\n",
       "      <td>0.761796</td>\n",
       "      <td>0.910596</td>\n",
       "      <td>0.814182</td>\n",
       "      <td>0.017486</td>\n",
       "      <td>0.753810</td>\n",
       "      <td>1.000000</td>\n",
       "      <td>0.870673</td>\n",
       "      <td>0.890719</td>\n",
       "      <td>0.415854</td>\n",
       "    </tr>\n",
       "    <tr>\n",
       "      <th>QAI</th>\n",
       "      <td>0.662425</td>\n",
       "      <td>0.494467</td>\n",
       "      <td>0.791130</td>\n",
       "      <td>0.863957</td>\n",
       "      <td>0.811161</td>\n",
       "      <td>0.176287</td>\n",
       "      <td>0.718397</td>\n",
       "      <td>0.870673</td>\n",
       "      <td>1.000000</td>\n",
       "      <td>0.862479</td>\n",
       "      <td>0.527724</td>\n",
       "    </tr>\n",
       "    <tr>\n",
       "      <th>SPY</th>\n",
       "      <td>0.466152</td>\n",
       "      <td>0.448389</td>\n",
       "      <td>0.699939</td>\n",
       "      <td>0.864822</td>\n",
       "      <td>0.794782</td>\n",
       "      <td>-0.005053</td>\n",
       "      <td>0.760646</td>\n",
       "      <td>0.890719</td>\n",
       "      <td>0.862479</td>\n",
       "      <td>1.000000</td>\n",
       "      <td>0.393647</td>\n",
       "    </tr>\n",
       "    <tr>\n",
       "      <th>TIP</th>\n",
       "      <td>0.680001</td>\n",
       "      <td>0.114379</td>\n",
       "      <td>0.379465</td>\n",
       "      <td>0.386677</td>\n",
       "      <td>0.541758</td>\n",
       "      <td>0.745025</td>\n",
       "      <td>0.590805</td>\n",
       "      <td>0.415854</td>\n",
       "      <td>0.527724</td>\n",
       "      <td>0.393647</td>\n",
       "      <td>1.000000</td>\n",
       "    </tr>\n",
       "  </tbody>\n",
       "</table>\n",
       "</div>"
      ],
      "text/plain": [
       "          BWX       DBC       EEM       EFA       HYG       IEF       IYR  \\\n",
       "BWX  1.000000  0.233222  0.638705  0.600620  0.620946  0.568903  0.562599   \n",
       "DBC  0.233222  1.000000  0.516908  0.521447  0.471924 -0.300523  0.290040   \n",
       "EEM  0.638705  0.516908  1.000000  0.820770  0.694174  0.020477  0.589003   \n",
       "EFA  0.600620  0.521447  0.820770  1.000000  0.790742  0.018537  0.705926   \n",
       "HYG  0.620946  0.471924  0.694174  0.790742  1.000000  0.180087  0.739567   \n",
       "IEF  0.568903 -0.300523  0.020477  0.018537  0.180087  1.000000  0.297047   \n",
       "IYR  0.562599  0.290040  0.589003  0.705926  0.739567  0.297047  1.000000   \n",
       "PSP  0.552010  0.467111  0.761796  0.910596  0.814182  0.017486  0.753810   \n",
       "QAI  0.662425  0.494467  0.791130  0.863957  0.811161  0.176287  0.718397   \n",
       "SPY  0.466152  0.448389  0.699939  0.864822  0.794782 -0.005053  0.760646   \n",
       "TIP  0.680001  0.114379  0.379465  0.386677  0.541758  0.745025  0.590805   \n",
       "\n",
       "          PSP       QAI       SPY       TIP  \n",
       "BWX  0.552010  0.662425  0.466152  0.680001  \n",
       "DBC  0.467111  0.494467  0.448389  0.114379  \n",
       "EEM  0.761796  0.791130  0.699939  0.379465  \n",
       "EFA  0.910596  0.863957  0.864822  0.386677  \n",
       "HYG  0.814182  0.811161  0.794782  0.541758  \n",
       "IEF  0.017486  0.176287 -0.005053  0.745025  \n",
       "IYR  0.753810  0.718397  0.760646  0.590805  \n",
       "PSP  1.000000  0.870673  0.890719  0.415854  \n",
       "QAI  0.870673  1.000000  0.862479  0.527724  \n",
       "SPY  0.890719  0.862479  1.000000  0.393647  \n",
       "TIP  0.415854  0.527724  0.393647  1.000000  "
      ]
     },
     "execution_count": 33,
     "metadata": {},
     "output_type": "execute_result"
    }
   ],
   "source": [
    "# Correlation matrix\n",
    "corr = excess_returns_df.corr()\n",
    "corr"
   ]
  },
  {
   "cell_type": "code",
   "execution_count": 41,
   "metadata": {},
   "outputs": [
    {
     "name": "stdout",
     "output_type": "stream",
     "text": [
      "Maximum Correlation:\n",
      "EFA and PSP with correlation 0.9105956995777845\n",
      "\n",
      "Minimum Correlation:\n",
      "DBC and IEF with correlation -0.30052272295503085\n"
     ]
    }
   ],
   "source": [
    "corr_stack = corr.stack().reset_index()\n",
    "corr_stack.columns = ['Variable1', 'Variable2', 'Correlation']\n",
    "\n",
    "corr_stack = corr_stack[corr_stack['Variable1'] != corr_stack['Variable2']]\n",
    "\n",
    "corr_stack['Pairs'] = corr_stack.apply(\n",
    "    lambda x: tuple(sorted([x['Variable1'], x['Variable2']])),\n",
    "    axis=1\n",
    ")\n",
    "corr_unique = corr_stack.drop_duplicates(subset='Pairs')\n",
    "\n",
    "max_corr = corr_unique.loc[corr_unique['Correlation'].idxmax()]\n",
    "min_corr = corr_unique.loc[corr_unique['Correlation'].idxmin()]\n",
    "\n",
    "print(\"Maximum Correlation:\")\n",
    "print(f\"{max_corr['Variable1']} and {max_corr['Variable2']} with correlation {max_corr['Correlation']}\")\n",
    "\n",
    "print(\"\\nMinimum Correlation:\")\n",
    "print(f\"{min_corr['Variable1']} and {min_corr['Variable2']} with correlation {min_corr['Correlation']}\")"
   ]
  },
  {
   "cell_type": "markdown",
   "metadata": {},
   "source": [
    "TIPS outperforms both domestic and foreign bonds."
   ]
  },
  {
   "cell_type": "markdown",
   "metadata": {},
   "source": [
    "3) MV Frontier"
   ]
  },
  {
   "cell_type": "code",
   "execution_count": 43,
   "metadata": {},
   "outputs": [
    {
     "name": "stdout",
     "output_type": "stream",
     "text": [
      "[-21.2925475    0.57057725   3.11848486  -5.10214639   4.54813494\n",
      "  35.0128627   -7.2712638   -3.2546352  -43.35898924  39.28229409\n",
      "  -1.2527717 ]\n"
     ]
    },
    {
     "data": {
      "text/html": [
       "<div>\n",
       "<style scoped>\n",
       "    .dataframe tbody tr th:only-of-type {\n",
       "        vertical-align: middle;\n",
       "    }\n",
       "\n",
       "    .dataframe tbody tr th {\n",
       "        vertical-align: top;\n",
       "    }\n",
       "\n",
       "    .dataframe thead th {\n",
       "        text-align: right;\n",
       "    }\n",
       "</style>\n",
       "<table border=\"1\" class=\"dataframe\">\n",
       "  <thead>\n",
       "    <tr style=\"text-align: right;\">\n",
       "      <th></th>\n",
       "      <th>BWX</th>\n",
       "      <th>DBC</th>\n",
       "      <th>EEM</th>\n",
       "      <th>EFA</th>\n",
       "      <th>HYG</th>\n",
       "      <th>IEF</th>\n",
       "      <th>IYR</th>\n",
       "      <th>PSP</th>\n",
       "      <th>QAI</th>\n",
       "      <th>SPY</th>\n",
       "      <th>TIP</th>\n",
       "    </tr>\n",
       "  </thead>\n",
       "  <tbody>\n",
       "    <tr>\n",
       "      <th>mean</th>\n",
       "      <td>-0.011888</td>\n",
       "      <td>-0.009086</td>\n",
       "      <td>0.026960</td>\n",
       "      <td>0.055037</td>\n",
       "      <td>0.037356</td>\n",
       "      <td>0.013939</td>\n",
       "      <td>0.077912</td>\n",
       "      <td>0.092851</td>\n",
       "      <td>0.014959</td>\n",
       "      <td>0.126983</td>\n",
       "      <td>0.016844</td>\n",
       "    </tr>\n",
       "    <tr>\n",
       "      <th>std</th>\n",
       "      <td>0.081671</td>\n",
       "      <td>0.168455</td>\n",
       "      <td>0.179940</td>\n",
       "      <td>0.152203</td>\n",
       "      <td>0.077289</td>\n",
       "      <td>0.063197</td>\n",
       "      <td>0.169585</td>\n",
       "      <td>0.215238</td>\n",
       "      <td>0.049007</td>\n",
       "      <td>0.143066</td>\n",
       "      <td>0.051258</td>\n",
       "    </tr>\n",
       "    <tr>\n",
       "      <th>sharpe</th>\n",
       "      <td>-0.145563</td>\n",
       "      <td>-0.053935</td>\n",
       "      <td>0.149829</td>\n",
       "      <td>0.361605</td>\n",
       "      <td>0.483335</td>\n",
       "      <td>0.220561</td>\n",
       "      <td>0.459426</td>\n",
       "      <td>0.431386</td>\n",
       "      <td>0.305241</td>\n",
       "      <td>0.887578</td>\n",
       "      <td>0.328618</td>\n",
       "    </tr>\n",
       "    <tr>\n",
       "      <th>weights</th>\n",
       "      <td>-21.292548</td>\n",
       "      <td>0.570577</td>\n",
       "      <td>3.118485</td>\n",
       "      <td>-5.102146</td>\n",
       "      <td>4.548135</td>\n",
       "      <td>35.012863</td>\n",
       "      <td>-7.271264</td>\n",
       "      <td>-3.254635</td>\n",
       "      <td>-43.358989</td>\n",
       "      <td>39.282294</td>\n",
       "      <td>-1.252772</td>\n",
       "    </tr>\n",
       "  </tbody>\n",
       "</table>\n",
       "</div>"
      ],
      "text/plain": [
       "               BWX       DBC       EEM       EFA       HYG        IEF  \\\n",
       "mean     -0.011888 -0.009086  0.026960  0.055037  0.037356   0.013939   \n",
       "std       0.081671  0.168455  0.179940  0.152203  0.077289   0.063197   \n",
       "sharpe   -0.145563 -0.053935  0.149829  0.361605  0.483335   0.220561   \n",
       "weights -21.292548  0.570577  3.118485 -5.102146  4.548135  35.012863   \n",
       "\n",
       "              IYR       PSP        QAI        SPY       TIP  \n",
       "mean     0.077912  0.092851   0.014959   0.126983  0.016844  \n",
       "std      0.169585  0.215238   0.049007   0.143066  0.051258  \n",
       "sharpe   0.459426  0.431386   0.305241   0.887578  0.328618  \n",
       "weights -7.271264 -3.254635 -43.358989  39.282294 -1.252772  "
      ]
     },
     "execution_count": 43,
     "metadata": {},
     "output_type": "execute_result"
    }
   ],
   "source": [
    "# Mean and covariance matrix\n",
    "mu = summary_stats.loc['mean'].values\n",
    "cov = excess_returns_df.cov().values\n",
    "\n",
    "# Tangency portfolio weights\n",
    "w_t = (np.linalg.inv(cov) @ mu) / (np.ones(len(mu)) @ np.linalg.inv(cov) @ mu)\n",
    "print(w_t)\n",
    "\n",
    "summary_stats.loc['weights'] = w_t\n",
    "summary_stats"
   ]
  },
  {
   "cell_type": "markdown",
   "metadata": {},
   "source": [
    "The SPY is being shorted even though having a high sharpe, which reflects the importance of correlation on the weighing of the tangency portfolio rather than individual performance."
   ]
  },
  {
   "cell_type": "code",
   "execution_count": 23,
   "metadata": {},
   "outputs": [
    {
     "name": "stdout",
     "output_type": "stream",
     "text": [
      "mean returns of tangency portfolio: -0.5272759704595076\n",
      "std of tangency portfolio: 0.3275102374715194\n",
      "sharpe of tangency portfolio: -0.46475329417525574\n"
     ]
    }
   ],
   "source": [
    "# Tangency portfolio performance\n",
    "tangency_returns = excess_returns_df.values @ w_t\n",
    "print('mean returns of tangency portfolio:', tangency_returns.mean() * 12)\n",
    "print('std of tangency portfolio:', tangency_returns.std() * 12**0.5)\n",
    "print('sharpe of tangency portfolio:', tangency_returns.mean() / tangency_returns.std())"
   ]
  },
  {
   "cell_type": "markdown",
   "metadata": {},
   "source": [
    "4) TIPS"
   ]
  },
  {
   "cell_type": "code",
   "execution_count": 24,
   "metadata": {},
   "outputs": [
    {
     "name": "stdout",
     "output_type": "stream",
     "text": [
      "mean returns of tangency portfolio without tips: -0.5808055656351995\n",
      "std of tangency portfolio without tips: 0.36101926924280414\n",
      "sharpe of tangency portfolio without tips: -0.4644187696263792\n",
      "mean returns of tangency portfolio with modified tips: -0.5199256931396691\n",
      "std of tangency portfolio with modified tips: 0.3275102374715159\n",
      "sharpe of tangency portfolio with modified tips: -0.4582745889262435\n"
     ]
    }
   ],
   "source": [
    "# Tangency portfolio without TIPS\n",
    "w_t_no_tips = (np.linalg.inv(cov[:-1, :-1]) @ mu[:-1]) / (np.ones(len(mu) - 1) @ np.linalg.inv(cov[:-1, :-1]) @ mu[:-1])\n",
    "tangent_returns_no_tips = excess_returns_df.iloc[:, :-1].values @ w_t_no_tips\n",
    "print('mean returns of tangency portfolio without tips:', tangent_returns_no_tips.mean() * 12)\n",
    "print('std of tangency portfolio without tips:', tangent_returns_no_tips.std() * 12**0.5)\n",
    "print('sharpe of tangency portfolio without tips:', tangent_returns_no_tips.mean() / tangent_returns_no_tips.std())\n",
    "\n",
    "# Modified TIPS (adjusting by +0.0012)\n",
    "modified_tip = excess_returns_df.copy()\n",
    "modified_tip['TIP'] = excess_returns_df['TIP'] + 0.0012\n",
    "mod_cov = modified_tip.cov().values\n",
    "w_t_modified_tip = (np.linalg.inv(mod_cov) @ mu) / (np.ones(len(mu)) @ np.linalg.inv(mod_cov) @ mu)\n",
    "tangency_returns_modified_tip = modified_tip.values @ w_t_modified_tip\n",
    "print('mean returns of tangency portfolio with modified tips:', tangency_returns_modified_tip.mean() * 12)\n",
    "print('std of tangency portfolio with modified tips:', tangency_returns_modified_tip.std() * 12**0.5)\n",
    "print('sharpe of tangency portfolio with modified tips:', tangency_returns_modified_tip.mean() / tangency_returns_modified_tip.std())"
   ]
  },
  {
   "cell_type": "markdown",
   "metadata": {},
   "source": [
    "TIPS does expand the investment opportunity set, but not by a large margin, so it is not clear if it would be worth it to branch into the new asset."
   ]
  },
  {
   "cell_type": "markdown",
   "metadata": {},
   "source": [
    "Allocations"
   ]
  },
  {
   "cell_type": "code",
   "execution_count": 25,
   "metadata": {},
   "outputs": [
    {
     "name": "stdout",
     "output_type": "stream",
     "text": [
      "[0.27157523 0.27157523 0.27157523 0.27157523 0.27157523 0.27157523\n",
      " 0.27157523 0.27157523 0.27157523 0.27157523 0.27157523]\n"
     ]
    }
   ],
   "source": [
    "# Equally weighted portfolio\n",
    "n = excess_returns_df.mean().sum() / 0.01\n",
    "equally_weighted_weights = np.ones(len(mu)) * 1 / n\n",
    "print(equally_weighted_weights)"
   ]
  },
  {
   "cell_type": "code",
   "execution_count": 26,
   "metadata": {},
   "outputs": [
    {
     "name": "stdout",
     "output_type": "stream",
     "text": [
      "[0.52287903 0.12290508 0.10771708 0.15055401 0.58385707 0.87327612\n",
      " 0.12127347 0.07528382 1.45220222 0.17039729 1.32746067]\n"
     ]
    }
   ],
   "source": [
    "# Risk parity weights\n",
    "risk_parity_weights = np.ones(len(mu)) / np.diag(cov)\n",
    "scalar = 0.01 / (risk_parity_weights @ excess_returns_df.mean())\n",
    "risk_parity_weights = scalar * risk_parity_weights\n",
    "print(risk_parity_weights)"
   ]
  },
  {
   "cell_type": "code",
   "execution_count": 27,
   "metadata": {},
   "outputs": [
    {
     "name": "stdout",
     "output_type": "stream",
     "text": [
      "[-0.67537364 -0.13619519 -0.06616486  0.03730235  0.31678093  0.39350632\n",
      "  0.08027736  0.04954685 -0.15650017  0.62371199  0.32242934]\n"
     ]
    }
   ],
   "source": [
    "# Regularized portfolio\n",
    "diag_cov = np.diag(np.diag(cov))\n",
    "scaled_covar = (cov + diag_cov) / 2\n",
    "reg_weights = np.linalg.inv(scaled_covar) @ excess_returns_df.mean()\n",
    "scalar = 0.01 / (reg_weights @ excess_returns_df.mean())\n",
    "reg_weights = scalar * reg_weights\n",
    "print(reg_weights)"
   ]
  },
  {
   "cell_type": "code",
   "execution_count": 28,
   "metadata": {},
   "outputs": [],
   "source": [
    "# Compare portfolio statistics\n",
    "scalar = 0.01 / (w_t @ excess_returns_df.mean())\n",
    "scaled_w_t = scalar * w_t\n",
    "methods = [scaled_w_t, equally_weighted_weights, risk_parity_weights, reg_weights]\n",
    "index = ['tangency', 'equally weighted', 'risk parity', 'regularized']"
   ]
  },
  {
   "cell_type": "code",
   "execution_count": 29,
   "metadata": {},
   "outputs": [
    {
     "data": {
      "text/html": [
       "<div>\n",
       "<style scoped>\n",
       "    .dataframe tbody tr th:only-of-type {\n",
       "        vertical-align: middle;\n",
       "    }\n",
       "\n",
       "    .dataframe tbody tr th {\n",
       "        vertical-align: top;\n",
       "    }\n",
       "\n",
       "    .dataframe thead th {\n",
       "        text-align: right;\n",
       "    }\n",
       "</style>\n",
       "<table border=\"1\" class=\"dataframe\">\n",
       "  <thead>\n",
       "    <tr style=\"text-align: right;\">\n",
       "      <th></th>\n",
       "      <th>BWX</th>\n",
       "      <th>DBC</th>\n",
       "      <th>EEM</th>\n",
       "      <th>EFA</th>\n",
       "      <th>HYG</th>\n",
       "      <th>IEF</th>\n",
       "      <th>IYR</th>\n",
       "      <th>PSP</th>\n",
       "      <th>QAI</th>\n",
       "      <th>SPY</th>\n",
       "      <th>TIP</th>\n",
       "    </tr>\n",
       "  </thead>\n",
       "  <tbody>\n",
       "    <tr>\n",
       "      <th>tangency</th>\n",
       "      <td>-0.621364</td>\n",
       "      <td>0.025317</td>\n",
       "      <td>0.140124</td>\n",
       "      <td>-0.120777</td>\n",
       "      <td>0.189482</td>\n",
       "      <td>1.065661</td>\n",
       "      <td>-0.199617</td>\n",
       "      <td>-0.063041</td>\n",
       "      <td>-1.643297</td>\n",
       "      <td>1.116095</td>\n",
       "      <td>-0.116167</td>\n",
       "    </tr>\n",
       "    <tr>\n",
       "      <th>equally weighted</th>\n",
       "      <td>0.271575</td>\n",
       "      <td>0.271575</td>\n",
       "      <td>0.271575</td>\n",
       "      <td>0.271575</td>\n",
       "      <td>0.271575</td>\n",
       "      <td>0.271575</td>\n",
       "      <td>0.271575</td>\n",
       "      <td>0.271575</td>\n",
       "      <td>0.271575</td>\n",
       "      <td>0.271575</td>\n",
       "      <td>0.271575</td>\n",
       "    </tr>\n",
       "    <tr>\n",
       "      <th>risk parity</th>\n",
       "      <td>0.522879</td>\n",
       "      <td>0.122905</td>\n",
       "      <td>0.107717</td>\n",
       "      <td>0.150554</td>\n",
       "      <td>0.583857</td>\n",
       "      <td>0.873276</td>\n",
       "      <td>0.121273</td>\n",
       "      <td>0.075284</td>\n",
       "      <td>1.452202</td>\n",
       "      <td>0.170397</td>\n",
       "      <td>1.327461</td>\n",
       "    </tr>\n",
       "    <tr>\n",
       "      <th>regularized</th>\n",
       "      <td>-0.675374</td>\n",
       "      <td>-0.136195</td>\n",
       "      <td>-0.066165</td>\n",
       "      <td>0.037302</td>\n",
       "      <td>0.316781</td>\n",
       "      <td>0.393506</td>\n",
       "      <td>0.080277</td>\n",
       "      <td>0.049547</td>\n",
       "      <td>-0.156500</td>\n",
       "      <td>0.623712</td>\n",
       "      <td>0.322429</td>\n",
       "    </tr>\n",
       "  </tbody>\n",
       "</table>\n",
       "</div>"
      ],
      "text/plain": [
       "                       BWX       DBC       EEM       EFA       HYG       IEF  \\\n",
       "tangency         -0.621364  0.025317  0.140124 -0.120777  0.189482  1.065661   \n",
       "equally weighted  0.271575  0.271575  0.271575  0.271575  0.271575  0.271575   \n",
       "risk parity       0.522879  0.122905  0.107717  0.150554  0.583857  0.873276   \n",
       "regularized      -0.675374 -0.136195 -0.066165  0.037302  0.316781  0.393506   \n",
       "\n",
       "                       IYR       PSP       QAI       SPY       TIP  \n",
       "tangency         -0.199617 -0.063041 -1.643297  1.116095 -0.116167  \n",
       "equally weighted  0.271575  0.271575  0.271575  0.271575  0.271575  \n",
       "risk parity       0.121273  0.075284  1.452202  0.170397  1.327461  \n",
       "regularized       0.080277  0.049547 -0.156500  0.623712  0.322429  "
      ]
     },
     "execution_count": 29,
     "metadata": {},
     "output_type": "execute_result"
    }
   ],
   "source": [
    "# Create DataFrame with weights\n",
    "weights_df = pd.DataFrame(methods, columns=excess_returns_df.columns, index=index)\n",
    "weights_df"
   ]
  },
  {
   "cell_type": "code",
   "execution_count": 30,
   "metadata": {},
   "outputs": [
    {
     "name": "stdout",
     "output_type": "stream",
     "text": [
      "tangency\n",
      "mean returns: 0.009999999999999998\n",
      "volatility: 0.021582693589899334\n",
      "sharpe: 0.46333419683444804\n",
      "\n",
      "equally weighted\n",
      "mean returns: 0.010000000000000002\n",
      "volatility: 0.08415666401309195\n",
      "sharpe: 0.11882600287535564\n",
      "\n",
      "risk parity\n",
      "mean returns: 0.009999999999999998\n",
      "volatility: 0.08934924818849498\n",
      "sharpe: 0.11192035974274314\n",
      "\n",
      "regularized\n",
      "mean returns: 0.010000000000000002\n",
      "volatility: 0.02961932718711928\n",
      "sharpe: 0.3376173920773176\n",
      "\n"
     ]
    }
   ],
   "source": [
    "# Print performance for each method\n",
    "for weight, method in zip(methods, index):\n",
    "    print(method)\n",
    "    print('mean returns:', excess_returns_df.mean().values @ weight)\n",
    "    print('volatility:', np.sqrt(weight @ cov @ weight))\n",
    "    print('sharpe:', (excess_returns_df.mean().values @ weight) / np.sqrt(weight @ cov @ weight))\n",
    "    print()"
   ]
  },
  {
   "cell_type": "markdown",
   "metadata": {},
   "source": [
    "Tangency has the highest Sharpe, as it features the lowest volatility. Regularization comes in next but has a high volatility. Both equally weighted and risky parity have lower Sharpe ratios.\n",
    "\n"
   ]
  },
  {
   "cell_type": "markdown",
   "metadata": {},
   "source": []
  }
 ],
 "metadata": {
  "kernelspec": {
   "display_name": "base",
   "language": "python",
   "name": "python3"
  },
  "language_info": {
   "codemirror_mode": {
    "name": "ipython",
    "version": 3
   },
   "file_extension": ".py",
   "mimetype": "text/x-python",
   "name": "python",
   "nbconvert_exporter": "python",
   "pygments_lexer": "ipython3",
   "version": "3.12.4"
  }
 },
 "nbformat": 4,
 "nbformat_minor": 2
}
