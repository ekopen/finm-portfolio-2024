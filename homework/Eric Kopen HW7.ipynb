{
 "cells": [
  {
   "cell_type": "markdown",
   "metadata": {},
   "source": [
    "2 Analyzing GMO"
   ]
  },
  {
   "cell_type": "code",
   "execution_count": 297,
   "metadata": {},
   "outputs": [
    {
     "data": {
      "text/html": [
       "<div>\n",
       "<style scoped>\n",
       "    .dataframe tbody tr th:only-of-type {\n",
       "        vertical-align: middle;\n",
       "    }\n",
       "\n",
       "    .dataframe tbody tr th {\n",
       "        vertical-align: top;\n",
       "    }\n",
       "\n",
       "    .dataframe thead th {\n",
       "        text-align: right;\n",
       "    }\n",
       "</style>\n",
       "<table border=\"1\" class=\"dataframe\">\n",
       "  <thead>\n",
       "    <tr style=\"text-align: right;\">\n",
       "      <th></th>\n",
       "      <th>SPY</th>\n",
       "      <th>GMWAX</th>\n",
       "      <th>GMGEX</th>\n",
       "    </tr>\n",
       "    <tr>\n",
       "      <th>date</th>\n",
       "      <th></th>\n",
       "      <th></th>\n",
       "      <th></th>\n",
       "    </tr>\n",
       "  </thead>\n",
       "  <tbody>\n",
       "    <tr>\n",
       "      <th>1996-12-31</th>\n",
       "      <td>-0.0276</td>\n",
       "      <td>-0.0264</td>\n",
       "      <td>-0.0173</td>\n",
       "    </tr>\n",
       "    <tr>\n",
       "      <th>1997-01-31</th>\n",
       "      <td>0.0575</td>\n",
       "      <td>0.0104</td>\n",
       "      <td>0.0302</td>\n",
       "    </tr>\n",
       "    <tr>\n",
       "      <th>1997-02-28</th>\n",
       "      <td>0.0052</td>\n",
       "      <td>0.0179</td>\n",
       "      <td>0.0084</td>\n",
       "    </tr>\n",
       "    <tr>\n",
       "      <th>1997-03-31</th>\n",
       "      <td>-0.0502</td>\n",
       "      <td>-0.0196</td>\n",
       "      <td>-0.0209</td>\n",
       "    </tr>\n",
       "    <tr>\n",
       "      <th>1997-04-30</th>\n",
       "      <td>0.0600</td>\n",
       "      <td>-0.0111</td>\n",
       "      <td>-0.0044</td>\n",
       "    </tr>\n",
       "    <tr>\n",
       "      <th>...</th>\n",
       "      <td>...</td>\n",
       "      <td>...</td>\n",
       "      <td>...</td>\n",
       "    </tr>\n",
       "    <tr>\n",
       "      <th>2024-06-28</th>\n",
       "      <td>0.0308</td>\n",
       "      <td>-0.0117</td>\n",
       "      <td>-0.0175</td>\n",
       "    </tr>\n",
       "    <tr>\n",
       "      <th>2024-07-31</th>\n",
       "      <td>0.0077</td>\n",
       "      <td>0.0260</td>\n",
       "      <td>0.0303</td>\n",
       "    </tr>\n",
       "    <tr>\n",
       "      <th>2024-08-30</th>\n",
       "      <td>0.0191</td>\n",
       "      <td>0.0104</td>\n",
       "      <td>0.0153</td>\n",
       "    </tr>\n",
       "    <tr>\n",
       "      <th>2024-09-30</th>\n",
       "      <td>0.0172</td>\n",
       "      <td>0.0086</td>\n",
       "      <td>0.0115</td>\n",
       "    </tr>\n",
       "    <tr>\n",
       "      <th>2024-10-31</th>\n",
       "      <td>-0.0127</td>\n",
       "      <td>-0.0407</td>\n",
       "      <td>-0.0433</td>\n",
       "    </tr>\n",
       "  </tbody>\n",
       "</table>\n",
       "<p>335 rows × 3 columns</p>\n",
       "</div>"
      ],
      "text/plain": [
       "               SPY   GMWAX   GMGEX\n",
       "date                              \n",
       "1996-12-31 -0.0276 -0.0264 -0.0173\n",
       "1997-01-31  0.0575  0.0104  0.0302\n",
       "1997-02-28  0.0052  0.0179  0.0084\n",
       "1997-03-31 -0.0502 -0.0196 -0.0209\n",
       "1997-04-30  0.0600 -0.0111 -0.0044\n",
       "...            ...     ...     ...\n",
       "2024-06-28  0.0308 -0.0117 -0.0175\n",
       "2024-07-31  0.0077  0.0260  0.0303\n",
       "2024-08-30  0.0191  0.0104  0.0153\n",
       "2024-09-30  0.0172  0.0086  0.0115\n",
       "2024-10-31 -0.0127 -0.0407 -0.0433\n",
       "\n",
       "[335 rows x 3 columns]"
      ]
     },
     "execution_count": 297,
     "metadata": {},
     "output_type": "execute_result"
    }
   ],
   "source": [
    "import numpy as np\n",
    "import pandas as pd\n",
    "import portfolio_management_helper as pmh\n",
    "import statsmodels.api as sm\n",
    "\n",
    "rf_rts = pd.read_excel(\"../data/gmo_data.xlsx\",sheet_name=\"risk-free rate\").set_index(\"date\")\n",
    "gmo_rts = pd.read_excel(\"../data/gmo_data.xlsx\",sheet_name=\"total returns\").set_index(\"date\")\n",
    "excess_rts = gmo_rts.subtract(rf_rts[\"TBill 3M\"]/12,axis=0)\n",
    "\n",
    "excess_rts"
   ]
  },
  {
   "cell_type": "code",
   "execution_count": 298,
   "metadata": {},
   "outputs": [
    {
     "data": {
      "text/html": [
       "<div>\n",
       "<style scoped>\n",
       "    .dataframe tbody tr th:only-of-type {\n",
       "        vertical-align: middle;\n",
       "    }\n",
       "\n",
       "    .dataframe tbody tr th {\n",
       "        vertical-align: top;\n",
       "    }\n",
       "\n",
       "    .dataframe thead th {\n",
       "        text-align: right;\n",
       "    }\n",
       "</style>\n",
       "<table border=\"1\" class=\"dataframe\">\n",
       "  <thead>\n",
       "    <tr style=\"text-align: right;\">\n",
       "      <th></th>\n",
       "      <th>Annualized Mean</th>\n",
       "      <th>Annualized Vol</th>\n",
       "      <th>Annualized Sharpe</th>\n",
       "    </tr>\n",
       "  </thead>\n",
       "  <tbody>\n",
       "    <tr>\n",
       "      <th>GMWAX 1927-2011</th>\n",
       "      <td>0.0464</td>\n",
       "      <td>0.1105</td>\n",
       "      <td>0.4201</td>\n",
       "    </tr>\n",
       "    <tr>\n",
       "      <th>GMWAX 2012-2024</th>\n",
       "      <td>0.0434</td>\n",
       "      <td>0.0949</td>\n",
       "      <td>0.4573</td>\n",
       "    </tr>\n",
       "    <tr>\n",
       "      <th>GMWAX 1927-2024</th>\n",
       "      <td>0.0450</td>\n",
       "      <td>0.1035</td>\n",
       "      <td>0.4352</td>\n",
       "    </tr>\n",
       "  </tbody>\n",
       "</table>\n",
       "</div>"
      ],
      "text/plain": [
       "                 Annualized Mean  Annualized Vol  Annualized Sharpe\n",
       "GMWAX 1927-2011           0.0464          0.1105             0.4201\n",
       "GMWAX 2012-2024           0.0434          0.0949             0.4573\n",
       "GMWAX 1927-2024           0.0450          0.1035             0.4352"
      ]
     },
     "execution_count": 298,
     "metadata": {},
     "output_type": "execute_result"
    }
   ],
   "source": [
    "pmh.calc_summary_statistics(\n",
    "    returns=excess_rts[[\"GMWAX\"]],\n",
    "    annual_factor=12,\n",
    "    provided_excess_returns=True,\n",
    "    timeframes={\n",
    "        \"1927-2011\": [\"1927\", \"2011\"],\n",
    "        \"2012-2024\": [\"2012\", \"2024\"],\n",
    "        \"1927-2024\": [\"1927\", \"2024\"],\n",
    "    },\n",
    "    keep_columns=[\"Annualized Mean\", \"Annualized Vol\", \"Annualized Sharpe\"],\n",
    ")"
   ]
  },
  {
   "cell_type": "markdown",
   "metadata": {},
   "source": [
    "The mean and the Sharpe both dipped from 2012 - 2024, but the volatiity improved somewhat during that time period, too. Overall, these factors are somewhat consistent through the different time frames."
   ]
  },
  {
   "cell_type": "code",
   "execution_count": 299,
   "metadata": {},
   "outputs": [
    {
     "data": {
      "text/html": [
       "<div>\n",
       "<style scoped>\n",
       "    .dataframe tbody tr th:only-of-type {\n",
       "        vertical-align: middle;\n",
       "    }\n",
       "\n",
       "    .dataframe tbody tr th {\n",
       "        vertical-align: top;\n",
       "    }\n",
       "\n",
       "    .dataframe thead th {\n",
       "        text-align: right;\n",
       "    }\n",
       "</style>\n",
       "<table border=\"1\" class=\"dataframe\">\n",
       "  <thead>\n",
       "    <tr style=\"text-align: right;\">\n",
       "      <th></th>\n",
       "      <th>Min</th>\n",
       "      <th>Annualized Historical VaR (5.00%)</th>\n",
       "      <th>Max Drawdown</th>\n",
       "    </tr>\n",
       "  </thead>\n",
       "  <tbody>\n",
       "    <tr>\n",
       "      <th>GMWAX 1927-2011</th>\n",
       "      <td>-0.1492</td>\n",
       "      <td>-0.1524</td>\n",
       "      <td>-0.3065</td>\n",
       "    </tr>\n",
       "    <tr>\n",
       "      <th>GMWAX 2012-2024</th>\n",
       "      <td>-0.1150</td>\n",
       "      <td>-0.1415</td>\n",
       "      <td>-0.2256</td>\n",
       "    </tr>\n",
       "    <tr>\n",
       "      <th>GMWAX 1927-2024</th>\n",
       "      <td>-0.1492</td>\n",
       "      <td>-0.1433</td>\n",
       "      <td>-0.3065</td>\n",
       "    </tr>\n",
       "  </tbody>\n",
       "</table>\n",
       "</div>"
      ],
      "text/plain": [
       "                    Min  Annualized Historical VaR (5.00%)  Max Drawdown\n",
       "GMWAX 1927-2011 -0.1492                            -0.1524       -0.3065\n",
       "GMWAX 2012-2024 -0.1150                            -0.1415       -0.2256\n",
       "GMWAX 1927-2024 -0.1492                            -0.1433       -0.3065"
      ]
     },
     "execution_count": 299,
     "metadata": {},
     "output_type": "execute_result"
    }
   ],
   "source": [
    "pmh.calc_summary_statistics(\n",
    "    returns=excess_rts[[\"GMWAX\"]],\n",
    "    annual_factor=12,\n",
    "    provided_excess_returns=True,\n",
    "    var_quantile = .05,\n",
    "    timeframes={\n",
    "        \"1927-2011\": [\"1927\", \"2011\"],\n",
    "        \"2012-2024\": [\"2012\", \"2024\"],\n",
    "        \"1927-2024\": [\"1927\", \"2024\"],\n",
    "    },\n",
    "    keep_columns=[\"Min\", \"Annualized Historical VaR\", \"Max Drawdown\"],\n",
    ")\n"
   ]
  },
  {
   "cell_type": "markdown",
   "metadata": {},
   "source": [
    "The GMWAX does seem to have fairly high tail risk, considering that the max drawdown is nearly 30%, and the 5th percentile VaR is 14%. This does improv a bit in 2012-2024 versus 1927-2011."
   ]
  },
  {
   "cell_type": "code",
   "execution_count": 300,
   "metadata": {},
   "outputs": [
    {
     "name": "stdout",
     "output_type": "stream",
     "text": [
      "\"calc_regression\" assumes excess returns to calculate Information and Treynor Ratios\n"
     ]
    },
    {
     "data": {
      "text/html": [
       "<div>\n",
       "<style scoped>\n",
       "    .dataframe tbody tr th:only-of-type {\n",
       "        vertical-align: middle;\n",
       "    }\n",
       "\n",
       "    .dataframe tbody tr th {\n",
       "        vertical-align: top;\n",
       "    }\n",
       "\n",
       "    .dataframe thead th {\n",
       "        text-align: right;\n",
       "    }\n",
       "</style>\n",
       "<table border=\"1\" class=\"dataframe\">\n",
       "  <thead>\n",
       "    <tr style=\"text-align: right;\">\n",
       "      <th></th>\n",
       "      <th>Annualized Alpha</th>\n",
       "      <th>R-Squared</th>\n",
       "      <th>SPY Beta</th>\n",
       "    </tr>\n",
       "  </thead>\n",
       "  <tbody>\n",
       "    <tr>\n",
       "      <th>GMWAX 1927-2011</th>\n",
       "      <td>0.0270</td>\n",
       "      <td>0.6487</td>\n",
       "      <td>0.5421</td>\n",
       "    </tr>\n",
       "    <tr>\n",
       "      <th>GMWAX 2012-2024</th>\n",
       "      <td>-0.0340</td>\n",
       "      <td>0.7487</td>\n",
       "      <td>0.5818</td>\n",
       "    </tr>\n",
       "    <tr>\n",
       "      <th>GMWAX 1927-2024</th>\n",
       "      <td>0.0006</td>\n",
       "      <td>0.6802</td>\n",
       "      <td>0.5526</td>\n",
       "    </tr>\n",
       "  </tbody>\n",
       "</table>\n",
       "</div>"
      ],
      "text/plain": [
       "                 Annualized Alpha  R-Squared  SPY Beta\n",
       "GMWAX 1927-2011            0.0270     0.6487    0.5421\n",
       "GMWAX 2012-2024           -0.0340     0.7487    0.5818\n",
       "GMWAX 1927-2024            0.0006     0.6802    0.5526"
      ]
     },
     "execution_count": 300,
     "metadata": {},
     "output_type": "execute_result"
    }
   ],
   "source": [
    "pmh.calc_regression(\n",
    "    y = excess_rts[[\"GMWAX\"]],\n",
    "    X = excess_rts[[\"SPY\"]],\n",
    "    annual_factor=12,\n",
    "    timeframes={\n",
    "        \"1927-2011\": [\"1927\", \"2011\"],\n",
    "        \"2012-2024\": [\"2012\", \"2024\"],\n",
    "        \"1927-2024\": [\"1927\", \"2024\"],\n",
    "    },\n",
    "    keep_columns=[\"Annualized Alpha\", \"Beta\", \"R-Squared\"],\n",
    ")"
   ]
  },
  {
   "cell_type": "markdown",
   "metadata": {},
   "source": [
    "The GMWAX is a low beta strategy, as its beta is under 1 in all the time series. However, the beta does grow a bit higher from 2012 onwards. "
   ]
  },
  {
   "cell_type": "markdown",
   "metadata": {},
   "source": [
    "The GMWAX does provide alpha on average, although since 2012 that was deteorated significantly, where it has since actually since provided a negative alpha."
   ]
  },
  {
   "cell_type": "code",
   "execution_count": 301,
   "metadata": {},
   "outputs": [
    {
     "data": {
      "text/html": [
       "<div>\n",
       "<style scoped>\n",
       "    .dataframe tbody tr th:only-of-type {\n",
       "        vertical-align: middle;\n",
       "    }\n",
       "\n",
       "    .dataframe tbody tr th {\n",
       "        vertical-align: top;\n",
       "    }\n",
       "\n",
       "    .dataframe thead th {\n",
       "        text-align: right;\n",
       "    }\n",
       "</style>\n",
       "<table border=\"1\" class=\"dataframe\">\n",
       "  <thead>\n",
       "    <tr style=\"text-align: right;\">\n",
       "      <th></th>\n",
       "      <th>Annualized Mean</th>\n",
       "      <th>Annualized Vol</th>\n",
       "      <th>Annualized Sharpe</th>\n",
       "    </tr>\n",
       "  </thead>\n",
       "  <tbody>\n",
       "    <tr>\n",
       "      <th>GMGEX 1927-2011</th>\n",
       "      <td>-0.0038</td>\n",
       "      <td>0.1473</td>\n",
       "      <td>-0.0260</td>\n",
       "    </tr>\n",
       "    <tr>\n",
       "      <th>GMGEX 2012-2024</th>\n",
       "      <td>0.0013</td>\n",
       "      <td>0.2356</td>\n",
       "      <td>0.0056</td>\n",
       "    </tr>\n",
       "    <tr>\n",
       "      <th>GMGEX 1927-2024</th>\n",
       "      <td>-0.0015</td>\n",
       "      <td>0.1926</td>\n",
       "      <td>-0.0076</td>\n",
       "    </tr>\n",
       "  </tbody>\n",
       "</table>\n",
       "</div>"
      ],
      "text/plain": [
       "                 Annualized Mean  Annualized Vol  Annualized Sharpe\n",
       "GMGEX 1927-2011          -0.0038          0.1473            -0.0260\n",
       "GMGEX 2012-2024           0.0013          0.2356             0.0056\n",
       "GMGEX 1927-2024          -0.0015          0.1926            -0.0076"
      ]
     },
     "execution_count": 301,
     "metadata": {},
     "output_type": "execute_result"
    }
   ],
   "source": [
    "pmh.calc_summary_statistics(\n",
    "    returns=excess_rts[[\"GMGEX\"]],\n",
    "    annual_factor=12,\n",
    "    provided_excess_returns=True,\n",
    "    timeframes={\n",
    "        \"1927-2011\": [\"1927\", \"2011\"],\n",
    "        \"2012-2024\": [\"2012\", \"2024\"],\n",
    "        \"1927-2024\": [\"1927\", \"2024\"],\n",
    "    },\n",
    "    keep_columns=[\"Annualized Mean\", \"Annualized Vol\", \"Annualized Sharpe\"],\n",
    ")"
   ]
  },
  {
   "cell_type": "code",
   "execution_count": 302,
   "metadata": {},
   "outputs": [
    {
     "data": {
      "text/html": [
       "<div>\n",
       "<style scoped>\n",
       "    .dataframe tbody tr th:only-of-type {\n",
       "        vertical-align: middle;\n",
       "    }\n",
       "\n",
       "    .dataframe tbody tr th {\n",
       "        vertical-align: top;\n",
       "    }\n",
       "\n",
       "    .dataframe thead th {\n",
       "        text-align: right;\n",
       "    }\n",
       "</style>\n",
       "<table border=\"1\" class=\"dataframe\">\n",
       "  <thead>\n",
       "    <tr style=\"text-align: right;\">\n",
       "      <th></th>\n",
       "      <th>Min</th>\n",
       "      <th>Annualized Historical VaR (5.00%)</th>\n",
       "      <th>Max Drawdown</th>\n",
       "    </tr>\n",
       "  </thead>\n",
       "  <tbody>\n",
       "    <tr>\n",
       "      <th>GMGEX 1927-2011</th>\n",
       "      <td>-0.1516</td>\n",
       "      <td>-0.2851</td>\n",
       "      <td>-0.5640</td>\n",
       "    </tr>\n",
       "    <tr>\n",
       "      <th>GMGEX 2012-2024</th>\n",
       "      <td>-0.6589</td>\n",
       "      <td>-0.2357</td>\n",
       "      <td>-0.7383</td>\n",
       "    </tr>\n",
       "    <tr>\n",
       "      <th>GMGEX 1927-2024</th>\n",
       "      <td>-0.6589</td>\n",
       "      <td>-0.2640</td>\n",
       "      <td>-0.7681</td>\n",
       "    </tr>\n",
       "  </tbody>\n",
       "</table>\n",
       "</div>"
      ],
      "text/plain": [
       "                    Min  Annualized Historical VaR (5.00%)  Max Drawdown\n",
       "GMGEX 1927-2011 -0.1516                            -0.2851       -0.5640\n",
       "GMGEX 2012-2024 -0.6589                            -0.2357       -0.7383\n",
       "GMGEX 1927-2024 -0.6589                            -0.2640       -0.7681"
      ]
     },
     "execution_count": 302,
     "metadata": {},
     "output_type": "execute_result"
    }
   ],
   "source": [
    "pmh.calc_summary_statistics(\n",
    "    returns=excess_rts[[\"GMGEX\"]],\n",
    "    annual_factor=12,\n",
    "    provided_excess_returns=True,\n",
    "    var_quantile = .05,\n",
    "    timeframes={\n",
    "        \"1927-2011\": [\"1927\", \"2011\"],\n",
    "        \"2012-2024\": [\"2012\", \"2024\"],\n",
    "        \"1927-2024\": [\"1927\", \"2024\"],\n",
    "    },\n",
    "    keep_columns=[\"Min\", \"Annualized Historical VaR\", \"Max Drawdown\"],\n",
    ")"
   ]
  },
  {
   "cell_type": "code",
   "execution_count": 303,
   "metadata": {},
   "outputs": [
    {
     "name": "stdout",
     "output_type": "stream",
     "text": [
      "\"calc_regression\" assumes excess returns to calculate Information and Treynor Ratios\n"
     ]
    },
    {
     "data": {
      "text/html": [
       "<div>\n",
       "<style scoped>\n",
       "    .dataframe tbody tr th:only-of-type {\n",
       "        vertical-align: middle;\n",
       "    }\n",
       "\n",
       "    .dataframe tbody tr th {\n",
       "        vertical-align: top;\n",
       "    }\n",
       "\n",
       "    .dataframe thead th {\n",
       "        text-align: right;\n",
       "    }\n",
       "</style>\n",
       "<table border=\"1\" class=\"dataframe\">\n",
       "  <thead>\n",
       "    <tr style=\"text-align: right;\">\n",
       "      <th></th>\n",
       "      <th>Annualized Alpha</th>\n",
       "      <th>R-Squared</th>\n",
       "      <th>SPY Beta</th>\n",
       "    </tr>\n",
       "  </thead>\n",
       "  <tbody>\n",
       "    <tr>\n",
       "      <th>GMGEX 1927-2011</th>\n",
       "      <td>-0.0312</td>\n",
       "      <td>0.7259</td>\n",
       "      <td>0.7642</td>\n",
       "    </tr>\n",
       "    <tr>\n",
       "      <th>GMGEX 2012-2024</th>\n",
       "      <td>-0.1102</td>\n",
       "      <td>0.2525</td>\n",
       "      <td>0.8381</td>\n",
       "    </tr>\n",
       "    <tr>\n",
       "      <th>GMGEX 1927-2024</th>\n",
       "      <td>-0.0648</td>\n",
       "      <td>0.3979</td>\n",
       "      <td>0.7867</td>\n",
       "    </tr>\n",
       "  </tbody>\n",
       "</table>\n",
       "</div>"
      ],
      "text/plain": [
       "                 Annualized Alpha  R-Squared  SPY Beta\n",
       "GMGEX 1927-2011           -0.0312     0.7259    0.7642\n",
       "GMGEX 2012-2024           -0.1102     0.2525    0.8381\n",
       "GMGEX 1927-2024           -0.0648     0.3979    0.7867"
      ]
     },
     "execution_count": 303,
     "metadata": {},
     "output_type": "execute_result"
    }
   ],
   "source": [
    "pmh.calc_regression(\n",
    "    y = excess_rts[[\"GMGEX\"]],\n",
    "    X = excess_rts[[\"SPY\"]],\n",
    "    annual_factor=12,\n",
    "    timeframes={\n",
    "        \"1927-2011\": [\"1927\", \"2011\"],\n",
    "        \"2012-2024\": [\"2012\", \"2024\"],\n",
    "        \"1927-2024\": [\"1927\", \"2024\"],\n",
    "    },\n",
    "    keep_columns=[\"Annualized Alpha\", \"Beta\", \"R-Squared\"],\n",
    ")"
   ]
  },
  {
   "cell_type": "markdown",
   "metadata": {},
   "source": [
    "The GMGEX performs worse across the board: it has worse Sharpe, worse drawdowns, and offers less alpha/higher correlation with SPY."
   ]
  },
  {
   "cell_type": "markdown",
   "metadata": {},
   "source": [
    "3 Forecast Regressions"
   ]
  },
  {
   "cell_type": "code",
   "execution_count": 304,
   "metadata": {},
   "outputs": [
    {
     "data": {
      "text/html": [
       "<div>\n",
       "<style scoped>\n",
       "    .dataframe tbody tr th:only-of-type {\n",
       "        vertical-align: middle;\n",
       "    }\n",
       "\n",
       "    .dataframe tbody tr th {\n",
       "        vertical-align: top;\n",
       "    }\n",
       "\n",
       "    .dataframe thead th {\n",
       "        text-align: right;\n",
       "    }\n",
       "</style>\n",
       "<table border=\"1\" class=\"dataframe\">\n",
       "  <thead>\n",
       "    <tr style=\"text-align: right;\">\n",
       "      <th></th>\n",
       "      <th>SPX DVD YLD</th>\n",
       "      <th>SPX P/E</th>\n",
       "      <th>TNote 10YR</th>\n",
       "    </tr>\n",
       "    <tr>\n",
       "      <th>date</th>\n",
       "      <th></th>\n",
       "      <th></th>\n",
       "      <th></th>\n",
       "    </tr>\n",
       "  </thead>\n",
       "  <tbody>\n",
       "    <tr>\n",
       "      <th>2024-06-28</th>\n",
       "      <td>1.3271</td>\n",
       "      <td>25.5386</td>\n",
       "      <td>4.3961</td>\n",
       "    </tr>\n",
       "    <tr>\n",
       "      <th>2024-07-31</th>\n",
       "      <td>1.3205</td>\n",
       "      <td>25.7965</td>\n",
       "      <td>4.0296</td>\n",
       "    </tr>\n",
       "    <tr>\n",
       "      <th>2024-08-30</th>\n",
       "      <td>1.2990</td>\n",
       "      <td>25.5680</td>\n",
       "      <td>3.9034</td>\n",
       "    </tr>\n",
       "    <tr>\n",
       "      <th>2024-09-30</th>\n",
       "      <td>1.2789</td>\n",
       "      <td>26.1183</td>\n",
       "      <td>3.7809</td>\n",
       "    </tr>\n",
       "    <tr>\n",
       "      <th>2024-10-31</th>\n",
       "      <td>1.3046</td>\n",
       "      <td>25.8491</td>\n",
       "      <td>4.2844</td>\n",
       "    </tr>\n",
       "  </tbody>\n",
       "</table>\n",
       "</div>"
      ],
      "text/plain": [
       "            SPX DVD YLD  SPX P/E  TNote 10YR\n",
       "date                                        \n",
       "2024-06-28       1.3271  25.5386      4.3961\n",
       "2024-07-31       1.3205  25.7965      4.0296\n",
       "2024-08-30       1.2990  25.5680      3.9034\n",
       "2024-09-30       1.2789  26.1183      3.7809\n",
       "2024-10-31       1.3046  25.8491      4.2844"
      ]
     },
     "execution_count": 304,
     "metadata": {},
     "output_type": "execute_result"
    }
   ],
   "source": [
    "signals = pd.read_excel(\"../data/gmo_data.xlsx\",sheet_name=\"signals\").set_index(\"date\")\n",
    "signals.tail()"
   ]
  },
  {
   "cell_type": "code",
   "execution_count": 305,
   "metadata": {},
   "outputs": [
    {
     "name": "stdout",
     "output_type": "stream",
     "text": [
      "\"calc_regression\" assumes excess returns to calculate Information and Treynor Ratios\n"
     ]
    },
    {
     "data": {
      "text/html": [
       "<div>\n",
       "<style scoped>\n",
       "    .dataframe tbody tr th:only-of-type {\n",
       "        vertical-align: middle;\n",
       "    }\n",
       "\n",
       "    .dataframe tbody tr th {\n",
       "        vertical-align: top;\n",
       "    }\n",
       "\n",
       "    .dataframe thead th {\n",
       "        text-align: right;\n",
       "    }\n",
       "</style>\n",
       "<table border=\"1\" class=\"dataframe\">\n",
       "  <thead>\n",
       "    <tr style=\"text-align: right;\">\n",
       "      <th></th>\n",
       "      <th>Annualized Alpha</th>\n",
       "      <th>R-Squared</th>\n",
       "      <th>SPX DVD YLD Beta</th>\n",
       "    </tr>\n",
       "  </thead>\n",
       "  <tbody>\n",
       "    <tr>\n",
       "      <th>SPY</th>\n",
       "      <td>0.3540</td>\n",
       "      <td>0.0127</td>\n",
       "      <td>-0.0125</td>\n",
       "    </tr>\n",
       "  </tbody>\n",
       "</table>\n",
       "</div>"
      ],
      "text/plain": [
       "     Annualized Alpha  R-Squared  SPX DVD YLD Beta\n",
       "SPY            0.3540     0.0127           -0.0125"
      ]
     },
     "execution_count": 305,
     "metadata": {},
     "output_type": "execute_result"
    }
   ],
   "source": [
    "pmh.calc_regression(\n",
    "    y = excess_rts[[\"SPY\"]],\n",
    "    X = signals[[\"SPX DVD YLD\"]].shift(-1),\n",
    "    annual_factor=12,\n",
    "    keep_columns=[\"Annualized Alpha\", \"Beta\", \"R-Squared\"],\n",
    ")"
   ]
  },
  {
   "cell_type": "code",
   "execution_count": 306,
   "metadata": {},
   "outputs": [
    {
     "name": "stdout",
     "output_type": "stream",
     "text": [
      "\"calc_regression\" assumes excess returns to calculate Information and Treynor Ratios\n"
     ]
    },
    {
     "data": {
      "text/html": [
       "<div>\n",
       "<style scoped>\n",
       "    .dataframe tbody tr th:only-of-type {\n",
       "        vertical-align: middle;\n",
       "    }\n",
       "\n",
       "    .dataframe tbody tr th {\n",
       "        vertical-align: top;\n",
       "    }\n",
       "\n",
       "    .dataframe thead th {\n",
       "        text-align: right;\n",
       "    }\n",
       "</style>\n",
       "<table border=\"1\" class=\"dataframe\">\n",
       "  <thead>\n",
       "    <tr style=\"text-align: right;\">\n",
       "      <th></th>\n",
       "      <th>Annualized Alpha</th>\n",
       "      <th>R-Squared</th>\n",
       "      <th>SPX P/E Beta</th>\n",
       "    </tr>\n",
       "  </thead>\n",
       "  <tbody>\n",
       "    <tr>\n",
       "      <th>SPY</th>\n",
       "      <td>-0.2333</td>\n",
       "      <td>0.0165</td>\n",
       "      <td>0.0013</td>\n",
       "    </tr>\n",
       "  </tbody>\n",
       "</table>\n",
       "</div>"
      ],
      "text/plain": [
       "     Annualized Alpha  R-Squared  SPX P/E Beta\n",
       "SPY           -0.2333     0.0165        0.0013"
      ]
     },
     "execution_count": 306,
     "metadata": {},
     "output_type": "execute_result"
    }
   ],
   "source": [
    "pmh.calc_regression(\n",
    "    y = excess_rts[[\"SPY\"]],\n",
    "    X = signals[[\"SPX P/E\"]].shift(-1),\n",
    "    annual_factor=12,\n",
    "    keep_columns=[\"Annualized Alpha\", \"Beta\", \"R-Squared\"],\n",
    ")"
   ]
  },
  {
   "cell_type": "code",
   "execution_count": 307,
   "metadata": {},
   "outputs": [
    {
     "name": "stdout",
     "output_type": "stream",
     "text": [
      "\"calc_regression\" assumes excess returns to calculate Information and Treynor Ratios\n"
     ]
    },
    {
     "data": {
      "text/html": [
       "<div>\n",
       "<style scoped>\n",
       "    .dataframe tbody tr th:only-of-type {\n",
       "        vertical-align: middle;\n",
       "    }\n",
       "\n",
       "    .dataframe tbody tr th {\n",
       "        vertical-align: top;\n",
       "    }\n",
       "\n",
       "    .dataframe thead th {\n",
       "        text-align: right;\n",
       "    }\n",
       "</style>\n",
       "<table border=\"1\" class=\"dataframe\">\n",
       "  <thead>\n",
       "    <tr style=\"text-align: right;\">\n",
       "      <th></th>\n",
       "      <th>Annualized Alpha</th>\n",
       "      <th>R-Squared</th>\n",
       "      <th>TNote 10YR Beta</th>\n",
       "    </tr>\n",
       "  </thead>\n",
       "  <tbody>\n",
       "    <tr>\n",
       "      <th>SPY</th>\n",
       "      <td>0.1293</td>\n",
       "      <td>0.0014</td>\n",
       "      <td>-0.0011</td>\n",
       "    </tr>\n",
       "  </tbody>\n",
       "</table>\n",
       "</div>"
      ],
      "text/plain": [
       "     Annualized Alpha  R-Squared  TNote 10YR Beta\n",
       "SPY            0.1293     0.0014          -0.0011"
      ]
     },
     "execution_count": 307,
     "metadata": {},
     "output_type": "execute_result"
    }
   ],
   "source": [
    "pmh.calc_regression(\n",
    "    y = excess_rts[[\"SPY\"]],\n",
    "    X = signals[[\"TNote 10YR\"]].shift(-1),\n",
    "    annual_factor=12,\n",
    "    keep_columns=[\"Annualized Alpha\", \"Beta\", \"R-Squared\"],\n",
    ")"
   ]
  },
  {
   "cell_type": "code",
   "execution_count": 308,
   "metadata": {},
   "outputs": [
    {
     "name": "stdout",
     "output_type": "stream",
     "text": [
      "\"calc_regression\" assumes excess returns to calculate Information and Treynor Ratios\n"
     ]
    },
    {
     "data": {
      "text/html": [
       "<div>\n",
       "<style scoped>\n",
       "    .dataframe tbody tr th:only-of-type {\n",
       "        vertical-align: middle;\n",
       "    }\n",
       "\n",
       "    .dataframe tbody tr th {\n",
       "        vertical-align: top;\n",
       "    }\n",
       "\n",
       "    .dataframe thead th {\n",
       "        text-align: right;\n",
       "    }\n",
       "</style>\n",
       "<table border=\"1\" class=\"dataframe\">\n",
       "  <thead>\n",
       "    <tr style=\"text-align: right;\">\n",
       "      <th></th>\n",
       "      <th>Annualized Alpha</th>\n",
       "      <th>R-Squared</th>\n",
       "      <th>SPX DVD YLD Beta</th>\n",
       "      <th>SPX P/E Beta</th>\n",
       "      <th>TNote 10YR Beta</th>\n",
       "    </tr>\n",
       "  </thead>\n",
       "  <tbody>\n",
       "    <tr>\n",
       "      <th>SPY</th>\n",
       "      <td>0.2438</td>\n",
       "      <td>0.0255</td>\n",
       "      <td>-0.0107</td>\n",
       "      <td>0.0009</td>\n",
       "      <td>-0.0032</td>\n",
       "    </tr>\n",
       "  </tbody>\n",
       "</table>\n",
       "</div>"
      ],
      "text/plain": [
       "     Annualized Alpha  R-Squared  SPX DVD YLD Beta  SPX P/E Beta  \\\n",
       "SPY            0.2438     0.0255           -0.0107        0.0009   \n",
       "\n",
       "     TNote 10YR Beta  \n",
       "SPY          -0.0032  "
      ]
     },
     "execution_count": 308,
     "metadata": {},
     "output_type": "execute_result"
    }
   ],
   "source": [
    "pmh.calc_regression(\n",
    "    y = excess_rts[[\"SPY\"]],\n",
    "    X = signals[[\"SPX DVD YLD\",\"SPX P/E\",\"TNote 10YR\"]].shift(-1),\n",
    "    annual_factor=12,\n",
    "    keep_columns=[\"Annualized Alpha\", \"Beta\", \"R-Squared\"],\n",
    ")"
   ]
  },
  {
   "cell_type": "code",
   "execution_count": 309,
   "metadata": {},
   "outputs": [
    {
     "name": "stdout",
     "output_type": "stream",
     "text": [
      "\"calc_regression\" assumes excess returns to calculate Information and Treynor Ratios\n",
      "\"calc_regression\" assumes excess returns to calculate Information and Treynor Ratios\n",
      "\"calc_regression\" assumes excess returns to calculate Information and Treynor Ratios\n"
     ]
    },
    {
     "data": {
      "text/html": [
       "<div>\n",
       "<style scoped>\n",
       "    .dataframe tbody tr th:only-of-type {\n",
       "        vertical-align: middle;\n",
       "    }\n",
       "\n",
       "    .dataframe tbody tr th {\n",
       "        vertical-align: top;\n",
       "    }\n",
       "\n",
       "    .dataframe thead th {\n",
       "        text-align: right;\n",
       "    }\n",
       "</style>\n",
       "<table border=\"1\" class=\"dataframe\">\n",
       "  <thead>\n",
       "    <tr style=\"text-align: right;\">\n",
       "      <th></th>\n",
       "      <th>DP Returns</th>\n",
       "      <th>PE Returns</th>\n",
       "      <th>TNote Returns</th>\n",
       "    </tr>\n",
       "    <tr>\n",
       "      <th>date</th>\n",
       "      <th></th>\n",
       "      <th></th>\n",
       "      <th></th>\n",
       "    </tr>\n",
       "  </thead>\n",
       "  <tbody>\n",
       "    <tr>\n",
       "      <th>1996-12-31</th>\n",
       "      <td>0.0301</td>\n",
       "      <td>0.0410</td>\n",
       "      <td>0.0213</td>\n",
       "    </tr>\n",
       "    <tr>\n",
       "      <th>1997-01-31</th>\n",
       "      <td>0.0061</td>\n",
       "      <td>0.0079</td>\n",
       "      <td>0.0032</td>\n",
       "    </tr>\n",
       "    <tr>\n",
       "      <th>1997-02-28</th>\n",
       "      <td>-0.0288</td>\n",
       "      <td>-0.0383</td>\n",
       "      <td>-0.0150</td>\n",
       "    </tr>\n",
       "    <tr>\n",
       "      <th>1997-03-31</th>\n",
       "      <td>0.0331</td>\n",
       "      <td>0.0323</td>\n",
       "      <td>0.0186</td>\n",
       "    </tr>\n",
       "    <tr>\n",
       "      <th>1997-04-30</th>\n",
       "      <td>0.0404</td>\n",
       "      <td>0.0412</td>\n",
       "      <td>0.0196</td>\n",
       "    </tr>\n",
       "    <tr>\n",
       "      <th>...</th>\n",
       "      <td>...</td>\n",
       "      <td>...</td>\n",
       "      <td>...</td>\n",
       "    </tr>\n",
       "    <tr>\n",
       "      <th>2024-05-31</th>\n",
       "      <td>0.0438</td>\n",
       "      <td>0.0466</td>\n",
       "      <td>0.0199</td>\n",
       "    </tr>\n",
       "    <tr>\n",
       "      <th>2024-06-28</th>\n",
       "      <td>0.0156</td>\n",
       "      <td>0.0174</td>\n",
       "      <td>0.0070</td>\n",
       "    </tr>\n",
       "    <tr>\n",
       "      <th>2024-07-31</th>\n",
       "      <td>0.0302</td>\n",
       "      <td>0.0344</td>\n",
       "      <td>0.0144</td>\n",
       "    </tr>\n",
       "    <tr>\n",
       "      <th>2024-08-30</th>\n",
       "      <td>0.0278</td>\n",
       "      <td>0.0303</td>\n",
       "      <td>0.0133</td>\n",
       "    </tr>\n",
       "    <tr>\n",
       "      <th>2024-09-30</th>\n",
       "      <td>-0.0120</td>\n",
       "      <td>-0.0135</td>\n",
       "      <td>-0.0058</td>\n",
       "    </tr>\n",
       "  </tbody>\n",
       "</table>\n",
       "<p>334 rows × 3 columns</p>\n",
       "</div>"
      ],
      "text/plain": [
       "            DP Returns  PE Returns  TNote Returns\n",
       "date                                             \n",
       "1996-12-31      0.0301      0.0410         0.0213\n",
       "1997-01-31      0.0061      0.0079         0.0032\n",
       "1997-02-28     -0.0288     -0.0383        -0.0150\n",
       "1997-03-31      0.0331      0.0323         0.0186\n",
       "1997-04-30      0.0404      0.0412         0.0196\n",
       "...                ...         ...            ...\n",
       "2024-05-31      0.0438      0.0466         0.0199\n",
       "2024-06-28      0.0156      0.0174         0.0070\n",
       "2024-07-31      0.0302      0.0344         0.0144\n",
       "2024-08-30      0.0278      0.0303         0.0133\n",
       "2024-09-30     -0.0120     -0.0135        -0.0058\n",
       "\n",
       "[334 rows x 3 columns]"
      ]
     },
     "execution_count": 309,
     "metadata": {},
     "output_type": "execute_result"
    }
   ],
   "source": [
    "variables = [\n",
    "    (\"SPX DVD YLD\", \"DP Returns\"),\n",
    "    (\"SPX P/E\", \"PE Returns\"),\n",
    "    (\"TNote 10YR\", \"TNote Returns\")\n",
    "]\n",
    "\n",
    "returnsdf = pd.DataFrame(index=gmo_rts.index)\n",
    "\n",
    "for var, label in variables:\n",
    "    strat = pmh.calc_regression(\n",
    "        y=excess_rts[[\"SPY\"]],\n",
    "        X=signals[[var]].shift(-1),\n",
    "        annual_factor=12,\n",
    "        return_model=True,\n",
    "    )\n",
    "    \n",
    "    beta = strat.params[var]\n",
    "    alpha = strat.params[\"const\"]\n",
    "    \n",
    "    fcst = alpha + beta * signals[var]\n",
    "    fcstweighted = 100 * fcst\n",
    "    fcstreturns = fcstweighted * gmo_rts[\"SPY\"].shift(-1)\n",
    "    \n",
    "    returnsdf[label] = fcstreturns\n",
    "\n",
    "returnsdf = returnsdf[:-1]\n",
    "returnsdf\n"
   ]
  },
  {
   "cell_type": "code",
   "execution_count": 310,
   "metadata": {},
   "outputs": [
    {
     "data": {
      "text/html": [
       "<div>\n",
       "<style scoped>\n",
       "    .dataframe tbody tr th:only-of-type {\n",
       "        vertical-align: middle;\n",
       "    }\n",
       "\n",
       "    .dataframe tbody tr th {\n",
       "        vertical-align: top;\n",
       "    }\n",
       "\n",
       "    .dataframe thead th {\n",
       "        text-align: right;\n",
       "    }\n",
       "</style>\n",
       "<table border=\"1\" class=\"dataframe\">\n",
       "  <thead>\n",
       "    <tr style=\"text-align: right;\">\n",
       "      <th></th>\n",
       "      <th>Annualized Mean</th>\n",
       "      <th>Annualized Vol</th>\n",
       "      <th>Annualized Sharpe</th>\n",
       "      <th>Max Drawdown</th>\n",
       "    </tr>\n",
       "  </thead>\n",
       "  <tbody>\n",
       "    <tr>\n",
       "      <th>DP Returns</th>\n",
       "      <td>0.0436</td>\n",
       "      <td>0.1384</td>\n",
       "      <td>0.3148</td>\n",
       "      <td>-0.5356</td>\n",
       "    </tr>\n",
       "    <tr>\n",
       "      <th>PE Returns</th>\n",
       "      <td>0.0505</td>\n",
       "      <td>0.1354</td>\n",
       "      <td>0.3734</td>\n",
       "      <td>-0.5499</td>\n",
       "    </tr>\n",
       "    <tr>\n",
       "      <th>TNote Returns</th>\n",
       "      <td>0.0755</td>\n",
       "      <td>0.1078</td>\n",
       "      <td>0.7003</td>\n",
       "      <td>-0.3710</td>\n",
       "    </tr>\n",
       "  </tbody>\n",
       "</table>\n",
       "</div>"
      ],
      "text/plain": [
       "               Annualized Mean  Annualized Vol  Annualized Sharpe  \\\n",
       "DP Returns              0.0436          0.1384             0.3148   \n",
       "PE Returns              0.0505          0.1354             0.3734   \n",
       "TNote Returns           0.0755          0.1078             0.7003   \n",
       "\n",
       "               Max Drawdown  \n",
       "DP Returns          -0.5356  \n",
       "PE Returns          -0.5499  \n",
       "TNote Returns       -0.3710  "
      ]
     },
     "execution_count": 310,
     "metadata": {},
     "output_type": "execute_result"
    }
   ],
   "source": [
    "pmh.calc_summary_statistics(\n",
    "    returns=returnsdf,\n",
    "    annual_factor=12,\n",
    "    provided_excess_returns=True,\n",
    "    var_quantile = .05,\n",
    "    keep_columns=[\"Annualized Mean\",\"Annualized Vol\",\"Annualized Sharpe\",\"Max Drawdown\"],\n",
    ")\n"
   ]
  },
  {
   "cell_type": "code",
   "execution_count": 311,
   "metadata": {},
   "outputs": [
    {
     "name": "stdout",
     "output_type": "stream",
     "text": [
      "\"calc_regression\" assumes excess returns to calculate Information and Treynor Ratios\n",
      "y has lenght 334 and X has lenght 335. Joining y and X by index...\n",
      "\"calc_regression\" assumes excess returns to calculate Information and Treynor Ratios\n",
      "y has lenght 334 and X has lenght 335. Joining y and X by index...\n",
      "\"calc_regression\" assumes excess returns to calculate Information and Treynor Ratios\n",
      "y has lenght 334 and X has lenght 335. Joining y and X by index...\n"
     ]
    },
    {
     "data": {
      "text/html": [
       "<div>\n",
       "<style scoped>\n",
       "    .dataframe tbody tr th:only-of-type {\n",
       "        vertical-align: middle;\n",
       "    }\n",
       "\n",
       "    .dataframe tbody tr th {\n",
       "        vertical-align: top;\n",
       "    }\n",
       "\n",
       "    .dataframe thead th {\n",
       "        text-align: right;\n",
       "    }\n",
       "</style>\n",
       "<table border=\"1\" class=\"dataframe\">\n",
       "  <thead>\n",
       "    <tr style=\"text-align: right;\">\n",
       "      <th></th>\n",
       "      <th>Annualized Alpha</th>\n",
       "      <th>Beta</th>\n",
       "      <th>Information Ratio</th>\n",
       "    </tr>\n",
       "    <tr>\n",
       "      <th>Strategy</th>\n",
       "      <th></th>\n",
       "      <th></th>\n",
       "      <th></th>\n",
       "    </tr>\n",
       "  </thead>\n",
       "  <tbody>\n",
       "    <tr>\n",
       "      <th>DP Returns</th>\n",
       "      <td>0.0481</td>\n",
       "      <td>-0.0565</td>\n",
       "      <td>0.1007</td>\n",
       "    </tr>\n",
       "    <tr>\n",
       "      <th>PE Returns</th>\n",
       "      <td>0.0524</td>\n",
       "      <td>-0.0233</td>\n",
       "      <td>0.1119</td>\n",
       "    </tr>\n",
       "    <tr>\n",
       "      <th>TNote Returns</th>\n",
       "      <td>0.0754</td>\n",
       "      <td>0.0014</td>\n",
       "      <td>0.2019</td>\n",
       "    </tr>\n",
       "  </tbody>\n",
       "</table>\n",
       "</div>"
      ],
      "text/plain": [
       "               Annualized Alpha    Beta  Information Ratio\n",
       "Strategy                                                  \n",
       "DP Returns               0.0481 -0.0565             0.1007\n",
       "PE Returns               0.0524 -0.0233             0.1119\n",
       "TNote Returns            0.0754  0.0014             0.2019"
      ]
     },
     "execution_count": 311,
     "metadata": {},
     "output_type": "execute_result"
    }
   ],
   "source": [
    "returnStrats = [\"DP Returns\", \"PE Returns\", \"TNote Returns\"]\n",
    "results_list = []\n",
    "\n",
    "for strat in returnStrats:\n",
    "    regression_result = pmh.calc_regression(\n",
    "        y=returnsdf[[strat]],\n",
    "        X=excess_rts[[\"SPY\"]],\n",
    "        annual_factor=12,\n",
    "        calc_treynor_info_ratios=True,\n",
    "        keep_columns=[\"Annualized Alpha\", \"Beta\", \"Information Ratio\"],\n",
    "    )\n",
    "\n",
    "    alpha = regression_result[\"Annualized Alpha\"].iloc[0]\n",
    "    beta = regression_result[\"SPY Beta\"].iloc[0]\n",
    "    info_ratio = regression_result[\"Information Ratio\"].iloc[0]\n",
    "\n",
    "    results_list.append({\n",
    "        \"Strategy\": strat,\n",
    "        \"Annualized Alpha\": alpha,\n",
    "        \"Beta\": beta,\n",
    "        \"Information Ratio\": info_ratio\n",
    "    })\n",
    "\n",
    "regression_metrics = pd.DataFrame(results_list)\n",
    "regression_metrics.set_index(\"Strategy\", inplace=True)\n",
    "\n",
    "regression_metrics\n"
   ]
  },
  {
   "cell_type": "code",
   "execution_count": 312,
   "metadata": {},
   "outputs": [
    {
     "data": {
      "text/html": [
       "<div>\n",
       "<style scoped>\n",
       "    .dataframe tbody tr th:only-of-type {\n",
       "        vertical-align: middle;\n",
       "    }\n",
       "\n",
       "    .dataframe tbody tr th {\n",
       "        vertical-align: top;\n",
       "    }\n",
       "\n",
       "    .dataframe thead th {\n",
       "        text-align: right;\n",
       "    }\n",
       "</style>\n",
       "<table border=\"1\" class=\"dataframe\">\n",
       "  <thead>\n",
       "    <tr style=\"text-align: right;\">\n",
       "      <th></th>\n",
       "      <th>Historical VaR (5.00%)</th>\n",
       "      <th>Annualized Historical VaR (5.00%)</th>\n",
       "    </tr>\n",
       "  </thead>\n",
       "  <tbody>\n",
       "    <tr>\n",
       "      <th>DP Returns</th>\n",
       "      <td>-0.0719</td>\n",
       "      <td>-0.2491</td>\n",
       "    </tr>\n",
       "    <tr>\n",
       "      <th>PE Returns</th>\n",
       "      <td>-0.0612</td>\n",
       "      <td>-0.2120</td>\n",
       "    </tr>\n",
       "    <tr>\n",
       "      <th>TNote Returns</th>\n",
       "      <td>-0.0505</td>\n",
       "      <td>-0.1749</td>\n",
       "    </tr>\n",
       "  </tbody>\n",
       "</table>\n",
       "</div>"
      ],
      "text/plain": [
       "               Historical VaR (5.00%)  Annualized Historical VaR (5.00%)\n",
       "DP Returns                    -0.0719                            -0.2491\n",
       "PE Returns                    -0.0612                            -0.2120\n",
       "TNote Returns                 -0.0505                            -0.1749"
      ]
     },
     "execution_count": 312,
     "metadata": {},
     "output_type": "execute_result"
    }
   ],
   "source": [
    "pmh.calc_summary_statistics(\n",
    "    returns=returnsdf,\n",
    "    annual_factor=12,\n",
    "    provided_excess_returns=True,\n",
    "    var_quantile = .05,\n",
    "    keep_columns=[\"Historical VaR\"],\n",
    ")"
   ]
  },
  {
   "cell_type": "code",
   "execution_count": 313,
   "metadata": {},
   "outputs": [
    {
     "data": {
      "text/html": [
       "<div>\n",
       "<style scoped>\n",
       "    .dataframe tbody tr th:only-of-type {\n",
       "        vertical-align: middle;\n",
       "    }\n",
       "\n",
       "    .dataframe tbody tr th {\n",
       "        vertical-align: top;\n",
       "    }\n",
       "\n",
       "    .dataframe thead th {\n",
       "        text-align: right;\n",
       "    }\n",
       "</style>\n",
       "<table border=\"1\" class=\"dataframe\">\n",
       "  <thead>\n",
       "    <tr style=\"text-align: right;\">\n",
       "      <th></th>\n",
       "      <th>Historical VaR (5.00%)</th>\n",
       "      <th>Annualized Historical VaR (5.00%)</th>\n",
       "    </tr>\n",
       "  </thead>\n",
       "  <tbody>\n",
       "    <tr>\n",
       "      <th>SPY</th>\n",
       "      <td>-0.0797</td>\n",
       "      <td>-0.2760</td>\n",
       "    </tr>\n",
       "    <tr>\n",
       "      <th>GMWAX</th>\n",
       "      <td>-0.0414</td>\n",
       "      <td>-0.1433</td>\n",
       "    </tr>\n",
       "  </tbody>\n",
       "</table>\n",
       "</div>"
      ],
      "text/plain": [
       "       Historical VaR (5.00%)  Annualized Historical VaR (5.00%)\n",
       "SPY                   -0.0797                            -0.2760\n",
       "GMWAX                 -0.0414                            -0.1433"
      ]
     },
     "execution_count": 313,
     "metadata": {},
     "output_type": "execute_result"
    }
   ],
   "source": [
    "pmh.calc_summary_statistics(\n",
    "    returns=excess_rts[[\"SPY\",\"GMWAX\"]],\n",
    "    annual_factor=12,\n",
    "    provided_excess_returns=True,\n",
    "    var_quantile = .05,\n",
    "    keep_columns=[\"Historical VaR\"],\n",
    ")"
   ]
  },
  {
   "cell_type": "code",
   "execution_count": 314,
   "metadata": {},
   "outputs": [],
   "source": [
    "returnsdfexcess = returnsdf.subtract(rf_rts[\"TBill 3M\"][:-1]/12,axis=0)"
   ]
  },
  {
   "cell_type": "code",
   "execution_count": 315,
   "metadata": {},
   "outputs": [
    {
     "data": {
      "text/plain": [
       "DP Returns      -0.0040\n",
       "PE Returns      -0.0051\n",
       "TNote Returns    0.0006\n",
       "dtype: float64"
      ]
     },
     "execution_count": 315,
     "metadata": {},
     "output_type": "execute_result"
    }
   ],
   "source": [
    "filtered_rts = returnsdfexcess[(returnsdfexcess.index >= '2001-01-31') & (returnsdfexcess.index <= '2011-12-31')]\n",
    "filtered_rts.mean()\n"
   ]
  },
  {
   "cell_type": "markdown",
   "metadata": {},
   "source": [
    "The dividend-price and price to earnings portfolio underperform the risk free rate, while the tnote overpeforms, but just slightly."
   ]
  },
  {
   "cell_type": "code",
   "execution_count": 316,
   "metadata": {},
   "outputs": [
    {
     "name": "stdout",
     "output_type": "stream",
     "text": [
      "               Negative Returns  Positive Returns\n",
      "DP Returns                  129               205\n",
      "PE Returns                  148               186\n",
      "TNote Returns               128               206\n"
     ]
    }
   ],
   "source": [
    "negative_counts = (returnsdfexcess < 0).sum()\n",
    "positive_counts = (returnsdfexcess > 0).sum()\n",
    "\n",
    "counts = pd.DataFrame({\n",
    "    'Negative Returns': negative_counts,\n",
    "    'Positive Returns': positive_counts\n",
    "})\n",
    "\n",
    "print(counts)"
   ]
  },
  {
   "cell_type": "markdown",
   "metadata": {},
   "source": [
    "In our reression, we found that the DP and PE strategies have negative betas, while the TNote strategy has a positive beta. Therfore, any period where the DP and PE have positive returns results in a negative risk premium, vice versa for the TNotes. Ergo, DP has 205 negative risk premium periods, PE has 186 negative risk premium periods, and Tnote has 128 negative risk premium periods."
   ]
  },
  {
   "cell_type": "markdown",
   "metadata": {},
   "source": [
    "Compared to GMWAX, the dynamic strategies have less systematic risk, as their betas to SPY are lower, implying less correlation with the market. However, they do have higher unsystematic risk, as their VaRs are all higher."
   ]
  },
  {
   "cell_type": "markdown",
   "metadata": {},
   "source": [
    "Out-of-Sample Forecasting"
   ]
  },
  {
   "cell_type": "code",
   "execution_count": 317,
   "metadata": {},
   "outputs": [],
   "source": [
    "periods=60"
   ]
  },
  {
   "cell_type": "code",
   "execution_count": 318,
   "metadata": {},
   "outputs": [
    {
     "name": "stdout",
     "output_type": "stream",
     "text": [
      "\"calc_regression\" assumes excess returns to calculate Information and Treynor Ratios\n"
     ]
    }
   ],
   "source": [
    "DP_IS_model = pmh.calc_regression(\n",
    "    y = excess_rts[[\"SPY\"]][0:t],\n",
    "    X = signals[[\"SPX DVD YLD\"]].shift(-1)[0:t],\n",
    "    annual_factor=12,\n",
    "    return_model= True,\n",
    ")"
   ]
  },
  {
   "cell_type": "code",
   "execution_count": 319,
   "metadata": {},
   "outputs": [
    {
     "name": "stdout",
     "output_type": "stream",
     "text": [
      "\"calc_regression\" assumes excess returns to calculate Information and Treynor Ratios\n"
     ]
    }
   ],
   "source": [
    "PE_IS_model = pmh.calc_regression(\n",
    "    y = excess_rts[[\"SPY\"]][0:t],\n",
    "    X = signals[[\"SPX P/E\"]].shift(-1)[0:t],\n",
    "    annual_factor=12,\n",
    "    return_model= True,\n",
    ")"
   ]
  },
  {
   "cell_type": "code",
   "execution_count": 320,
   "metadata": {},
   "outputs": [],
   "source": [
    "DPerrors = []\n",
    "t = periods\n",
    "\n",
    "for t in range(t,len(signals)-1):\n",
    "    out_sample_X = signals[[\"SPX DVD YLD\"]].shift(-1)[t+1:t+2]\n",
    "    out_sample_X_with_const = sm.add_constant(out_sample_X, has_constant=\"add\")\n",
    "    DP_out_sample_predictions = DP_IS_model.predict(out_sample_X_with_const)\n",
    "    error = excess_rts[[\"SPY\"]].iloc[t].squeeze() - DP_out_sample_predictions.iloc[0]\n",
    "    DPerrors.append(error)"
   ]
  },
  {
   "cell_type": "code",
   "execution_count": 321,
   "metadata": {},
   "outputs": [],
   "source": [
    "PEerrors = []\n",
    "t = periods\n",
    "\n",
    "for t in range(t,len(signals)-1):\n",
    "    out_sample_X = signals[[\"SPX P/E\"]].shift(-1)[t+1:t+2]\n",
    "    out_sample_X_with_const = sm.add_constant(out_sample_X, has_constant=\"add\")\n",
    "    DP_out_sample_predictions = DP_IS_model.predict(out_sample_X_with_const)\n",
    "    error = excess_rts[[\"SPY\"]].iloc[t].squeeze() - DP_out_sample_predictions.iloc[0]\n",
    "    DPerrors.append(error)"
   ]
  }
 ],
 "metadata": {
  "kernelspec": {
   "display_name": "base",
   "language": "python",
   "name": "python3"
  },
  "language_info": {
   "codemirror_mode": {
    "name": "ipython",
    "version": 3
   },
   "file_extension": ".py",
   "mimetype": "text/x-python",
   "name": "python",
   "nbconvert_exporter": "python",
   "pygments_lexer": "ipython3",
   "version": "3.12.4"
  }
 },
 "nbformat": 4,
 "nbformat_minor": 2
}
