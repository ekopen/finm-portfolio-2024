{
 "cells": [
  {
   "cell_type": "markdown",
   "metadata": {},
   "source": [
    "2 Analyzing GMO"
   ]
  },
  {
   "cell_type": "code",
   "execution_count": 74,
   "metadata": {},
   "outputs": [
    {
     "data": {
      "text/html": [
       "<div>\n",
       "<style scoped>\n",
       "    .dataframe tbody tr th:only-of-type {\n",
       "        vertical-align: middle;\n",
       "    }\n",
       "\n",
       "    .dataframe tbody tr th {\n",
       "        vertical-align: top;\n",
       "    }\n",
       "\n",
       "    .dataframe thead th {\n",
       "        text-align: right;\n",
       "    }\n",
       "</style>\n",
       "<table border=\"1\" class=\"dataframe\">\n",
       "  <thead>\n",
       "    <tr style=\"text-align: right;\">\n",
       "      <th></th>\n",
       "      <th>SPY</th>\n",
       "      <th>GMWAX</th>\n",
       "      <th>GMGEX</th>\n",
       "    </tr>\n",
       "    <tr>\n",
       "      <th>date</th>\n",
       "      <th></th>\n",
       "      <th></th>\n",
       "      <th></th>\n",
       "    </tr>\n",
       "  </thead>\n",
       "  <tbody>\n",
       "    <tr>\n",
       "      <th>2024-06-28</th>\n",
       "      <td>-0.0183</td>\n",
       "      <td>-0.0607</td>\n",
       "      <td>-0.0666</td>\n",
       "    </tr>\n",
       "    <tr>\n",
       "      <th>2024-07-31</th>\n",
       "      <td>-0.0407</td>\n",
       "      <td>-0.0224</td>\n",
       "      <td>-0.0182</td>\n",
       "    </tr>\n",
       "    <tr>\n",
       "      <th>2024-08-30</th>\n",
       "      <td>-0.0278</td>\n",
       "      <td>-0.0364</td>\n",
       "      <td>-0.0316</td>\n",
       "    </tr>\n",
       "    <tr>\n",
       "      <th>2024-09-30</th>\n",
       "      <td>-0.0252</td>\n",
       "      <td>-0.0337</td>\n",
       "      <td>-0.0308</td>\n",
       "    </tr>\n",
       "    <tr>\n",
       "      <th>2024-10-31</th>\n",
       "      <td>-0.0543</td>\n",
       "      <td>-0.0823</td>\n",
       "      <td>-0.0849</td>\n",
       "    </tr>\n",
       "  </tbody>\n",
       "</table>\n",
       "</div>"
      ],
      "text/plain": [
       "               SPY   GMWAX   GMGEX\n",
       "date                              \n",
       "2024-06-28 -0.0183 -0.0607 -0.0666\n",
       "2024-07-31 -0.0407 -0.0224 -0.0182\n",
       "2024-08-30 -0.0278 -0.0364 -0.0316\n",
       "2024-09-30 -0.0252 -0.0337 -0.0308\n",
       "2024-10-31 -0.0543 -0.0823 -0.0849"
      ]
     },
     "execution_count": 74,
     "metadata": {},
     "output_type": "execute_result"
    }
   ],
   "source": [
    "import numpy as np\n",
    "import pandas as pd\n",
    "import portfolio_management_helper as pmh\n",
    "\n",
    "rf_rts = pd.read_excel(\"../data/gmo_data.xlsx\",sheet_name=\"risk-free rate\").set_index(\"date\")\n",
    "gmo_rts = pd.read_excel(\"../data/gmo_data.xlsx\",sheet_name=\"total returns\").set_index(\"date\")\n",
    "excess_rts = gmo_rts.subtract(rf_rts[\"TBill 3M\"],axis=0)\n",
    "\n",
    "excess_rts.tail()"
   ]
  },
  {
   "cell_type": "code",
   "execution_count": 75,
   "metadata": {},
   "outputs": [
    {
     "data": {
      "text/html": [
       "<div>\n",
       "<style scoped>\n",
       "    .dataframe tbody tr th:only-of-type {\n",
       "        vertical-align: middle;\n",
       "    }\n",
       "\n",
       "    .dataframe tbody tr th {\n",
       "        vertical-align: top;\n",
       "    }\n",
       "\n",
       "    .dataframe thead th {\n",
       "        text-align: right;\n",
       "    }\n",
       "</style>\n",
       "<table border=\"1\" class=\"dataframe\">\n",
       "  <thead>\n",
       "    <tr style=\"text-align: right;\">\n",
       "      <th></th>\n",
       "      <th>Annualized Mean</th>\n",
       "      <th>Annualized Vol</th>\n",
       "      <th>Annualized Sharpe</th>\n",
       "    </tr>\n",
       "  </thead>\n",
       "  <tbody>\n",
       "    <tr>\n",
       "      <th>GMWAX 1927-2011</th>\n",
       "      <td>0.0748</td>\n",
       "      <td>0.1103</td>\n",
       "      <td>0.6775</td>\n",
       "    </tr>\n",
       "    <tr>\n",
       "      <th>GMWAX 2012-2024</th>\n",
       "      <td>0.0570</td>\n",
       "      <td>0.0951</td>\n",
       "      <td>0.5997</td>\n",
       "    </tr>\n",
       "    <tr>\n",
       "      <th>GMWAX 1927-2024</th>\n",
       "      <td>0.0666</td>\n",
       "      <td>0.1035</td>\n",
       "      <td>0.6436</td>\n",
       "    </tr>\n",
       "  </tbody>\n",
       "</table>\n",
       "</div>"
      ],
      "text/plain": [
       "                 Annualized Mean  Annualized Vol  Annualized Sharpe\n",
       "GMWAX 1927-2011           0.0748          0.1103             0.6775\n",
       "GMWAX 2012-2024           0.0570          0.0951             0.5997\n",
       "GMWAX 1927-2024           0.0666          0.1035             0.6436"
      ]
     },
     "execution_count": 75,
     "metadata": {},
     "output_type": "execute_result"
    }
   ],
   "source": [
    "pmh.calc_summary_statistics(\n",
    "    returns=gmo_rts[[\"GMWAX\"]],\n",
    "    annual_factor=12,\n",
    "    provided_excess_returns=True,\n",
    "    timeframes={\n",
    "        \"1927-2011\": [\"1927\", \"2011\"],\n",
    "        \"2012-2024\": [\"2012\", \"2024\"],\n",
    "        \"1927-2024\": [\"1927\", \"2024\"],\n",
    "    },\n",
    "    keep_columns=[\"Annualized Mean\", \"Annualized Vol\", \"Annualized Sharpe\"],\n",
    ")"
   ]
  },
  {
   "cell_type": "markdown",
   "metadata": {},
   "source": [
    "The mean and the Sharpe both dipped from 2012 - 2024, but the volatiity improved somewhat during that time period, too. Overall, these factors are somewhat consistent through the different time frames."
   ]
  },
  {
   "cell_type": "code",
   "execution_count": 76,
   "metadata": {},
   "outputs": [
    {
     "data": {
      "text/html": [
       "<div>\n",
       "<style scoped>\n",
       "    .dataframe tbody tr th:only-of-type {\n",
       "        vertical-align: middle;\n",
       "    }\n",
       "\n",
       "    .dataframe tbody tr th {\n",
       "        vertical-align: top;\n",
       "    }\n",
       "\n",
       "    .dataframe thead th {\n",
       "        text-align: right;\n",
       "    }\n",
       "</style>\n",
       "<table border=\"1\" class=\"dataframe\">\n",
       "  <thead>\n",
       "    <tr style=\"text-align: right;\">\n",
       "      <th></th>\n",
       "      <th>Min</th>\n",
       "      <th>Annualized Historical VaR (5.00%)</th>\n",
       "      <th>Max Drawdown</th>\n",
       "    </tr>\n",
       "  </thead>\n",
       "  <tbody>\n",
       "    <tr>\n",
       "      <th>GMWAX 1927-2011</th>\n",
       "      <td>-0.1451</td>\n",
       "      <td>-0.1524</td>\n",
       "      <td>-0.2936</td>\n",
       "    </tr>\n",
       "    <tr>\n",
       "      <th>GMWAX 2012-2024</th>\n",
       "      <td>-0.1150</td>\n",
       "      <td>-0.1322</td>\n",
       "      <td>-0.2168</td>\n",
       "    </tr>\n",
       "    <tr>\n",
       "      <th>GMWAX 1927-2024</th>\n",
       "      <td>-0.1451</td>\n",
       "      <td>-0.1405</td>\n",
       "      <td>-0.2936</td>\n",
       "    </tr>\n",
       "  </tbody>\n",
       "</table>\n",
       "</div>"
      ],
      "text/plain": [
       "                    Min  Annualized Historical VaR (5.00%)  Max Drawdown\n",
       "GMWAX 1927-2011 -0.1451                            -0.1524       -0.2936\n",
       "GMWAX 2012-2024 -0.1150                            -0.1322       -0.2168\n",
       "GMWAX 1927-2024 -0.1451                            -0.1405       -0.2936"
      ]
     },
     "execution_count": 76,
     "metadata": {},
     "output_type": "execute_result"
    }
   ],
   "source": [
    "pmh.calc_summary_statistics(\n",
    "    returns=gmo_rts[[\"GMWAX\"]],\n",
    "    annual_factor=12,\n",
    "    provided_excess_returns=True,\n",
    "    var_quantile = .05,\n",
    "    timeframes={\n",
    "        \"1927-2011\": [\"1927\", \"2011\"],\n",
    "        \"2012-2024\": [\"2012\", \"2024\"],\n",
    "        \"1927-2024\": [\"1927\", \"2024\"],\n",
    "    },\n",
    "    keep_columns=[\"Min\", \"Annualized Historical VaR\", \"Max Drawdown\"],\n",
    ")\n"
   ]
  },
  {
   "cell_type": "markdown",
   "metadata": {},
   "source": [
    "The GMWAX does seem to have fairly high tail risk, considering that the max drawdown is nearly 30%, and the 5th percentile VaR is 14%. This does improv a bit in 2012-2024 versus 1927-2011."
   ]
  },
  {
   "cell_type": "code",
   "execution_count": 77,
   "metadata": {},
   "outputs": [
    {
     "name": "stdout",
     "output_type": "stream",
     "text": [
      "\"calc_regression\" assumes excess returns to calculate Information and Treynor Ratios\n"
     ]
    },
    {
     "data": {
      "text/html": [
       "<div>\n",
       "<style scoped>\n",
       "    .dataframe tbody tr th:only-of-type {\n",
       "        vertical-align: middle;\n",
       "    }\n",
       "\n",
       "    .dataframe tbody tr th {\n",
       "        vertical-align: top;\n",
       "    }\n",
       "\n",
       "    .dataframe thead th {\n",
       "        text-align: right;\n",
       "    }\n",
       "</style>\n",
       "<table border=\"1\" class=\"dataframe\">\n",
       "  <thead>\n",
       "    <tr style=\"text-align: right;\">\n",
       "      <th></th>\n",
       "      <th>Annualized Alpha</th>\n",
       "      <th>R-Squared</th>\n",
       "      <th>SPY Beta</th>\n",
       "    </tr>\n",
       "  </thead>\n",
       "  <tbody>\n",
       "    <tr>\n",
       "      <th>GMWAX 1927-2011</th>\n",
       "      <td>0.0400</td>\n",
       "      <td>0.6501</td>\n",
       "      <td>0.5414</td>\n",
       "    </tr>\n",
       "    <tr>\n",
       "      <th>GMWAX 2012-2024</th>\n",
       "      <td>-0.0284</td>\n",
       "      <td>0.7485</td>\n",
       "      <td>0.5824</td>\n",
       "    </tr>\n",
       "    <tr>\n",
       "      <th>GMWAX 1927-2024</th>\n",
       "      <td>0.0102</td>\n",
       "      <td>0.6796</td>\n",
       "      <td>0.5527</td>\n",
       "    </tr>\n",
       "  </tbody>\n",
       "</table>\n",
       "</div>"
      ],
      "text/plain": [
       "                 Annualized Alpha  R-Squared  SPY Beta\n",
       "GMWAX 1927-2011            0.0400     0.6501    0.5414\n",
       "GMWAX 2012-2024           -0.0284     0.7485    0.5824\n",
       "GMWAX 1927-2024            0.0102     0.6796    0.5527"
      ]
     },
     "execution_count": 77,
     "metadata": {},
     "output_type": "execute_result"
    }
   ],
   "source": [
    "pmh.calc_regression(\n",
    "    y = gmo_rts[[\"GMWAX\"]],\n",
    "    X = gmo_rts[[\"SPY\"]],\n",
    "    annual_factor=12,\n",
    "    timeframes={\n",
    "        \"1927-2011\": [\"1927\", \"2011\"],\n",
    "        \"2012-2024\": [\"2012\", \"2024\"],\n",
    "        \"1927-2024\": [\"1927\", \"2024\"],\n",
    "    },\n",
    "    keep_columns=[\"Annualized Alpha\", \"Beta\", \"R-Squared\"],\n",
    ")"
   ]
  },
  {
   "cell_type": "markdown",
   "metadata": {},
   "source": [
    "The GMWAX is a low beta strategy, as its beta is under 1 in all the time series. However, the beta does grow a bit higher from 2012 onwards. "
   ]
  },
  {
   "cell_type": "markdown",
   "metadata": {},
   "source": [
    "The GMWAX does provide alpha on average, although since 2012 that was deteorated significantly, where it has since actually since provided a negative alpha."
   ]
  },
  {
   "cell_type": "code",
   "execution_count": 78,
   "metadata": {},
   "outputs": [
    {
     "data": {
      "text/html": [
       "<div>\n",
       "<style scoped>\n",
       "    .dataframe tbody tr th:only-of-type {\n",
       "        vertical-align: middle;\n",
       "    }\n",
       "\n",
       "    .dataframe tbody tr th {\n",
       "        vertical-align: top;\n",
       "    }\n",
       "\n",
       "    .dataframe thead th {\n",
       "        text-align: right;\n",
       "    }\n",
       "</style>\n",
       "<table border=\"1\" class=\"dataframe\">\n",
       "  <thead>\n",
       "    <tr style=\"text-align: right;\">\n",
       "      <th></th>\n",
       "      <th>Annualized Mean</th>\n",
       "      <th>Annualized Vol</th>\n",
       "      <th>Annualized Sharpe</th>\n",
       "    </tr>\n",
       "  </thead>\n",
       "  <tbody>\n",
       "    <tr>\n",
       "      <th>GMGEX 1927-2011</th>\n",
       "      <td>0.0245</td>\n",
       "      <td>0.1471</td>\n",
       "      <td>0.1667</td>\n",
       "    </tr>\n",
       "    <tr>\n",
       "      <th>GMGEX 2012-2024</th>\n",
       "      <td>0.0149</td>\n",
       "      <td>0.2359</td>\n",
       "      <td>0.0632</td>\n",
       "    </tr>\n",
       "    <tr>\n",
       "      <th>GMGEX 1927-2024</th>\n",
       "      <td>0.0201</td>\n",
       "      <td>0.1928</td>\n",
       "      <td>0.1043</td>\n",
       "    </tr>\n",
       "  </tbody>\n",
       "</table>\n",
       "</div>"
      ],
      "text/plain": [
       "                 Annualized Mean  Annualized Vol  Annualized Sharpe\n",
       "GMGEX 1927-2011           0.0245          0.1471             0.1667\n",
       "GMGEX 2012-2024           0.0149          0.2359             0.0632\n",
       "GMGEX 1927-2024           0.0201          0.1928             0.1043"
      ]
     },
     "execution_count": 78,
     "metadata": {},
     "output_type": "execute_result"
    }
   ],
   "source": [
    "pmh.calc_summary_statistics(\n",
    "    returns=gmo_rts[[\"GMGEX\"]],\n",
    "    annual_factor=12,\n",
    "    provided_excess_returns=True,\n",
    "    timeframes={\n",
    "        \"1927-2011\": [\"1927\", \"2011\"],\n",
    "        \"2012-2024\": [\"2012\", \"2024\"],\n",
    "        \"1927-2024\": [\"1927\", \"2024\"],\n",
    "    },\n",
    "    keep_columns=[\"Annualized Mean\", \"Annualized Vol\", \"Annualized Sharpe\"],\n",
    ")"
   ]
  },
  {
   "cell_type": "code",
   "execution_count": 79,
   "metadata": {},
   "outputs": [
    {
     "data": {
      "text/html": [
       "<div>\n",
       "<style scoped>\n",
       "    .dataframe tbody tr th:only-of-type {\n",
       "        vertical-align: middle;\n",
       "    }\n",
       "\n",
       "    .dataframe tbody tr th {\n",
       "        vertical-align: top;\n",
       "    }\n",
       "\n",
       "    .dataframe thead th {\n",
       "        text-align: right;\n",
       "    }\n",
       "</style>\n",
       "<table border=\"1\" class=\"dataframe\">\n",
       "  <thead>\n",
       "    <tr style=\"text-align: right;\">\n",
       "      <th></th>\n",
       "      <th>Min</th>\n",
       "      <th>Annualized Historical VaR (5.00%)</th>\n",
       "      <th>Max Drawdown</th>\n",
       "    </tr>\n",
       "  </thead>\n",
       "  <tbody>\n",
       "    <tr>\n",
       "      <th>GMGEX 1927-2011</th>\n",
       "      <td>-0.1512</td>\n",
       "      <td>-0.2759</td>\n",
       "      <td>-0.5556</td>\n",
       "    </tr>\n",
       "    <tr>\n",
       "      <th>GMGEX 2012-2024</th>\n",
       "      <td>-0.6587</td>\n",
       "      <td>-0.2356</td>\n",
       "      <td>-0.7374</td>\n",
       "    </tr>\n",
       "    <tr>\n",
       "      <th>GMGEX 1927-2024</th>\n",
       "      <td>-0.6587</td>\n",
       "      <td>-0.2622</td>\n",
       "      <td>-0.7618</td>\n",
       "    </tr>\n",
       "  </tbody>\n",
       "</table>\n",
       "</div>"
      ],
      "text/plain": [
       "                    Min  Annualized Historical VaR (5.00%)  Max Drawdown\n",
       "GMGEX 1927-2011 -0.1512                            -0.2759       -0.5556\n",
       "GMGEX 2012-2024 -0.6587                            -0.2356       -0.7374\n",
       "GMGEX 1927-2024 -0.6587                            -0.2622       -0.7618"
      ]
     },
     "execution_count": 79,
     "metadata": {},
     "output_type": "execute_result"
    }
   ],
   "source": [
    "pmh.calc_summary_statistics(\n",
    "    returns=gmo_rts[[\"GMGEX\"]],\n",
    "    annual_factor=12,\n",
    "    provided_excess_returns=True,\n",
    "    var_quantile = .05,\n",
    "    timeframes={\n",
    "        \"1927-2011\": [\"1927\", \"2011\"],\n",
    "        \"2012-2024\": [\"2012\", \"2024\"],\n",
    "        \"1927-2024\": [\"1927\", \"2024\"],\n",
    "    },\n",
    "    keep_columns=[\"Min\", \"Annualized Historical VaR\", \"Max Drawdown\"],\n",
    ")"
   ]
  },
  {
   "cell_type": "code",
   "execution_count": 80,
   "metadata": {},
   "outputs": [
    {
     "name": "stdout",
     "output_type": "stream",
     "text": [
      "\"calc_regression\" assumes excess returns to calculate Information and Treynor Ratios\n"
     ]
    },
    {
     "data": {
      "text/html": [
       "<div>\n",
       "<style scoped>\n",
       "    .dataframe tbody tr th:only-of-type {\n",
       "        vertical-align: middle;\n",
       "    }\n",
       "\n",
       "    .dataframe tbody tr th {\n",
       "        vertical-align: top;\n",
       "    }\n",
       "\n",
       "    .dataframe thead th {\n",
       "        text-align: right;\n",
       "    }\n",
       "</style>\n",
       "<table border=\"1\" class=\"dataframe\">\n",
       "  <thead>\n",
       "    <tr style=\"text-align: right;\">\n",
       "      <th></th>\n",
       "      <th>Annualized Alpha</th>\n",
       "      <th>R-Squared</th>\n",
       "      <th>SPY Beta</th>\n",
       "    </tr>\n",
       "  </thead>\n",
       "  <tbody>\n",
       "    <tr>\n",
       "      <th>GMGEX 1927-2011</th>\n",
       "      <td>-0.0244</td>\n",
       "      <td>0.7263</td>\n",
       "      <td>0.7628</td>\n",
       "    </tr>\n",
       "    <tr>\n",
       "      <th>GMGEX 2012-2024</th>\n",
       "      <td>-0.1086</td>\n",
       "      <td>0.2543</td>\n",
       "      <td>0.8423</td>\n",
       "    </tr>\n",
       "    <tr>\n",
       "      <th>GMGEX 1927-2024</th>\n",
       "      <td>-0.0603</td>\n",
       "      <td>0.3983</td>\n",
       "      <td>0.7880</td>\n",
       "    </tr>\n",
       "  </tbody>\n",
       "</table>\n",
       "</div>"
      ],
      "text/plain": [
       "                 Annualized Alpha  R-Squared  SPY Beta\n",
       "GMGEX 1927-2011           -0.0244     0.7263    0.7628\n",
       "GMGEX 2012-2024           -0.1086     0.2543    0.8423\n",
       "GMGEX 1927-2024           -0.0603     0.3983    0.7880"
      ]
     },
     "execution_count": 80,
     "metadata": {},
     "output_type": "execute_result"
    }
   ],
   "source": [
    "pmh.calc_regression(\n",
    "    y = gmo_rts[[\"GMGEX\"]],\n",
    "    X = gmo_rts[[\"SPY\"]],\n",
    "    annual_factor=12,\n",
    "    timeframes={\n",
    "        \"1927-2011\": [\"1927\", \"2011\"],\n",
    "        \"2012-2024\": [\"2012\", \"2024\"],\n",
    "        \"1927-2024\": [\"1927\", \"2024\"],\n",
    "    },\n",
    "    keep_columns=[\"Annualized Alpha\", \"Beta\", \"R-Squared\"],\n",
    ")"
   ]
  },
  {
   "cell_type": "markdown",
   "metadata": {},
   "source": [
    "The GMGEX performs worse across the board: it has worse Sharpe, worse drawdowns, and offers less alpha/higher correlation with SPY."
   ]
  },
  {
   "cell_type": "markdown",
   "metadata": {},
   "source": [
    "3 Forecast Regressions"
   ]
  },
  {
   "cell_type": "code",
   "execution_count": 81,
   "metadata": {},
   "outputs": [
    {
     "data": {
      "text/html": [
       "<div>\n",
       "<style scoped>\n",
       "    .dataframe tbody tr th:only-of-type {\n",
       "        vertical-align: middle;\n",
       "    }\n",
       "\n",
       "    .dataframe tbody tr th {\n",
       "        vertical-align: top;\n",
       "    }\n",
       "\n",
       "    .dataframe thead th {\n",
       "        text-align: right;\n",
       "    }\n",
       "</style>\n",
       "<table border=\"1\" class=\"dataframe\">\n",
       "  <thead>\n",
       "    <tr style=\"text-align: right;\">\n",
       "      <th></th>\n",
       "      <th>SPX DVD YLD</th>\n",
       "      <th>SPX P/E</th>\n",
       "      <th>TNote 10YR</th>\n",
       "    </tr>\n",
       "    <tr>\n",
       "      <th>date</th>\n",
       "      <th></th>\n",
       "      <th></th>\n",
       "      <th></th>\n",
       "    </tr>\n",
       "  </thead>\n",
       "  <tbody>\n",
       "    <tr>\n",
       "      <th>2024-06-28</th>\n",
       "      <td>1.3271</td>\n",
       "      <td>25.5386</td>\n",
       "      <td>4.3961</td>\n",
       "    </tr>\n",
       "    <tr>\n",
       "      <th>2024-07-31</th>\n",
       "      <td>1.3205</td>\n",
       "      <td>25.7965</td>\n",
       "      <td>4.0296</td>\n",
       "    </tr>\n",
       "    <tr>\n",
       "      <th>2024-08-30</th>\n",
       "      <td>1.2990</td>\n",
       "      <td>25.5680</td>\n",
       "      <td>3.9034</td>\n",
       "    </tr>\n",
       "    <tr>\n",
       "      <th>2024-09-30</th>\n",
       "      <td>1.2789</td>\n",
       "      <td>26.1183</td>\n",
       "      <td>3.7809</td>\n",
       "    </tr>\n",
       "    <tr>\n",
       "      <th>2024-10-31</th>\n",
       "      <td>1.3046</td>\n",
       "      <td>25.8491</td>\n",
       "      <td>4.2844</td>\n",
       "    </tr>\n",
       "  </tbody>\n",
       "</table>\n",
       "</div>"
      ],
      "text/plain": [
       "            SPX DVD YLD  SPX P/E  TNote 10YR\n",
       "date                                        \n",
       "2024-06-28       1.3271  25.5386      4.3961\n",
       "2024-07-31       1.3205  25.7965      4.0296\n",
       "2024-08-30       1.2990  25.5680      3.9034\n",
       "2024-09-30       1.2789  26.1183      3.7809\n",
       "2024-10-31       1.3046  25.8491      4.2844"
      ]
     },
     "execution_count": 81,
     "metadata": {},
     "output_type": "execute_result"
    }
   ],
   "source": [
    "signals = pd.read_excel(\"../data/gmo_data.xlsx\",sheet_name=\"signals\").set_index(\"date\")\n",
    "signals.tail()"
   ]
  },
  {
   "cell_type": "code",
   "execution_count": 82,
   "metadata": {},
   "outputs": [
    {
     "name": "stdout",
     "output_type": "stream",
     "text": [
      "\"calc_regression\" assumes excess returns to calculate Information and Treynor Ratios\n"
     ]
    },
    {
     "data": {
      "text/html": [
       "<div>\n",
       "<style scoped>\n",
       "    .dataframe tbody tr th:only-of-type {\n",
       "        vertical-align: middle;\n",
       "    }\n",
       "\n",
       "    .dataframe tbody tr th {\n",
       "        vertical-align: top;\n",
       "    }\n",
       "\n",
       "    .dataframe thead th {\n",
       "        text-align: right;\n",
       "    }\n",
       "</style>\n",
       "<table border=\"1\" class=\"dataframe\">\n",
       "  <thead>\n",
       "    <tr style=\"text-align: right;\">\n",
       "      <th></th>\n",
       "      <th>Annualized Alpha</th>\n",
       "      <th>R-Squared</th>\n",
       "      <th>SPX DVD YLD Beta</th>\n",
       "    </tr>\n",
       "  </thead>\n",
       "  <tbody>\n",
       "    <tr>\n",
       "      <th>SPY</th>\n",
       "      <td>0.4271</td>\n",
       "      <td>0.0180</td>\n",
       "      <td>-0.0149</td>\n",
       "    </tr>\n",
       "  </tbody>\n",
       "</table>\n",
       "</div>"
      ],
      "text/plain": [
       "     Annualized Alpha  R-Squared  SPX DVD YLD Beta\n",
       "SPY            0.4271     0.0180           -0.0149"
      ]
     },
     "execution_count": 82,
     "metadata": {},
     "output_type": "execute_result"
    }
   ],
   "source": [
    "pmh.calc_regression(\n",
    "    y = gmo_rts[[\"SPY\"]],\n",
    "    X = signals[[\"SPX DVD YLD\"]].shift(-1),\n",
    "    annual_factor=12,\n",
    "    keep_columns=[\"Annualized Alpha\", \"Beta\", \"R-Squared\"],\n",
    ")"
   ]
  },
  {
   "cell_type": "code",
   "execution_count": 83,
   "metadata": {},
   "outputs": [
    {
     "name": "stdout",
     "output_type": "stream",
     "text": [
      "\"calc_regression\" assumes excess returns to calculate Information and Treynor Ratios\n"
     ]
    },
    {
     "data": {
      "text/html": [
       "<div>\n",
       "<style scoped>\n",
       "    .dataframe tbody tr th:only-of-type {\n",
       "        vertical-align: middle;\n",
       "    }\n",
       "\n",
       "    .dataframe tbody tr th {\n",
       "        vertical-align: top;\n",
       "    }\n",
       "\n",
       "    .dataframe thead th {\n",
       "        text-align: right;\n",
       "    }\n",
       "</style>\n",
       "<table border=\"1\" class=\"dataframe\">\n",
       "  <thead>\n",
       "    <tr style=\"text-align: right;\">\n",
       "      <th></th>\n",
       "      <th>Annualized Alpha</th>\n",
       "      <th>R-Squared</th>\n",
       "      <th>SPX P/E Beta</th>\n",
       "    </tr>\n",
       "  </thead>\n",
       "  <tbody>\n",
       "    <tr>\n",
       "      <th>SPY</th>\n",
       "      <td>-0.2480</td>\n",
       "      <td>0.0205</td>\n",
       "      <td>0.0015</td>\n",
       "    </tr>\n",
       "  </tbody>\n",
       "</table>\n",
       "</div>"
      ],
      "text/plain": [
       "     Annualized Alpha  R-Squared  SPX P/E Beta\n",
       "SPY           -0.2480     0.0205        0.0015"
      ]
     },
     "execution_count": 83,
     "metadata": {},
     "output_type": "execute_result"
    }
   ],
   "source": [
    "pmh.calc_regression(\n",
    "    y = gmo_rts[[\"SPY\"]],\n",
    "    X = signals[[\"SPX P/E\"]].shift(-1),\n",
    "    annual_factor=12,\n",
    "    keep_columns=[\"Annualized Alpha\", \"Beta\", \"R-Squared\"],\n",
    ")"
   ]
  },
  {
   "cell_type": "code",
   "execution_count": 84,
   "metadata": {},
   "outputs": [
    {
     "name": "stdout",
     "output_type": "stream",
     "text": [
      "\"calc_regression\" assumes excess returns to calculate Information and Treynor Ratios\n"
     ]
    },
    {
     "data": {
      "text/html": [
       "<div>\n",
       "<style scoped>\n",
       "    .dataframe tbody tr th:only-of-type {\n",
       "        vertical-align: middle;\n",
       "    }\n",
       "\n",
       "    .dataframe tbody tr th {\n",
       "        vertical-align: top;\n",
       "    }\n",
       "\n",
       "    .dataframe thead th {\n",
       "        text-align: right;\n",
       "    }\n",
       "</style>\n",
       "<table border=\"1\" class=\"dataframe\">\n",
       "  <thead>\n",
       "    <tr style=\"text-align: right;\">\n",
       "      <th></th>\n",
       "      <th>Annualized Alpha</th>\n",
       "      <th>R-Squared</th>\n",
       "      <th>TNote 10YR Beta</th>\n",
       "    </tr>\n",
       "  </thead>\n",
       "  <tbody>\n",
       "    <tr>\n",
       "      <th>SPY</th>\n",
       "      <td>0.1107</td>\n",
       "      <td>0.0000</td>\n",
       "      <td>-0.0002</td>\n",
       "    </tr>\n",
       "  </tbody>\n",
       "</table>\n",
       "</div>"
      ],
      "text/plain": [
       "     Annualized Alpha  R-Squared  TNote 10YR Beta\n",
       "SPY            0.1107     0.0000          -0.0002"
      ]
     },
     "execution_count": 84,
     "metadata": {},
     "output_type": "execute_result"
    }
   ],
   "source": [
    "pmh.calc_regression(\n",
    "    y = gmo_rts[[\"SPY\"]],\n",
    "    X = signals[[\"TNote 10YR\"]].shift(-1),\n",
    "    annual_factor=12,\n",
    "    keep_columns=[\"Annualized Alpha\", \"Beta\", \"R-Squared\"],\n",
    ")"
   ]
  },
  {
   "cell_type": "code",
   "execution_count": 85,
   "metadata": {},
   "outputs": [
    {
     "name": "stdout",
     "output_type": "stream",
     "text": [
      "\"calc_regression\" assumes excess returns to calculate Information and Treynor Ratios\n"
     ]
    },
    {
     "data": {
      "text/html": [
       "<div>\n",
       "<style scoped>\n",
       "    .dataframe tbody tr th:only-of-type {\n",
       "        vertical-align: middle;\n",
       "    }\n",
       "\n",
       "    .dataframe tbody tr th {\n",
       "        vertical-align: top;\n",
       "    }\n",
       "\n",
       "    .dataframe thead th {\n",
       "        text-align: right;\n",
       "    }\n",
       "</style>\n",
       "<table border=\"1\" class=\"dataframe\">\n",
       "  <thead>\n",
       "    <tr style=\"text-align: right;\">\n",
       "      <th></th>\n",
       "      <th>Annualized Alpha</th>\n",
       "      <th>R-Squared</th>\n",
       "      <th>SPX DVD YLD Beta</th>\n",
       "      <th>SPX P/E Beta</th>\n",
       "      <th>TNote 10YR Beta</th>\n",
       "    </tr>\n",
       "  </thead>\n",
       "  <tbody>\n",
       "    <tr>\n",
       "      <th>SPY</th>\n",
       "      <td>0.2477</td>\n",
       "      <td>0.0266</td>\n",
       "      <td>-0.0116</td>\n",
       "      <td>0.0009</td>\n",
       "      <td>-0.0023</td>\n",
       "    </tr>\n",
       "  </tbody>\n",
       "</table>\n",
       "</div>"
      ],
      "text/plain": [
       "     Annualized Alpha  R-Squared  SPX DVD YLD Beta  SPX P/E Beta  \\\n",
       "SPY            0.2477     0.0266           -0.0116        0.0009   \n",
       "\n",
       "     TNote 10YR Beta  \n",
       "SPY          -0.0023  "
      ]
     },
     "execution_count": 85,
     "metadata": {},
     "output_type": "execute_result"
    }
   ],
   "source": [
    "pmh.calc_regression(\n",
    "    y = gmo_rts[[\"SPY\"]],\n",
    "    X = signals[[\"SPX DVD YLD\",\"SPX P/E\",\"TNote 10YR\"]].shift(-1),\n",
    "    annual_factor=12,\n",
    "    keep_columns=[\"Annualized Alpha\", \"Beta\", \"R-Squared\"],\n",
    ")"
   ]
  }
 ],
 "metadata": {
  "kernelspec": {
   "display_name": "base",
   "language": "python",
   "name": "python3"
  },
  "language_info": {
   "codemirror_mode": {
    "name": "ipython",
    "version": 3
   },
   "file_extension": ".py",
   "mimetype": "text/x-python",
   "name": "python",
   "nbconvert_exporter": "python",
   "pygments_lexer": "ipython3",
   "version": "3.12.4"
  }
 },
 "nbformat": 4,
 "nbformat_minor": 2
}
