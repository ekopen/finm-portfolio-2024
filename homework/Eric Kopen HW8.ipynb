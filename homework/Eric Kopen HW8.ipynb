{
 "cells": [
  {
   "cell_type": "markdown",
   "metadata": {},
   "source": [
    "Conceptual issues for LTCM"
   ]
  },
  {
   "cell_type": "markdown",
   "metadata": {},
   "source": [
    "1) LTCM focused on securities such as fixed-income, derivatives, and equities, where there was liquidity and measurable pricing mechanisms. They foucsed on medium to long term trades, often with a timeline of 6 months to 2 years. They favored generating small, consistent wins thorugh their strategies, amplifying their wins with leverage. Finally, they relied on both quantitative and qualitative analysis to forecast market dynamics and find market inefficiencies."
   ]
  },
  {
   "cell_type": "markdown",
   "metadata": {},
   "source": [
    "2) LTCM has a lot of top tier talent and proprietary knowledge, which led to development of advanced quantitative models and a technical edge. Additionally, they have favorable finance, which they further utilize by exercising strategic leverage and effective risk management techniques."
   ]
  },
  {
   "cell_type": "markdown",
   "metadata": {},
   "source": [
    "3) LTCM managed funding risks in a variety of ways. For haircut risks, they used collateral policies and stress testing. For repo maturity risks, they extended maturities and used liquid assets. For equit redemption risks, they utilized lock-ups and staggered withdrawls. Finally, for loan access, they had favorable credit terms and long term financing."
   ]
  },
  {
   "cell_type": "markdown",
   "metadata": {},
   "source": [
    "4) LTCM acounted for liquidity risks with quantitative measurements through VaR modeling, stress testing/scenario analysis, conservative position sizing, and long term financing strategies."
   ]
  },
  {
   "cell_type": "markdown",
   "metadata": {},
   "source": [
    "5) Yes, given they operate with leverage ratios between 19:1 to 31:1. This exposed them greatly to systemic shocks and liqudity crises."
   ]
  },
  {
   "cell_type": "markdown",
   "metadata": {},
   "source": [
    "6) Convergence trades carry significant risks due to liquidity/funding hallenges during divergence, uncertainty in timing of convergence, extreme market events that could cause model breakdowns, and magnification of losses due to leverage. In short, convergence trades yield significant risk when markets are not stable."
   ]
  },
  {
   "cell_type": "markdown",
   "metadata": {},
   "source": [
    "LTCM Risk Decomposition"
   ]
  },
  {
   "cell_type": "markdown",
   "metadata": {},
   "source": [
    "1)"
   ]
  },
  {
   "cell_type": "code",
   "execution_count": 289,
   "metadata": {},
   "outputs": [],
   "source": [
    "import numpy as np\n",
    "import pandas as pd\n",
    "import portfolio_management_helper as pmh\n",
    "import statsmodels.api as sm\n",
    "\n",
    "ltcm_rts = pd.read_excel(\"../data/ltcm_exhibits_data.xlsx\",sheet_name=\"Exhibit 2\")\n",
    "ltcm_rts = ltcm_rts.iloc[3:-4,[0,2,3]]\n",
    "ltcm_rts.columns = ['Date','LTCM Gross', 'LTCM Net']\n",
    "ltcm_rts.set_index(ltcm_rts.columns[0], inplace=True)\n",
    "ltcm_gross_rts = ltcm_rts[[\"LTCM Gross\"]]\n",
    "ltcm_net_rts = ltcm_rts[[\"LTCM Net\"]]\n",
    "\n",
    "sp_rts = pd.read_excel(\"../data/gmo_analysis_data.xlsx\",sheet_name=\"total returns\").set_index(\"date\")[[\"SPY\"]]"
   ]
  },
  {
   "cell_type": "code",
   "execution_count": 290,
   "metadata": {},
   "outputs": [
    {
     "data": {
      "text/html": [
       "<div>\n",
       "<style scoped>\n",
       "    .dataframe tbody tr th:only-of-type {\n",
       "        vertical-align: middle;\n",
       "    }\n",
       "\n",
       "    .dataframe tbody tr th {\n",
       "        vertical-align: top;\n",
       "    }\n",
       "\n",
       "    .dataframe thead th {\n",
       "        text-align: right;\n",
       "    }\n",
       "</style>\n",
       "<table border=\"1\" class=\"dataframe\">\n",
       "  <thead>\n",
       "    <tr style=\"text-align: right;\">\n",
       "      <th></th>\n",
       "      <th>Annualized Mean</th>\n",
       "      <th>Annualized Vol</th>\n",
       "      <th>Annualized Sharpe</th>\n",
       "      <th>Skewness</th>\n",
       "      <th>Excess Kurtosis</th>\n",
       "      <th>Annualized Historical VaR (5.00%)</th>\n",
       "    </tr>\n",
       "  </thead>\n",
       "  <tbody>\n",
       "    <tr>\n",
       "      <th>LTCM Gross</th>\n",
       "      <td>0.2939</td>\n",
       "      <td>0.1364</td>\n",
       "      <td>2.1553</td>\n",
       "      <td>-0.2964</td>\n",
       "      <td>1.5694</td>\n",
       "      <td>-0.0915</td>\n",
       "    </tr>\n",
       "    <tr>\n",
       "      <th>LTCM Net</th>\n",
       "      <td>0.2072</td>\n",
       "      <td>0.1119</td>\n",
       "      <td>1.8513</td>\n",
       "      <td>-0.8179</td>\n",
       "      <td>2.9055</td>\n",
       "      <td>-0.0776</td>\n",
       "    </tr>\n",
       "    <tr>\n",
       "      <th>SPY</th>\n",
       "      <td>0.1104</td>\n",
       "      <td>0.1482</td>\n",
       "      <td>0.7451</td>\n",
       "      <td>-0.5908</td>\n",
       "      <td>0.9939</td>\n",
       "      <td>-0.2411</td>\n",
       "    </tr>\n",
       "  </tbody>\n",
       "</table>\n",
       "</div>"
      ],
      "text/plain": [
       "            Annualized Mean  Annualized Vol  Annualized Sharpe  Skewness  \\\n",
       "LTCM Gross           0.2939          0.1364             2.1553   -0.2964   \n",
       "LTCM Net             0.2072          0.1119             1.8513   -0.8179   \n",
       "SPY                  0.1104          0.1482             0.7451   -0.5908   \n",
       "\n",
       "            Excess Kurtosis  Annualized Historical VaR (5.00%)  \n",
       "LTCM Gross           1.5694                            -0.0915  \n",
       "LTCM Net             2.9055                            -0.0776  \n",
       "SPY                  0.9939                            -0.2411  "
      ]
     },
     "execution_count": 290,
     "metadata": {},
     "output_type": "execute_result"
    }
   ],
   "source": [
    "rts = [ltcm_gross_rts,ltcm_net_rts,sp_rts]\n",
    "summary_stats = []\n",
    "\n",
    "for rt in rts:\n",
    "    stats = pmh.calc_summary_statistics(\n",
    "        returns=rt,\n",
    "        annual_factor=12,\n",
    "        provided_excess_returns=True,\n",
    "        keep_columns=[\"Annualized Mean\", \"Annualized Vol\", \"Annualized Sharpe\",\"Skewness\",\"Kurtosis\",\"Annualized Historical VaR\"],\n",
    "    )\n",
    "    \n",
    "    summary_stats.append(stats)\n",
    "\n",
    "comparison_df = pd.concat(summary_stats)\n",
    "comparison_df"
   ]
  },
  {
   "cell_type": "markdown",
   "metadata": {},
   "source": [
    "The LTCM instruments significantly outperfrom SPY. The Sharpe ratio is dramatically higher, while the VaR is substantially lower. LTCM does feature Excess Kurtosis and a more negative skewness for net LTCM, which means there could be some more extreme movements, but the lower VaR implies these are mitigated."
   ]
  },
  {
   "cell_type": "markdown",
   "metadata": {},
   "source": [
    "2)"
   ]
  },
  {
   "cell_type": "code",
   "execution_count": 291,
   "metadata": {},
   "outputs": [],
   "source": [
    "sp_rts_filtered = sp_rts[(sp_rts.index > '1994-02-28') & (sp_rts.index < '1998-07-31')]\n",
    "ltcm_net_rts_filtered = ltcm_net_rts[:-1]\n",
    "ltcm_net_rts_filtered = ltcm_net_rts_filtered.astype(float)"
   ]
  },
  {
   "cell_type": "code",
   "execution_count": 292,
   "metadata": {},
   "outputs": [
    {
     "data": {
      "text/html": [
       "<div>\n",
       "<style scoped>\n",
       "    .dataframe tbody tr th:only-of-type {\n",
       "        vertical-align: middle;\n",
       "    }\n",
       "\n",
       "    .dataframe tbody tr th {\n",
       "        vertical-align: top;\n",
       "    }\n",
       "\n",
       "    .dataframe thead th {\n",
       "        text-align: right;\n",
       "    }\n",
       "</style>\n",
       "<table border=\"1\" class=\"dataframe\">\n",
       "  <thead>\n",
       "    <tr style=\"text-align: right;\">\n",
       "      <th></th>\n",
       "      <th>SPY</th>\n",
       "    </tr>\n",
       "    <tr>\n",
       "      <th>date</th>\n",
       "      <th></th>\n",
       "    </tr>\n",
       "  </thead>\n",
       "  <tbody>\n",
       "    <tr>\n",
       "      <th>1994-03-31</th>\n",
       "      <td>-0.0419</td>\n",
       "    </tr>\n",
       "    <tr>\n",
       "      <th>1994-04-30</th>\n",
       "      <td>0.0112</td>\n",
       "    </tr>\n",
       "    <tr>\n",
       "      <th>1994-05-31</th>\n",
       "      <td>0.0159</td>\n",
       "    </tr>\n",
       "    <tr>\n",
       "      <th>1994-06-30</th>\n",
       "      <td>-0.0229</td>\n",
       "    </tr>\n",
       "    <tr>\n",
       "      <th>1994-07-31</th>\n",
       "      <td>0.0323</td>\n",
       "    </tr>\n",
       "  </tbody>\n",
       "</table>\n",
       "</div>"
      ],
      "text/plain": [
       "               SPY\n",
       "date              \n",
       "1994-03-31 -0.0419\n",
       "1994-04-30  0.0112\n",
       "1994-05-31  0.0159\n",
       "1994-06-30 -0.0229\n",
       "1994-07-31  0.0323"
      ]
     },
     "execution_count": 292,
     "metadata": {},
     "output_type": "execute_result"
    }
   ],
   "source": [
    "sp_rts_filtered.head()"
   ]
  },
  {
   "cell_type": "code",
   "execution_count": 293,
   "metadata": {},
   "outputs": [
    {
     "data": {
      "text/html": [
       "<div>\n",
       "<style scoped>\n",
       "    .dataframe tbody tr th:only-of-type {\n",
       "        vertical-align: middle;\n",
       "    }\n",
       "\n",
       "    .dataframe tbody tr th {\n",
       "        vertical-align: top;\n",
       "    }\n",
       "\n",
       "    .dataframe thead th {\n",
       "        text-align: right;\n",
       "    }\n",
       "</style>\n",
       "<table border=\"1\" class=\"dataframe\">\n",
       "  <thead>\n",
       "    <tr style=\"text-align: right;\">\n",
       "      <th></th>\n",
       "      <th>LTCM Net</th>\n",
       "    </tr>\n",
       "    <tr>\n",
       "      <th>Date</th>\n",
       "      <th></th>\n",
       "    </tr>\n",
       "  </thead>\n",
       "  <tbody>\n",
       "    <tr>\n",
       "      <th>1994-03-01</th>\n",
       "      <td>-0.0130</td>\n",
       "    </tr>\n",
       "    <tr>\n",
       "      <th>1994-04-01</th>\n",
       "      <td>0.0080</td>\n",
       "    </tr>\n",
       "    <tr>\n",
       "      <th>1994-05-01</th>\n",
       "      <td>0.0530</td>\n",
       "    </tr>\n",
       "    <tr>\n",
       "      <th>1994-06-01</th>\n",
       "      <td>-0.0290</td>\n",
       "    </tr>\n",
       "    <tr>\n",
       "      <th>1994-07-01</th>\n",
       "      <td>0.0840</td>\n",
       "    </tr>\n",
       "  </tbody>\n",
       "</table>\n",
       "</div>"
      ],
      "text/plain": [
       "            LTCM Net\n",
       "Date                \n",
       "1994-03-01   -0.0130\n",
       "1994-04-01    0.0080\n",
       "1994-05-01    0.0530\n",
       "1994-06-01   -0.0290\n",
       "1994-07-01    0.0840"
      ]
     },
     "execution_count": 293,
     "metadata": {},
     "output_type": "execute_result"
    }
   ],
   "source": [
    "ltcm_net_rts_filtered.head()"
   ]
  },
  {
   "cell_type": "code",
   "execution_count": 294,
   "metadata": {},
   "outputs": [
    {
     "name": "stdout",
     "output_type": "stream",
     "text": [
      "\"calc_regression\" assumes excess returns to calculate Information and Treynor Ratios\n",
      "\"LTCM Net\" Required to reset indexes to make regression work. Try passing \"y\" and \"X\" as pd.DataFrame\n"
     ]
    },
    {
     "data": {
      "text/html": [
       "<div>\n",
       "<style scoped>\n",
       "    .dataframe tbody tr th:only-of-type {\n",
       "        vertical-align: middle;\n",
       "    }\n",
       "\n",
       "    .dataframe tbody tr th {\n",
       "        vertical-align: top;\n",
       "    }\n",
       "\n",
       "    .dataframe thead th {\n",
       "        text-align: right;\n",
       "    }\n",
       "</style>\n",
       "<table border=\"1\" class=\"dataframe\">\n",
       "  <thead>\n",
       "    <tr style=\"text-align: right;\">\n",
       "      <th></th>\n",
       "      <th>Annualized Alpha</th>\n",
       "      <th>R-Squared</th>\n",
       "      <th>SPY Beta</th>\n",
       "    </tr>\n",
       "  </thead>\n",
       "  <tbody>\n",
       "    <tr>\n",
       "      <th>LTCM Net</th>\n",
       "      <td>0.1805</td>\n",
       "      <td>0.0173</td>\n",
       "      <td>0.1313</td>\n",
       "    </tr>\n",
       "  </tbody>\n",
       "</table>\n",
       "</div>"
      ],
      "text/plain": [
       "          Annualized Alpha  R-Squared  SPY Beta\n",
       "LTCM Net            0.1805     0.0173    0.1313"
      ]
     },
     "execution_count": 294,
     "metadata": {},
     "output_type": "execute_result"
    }
   ],
   "source": [
    "pmh.calc_regression(\n",
    "    y = ltcm_net_rts_filtered[[\"LTCM Net\"]],\n",
    "    X = sp_rts_filtered[[\"SPY\"]],\n",
    "    annual_factor=12,\n",
    "    keep_columns=[\"Annualized Alpha\", \"Beta\", \"R-Squared\"],\n",
    ")"
   ]
  },
  {
   "cell_type": "markdown",
   "metadata": {},
   "source": [
    "From this regression, it appears that LTCM is not a closet indexer. It has a low R^2, and SPYs Beta is low."
   ]
  },
  {
   "cell_type": "markdown",
   "metadata": {},
   "source": [
    "LTCM does seem to deliver excess returns beyond the risk premium expected from market exposure. We can see this in the alpha when we regressed LTCM on SPY, which is .18, meaning there is significant adjustment needed to explain the correlation between the two, highlighting the uncorrelated excess return we get from LTCM."
   ]
  },
  {
   "cell_type": "markdown",
   "metadata": {},
   "source": [
    "3)"
   ]
  },
  {
   "cell_type": "code",
   "execution_count": 295,
   "metadata": {},
   "outputs": [
    {
     "data": {
      "text/html": [
       "<div>\n",
       "<style scoped>\n",
       "    .dataframe tbody tr th:only-of-type {\n",
       "        vertical-align: middle;\n",
       "    }\n",
       "\n",
       "    .dataframe tbody tr th {\n",
       "        vertical-align: top;\n",
       "    }\n",
       "\n",
       "    .dataframe thead th {\n",
       "        text-align: right;\n",
       "    }\n",
       "</style>\n",
       "<table border=\"1\" class=\"dataframe\">\n",
       "  <thead>\n",
       "    <tr style=\"text-align: right;\">\n",
       "      <th></th>\n",
       "      <th>SPY</th>\n",
       "      <th>SPY Squared</th>\n",
       "    </tr>\n",
       "    <tr>\n",
       "      <th>date</th>\n",
       "      <th></th>\n",
       "      <th></th>\n",
       "    </tr>\n",
       "  </thead>\n",
       "  <tbody>\n",
       "    <tr>\n",
       "      <th>1994-03-31</th>\n",
       "      <td>-0.0419</td>\n",
       "      <td>0.0018</td>\n",
       "    </tr>\n",
       "    <tr>\n",
       "      <th>1994-04-30</th>\n",
       "      <td>0.0112</td>\n",
       "      <td>0.0001</td>\n",
       "    </tr>\n",
       "    <tr>\n",
       "      <th>1994-05-31</th>\n",
       "      <td>0.0159</td>\n",
       "      <td>0.0003</td>\n",
       "    </tr>\n",
       "    <tr>\n",
       "      <th>1994-06-30</th>\n",
       "      <td>-0.0229</td>\n",
       "      <td>0.0005</td>\n",
       "    </tr>\n",
       "    <tr>\n",
       "      <th>1994-07-31</th>\n",
       "      <td>0.0323</td>\n",
       "      <td>0.0010</td>\n",
       "    </tr>\n",
       "  </tbody>\n",
       "</table>\n",
       "</div>"
      ],
      "text/plain": [
       "               SPY  SPY Squared\n",
       "date                           \n",
       "1994-03-31 -0.0419       0.0018\n",
       "1994-04-30  0.0112       0.0001\n",
       "1994-05-31  0.0159       0.0003\n",
       "1994-06-30 -0.0229       0.0005\n",
       "1994-07-31  0.0323       0.0010"
      ]
     },
     "execution_count": 295,
     "metadata": {},
     "output_type": "execute_result"
    }
   ],
   "source": [
    "sp_rts_filtered[\"SPY Squared\"] = sp_rts_filtered[\"SPY\"] ** 2\n",
    "\n",
    "sp_rts_filtered.head()"
   ]
  },
  {
   "cell_type": "code",
   "execution_count": 296,
   "metadata": {},
   "outputs": [
    {
     "name": "stdout",
     "output_type": "stream",
     "text": [
      "\"calc_regression\" assumes excess returns to calculate Information and Treynor Ratios\n",
      "\"LTCM Net\" Required to reset indexes to make regression work. Try passing \"y\" and \"X\" as pd.DataFrame\n"
     ]
    },
    {
     "data": {
      "text/html": [
       "<div>\n",
       "<style scoped>\n",
       "    .dataframe tbody tr th:only-of-type {\n",
       "        vertical-align: middle;\n",
       "    }\n",
       "\n",
       "    .dataframe tbody tr th {\n",
       "        vertical-align: top;\n",
       "    }\n",
       "\n",
       "    .dataframe thead th {\n",
       "        text-align: right;\n",
       "    }\n",
       "</style>\n",
       "<table border=\"1\" class=\"dataframe\">\n",
       "  <thead>\n",
       "    <tr style=\"text-align: right;\">\n",
       "      <th></th>\n",
       "      <th>Annualized Alpha</th>\n",
       "      <th>R-Squared</th>\n",
       "      <th>SPY Beta</th>\n",
       "      <th>SPY Squared Beta</th>\n",
       "    </tr>\n",
       "  </thead>\n",
       "  <tbody>\n",
       "    <tr>\n",
       "      <th>LTCM Net</th>\n",
       "      <td>0.2051</td>\n",
       "      <td>0.0240</td>\n",
       "      <td>0.1818</td>\n",
       "      <td>-2.1336</td>\n",
       "    </tr>\n",
       "  </tbody>\n",
       "</table>\n",
       "</div>"
      ],
      "text/plain": [
       "          Annualized Alpha  R-Squared  SPY Beta  SPY Squared Beta\n",
       "LTCM Net            0.2051     0.0240    0.1818           -2.1336"
      ]
     },
     "execution_count": 296,
     "metadata": {},
     "output_type": "execute_result"
    }
   ],
   "source": [
    "pmh.calc_regression(\n",
    "    y = ltcm_net_rts_filtered[[\"LTCM Net\"]],\n",
    "    X = sp_rts_filtered[[\"SPY\",\"SPY Squared\"]],\n",
    "    annual_factor=12,\n",
    "    keep_columns=[\"Annualized Alpha\", \"Beta\", \"R-Squared\"],\n",
    ")"
   ]
  },
  {
   "cell_type": "markdown",
   "metadata": {},
   "source": [
    "The quadratic market factor improves the R-squared, but the R-squared is still quite low, showing we still cannot explain LTCM's returns very well."
   ]
  },
  {
   "cell_type": "markdown",
   "metadata": {},
   "source": [
    "The beta for SPY Squared is negative, which implies LTCMs returns decrease when market volatility increases, indicating they are short market options. This is because options tend to result in losses during high volatility periods."
   ]
  },
  {
   "cell_type": "markdown",
   "metadata": {},
   "source": [
    "This means we can describe LTCM as being negatively exposed to market volatility."
   ]
  },
  {
   "cell_type": "markdown",
   "metadata": {},
   "source": [
    "4)"
   ]
  },
  {
   "cell_type": "code",
   "execution_count": 297,
   "metadata": {},
   "outputs": [
    {
     "data": {
      "text/html": [
       "<div>\n",
       "<style scoped>\n",
       "    .dataframe tbody tr th:only-of-type {\n",
       "        vertical-align: middle;\n",
       "    }\n",
       "\n",
       "    .dataframe tbody tr th {\n",
       "        vertical-align: top;\n",
       "    }\n",
       "\n",
       "    .dataframe thead th {\n",
       "        text-align: right;\n",
       "    }\n",
       "</style>\n",
       "<table border=\"1\" class=\"dataframe\">\n",
       "  <thead>\n",
       "    <tr style=\"text-align: right;\">\n",
       "      <th></th>\n",
       "      <th>SPY</th>\n",
       "      <th>SPY Squared</th>\n",
       "      <th>Up Market</th>\n",
       "      <th>Down Market</th>\n",
       "    </tr>\n",
       "    <tr>\n",
       "      <th>date</th>\n",
       "      <th></th>\n",
       "      <th></th>\n",
       "      <th></th>\n",
       "      <th></th>\n",
       "    </tr>\n",
       "  </thead>\n",
       "  <tbody>\n",
       "    <tr>\n",
       "      <th>1994-03-31</th>\n",
       "      <td>-0.0419</td>\n",
       "      <td>0.0018</td>\n",
       "      <td>0.0000</td>\n",
       "      <td>0.0119</td>\n",
       "    </tr>\n",
       "    <tr>\n",
       "      <th>1994-04-30</th>\n",
       "      <td>0.0112</td>\n",
       "      <td>0.0001</td>\n",
       "      <td>0.0000</td>\n",
       "      <td>0.0000</td>\n",
       "    </tr>\n",
       "    <tr>\n",
       "      <th>1994-05-31</th>\n",
       "      <td>0.0159</td>\n",
       "      <td>0.0003</td>\n",
       "      <td>0.0000</td>\n",
       "      <td>0.0000</td>\n",
       "    </tr>\n",
       "    <tr>\n",
       "      <th>1994-06-30</th>\n",
       "      <td>-0.0229</td>\n",
       "      <td>0.0005</td>\n",
       "      <td>0.0000</td>\n",
       "      <td>0.0000</td>\n",
       "    </tr>\n",
       "    <tr>\n",
       "      <th>1994-07-31</th>\n",
       "      <td>0.0323</td>\n",
       "      <td>0.0010</td>\n",
       "      <td>0.0023</td>\n",
       "      <td>0.0000</td>\n",
       "    </tr>\n",
       "  </tbody>\n",
       "</table>\n",
       "</div>"
      ],
      "text/plain": [
       "               SPY  SPY Squared  Up Market  Down Market\n",
       "date                                                   \n",
       "1994-03-31 -0.0419       0.0018     0.0000       0.0119\n",
       "1994-04-30  0.0112       0.0001     0.0000       0.0000\n",
       "1994-05-31  0.0159       0.0003     0.0000       0.0000\n",
       "1994-06-30 -0.0229       0.0005     0.0000       0.0000\n",
       "1994-07-31  0.0323       0.0010     0.0023       0.0000"
      ]
     },
     "execution_count": 297,
     "metadata": {},
     "output_type": "execute_result"
    }
   ],
   "source": [
    "k1 = .03\n",
    "k2 = -.03\n",
    "\n",
    "sp_rts_filtered[\"Up Market\"] = np.maximum(sp_rts_filtered[\"SPY\"] - k1,0)\n",
    "sp_rts_filtered[\"Down Market\"] = np.maximum(k2 - sp_rts_filtered[\"SPY\"],0)\n",
    "\n",
    "sp_rts_filtered.head()"
   ]
  },
  {
   "cell_type": "code",
   "execution_count": 298,
   "metadata": {},
   "outputs": [
    {
     "name": "stdout",
     "output_type": "stream",
     "text": [
      "\"calc_regression\" assumes excess returns to calculate Information and Treynor Ratios\n",
      "\"LTCM Net\" Required to reset indexes to make regression work. Try passing \"y\" and \"X\" as pd.DataFrame\n"
     ]
    },
    {
     "data": {
      "text/html": [
       "<div>\n",
       "<style scoped>\n",
       "    .dataframe tbody tr th:only-of-type {\n",
       "        vertical-align: middle;\n",
       "    }\n",
       "\n",
       "    .dataframe tbody tr th {\n",
       "        vertical-align: top;\n",
       "    }\n",
       "\n",
       "    .dataframe thead th {\n",
       "        text-align: right;\n",
       "    }\n",
       "</style>\n",
       "<table border=\"1\" class=\"dataframe\">\n",
       "  <thead>\n",
       "    <tr style=\"text-align: right;\">\n",
       "      <th></th>\n",
       "      <th>Annualized Alpha</th>\n",
       "      <th>R-Squared</th>\n",
       "      <th>SPY Beta</th>\n",
       "      <th>Up Market Beta</th>\n",
       "      <th>Down Market Beta</th>\n",
       "    </tr>\n",
       "  </thead>\n",
       "  <tbody>\n",
       "    <tr>\n",
       "      <th>LTCM Net</th>\n",
       "      <td>0.1408</td>\n",
       "      <td>0.0504</td>\n",
       "      <td>0.4867</td>\n",
       "      <td>-0.7543</td>\n",
       "      <td>1.5220</td>\n",
       "    </tr>\n",
       "  </tbody>\n",
       "</table>\n",
       "</div>"
      ],
      "text/plain": [
       "          Annualized Alpha  R-Squared  SPY Beta  Up Market Beta  \\\n",
       "LTCM Net            0.1408     0.0504    0.4867         -0.7543   \n",
       "\n",
       "          Down Market Beta  \n",
       "LTCM Net            1.5220  "
      ]
     },
     "execution_count": 298,
     "metadata": {},
     "output_type": "execute_result"
    }
   ],
   "source": [
    "pmh.calc_regression(\n",
    "    y = ltcm_net_rts_filtered[[\"LTCM Net\"]],\n",
    "    X = sp_rts_filtered[[\"SPY\",\"Up Market\",\"Down Market\"]],\n",
    "    annual_factor=12,\n",
    "    keep_columns=[\"Annualized Alpha\", \"Beta\", \"R-Squared\"],\n",
    ")"
   ]
  },
  {
   "cell_type": "markdown",
   "metadata": {},
   "source": [
    "LTCM is short the call-like factor, as it has a negative beta. However, it is long the put-like factor, as this factor has a positive beta."
   ]
  },
  {
   "cell_type": "markdown",
   "metadata": {},
   "source": [
    "The put-like factor moves LTCM more, seeing as it has a larger beta."
   ]
  },
  {
   "cell_type": "markdown",
   "metadata": {},
   "source": [
    "LTCM's volatility exposure comes from being short the market upside, and long the market downside, as indicated by the betas. Together, these indicate LTCM's strategy is aligned with profiting in declining markets and losing with rising markets, which is a short volatility exposure."
   ]
  },
  {
   "cell_type": "markdown",
   "metadata": {},
   "source": [
    " The FX Carry Trade"
   ]
  }
 ],
 "metadata": {
  "kernelspec": {
   "display_name": "base",
   "language": "python",
   "name": "python3"
  },
  "language_info": {
   "codemirror_mode": {
    "name": "ipython",
    "version": 3
   },
   "file_extension": ".py",
   "mimetype": "text/x-python",
   "name": "python",
   "nbconvert_exporter": "python",
   "pygments_lexer": "ipython3",
   "version": "3.12.4"
  }
 },
 "nbformat": 4,
 "nbformat_minor": 2
}
