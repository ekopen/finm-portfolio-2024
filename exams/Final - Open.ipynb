{
 "cells": [
  {
   "cell_type": "markdown",
   "id": "559895d2",
   "metadata": {},
   "source": [
    "# Final Exam - Open\n",
    "\n",
    "## FINM 36700 - 2024\n",
    "\n",
    "### UChicago Financial Mathematics\n",
    "\n",
    "* Mark Hendricks\n",
    "* hendricks@uchicago.edu"
   ]
  },
  {
   "cell_type": "markdown",
   "id": "9e0a3816-d8c0-4317-8a45-7047edf45f11",
   "metadata": {},
   "source": [
    "***"
   ]
  },
  {
   "cell_type": "markdown",
   "id": "01cde8d3",
   "metadata": {},
   "source": [
    "# Instructions"
   ]
  },
  {
   "cell_type": "markdown",
   "id": "cc273c1a",
   "metadata": {},
   "source": [
    "## Please note the following:\n",
    "\n",
    "Points\n",
    "* The exam is `85` points.\n",
    "* You have `85` minutes to complete the exam.\n",
    "* For every minute late you submit the exam, you will lose one point.\n",
    "\n",
    "\n",
    "Submission\n",
    "* You will upload your solution to the `Final - Open` assignment on Canvas, where you downloaded this. \n",
    "* Be sure to **submit** on Canvas, not just **save** on Canvas.\n",
    "* Your submission should be readable, (the graders can understand your answers.)\n",
    "* Your submission should **include all code used in your analysis in a file format that the code can be executed.** \n",
    "\n",
    "Rules\n",
    "* The exam is open-material, closed-communication.\n",
    "* You do not need to cite material from the course github repo - you are welcome to use the code posted there without citation.\n",
    "\n",
    "Advice\n",
    "* If you find any question to be unclear, state your interpretation and proceed. We will only answer questions of interpretation if there is a typo, error, etc.\n",
    "* The exam will be graded for partial credit."
   ]
  },
  {
   "cell_type": "markdown",
   "id": "624f27b1",
   "metadata": {},
   "source": [
    "## Data\n",
    "\n",
    "**All data files are found in the class github repo, in the `data` folder.**\n",
    "\n",
    "- For Section 1:\n",
    "    * `data/final_exam_data.xlsx`\n",
    "- for Section 2:\n",
    "    * `data/fx_rf_data.xlsx`"
   ]
  },
  {
   "cell_type": "markdown",
   "id": "ebf6e066",
   "metadata": {},
   "source": [
    "## Scoring\n",
    "\n",
    "| Problem | Points |\n",
    "|---------|--------|\n",
    "| 1       | 40     |\n",
    "| 2       | 45     |"
   ]
  },
  {
   "cell_type": "markdown",
   "id": "7fb2fc26",
   "metadata": {},
   "source": [
    "### Each numbered question is worth 5 points unless otherwise specified."
   ]
  },
  {
   "cell_type": "markdown",
   "id": "632ce7d4",
   "metadata": {},
   "source": [
    "***"
   ]
  },
  {
   "cell_type": "code",
   "execution_count": 149,
   "id": "f3846d0b",
   "metadata": {},
   "outputs": [],
   "source": [
    "import pandas as pd\n",
    "import numpy as np\n",
    "import statsmodels.api as sm\n",
    "import warnings\n",
    "warnings.filterwarnings('ignore')"
   ]
  },
  {
   "cell_type": "code",
   "execution_count": 150,
   "id": "7b73bc9e",
   "metadata": {},
   "outputs": [
    {
     "data": {
      "text/html": [
       "<div>\n",
       "<style scoped>\n",
       "    .dataframe tbody tr th:only-of-type {\n",
       "        vertical-align: middle;\n",
       "    }\n",
       "\n",
       "    .dataframe tbody tr th {\n",
       "        vertical-align: top;\n",
       "    }\n",
       "\n",
       "    .dataframe thead th {\n",
       "        text-align: right;\n",
       "    }\n",
       "</style>\n",
       "<table border=\"1\" class=\"dataframe\">\n",
       "  <thead>\n",
       "    <tr style=\"text-align: right;\">\n",
       "      <th></th>\n",
       "      <th>A</th>\n",
       "      <th>AAL</th>\n",
       "      <th>AAPL</th>\n",
       "      <th>ABBV</th>\n",
       "      <th>ABNB</th>\n",
       "      <th>ABT</th>\n",
       "      <th>ACGL</th>\n",
       "      <th>ACN</th>\n",
       "      <th>ADBE</th>\n",
       "      <th>ADI</th>\n",
       "      <th>...</th>\n",
       "      <th>WTW</th>\n",
       "      <th>WY</th>\n",
       "      <th>WYNN</th>\n",
       "      <th>XEL</th>\n",
       "      <th>XOM</th>\n",
       "      <th>XYL</th>\n",
       "      <th>YUM</th>\n",
       "      <th>ZBH</th>\n",
       "      <th>ZBRA</th>\n",
       "      <th>ZTS</th>\n",
       "    </tr>\n",
       "    <tr>\n",
       "      <th>Date</th>\n",
       "      <th></th>\n",
       "      <th></th>\n",
       "      <th></th>\n",
       "      <th></th>\n",
       "      <th></th>\n",
       "      <th></th>\n",
       "      <th></th>\n",
       "      <th></th>\n",
       "      <th></th>\n",
       "      <th></th>\n",
       "      <th></th>\n",
       "      <th></th>\n",
       "      <th></th>\n",
       "      <th></th>\n",
       "      <th></th>\n",
       "      <th></th>\n",
       "      <th></th>\n",
       "      <th></th>\n",
       "      <th></th>\n",
       "      <th></th>\n",
       "      <th></th>\n",
       "    </tr>\n",
       "  </thead>\n",
       "  <tbody>\n",
       "    <tr>\n",
       "      <th>2024-01-03</th>\n",
       "      <td>-0.054703</td>\n",
       "      <td>-0.036458</td>\n",
       "      <td>-0.007488</td>\n",
       "      <td>0.004005</td>\n",
       "      <td>-0.007882</td>\n",
       "      <td>-0.003004</td>\n",
       "      <td>0.018398</td>\n",
       "      <td>-0.025943</td>\n",
       "      <td>-0.014274</td>\n",
       "      <td>-0.023866</td>\n",
       "      <td>...</td>\n",
       "      <td>0.002834</td>\n",
       "      <td>-0.020983</td>\n",
       "      <td>-0.006025</td>\n",
       "      <td>0.001733</td>\n",
       "      <td>0.008402</td>\n",
       "      <td>-0.018563</td>\n",
       "      <td>0.000543</td>\n",
       "      <td>-0.007579</td>\n",
       "      <td>-0.057691</td>\n",
       "      <td>-0.018518</td>\n",
       "    </tr>\n",
       "    <tr>\n",
       "      <th>2024-01-04</th>\n",
       "      <td>-0.001220</td>\n",
       "      <td>0.010811</td>\n",
       "      <td>-0.012700</td>\n",
       "      <td>0.006232</td>\n",
       "      <td>0.002249</td>\n",
       "      <td>0.013331</td>\n",
       "      <td>0.006888</td>\n",
       "      <td>-0.002456</td>\n",
       "      <td>-0.008290</td>\n",
       "      <td>-0.015294</td>\n",
       "      <td>...</td>\n",
       "      <td>-0.004738</td>\n",
       "      <td>-0.013799</td>\n",
       "      <td>0.001914</td>\n",
       "      <td>0.002359</td>\n",
       "      <td>-0.008719</td>\n",
       "      <td>0.006902</td>\n",
       "      <td>-0.003176</td>\n",
       "      <td>-0.002241</td>\n",
       "      <td>0.001782</td>\n",
       "      <td>0.005753</td>\n",
       "    </tr>\n",
       "    <tr>\n",
       "      <th>2024-01-05</th>\n",
       "      <td>-0.003359</td>\n",
       "      <td>0.038961</td>\n",
       "      <td>-0.004013</td>\n",
       "      <td>0.004211</td>\n",
       "      <td>0.016901</td>\n",
       "      <td>-0.001622</td>\n",
       "      <td>-0.008519</td>\n",
       "      <td>-0.001394</td>\n",
       "      <td>-0.004321</td>\n",
       "      <td>0.002580</td>\n",
       "      <td>...</td>\n",
       "      <td>-0.002589</td>\n",
       "      <td>0.002679</td>\n",
       "      <td>0.015285</td>\n",
       "      <td>0.000000</td>\n",
       "      <td>0.003030</td>\n",
       "      <td>-0.001602</td>\n",
       "      <td>-0.002720</td>\n",
       "      <td>-0.001830</td>\n",
       "      <td>-0.001107</td>\n",
       "      <td>0.004174</td>\n",
       "    </tr>\n",
       "    <tr>\n",
       "      <th>2024-01-08</th>\n",
       "      <td>0.021599</td>\n",
       "      <td>0.072059</td>\n",
       "      <td>0.024175</td>\n",
       "      <td>-0.004379</td>\n",
       "      <td>0.030152</td>\n",
       "      <td>0.014440</td>\n",
       "      <td>0.004036</td>\n",
       "      <td>0.011081</td>\n",
       "      <td>0.028250</td>\n",
       "      <td>0.013026</td>\n",
       "      <td>...</td>\n",
       "      <td>0.013815</td>\n",
       "      <td>0.010986</td>\n",
       "      <td>0.014637</td>\n",
       "      <td>-0.002354</td>\n",
       "      <td>-0.016662</td>\n",
       "      <td>0.006242</td>\n",
       "      <td>0.002338</td>\n",
       "      <td>0.016586</td>\n",
       "      <td>0.033242</td>\n",
       "      <td>0.006672</td>\n",
       "    </tr>\n",
       "    <tr>\n",
       "      <th>2024-01-09</th>\n",
       "      <td>-0.020243</td>\n",
       "      <td>-0.013717</td>\n",
       "      <td>-0.002263</td>\n",
       "      <td>0.005451</td>\n",
       "      <td>-0.003926</td>\n",
       "      <td>0.002936</td>\n",
       "      <td>-0.012578</td>\n",
       "      <td>0.007052</td>\n",
       "      <td>0.009732</td>\n",
       "      <td>0.004127</td>\n",
       "      <td>...</td>\n",
       "      <td>-0.009498</td>\n",
       "      <td>-0.009104</td>\n",
       "      <td>-0.018444</td>\n",
       "      <td>-0.004876</td>\n",
       "      <td>-0.012386</td>\n",
       "      <td>-0.006557</td>\n",
       "      <td>-0.003265</td>\n",
       "      <td>-0.000820</td>\n",
       "      <td>-0.017810</td>\n",
       "      <td>-0.001071</td>\n",
       "    </tr>\n",
       "  </tbody>\n",
       "</table>\n",
       "<p>5 rows × 498 columns</p>\n",
       "</div>"
      ],
      "text/plain": [
       "                   A       AAL      AAPL      ABBV      ABNB       ABT  \\\n",
       "Date                                                                     \n",
       "2024-01-03 -0.054703 -0.036458 -0.007488  0.004005 -0.007882 -0.003004   \n",
       "2024-01-04 -0.001220  0.010811 -0.012700  0.006232  0.002249  0.013331   \n",
       "2024-01-05 -0.003359  0.038961 -0.004013  0.004211  0.016901 -0.001622   \n",
       "2024-01-08  0.021599  0.072059  0.024175 -0.004379  0.030152  0.014440   \n",
       "2024-01-09 -0.020243 -0.013717 -0.002263  0.005451 -0.003926  0.002936   \n",
       "\n",
       "                ACGL       ACN      ADBE       ADI  ...       WTW        WY  \\\n",
       "Date                                                ...                       \n",
       "2024-01-03  0.018398 -0.025943 -0.014274 -0.023866  ...  0.002834 -0.020983   \n",
       "2024-01-04  0.006888 -0.002456 -0.008290 -0.015294  ... -0.004738 -0.013799   \n",
       "2024-01-05 -0.008519 -0.001394 -0.004321  0.002580  ... -0.002589  0.002679   \n",
       "2024-01-08  0.004036  0.011081  0.028250  0.013026  ...  0.013815  0.010986   \n",
       "2024-01-09 -0.012578  0.007052  0.009732  0.004127  ... -0.009498 -0.009104   \n",
       "\n",
       "                WYNN       XEL       XOM       XYL       YUM       ZBH  \\\n",
       "Date                                                                     \n",
       "2024-01-03 -0.006025  0.001733  0.008402 -0.018563  0.000543 -0.007579   \n",
       "2024-01-04  0.001914  0.002359 -0.008719  0.006902 -0.003176 -0.002241   \n",
       "2024-01-05  0.015285  0.000000  0.003030 -0.001602 -0.002720 -0.001830   \n",
       "2024-01-08  0.014637 -0.002354 -0.016662  0.006242  0.002338  0.016586   \n",
       "2024-01-09 -0.018444 -0.004876 -0.012386 -0.006557 -0.003265 -0.000820   \n",
       "\n",
       "                ZBRA       ZTS  \n",
       "Date                            \n",
       "2024-01-03 -0.057691 -0.018518  \n",
       "2024-01-04  0.001782  0.005753  \n",
       "2024-01-05 -0.001107  0.004174  \n",
       "2024-01-08  0.033242  0.006672  \n",
       "2024-01-09 -0.017810 -0.001071  \n",
       "\n",
       "[5 rows x 498 columns]"
      ]
     },
     "execution_count": 150,
     "metadata": {},
     "output_type": "execute_result"
    }
   ],
   "source": [
    "asset_df = pd.read_excel(\"../data/final_exam_data.xlsx\",sheet_name=\"Asset Returns\").set_index(\"Date\")\n",
    "asset_df.head()"
   ]
  },
  {
   "cell_type": "code",
   "execution_count": 151,
   "id": "96b35b1b",
   "metadata": {},
   "outputs": [
    {
     "data": {
      "text/html": [
       "<div>\n",
       "<style scoped>\n",
       "    .dataframe tbody tr th:only-of-type {\n",
       "        vertical-align: middle;\n",
       "    }\n",
       "\n",
       "    .dataframe tbody tr th {\n",
       "        vertical-align: top;\n",
       "    }\n",
       "\n",
       "    .dataframe thead th {\n",
       "        text-align: right;\n",
       "    }\n",
       "</style>\n",
       "<table border=\"1\" class=\"dataframe\">\n",
       "  <thead>\n",
       "    <tr style=\"text-align: right;\">\n",
       "      <th></th>\n",
       "      <th>factor</th>\n",
       "    </tr>\n",
       "    <tr>\n",
       "      <th>Date</th>\n",
       "      <th></th>\n",
       "    </tr>\n",
       "  </thead>\n",
       "  <tbody>\n",
       "    <tr>\n",
       "      <th>2024-01-03</th>\n",
       "      <td>-0.013855</td>\n",
       "    </tr>\n",
       "    <tr>\n",
       "      <th>2024-01-04</th>\n",
       "      <td>-0.001325</td>\n",
       "    </tr>\n",
       "    <tr>\n",
       "      <th>2024-01-05</th>\n",
       "      <td>0.002717</td>\n",
       "    </tr>\n",
       "    <tr>\n",
       "      <th>2024-01-08</th>\n",
       "      <td>0.011078</td>\n",
       "    </tr>\n",
       "    <tr>\n",
       "      <th>2024-01-09</th>\n",
       "      <td>-0.004448</td>\n",
       "    </tr>\n",
       "  </tbody>\n",
       "</table>\n",
       "</div>"
      ],
      "text/plain": [
       "              factor\n",
       "Date                \n",
       "2024-01-03 -0.013855\n",
       "2024-01-04 -0.001325\n",
       "2024-01-05  0.002717\n",
       "2024-01-08  0.011078\n",
       "2024-01-09 -0.004448"
      ]
     },
     "execution_count": 151,
     "metadata": {},
     "output_type": "execute_result"
    }
   ],
   "source": [
    "factor_df = pd.read_excel(\"../data/final_exam_data.xlsx\",sheet_name=\"Factor Returns\").set_index(\"Date\")\n",
    "factor_df.head()"
   ]
  },
  {
   "cell_type": "code",
   "execution_count": 152,
   "id": "48f47b45",
   "metadata": {},
   "outputs": [
    {
     "data": {
      "text/html": [
       "<div>\n",
       "<style scoped>\n",
       "    .dataframe tbody tr th:only-of-type {\n",
       "        vertical-align: middle;\n",
       "    }\n",
       "\n",
       "    .dataframe tbody tr th {\n",
       "        vertical-align: top;\n",
       "    }\n",
       "\n",
       "    .dataframe thead th {\n",
       "        text-align: right;\n",
       "    }\n",
       "</style>\n",
       "<table border=\"1\" class=\"dataframe\">\n",
       "  <thead>\n",
       "    <tr style=\"text-align: right;\">\n",
       "      <th></th>\n",
       "      <th>Ticker</th>\n",
       "      <th>betas</th>\n",
       "    </tr>\n",
       "  </thead>\n",
       "  <tbody>\n",
       "    <tr>\n",
       "      <th>0</th>\n",
       "      <td>A</td>\n",
       "      <td>1.180943</td>\n",
       "    </tr>\n",
       "    <tr>\n",
       "      <th>1</th>\n",
       "      <td>AAL</td>\n",
       "      <td>1.986505</td>\n",
       "    </tr>\n",
       "    <tr>\n",
       "      <th>2</th>\n",
       "      <td>AAPL</td>\n",
       "      <td>0.670563</td>\n",
       "    </tr>\n",
       "    <tr>\n",
       "      <th>3</th>\n",
       "      <td>ABBV</td>\n",
       "      <td>0.424427</td>\n",
       "    </tr>\n",
       "    <tr>\n",
       "      <th>4</th>\n",
       "      <td>ABNB</td>\n",
       "      <td>1.243492</td>\n",
       "    </tr>\n",
       "  </tbody>\n",
       "</table>\n",
       "</div>"
      ],
      "text/plain": [
       "  Ticker     betas\n",
       "0      A  1.180943\n",
       "1    AAL  1.986505\n",
       "2   AAPL  0.670563\n",
       "3   ABBV  0.424427\n",
       "4   ABNB  1.243492"
      ]
     },
     "execution_count": 152,
     "metadata": {},
     "output_type": "execute_result"
    }
   ],
   "source": [
    "betas_df = pd.read_excel(\"../data/final_exam_data.xlsx\",sheet_name=\"Asset Betas\")\n",
    "betas_df.head()"
   ]
  },
  {
   "cell_type": "markdown",
   "id": "9a676293-3a91-4162-823e-4afb44c164e2",
   "metadata": {
    "vscode": {
     "languageId": "plaintext"
    }
   },
   "source": [
    "# 1. Cross-Sectional Factor Pricing\n",
    "\n",
    "Use the data found in the file `final_data.xlsx`. The sheet named `Asset Returns` contains daily excess returns data for various assets; the sheet named `Factor Returns` contains daily excess returns data for some unknown factor; and the sheet named `Asset Betas` contains the betas of each asset with respect to the given factor.\n",
    "\n",
    "Consider the data to have an annualization factor of `252` days per year.\n",
    "\n",
    "### 1.\n",
    "(10pts)\n",
    "\n",
    "Using linear regression, estimate the factor risk premium for __each point in time__, using the following model: $\\phantom{Brian Hood}$ \n",
    "\n",
    "$$\n",
    "\\tilde{r}^{(i)}_t = \\beta^{(i)}\\lambda_t + \\epsilon^{(i)}_t\n",
    "$$\n",
    "\n",
    "Using your estimated series $\\lambda_t$, report...\n",
    "\n",
    "* the last 3 values. \n",
    "\n",
    "* the annualized mean.\n",
    "\n",
    "* the annualized vol."
   ]
  },
  {
   "cell_type": "code",
   "execution_count": 153,
   "id": "a61f1c21",
   "metadata": {},
   "outputs": [
    {
     "name": "stdout",
     "output_type": "stream",
     "text": [
      "Last 3 lambda_t values:\n",
      "Date\n",
      "2024-11-06    0.022971\n",
      "2024-11-07    0.001064\n",
      "2024-11-08    0.001768\n",
      "dtype: float64\n"
     ]
    }
   ],
   "source": [
    "betas = betas_df.set_index('Ticker')['betas']\n",
    "betas = betas[asset_df.columns]\n",
    "\n",
    "beta_squared_sum = np.sum(betas**2)\n",
    "\n",
    "lam_series = pd.Series(index=asset_df.index, dtype=float)\n",
    "\n",
    "for t in asset_df.index:\n",
    "    r_t = asset_df.loc[t] \n",
    "    lam_t = (betas * r_t).sum() / beta_squared_sum\n",
    "    lam_series[t] = lam_t\n",
    "\n",
    "print(\"Last 3 lambda_t values:\")\n",
    "print(lam_series.tail(3))"
   ]
  },
  {
   "cell_type": "code",
   "execution_count": 154,
   "id": "79884892",
   "metadata": {},
   "outputs": [
    {
     "name": "stdout",
     "output_type": "stream",
     "text": [
      "Annualized mean: 0.1754874142533425\n",
      "Annualized volatility: 0.11688953313031769\n"
     ]
    }
   ],
   "source": [
    "ann_factor = 252\n",
    "\n",
    "ann_mean = lam_series.mean() * ann_factor\n",
    "print(\"Annualized mean:\", ann_mean)\n",
    "\n",
    "ann_vol = lam_series.std() * np.sqrt(ann_factor)\n",
    "print(\"Annualized volatility:\", ann_vol)"
   ]
  },
  {
   "cell_type": "markdown",
   "id": "be8b8543-cf9f-4aa6-b703-7af7a9dc6872",
   "metadata": {
    "vscode": {
     "languageId": "plaintext"
    }
   },
   "source": [
    "### 2.\n",
    "\n",
    "(10pts)\n",
    "\n",
    "Compare $\\lambda_t$ to the realized factor returns, $\\tilde{f}_t$.\n",
    "\n",
    "* Plot the cumulative (excess) returns of $\\lambda_t$ and $\\tilde{f}_t$.\n",
    "* Report the correlation between these two series.\n",
    "* Report the serial correlation of each series.\n",
    "\n",
    "Should we expect the serial correlation of $\\tilde{f}$ to be near zero? What about $\\lambda_t$?"
   ]
  },
  {
   "cell_type": "code",
   "execution_count": 155,
   "id": "20b820ce",
   "metadata": {},
   "outputs": [
    {
     "data": {
      "image/png": "[encoded data removed]",
      "text/plain": [
       "<Figure size 1000x600 with 1 Axes>"
      ]
     },
     "metadata": {},
     "output_type": "display_data"
    }
   ],
   "source": [
    "import matplotlib.pyplot as plt\n",
    "\n",
    "common_idx = lam_series.index.intersection(factor_df.index)\n",
    "lam_common = lam_series.loc[common_idx]\n",
    "f_common = factor_df['factor'].loc[common_idx]\n",
    "\n",
    "lam_cum = lam_common.cumsum()\n",
    "f_cum = f_common.cumsum()\n",
    "\n",
    "plt.figure(figsize=(10, 6))\n",
    "plt.plot(lam_cum, label='Cumulative λ_t')\n",
    "plt.plot(f_cum, label='Cumulative f_t')\n",
    "plt.title('Cumulative Returns of λ_t and f_t')\n",
    "plt.xlabel('Date')\n",
    "plt.ylabel('Cumulative Excess Return')\n",
    "plt.legend()\n",
    "plt.grid(True)\n",
    "plt.show()"
   ]
  },
  {
   "cell_type": "code",
   "execution_count": 156,
   "id": "dabb3fc3",
   "metadata": {},
   "outputs": [
    {
     "name": "stdout",
     "output_type": "stream",
     "text": [
      "Correlation between λ_t and f_t: 0.9851319641635838\n",
      "Serial correlation of λ_t: 0.0015639909104252496\n",
      "Serial correlation of f_t: 0.01843794983534873\n"
     ]
    }
   ],
   "source": [
    "corr = lam_common.corr(f_common)\n",
    "print(\"Correlation between λ_t and f_t:\", corr)\n",
    "\n",
    "lam_lag1 = lam_common.shift(1)\n",
    "f_lag1 = f_common.shift(1)\n",
    "\n",
    "lam_serial_corr = lam_common.corr(lam_lag1)\n",
    "f_serial_corr = f_common.corr(f_lag1)\n",
    "\n",
    "print(\"Serial correlation of λ_t:\", lam_serial_corr)\n",
    "print(\"Serial correlation of f_t:\", f_serial_corr)"
   ]
  },
  {
   "cell_type": "markdown",
   "id": "240b67b9",
   "metadata": {},
   "source": [
    "Yes, factor returns are usually expected to be unpredictable, so their serial correlation should be near zero. However, for lambda, considering it is a risk premium, it could be more persistent and show some non-zero correlation."
   ]
  },
  {
   "cell_type": "markdown",
   "id": "dea9adfd-c561-4210-9846-9ae679fdb277",
   "metadata": {
    "vscode": {
     "languageId": "plaintext"
    }
   },
   "source": [
    "### 3.\n",
    "\n",
    "We estimated our factor premium in a regression that excluded an intercept term. Why might we have done this? In what circumstance would we prefer to include an intercept term?"
   ]
  },
  {
   "cell_type": "markdown",
   "id": "3564f83f",
   "metadata": {},
   "source": [
    "Excluding the intercept means that we are certain the factor alone explains expected excess returns. If we think the model is incomplete, then we would want to include the intercept."
   ]
  },
  {
   "cell_type": "markdown",
   "id": "8b21d34d-296c-4c05-ae54-6aefb6863531",
   "metadata": {
    "vscode": {
     "languageId": "plaintext"
    }
   },
   "source": [
    "### 4.\n",
    "\n",
    "(10pts)\n",
    "\n",
    "Now, use the actual factor returns, $\\tilde{f}_t$to analyze the fit of this pricing model using a __single__ cross-sectional regression to estimate  \n",
    "$$\n",
    "E[r^{(i)}] = \\eta + \\beta^{(i)} E[\\tilde{f}] + \\epsilon^{(i)}\n",
    "$$\n",
    "\n",
    "How well does this factor work for pricing? Provide supporting evidence for your answer."
   ]
  },
  {
   "cell_type": "code",
   "execution_count": 157,
   "id": "b398968a",
   "metadata": {},
   "outputs": [
    {
     "name": "stdout",
     "output_type": "stream",
     "text": [
      "                            OLS Regression Results                            \n",
      "==============================================================================\n",
      "Dep. Variable:                      y   R-squared:                       0.000\n",
      "Model:                            OLS   Adj. R-squared:                 -0.002\n",
      "Method:                 Least Squares   F-statistic:                    0.1534\n",
      "Date:                Mon, 09 Dec 2024   Prob (F-statistic):              0.695\n",
      "Time:                        19:01:35   Log-Likelihood:                 2657.1\n",
      "No. Observations:                 498   AIC:                            -5310.\n",
      "Df Residuals:                     496   BIC:                            -5302.\n",
      "Df Model:                           1                                         \n",
      "Covariance Type:            nonrobust                                         \n",
      "==============================================================================\n",
      "                 coef    std err          t      P>|t|      [0.025      0.975]\n",
      "------------------------------------------------------------------------------\n",
      "const          0.0008      0.000      6.409      0.000       0.001       0.001\n",
      "x1          4.399e-05      0.000      0.392      0.695      -0.000       0.000\n",
      "==============================================================================\n",
      "Omnibus:                       44.670   Durbin-Watson:                   1.943\n",
      "Prob(Omnibus):                  0.000   Jarque-Bera (JB):              215.181\n",
      "Skew:                          -0.147   Prob(JB):                     1.88e-47\n",
      "Kurtosis:                       6.207   Cond. No.                         4.54\n",
      "==============================================================================\n",
      "\n",
      "Notes:\n",
      "[1] Standard Errors assume that the covariance matrix of the errors is correctly specified.\n",
      "Estimated slope (γ): 4.398525386635916e-05\n",
      "Average factor return (E[f]): 0.000838062410334249\n",
      "R-squared of cross-sectional regression: 0.00030916453633456076\n"
     ]
    }
   ],
   "source": [
    "import statsmodels.api as sm\n",
    "\n",
    "avg_returns = asset_df.mean()\n",
    "avg_factor = factor_df['factor'].mean()\n",
    "\n",
    "betas_for_reg = betas[avg_returns.index]\n",
    "X = sm.add_constant(betas_for_reg.values)\n",
    "y = avg_returns.values\n",
    "model = sm.OLS(y, X).fit()\n",
    "\n",
    "print(model.summary())\n",
    "\n",
    "eta_est = model.params[0] \n",
    "gamma_est = model.params[1] \n",
    "\n",
    "print(\"Estimated slope (γ):\", gamma_est)\n",
    "print(\"Average factor return (E[f]):\", avg_factor)\n",
    "\n",
    "r_squared = model.rsquared\n",
    "print(\"R-squared of cross-sectional regression:\", r_squared)"
   ]
  },
  {
   "cell_type": "markdown",
   "id": "46ac5c9a",
   "metadata": {},
   "source": [
    "No, this factor does not explain the cross section of average returns. The R-squared value is extremely low, slope being close to zero, and non-zero intercept indicate all of this."
   ]
  },
  {
   "cell_type": "markdown",
   "id": "7191a92c-6f82-46a5-b1df-23a2c4ff8b59",
   "metadata": {},
   "source": [
    "### 5.\n",
    "\n",
    "The factor we've used, $\\tilde{f}$ is actually the **equally**-weighted portfolio of equities. Suppose the CAPM holds exactly, with the **value**-weighted market equity portfolio. In that case, what would we expect, theoretically, from the previous section?"
   ]
  },
  {
   "cell_type": "markdown",
   "id": "671ae2b5",
   "metadata": {},
   "source": [
    "If CAPM holds exactly with the value-weighted market portfolio, then using an equally-weighted portfolio as the factor would not produce the theoretical relationships we expect. We would not see a strong linear relationship between betas and average returns and the cross-sectional fit would be poor, which is what we just observed."
   ]
  },
  {
   "cell_type": "markdown",
   "id": "0a8eda25",
   "metadata": {},
   "source": [
    "***"
   ]
  },
  {
   "cell_type": "code",
   "execution_count": 158,
   "id": "b9fa4d77",
   "metadata": {},
   "outputs": [
    {
     "data": {
      "text/html": [
       "<div>\n",
       "<style scoped>\n",
       "    .dataframe tbody tr th:only-of-type {\n",
       "        vertical-align: middle;\n",
       "    }\n",
       "\n",
       "    .dataframe tbody tr th {\n",
       "        vertical-align: top;\n",
       "    }\n",
       "\n",
       "    .dataframe thead th {\n",
       "        text-align: right;\n",
       "    }\n",
       "</style>\n",
       "<table border=\"1\" class=\"dataframe\">\n",
       "  <thead>\n",
       "    <tr style=\"text-align: right;\">\n",
       "      <th></th>\n",
       "      <th>USD</th>\n",
       "      <th>JPY</th>\n",
       "      <th>EUR</th>\n",
       "      <th>GBP</th>\n",
       "      <th>MXN</th>\n",
       "      <th>CHF</th>\n",
       "    </tr>\n",
       "    <tr>\n",
       "      <th>date</th>\n",
       "      <th></th>\n",
       "      <th></th>\n",
       "      <th></th>\n",
       "      <th></th>\n",
       "      <th></th>\n",
       "      <th></th>\n",
       "    </tr>\n",
       "  </thead>\n",
       "  <tbody>\n",
       "    <tr>\n",
       "      <th>2008-01-01</th>\n",
       "      <td>0.044000</td>\n",
       "      <td>0.00478</td>\n",
       "      <td>0.04250</td>\n",
       "      <td>0.05700</td>\n",
       "      <td>0.075</td>\n",
       "      <td>0.020645</td>\n",
       "    </tr>\n",
       "    <tr>\n",
       "      <th>2008-01-02</th>\n",
       "      <td>0.041563</td>\n",
       "      <td>0.00478</td>\n",
       "      <td>0.03600</td>\n",
       "      <td>0.05475</td>\n",
       "      <td>0.075</td>\n",
       "      <td>0.020645</td>\n",
       "    </tr>\n",
       "    <tr>\n",
       "      <th>2008-01-03</th>\n",
       "      <td>0.043463</td>\n",
       "      <td>0.00478</td>\n",
       "      <td>0.03940</td>\n",
       "      <td>0.05600</td>\n",
       "      <td>0.075</td>\n",
       "      <td>0.021500</td>\n",
       "    </tr>\n",
       "    <tr>\n",
       "      <th>2008-01-04</th>\n",
       "      <td>0.042188</td>\n",
       "      <td>0.00478</td>\n",
       "      <td>0.04065</td>\n",
       "      <td>0.05500</td>\n",
       "      <td>0.075</td>\n",
       "      <td>0.020950</td>\n",
       "    </tr>\n",
       "    <tr>\n",
       "      <th>2008-01-07</th>\n",
       "      <td>0.042188</td>\n",
       "      <td>0.00493</td>\n",
       "      <td>0.04100</td>\n",
       "      <td>0.05460</td>\n",
       "      <td>0.075</td>\n",
       "      <td>0.020200</td>\n",
       "    </tr>\n",
       "  </tbody>\n",
       "</table>\n",
       "</div>"
      ],
      "text/plain": [
       "                 USD      JPY      EUR      GBP    MXN       CHF\n",
       "date                                                            \n",
       "2008-01-01  0.044000  0.00478  0.04250  0.05700  0.075  0.020645\n",
       "2008-01-02  0.041563  0.00478  0.03600  0.05475  0.075  0.020645\n",
       "2008-01-03  0.043463  0.00478  0.03940  0.05600  0.075  0.021500\n",
       "2008-01-04  0.042188  0.00478  0.04065  0.05500  0.075  0.020950\n",
       "2008-01-07  0.042188  0.00493  0.04100  0.05460  0.075  0.020200"
      ]
     },
     "execution_count": 158,
     "metadata": {},
     "output_type": "execute_result"
    }
   ],
   "source": [
    "rf_df = pd.read_excel(\"../data/fx_rf_data.xlsx\",sheet_name=\"risk-free rates\").set_index(\"date\")\n",
    "rf_df.head()"
   ]
  },
  {
   "cell_type": "code",
   "execution_count": 159,
   "id": "6966b814",
   "metadata": {},
   "outputs": [
    {
     "data": {
      "text/html": [
       "<div>\n",
       "<style scoped>\n",
       "    .dataframe tbody tr th:only-of-type {\n",
       "        vertical-align: middle;\n",
       "    }\n",
       "\n",
       "    .dataframe tbody tr th {\n",
       "        vertical-align: top;\n",
       "    }\n",
       "\n",
       "    .dataframe thead th {\n",
       "        text-align: right;\n",
       "    }\n",
       "</style>\n",
       "<table border=\"1\" class=\"dataframe\">\n",
       "  <thead>\n",
       "    <tr style=\"text-align: right;\">\n",
       "      <th></th>\n",
       "      <th>JPY</th>\n",
       "      <th>EUR</th>\n",
       "      <th>GBP</th>\n",
       "      <th>MXN</th>\n",
       "      <th>CHF</th>\n",
       "    </tr>\n",
       "    <tr>\n",
       "      <th>date</th>\n",
       "      <th></th>\n",
       "      <th></th>\n",
       "      <th></th>\n",
       "      <th></th>\n",
       "      <th></th>\n",
       "    </tr>\n",
       "  </thead>\n",
       "  <tbody>\n",
       "    <tr>\n",
       "      <th>2008-01-01</th>\n",
       "      <td>0.008957</td>\n",
       "      <td>1.4592</td>\n",
       "      <td>1.9864</td>\n",
       "      <td>0.09183</td>\n",
       "      <td>0.8824</td>\n",
       "    </tr>\n",
       "    <tr>\n",
       "      <th>2008-01-02</th>\n",
       "      <td>0.009119</td>\n",
       "      <td>1.4715</td>\n",
       "      <td>1.9808</td>\n",
       "      <td>0.09162</td>\n",
       "      <td>0.8933</td>\n",
       "    </tr>\n",
       "    <tr>\n",
       "      <th>2008-01-03</th>\n",
       "      <td>0.009148</td>\n",
       "      <td>1.4750</td>\n",
       "      <td>1.9710</td>\n",
       "      <td>0.09187</td>\n",
       "      <td>0.9002</td>\n",
       "    </tr>\n",
       "    <tr>\n",
       "      <th>2008-01-04</th>\n",
       "      <td>0.009209</td>\n",
       "      <td>1.4743</td>\n",
       "      <td>1.9740</td>\n",
       "      <td>0.09154</td>\n",
       "      <td>0.9022</td>\n",
       "    </tr>\n",
       "    <tr>\n",
       "      <th>2008-01-07</th>\n",
       "      <td>0.009159</td>\n",
       "      <td>1.4696</td>\n",
       "      <td>1.9704</td>\n",
       "      <td>0.09176</td>\n",
       "      <td>0.8957</td>\n",
       "    </tr>\n",
       "  </tbody>\n",
       "</table>\n",
       "</div>"
      ],
      "text/plain": [
       "                 JPY     EUR     GBP      MXN     CHF\n",
       "date                                                 \n",
       "2008-01-01  0.008957  1.4592  1.9864  0.09183  0.8824\n",
       "2008-01-02  0.009119  1.4715  1.9808  0.09162  0.8933\n",
       "2008-01-03  0.009148  1.4750  1.9710  0.09187  0.9002\n",
       "2008-01-04  0.009209  1.4743  1.9740  0.09154  0.9022\n",
       "2008-01-07  0.009159  1.4696  1.9704  0.09176  0.8957"
      ]
     },
     "execution_count": 159,
     "metadata": {},
     "output_type": "execute_result"
    }
   ],
   "source": [
    "ex_df = pd.read_excel(\"../data/fx_rf_data.xlsx\",sheet_name=\"exchange rates\").set_index(\"date\")\n",
    "ex_df.head()"
   ]
  },
  {
   "cell_type": "markdown",
   "id": "51ff849e",
   "metadata": {
    "vscode": {
     "languageId": "plaintext"
    }
   },
   "source": [
    "# 2. Currency Trades\n",
    "\n",
    "For this question, use the data set from `data/fx_rf_data.xlsx`."
   ]
  },
  {
   "cell_type": "markdown",
   "id": "0c366b80-4382-48eb-b626-7b498675ade9",
   "metadata": {},
   "source": [
    "Calculate the **arithmetic** (not log) excess return to holding each foreign currency.\n",
    "\n",
    "Data Note:\n",
    "* Consider the risk-free rate data as being quoted as an annualized value, where this annualization is a scaling of `252`.\n",
    "\n",
    "Throughout this problem, we only consider returns generated between `Jan 2018` and `Aug 2024`."
   ]
  },
  {
   "cell_type": "markdown",
   "id": "9ae32f03-33ab-4b4d-ba58-9818a5cd6efc",
   "metadata": {},
   "source": [
    "### 1.\n",
    "\n",
    "Report the first and final three values of each of these excess return series."
   ]
  },
  {
   "cell_type": "code",
   "execution_count": 160,
   "id": "4fa8e208",
   "metadata": {},
   "outputs": [
    {
     "name": "stdout",
     "output_type": "stream",
     "text": [
      "                 JPY       EUR       GBP       MXN       CHF\n",
      "date                                                        \n",
      "2018-01-02  0.003323  0.003856  0.006386  0.005839  0.003258\n",
      "2018-01-03 -0.002078 -0.003705 -0.005502  0.009516 -0.005401\n",
      "2018-01-04 -0.002194  0.004355  0.002533  0.003039  0.002288\n",
      "2018-01-05 -0.002878 -0.003290  0.001417  0.005343 -0.000254\n",
      "2018-01-08 -0.000283 -0.005211 -0.000278 -0.001975 -0.002494\n"
     ]
    }
   ],
   "source": [
    "start_date = \"2018-01-01\"\n",
    "end_date = \"2024-08-31\"\n",
    "rf_df = rf_df.loc[start_date:end_date]\n",
    "ex_df = ex_df.loc[start_date:end_date]\n",
    "\n",
    "fx_returns = ex_df.div(ex_df.shift(1)) - 1\n",
    "fx_returns = fx_returns.dropna()\n",
    "\n",
    "daily_usd_rf = rf_df['USD'] / 252\n",
    "\n",
    "common_idx = fx_returns.index.intersection(daily_usd_rf.index)\n",
    "fx_returns = fx_returns.loc[common_idx]\n",
    "daily_usd_rf = daily_usd_rf.loc[common_idx]\n",
    "\n",
    "excess_returns = fx_returns.sub(daily_usd_rf, axis=0)\n",
    "\n",
    "print(excess_returns.head())"
   ]
  },
  {
   "cell_type": "markdown",
   "id": "e1d841fa-782c-4613-9a87-925233741f5a",
   "metadata": {},
   "source": [
    "### 2.\n",
    "\n",
    "Report the following performance metrics. Annualize the mean and volatility using an assumption of `252` days per year.\n",
    "\n",
    "* mean\n",
    "* volatility\n",
    "* skewness\n",
    "* (excess) kurtosis\n",
    "* max drawdown\n",
    "\n",
    "Also report the correlation matrix."
   ]
  },
  {
   "cell_type": "code",
   "execution_count": 161,
   "id": "ecc60e78",
   "metadata": {},
   "outputs": [
    {
     "name": "stdout",
     "output_type": "stream",
     "text": [
      "Annualized Mean:\n",
      " JPY   -0.055578\n",
      "EUR   -0.030717\n",
      "GBP   -0.021173\n",
      "MXN   -0.014607\n",
      "CHF    0.001724\n",
      "dtype: float64\n",
      "\n",
      "Annualized Volatility:\n",
      " JPY    0.084739\n",
      "EUR    0.070543\n",
      "GBP    0.089069\n",
      "MXN    0.125132\n",
      "CHF    0.071480\n",
      "dtype: float64\n",
      "\n",
      "Skewness:\n",
      " JPY    0.521316\n",
      "EUR    0.037149\n",
      "GBP   -0.098050\n",
      "MXN   -0.483862\n",
      "CHF    0.340031\n",
      "dtype: float64\n",
      "\n",
      "Excess Kurtosis:\n",
      " JPY    6.535270\n",
      "EUR    1.484393\n",
      "GBP    3.871095\n",
      "MXN    2.986757\n",
      "CHF    2.368802\n",
      "dtype: float64\n",
      "\n",
      "Max Drawdown:\n",
      " JPY   -0.434614\n",
      "EUR   -0.273558\n",
      "GBP   -0.291497\n",
      "MXN   -0.318247\n",
      "CHF   -0.143896\n",
      "dtype: float64\n"
     ]
    }
   ],
   "source": [
    "ann_factor = 252\n",
    "\n",
    "annualized_mean = excess_returns.mean() * ann_factor\n",
    "annualized_vol = excess_returns.std() * np.sqrt(ann_factor)\n",
    "\n",
    "skewness = excess_returns.skew()\n",
    "\n",
    "excess_kurtosis = excess_returns.kurt()\n",
    "\n",
    "cum_returns = (1 + excess_returns).cumprod()\n",
    "rolling_max = cum_returns.cummax()\n",
    "drawdowns = (cum_returns / rolling_max) - 1\n",
    "max_drawdown = drawdowns.min()\n",
    "\n",
    "print(\"Annualized Mean:\\n\", annualized_mean)\n",
    "print(\"\\nAnnualized Volatility:\\n\", annualized_vol)\n",
    "print(\"\\nSkewness:\\n\", skewness)\n",
    "print(\"\\nExcess Kurtosis:\\n\", excess_kurtosis)\n",
    "print(\"\\nMax Drawdown:\\n\", max_drawdown)\n"
   ]
  },
  {
   "cell_type": "code",
   "execution_count": 162,
   "id": "9d428eeb",
   "metadata": {},
   "outputs": [
    {
     "data": {
      "text/html": [
       "<div>\n",
       "<style scoped>\n",
       "    .dataframe tbody tr th:only-of-type {\n",
       "        vertical-align: middle;\n",
       "    }\n",
       "\n",
       "    .dataframe tbody tr th {\n",
       "        vertical-align: top;\n",
       "    }\n",
       "\n",
       "    .dataframe thead th {\n",
       "        text-align: right;\n",
       "    }\n",
       "</style>\n",
       "<table border=\"1\" class=\"dataframe\">\n",
       "  <thead>\n",
       "    <tr style=\"text-align: right;\">\n",
       "      <th></th>\n",
       "      <th>JPY</th>\n",
       "      <th>EUR</th>\n",
       "      <th>GBP</th>\n",
       "      <th>MXN</th>\n",
       "      <th>CHF</th>\n",
       "    </tr>\n",
       "  </thead>\n",
       "  <tbody>\n",
       "    <tr>\n",
       "      <th>JPY</th>\n",
       "      <td>1.000000</td>\n",
       "      <td>0.438596</td>\n",
       "      <td>0.371325</td>\n",
       "      <td>0.076859</td>\n",
       "      <td>0.550511</td>\n",
       "    </tr>\n",
       "    <tr>\n",
       "      <th>EUR</th>\n",
       "      <td>0.438596</td>\n",
       "      <td>1.000000</td>\n",
       "      <td>0.688489</td>\n",
       "      <td>0.333294</td>\n",
       "      <td>0.751320</td>\n",
       "    </tr>\n",
       "    <tr>\n",
       "      <th>GBP</th>\n",
       "      <td>0.371325</td>\n",
       "      <td>0.688489</td>\n",
       "      <td>1.000000</td>\n",
       "      <td>0.360091</td>\n",
       "      <td>0.551390</td>\n",
       "    </tr>\n",
       "    <tr>\n",
       "      <th>MXN</th>\n",
       "      <td>0.076859</td>\n",
       "      <td>0.333294</td>\n",
       "      <td>0.360091</td>\n",
       "      <td>1.000000</td>\n",
       "      <td>0.192017</td>\n",
       "    </tr>\n",
       "    <tr>\n",
       "      <th>CHF</th>\n",
       "      <td>0.550511</td>\n",
       "      <td>0.751320</td>\n",
       "      <td>0.551390</td>\n",
       "      <td>0.192017</td>\n",
       "      <td>1.000000</td>\n",
       "    </tr>\n",
       "  </tbody>\n",
       "</table>\n",
       "</div>"
      ],
      "text/plain": [
       "          JPY       EUR       GBP       MXN       CHF\n",
       "JPY  1.000000  0.438596  0.371325  0.076859  0.550511\n",
       "EUR  0.438596  1.000000  0.688489  0.333294  0.751320\n",
       "GBP  0.371325  0.688489  1.000000  0.360091  0.551390\n",
       "MXN  0.076859  0.333294  0.360091  1.000000  0.192017\n",
       "CHF  0.550511  0.751320  0.551390  0.192017  1.000000"
      ]
     },
     "execution_count": 162,
     "metadata": {},
     "output_type": "execute_result"
    }
   ],
   "source": [
    "corr_matrix = excess_returns.corr()\n",
    "corr_matrix"
   ]
  },
  {
   "cell_type": "markdown",
   "id": "b6f08180-6ac3-4d42-bfa0-bb35cc71776e",
   "metadata": {},
   "source": [
    "### 3.\n",
    "\n",
    "As of `Dec 2017`, which of these currency trades has the most **carry**? \n",
    "\n",
    "Does this indicate high or low reeturns, assuming UIP?"
   ]
  },
  {
   "cell_type": "markdown",
   "id": "a942e7e7",
   "metadata": {},
   "source": [
    "The currency with the highest interest rate/most carry as of Dec 2017 is the one offering the highest yield relative to USD. In this case, it is MXN. \n",
    "\n",
    "However, according to UIP, this should not result in to higher or lower expected returns,  as the higher interest rate will be offset by depreciation of the currency."
   ]
  },
  {
   "cell_type": "markdown",
   "id": "899a222c-3a39-4fc8-826b-f732ebd0a9d6",
   "metadata": {},
   "source": [
    "### 4."
   ]
  },
  {
   "cell_type": "markdown",
   "id": "5985d281-f88f-487d-9f74-383b524ac00b",
   "metadata": {},
   "source": [
    "Calculate an **average currency factor** which is the equal-weighted average of the currency return series already calculated. Call this factor, $Z$.\n",
    "\n",
    "Estimate the Linear Factor Decomposition of each of the currency trades on this factor, $\\tilde{r}^z_t$. Report,\n",
    "* annualized alphas\n",
    "* betas\n",
    "* r-squared values"
   ]
  },
  {
   "cell_type": "code",
   "execution_count": 163,
   "id": "04a7c11b",
   "metadata": {},
   "outputs": [
    {
     "name": "stdout",
     "output_type": "stream",
     "text": [
      "     alpha_annualized      beta  r_squared\n",
      "JPY         -0.035534  0.832729   0.388598\n",
      "EUR         -0.008400  0.927150   0.695118\n",
      "GBP          0.005846  1.122534   0.639160\n",
      "MXN          0.015475  1.249784   0.401416\n",
      "CHF          0.022613  0.867802   0.593110\n"
     ]
    }
   ],
   "source": [
    "Z = excess_returns.mean(axis=1)\n",
    "Z.name = 'Z_factor'\n",
    "\n",
    "results_df = pd.DataFrame(columns=['alpha_annualized', 'beta', 'r_squared'])\n",
    "\n",
    "ann_factor = 252\n",
    "\n",
    "for currency in excess_returns.columns:\n",
    "    y = excess_returns[currency].dropna()\n",
    "    x = Z.loc[y.index]\n",
    "\n",
    "    X = sm.add_constant(x)\n",
    "    \n",
    "    model = sm.OLS(y, X).fit()\n",
    "\n",
    "    alpha = model.params['const']\n",
    "    beta = model.params['Z_factor']\n",
    "    r_squared = model.rsquared\n",
    "\n",
    "    alpha_annualized = alpha * ann_factor\n",
    "\n",
    "    results_df.loc[currency] = [alpha_annualized, beta, r_squared]\n",
    "\n",
    "print(results_df)\n"
   ]
  },
  {
   "cell_type": "markdown",
   "id": "05d0692c-7325-496f-8008-ae6578402156",
   "metadata": {},
   "source": [
    "### 5."
   ]
  },
  {
   "cell_type": "markdown",
   "id": "d7d716c3-eb48-4c87-8ab6-8e4ea8759a87",
   "metadata": {},
   "source": [
    "Do your estimates seem in line with a factor pricing model for these trades where $\\tilde{r}^z$ is the single factor? \n",
    "\n",
    "Explain your conclusion. Don't worry about small sample sizes."
   ]
  },
  {
   "cell_type": "markdown",
   "id": "37a6b476",
   "metadata": {},
   "source": [
    "They are partially in line. Some of the currencies have high R-Squared, indicating the factor explains a significant portion of their variation. However, they all seem to have non trivial alphas, which implies the factor does not capture all variation."
   ]
  },
  {
   "cell_type": "markdown",
   "id": "46c22dfe-d203-49b1-9776-eafc764d064d",
   "metadata": {},
   "source": [
    "### 6. \n",
    "\n",
    "From the performance metrics of these currency trades, \n",
    "* Do you expect diversification is particularly useful or not? Be specific.\n",
    "* Do you expect mean-variance optimization will do relatively well out of sample? Be specific."
   ]
  },
  {
   "cell_type": "markdown",
   "id": "7492e963",
   "metadata": {},
   "source": [
    "Yes, I expected diversification to be useful. Some of the currencies show only moderate correlation, which means diversification can reduce portfolio variance by dampening the impact of any one currency, lowering overall risk."
   ]
  },
  {
   "cell_type": "markdown",
   "id": "07ccc94b",
   "metadata": {},
   "source": [
    "No, because mean variance optimization relies on stable estimates of mean, variances, and covariances, which currencies do not necessarily have (given they have a low signal to noise ratio in their expected returns). Therefore,  a mean variance approach will not generate strong out of sample results."
   ]
  },
  {
   "cell_type": "markdown",
   "id": "c2137495-5add-4af7-b992-7377c6b7103b",
   "metadata": {},
   "source": [
    "### 7.\n",
    "\n",
    "Calculate the tangency weights for a portfolio of these currency trades. \n",
    "\n",
    "Report the performance metrics of `2.2` for this tangency portfolio."
   ]
  },
  {
   "cell_type": "code",
   "execution_count": 164,
   "id": "079ae7e5",
   "metadata": {},
   "outputs": [
    {
     "name": "stdout",
     "output_type": "stream",
     "text": [
      "Tangency Portfolio Weights:\n",
      "JPY    1.609465\n",
      "EUR    2.260564\n",
      "GBP   -0.251989\n",
      "MXN   -0.023246\n",
      "CHF   -2.594793\n",
      "Name: weights, dtype: float64\n",
      "\n",
      "Performance Metrics of Tangency Portfolio:\n",
      "Annualized Mean: -0.15768806198091198\n",
      "Annualized Volatility: 0.1516558772081667\n",
      "Skewness: 0.3868533343680462\n",
      "Excess Kurtosis: 3.1704229739988903\n",
      "Max Drawdown: -0.73972586912409\n"
     ]
    }
   ],
   "source": [
    "mu = excess_returns.mean()\n",
    "cov = excess_returns.cov()\n",
    "\n",
    "\n",
    "ones = np.ones(len(mu))\n",
    "inv_cov = np.linalg.inv(cov.values)\n",
    "w_tang = inv_cov.dot(mu.values)\n",
    "w_tang = w_tang / (ones @ w_tang)\n",
    "\n",
    "tangency_weights = pd.Series(w_tang, index=mu.index, name='weights')\n",
    "print(\"Tangency Portfolio Weights:\")\n",
    "print(tangency_weights)\n",
    "\n",
    "portfolio_returns = excess_returns.dot(tangency_weights)\n",
    "\n",
    "ann_factor = 252\n",
    "\n",
    "annualized_mean = portfolio_returns.mean() * ann_factor\n",
    "annualized_vol = portfolio_returns.std() * np.sqrt(ann_factor)\n",
    "skewness = portfolio_returns.skew()\n",
    "excess_kurtosis = portfolio_returns.kurt()\n",
    "\n",
    "cum_returns = (1 + portfolio_returns).cumprod()\n",
    "rolling_max = cum_returns.cummax()\n",
    "drawdowns = (cum_returns / rolling_max) - 1\n",
    "max_drawdown = drawdowns.min()\n",
    "\n",
    "print(\"\\nPerformance Metrics of Tangency Portfolio:\")\n",
    "print(\"Annualized Mean:\", annualized_mean)\n",
    "print(\"Annualized Volatility:\", annualized_vol)\n",
    "print(\"Skewness:\", skewness)\n",
    "print(\"Excess Kurtosis:\", excess_kurtosis)\n",
    "print(\"Max Drawdown:\", max_drawdown)"
   ]
  },
  {
   "cell_type": "markdown",
   "id": "293e65e5-2b25-4f83-9575-79e3f1b808c6",
   "metadata": {},
   "source": [
    "### 8.\n",
    "\n",
    "Suppose you are a USD-based investor, but you want to short `1 JPY`, and use it to go long the equivalent amount of USD.\n",
    "\n",
    "Calculate the excess return to this short-yen (SY) trade, denoted $\\tilde{r}_{t+1}^{SY}$.\n",
    "\n",
    "We're still examining `January 2018` through `August 2024`.\n",
    "\n",
    "Report the first and last three values of the timeseries of excess returns."
   ]
  },
  {
   "cell_type": "code",
   "execution_count": 165,
   "id": "34371958",
   "metadata": {},
   "outputs": [
    {
     "name": "stdout",
     "output_type": "stream",
     "text": [
      "Short-Yen (SY) excess return - First 3 values:\n",
      "date\n",
      "2018-01-02   -0.003323\n",
      "2018-01-03    0.002078\n",
      "2018-01-04    0.002194\n",
      "Name: JPY, dtype: float64\n",
      "\n",
      "Short-Yen (SY) excess return - Last 3 values:\n",
      "date\n",
      "2024-08-28    0.004531\n",
      "2024-08-29    0.002959\n",
      "2024-08-30    0.008332\n",
      "Name: JPY, dtype: float64\n"
     ]
    }
   ],
   "source": [
    "start_date = \"2018-01-01\"\n",
    "end_date = \"2024-08-31\"\n",
    "excess_returns_period = excess_returns.loc[start_date:end_date]\n",
    "\n",
    "excess_returns_SY = -excess_returns_period['JPY']\n",
    "\n",
    "print(\"Short-Yen (SY) excess return - First 3 values:\")\n",
    "print(excess_returns_SY.head(3))\n",
    "\n",
    "print(\"\\nShort-Yen (SY) excess return - Last 3 values:\")\n",
    "print(excess_returns_SY.tail(3))\n"
   ]
  },
  {
   "cell_type": "markdown",
   "id": "60cb4edc-bbe0-4a81-b87f-61dfa53f2f20",
   "metadata": {},
   "source": [
    "### 9.\n",
    "\n",
    "Report the performance statistics requested in `2.2` for this short-yen trade. \n",
    "\n",
    "Also, what date is the min and max return for this trade?"
   ]
  },
  {
   "cell_type": "code",
   "execution_count": 166,
   "id": "b514d11b",
   "metadata": {},
   "outputs": [
    {
     "name": "stdout",
     "output_type": "stream",
     "text": [
      "Short-Yen Trade Performance Metrics:\n",
      "Annualized Mean: 0.055578351897597585\n",
      "Annualized Volatility: 0.08473940265193718\n",
      "Skewness: -0.5213164499502326\n",
      "Excess Kurtosis: 6.535269863628258\n",
      "Max Drawdown: -0.14690855010829706\n",
      "\n",
      "Date of Minimum One-Day Return: 2022-12-20 00:00:00\n",
      "Date of Maximum One-Day Return: 2020-03-10 00:00:00\n"
     ]
    }
   ],
   "source": [
    "ann_factor = 252\n",
    "\n",
    "annualized_mean = excess_returns_SY.mean() * ann_factor\n",
    "annualized_vol = excess_returns_SY.std() * np.sqrt(ann_factor)\n",
    "skewness = excess_returns_SY.skew()\n",
    "excess_kurtosis = excess_returns_SY.kurt() \n",
    "\n",
    "cum_returns = (1 + excess_returns_SY).cumprod()\n",
    "rolling_max = cum_returns.cummax()\n",
    "drawdowns = (cum_returns / rolling_max) - 1\n",
    "max_drawdown = drawdowns.min()\n",
    "\n",
    "min_return_date = excess_returns_SY.idxmin()\n",
    "max_return_date = excess_returns_SY.idxmax()\n",
    "\n",
    "print(\"Short-Yen Trade Performance Metrics:\")\n",
    "print(\"Annualized Mean:\", annualized_mean)\n",
    "print(\"Annualized Volatility:\", annualized_vol)\n",
    "print(\"Skewness:\", skewness)\n",
    "print(\"Excess Kurtosis:\", excess_kurtosis)\n",
    "print(\"Max Drawdown:\", max_drawdown)\n",
    "print(\"\\nDate of Minimum One-Day Return:\", min_return_date)\n",
    "print(\"Date of Maximum One-Day Return:\", max_return_date)"
   ]
  },
  {
   "cell_type": "markdown",
   "id": "d6cf51ec",
   "metadata": {
    "vscode": {
     "languageId": "plaintext"
    }
   },
   "source": [
    "***"
   ]
  }
 ],
 "metadata": {
  "hide_input": false,
  "kernelspec": {
   "display_name": "base",
   "language": "python",
   "name": "python3"
  },
  "language_info": {
   "codemirror_mode": {
    "name": "ipython",
    "version": 3
   },
   "file_extension": ".py",
   "mimetype": "text/x-python",
   "name": "python",
   "nbconvert_exporter": "python",
   "pygments_lexer": "ipython3",
   "version": "3.12.4"
  }
 },
 "nbformat": 4,
 "nbformat_minor": 5
}
