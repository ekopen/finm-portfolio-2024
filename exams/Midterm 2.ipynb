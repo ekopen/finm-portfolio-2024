{
 "cells": [
  {
   "cell_type": "markdown",
   "id": "559895d2",
   "metadata": {},
   "source": [
    "# Midterm 2\n",
    "\n",
    "## FINM 36700 - 2024\n",
    "\n",
    "### UChicago Financial Mathematics\n",
    "\n",
    "* Mark Hendricks\n",
    "* hendricks@uchicago.edu"
   ]
  },
  {
   "cell_type": "markdown",
   "id": "01cde8d3",
   "metadata": {},
   "source": [
    "# Instructions"
   ]
  },
  {
   "cell_type": "markdown",
   "id": "cc273c1a",
   "metadata": {},
   "source": [
    "## Please note the following:\n",
    "\n",
    "Points\n",
    "* The exam is 100 points.\n",
    "* You have 120 minutes to complete the exam.\n",
    "* For every minute late you submit the exam, you will lose one point.\n",
    "\n",
    "\n",
    "Submission\n",
    "* You will upload your solution to the `Midterm 2` assignment on Canvas, where you downloaded this. \n",
    "* Be sure to **submit** on Canvas, not just **save** on Canvas.\n",
    "* Your submission should be readable, (the graders can understand your answers.)\n",
    "* Your submission should **include all code used in your analysis in a file format that the code can be executed.** \n",
    "\n",
    "Rules\n",
    "* The exam is open-material, closed-communication.\n",
    "* You do not need to cite material from the course github repo - you are welcome to use the code posted there without citation.\n",
    "\n",
    "Advice\n",
    "* If you find any question to be unclear, state your interpretation and proceed. We will only answer questions of interpretation if there is a typo, error, etc.\n",
    "* The exam will be graded for partial credit."
   ]
  },
  {
   "cell_type": "markdown",
   "id": "624f27b1",
   "metadata": {},
   "source": [
    "## Data\n",
    "\n",
    "**All data files are found in the class github repo, in the `data` folder.**\n",
    "\n",
    "This exam makes use of the following data files:\n",
    "* `midterm_2_data.xlsx`\n",
    "\n",
    "This file contains the following sheets:\n",
    "- for Section 2:\n",
    "    * `sector stocks excess returns` - MONTHLY excess returns for 49 sector stocks\n",
    "    * `factors excess returns` - MONTHLY excess returns of AQR factor model from Homework 5\n",
    "- for Section 3:\n",
    "    * `factors excess returns` - MONTHLY excess returns of AQR factor model from Homework 5"
   ]
  },
  {
   "cell_type": "markdown",
   "id": "ebf6e066",
   "metadata": {},
   "source": [
    "## Scoring\n",
    "\n",
    "| Problem | Points |\n",
    "|---------|--------|\n",
    "| 1       | 25     |\n",
    "| 2       | 40     |\n",
    "| 3       | 35     |"
   ]
  },
  {
   "cell_type": "markdown",
   "id": "7fb2fc26",
   "metadata": {},
   "source": [
    "### Each numbered question is worth 5 points unless otherwise specified."
   ]
  },
  {
   "cell_type": "markdown",
   "id": "81156e8f",
   "metadata": {},
   "source": [
    "# 1. Short Answer"
   ]
  },
  {
   "cell_type": "markdown",
   "id": "b2cf4bc8",
   "metadata": {},
   "source": [
    "#### No Data Needed\n",
    "\n",
    "These problems do not require any data file. Rather, analyze them conceptually. "
   ]
  },
  {
   "cell_type": "markdown",
   "id": "4ed2ec27",
   "metadata": {},
   "source": [
    "### 1.1.\n",
    "\n",
    "Historically, which pricing factor among the ones we studied has shown a considerable decrease in importance?"
   ]
  },
  {
   "cell_type": "markdown",
   "id": "c0286c32",
   "metadata": {},
   "source": [
    "The SMB factor has shown a decrease in performance, because as markets have became more efficient, the size premium has diminished."
   ]
  },
  {
   "cell_type": "markdown",
   "id": "c65c8109",
   "metadata": {
    "vscode": {
     "languageId": "plaintext"
    }
   },
   "source": [
    "### 1.2.\n",
    "\n",
    "True or False: For a given factor model and a set of test assets, the addition of one more factor to that model will surely decrease the cross-sectional MAE. \n",
    "\n",
    "True or False: For a given factor model and a set of test assets, the addition of one more factor to that model will surely decrease the time-series MAE. \n",
    "\n",
    "Along with stating T/F, explain your reasoning for the two statements."
   ]
  },
  {
   "cell_type": "markdown",
   "id": "66f282b5",
   "metadata": {},
   "source": [
    "False. Adding an additional factor can introduce noise, and is not guarenteed to decrease CS MAE\n",
    "\n",
    "False. A new factor could be irrelevant or introduce multicollinearity, which would not decrease TS MAE\n"
   ]
  },
  {
   "cell_type": "markdown",
   "id": "24c00026",
   "metadata": {},
   "source": [
    "### 1.3.\n",
    "\n",
    "Consider the scenario in which you are helping two people with investments.\n",
    "\n",
    "* The young person has a 50 year investment horizon.\n",
    "* The elderly person has a 10 year investment horizon.\n",
    "* Both individuals have the same portfolio holdings.\n",
    "\n",
    "State who has the more certain cumulative return and explain your reasoning."
   ]
  },
  {
   "cell_type": "markdown",
   "id": "d3fc7662",
   "metadata": {},
   "source": [
    "The young person. With a longer investment horizon, the young person's portfolio will eventually yield benefits from averaging out market volatility, see the effects of continious compounding, and will have a greater capacity to withstand short term downturns."
   ]
  },
  {
   "cell_type": "markdown",
   "id": "460d4d72",
   "metadata": {},
   "source": [
    "### 1.4.\n",
    "\n",
    "Suppose we find that the 10-year bond yield works well as a new pricing factor, along with `MKT`.\n",
    "\n",
    "Consider two ways of building this new factor.\n",
    "1. Directly use the index of 10-year yields, `YLD`\n",
    "1. Construct a Fama-French style portfolio of equities, `FFYLD`. (Rank all the stocks by their correlation to bond yield changes, and go long the highest ranked and shor tthe lowest ranked.)\n",
    "\n",
    "Could you test the model with `YLD` and the model with `FFYLD` in the exact same ways? Explain."
   ]
  },
  {
   "cell_type": "markdown",
   "id": "f6edeaf3",
   "metadata": {},
   "source": [
    "No, we would not test these the same way. YLD is a direct measure of bond yields and should be tested as an individual variable in regressions, while FFYLD is a portfolio based factor and needs to be included/tested similar to how we test other factors in the Fama French model."
   ]
  },
  {
   "cell_type": "markdown",
   "id": "edf2d238",
   "metadata": {},
   "source": [
    "### 1.5.\n",
    "\n",
    "Suppose we implement a momentum strategy on cryptocurrencies rather than US stocks.\n",
    "\n",
    "Conceptually speaking, but specific to the context of our course discussion, how would the risk profile differ from the momentum strategy of US equities?"
   ]
  },
  {
   "cell_type": "markdown",
   "id": "93260254",
   "metadata": {},
   "source": [
    "Cryptocurrencies incur much higher volatility, price swings, and less established momentum premiums. This would lead to a far less stable momentum factor."
   ]
  },
  {
   "cell_type": "markdown",
   "id": "632ce7d4",
   "metadata": {},
   "source": [
    "***"
   ]
  },
  {
   "cell_type": "markdown",
   "id": "f7a8a354",
   "metadata": {
    "vscode": {
     "languageId": "plaintext"
    }
   },
   "source": [
    "# 2. Pricing and Tangency Portfolio\n",
    "\n",
    "You work in a hedge fund that believes that the AQR 4-Factor Model (present in Homework 5) is the perfect pricing model for stocks.\n",
    "\n",
    "$$\n",
    "\\mathbb{E} \\left[ \\tilde{r}^i \\right] = \\beta^{i,\\text{MKT}} \\mathbb{E} \\left[ \\tilde{f}_{\\text{MKT}} \\right] + \\beta^{i,\\text{HML}} \\mathbb{E} \\left[ \\tilde{f}_{\\text{HML}} \\right] + \\beta^{i,\\text{RMW}} \\mathbb{E} \\left[ \\tilde{f}_{\\text{RMW}} \\right] + \\beta^{i,\\text{UMD}} \\mathbb{E} \\left[ \\tilde{f}_{\\text{UMD}} \\right]\n",
    "$$\n",
    "\n",
    "The factors are available in the sheet `factors excess returns`.\n",
    "\n",
    "The hedge fund invests in sector-tracking ETFs available in the sheet `sectors excess returns`. You are to allocate into these sectors according to a mean-variance optimization with...\n",
    "\n",
    "* regularization: elements outside the diagonal covariance matrix divided by 2.\n",
    "* modeled risk premia: expected excess returns given by the factor model rather than just using the historic sample averages.\n",
    "\n",
    "You are to train the portfolio and test out-of-sample. The timeframes should be:\n",
    "* Training timeframe: Jan-2018 to Dec-2022.\n",
    "* Testing timeframe: Jan-2023 to most recent observation."
   ]
  },
  {
   "cell_type": "markdown",
   "id": "db465bc9",
   "metadata": {
    "vscode": {
     "languageId": "plaintext"
    }
   },
   "source": [
    "### 2.1.\n",
    "(8pts)\n",
    "\n",
    "Calculate the model-implied expected excess returns of every asset.\n",
    "\n",
    "The time-series estimations should...\n",
    "* NOT include an intercept. (You assume the model holds perfectly.)\n",
    "* use data from the `training` timeframe.\n",
    "\n",
    "With the time-series estimates, use the `training` timeframe's sample average of the factors as the factor premia. Together, this will give you the model-implied risk premia, which we label as\n",
    "$$\n",
    "\\lambda_i := \\mathbb{E}[\\tilde{r}_i]\n",
    "$$\n",
    "\n",
    "* Store $\\lambda_i$ and $\\boldsymbol{\\beta}^i$ for each asset.\n",
    "* Print $\\lambda_i$ for `Agric`, `Food`, `Soda`"
   ]
  },
  {
   "cell_type": "code",
   "execution_count": null,
   "id": "6a80c08b",
   "metadata": {},
   "outputs": [
    {
     "name": "stdout",
     "output_type": "stream",
     "text": [
      "Agric   0.0037\n",
      "Food    0.0055\n",
      "Soda    0.0073\n",
      "dtype: float64\n"
     ]
    }
   ],
   "source": [
    "import pandas as pd\n",
    "import numpy as np\n",
    "from sklearn.linear_model import LinearRegression\n",
    "\n",
    "factors_rts = pd.read_excel(\"midterm_2_data.xlsx\", sheet_name='factors excess returns').set_index('date')\n",
    "sector_rts = pd.read_excel(\"midterm_2_data.xlsx\", sheet_name='sector excess returns').set_index('date')\n",
    "\n",
    "factors_rts.index = pd.to_datetime(factors_rts.index)\n",
    "sector_rts.index = pd.to_datetime(sector_rts.index)\n",
    "\n",
    "start_train = '2018-01-01'\n",
    "end_train = '2022-12-31'\n",
    "factors_train = factors_rts.loc[start_train:end_train]\n",
    "sector_train = sector_rts.loc[start_train:end_train]\n",
    "\n",
    "factor_names = ['MKT', 'HML', 'RMW', 'UMD']\n",
    "factor_premia = factors_train.mean()\n",
    "\n",
    "beta_df = pd.DataFrame(index=sector_train.columns, columns=factor_names)\n",
    "lambda_i = pd.Series(index=sector_train.columns, dtype=np.float64)\n",
    "\n",
    "for asset in sector_train.columns:\n",
    "    y = sector_train[asset].values\n",
    "    X = factors_train[factor_names].values\n",
    "    model = LinearRegression(fit_intercept=False)\n",
    "    model.fit(X, y)\n",
    "    beta_i = model.coef_\n",
    "    beta_df.loc[asset] = beta_i\n",
    "    lambda_i[asset] = np.dot(beta_i, factor_premia.values)\n",
    "\n",
    "print(lambda_i[:3])"
   ]
  },
  {
   "cell_type": "markdown",
   "id": "6b80c6b5",
   "metadata": {
    "vscode": {
     "languageId": "plaintext"
    }
   },
   "source": [
    "### 2.2.\n",
    "\n",
    "Use the expected excess returns derived from (2.1) with the **regularized** covariance matrix to calculate the weights of the tangency portfolio.\n",
    "\n",
    "- Use the covariance matrix only for `training` timeframe.\n",
    "- Calculate and store the vector of weights for all the assets.\n",
    "- Return the weights of the tangency portfolio for `Agric`, `Food`, `Soda`.\n",
    "\n",
    "$$\n",
    "\\textbf{w}_{t} = \\dfrac{\\tilde{\\Sigma}^{-1} \\bm{\\lambda}}{\\bm{1}' \\tilde{\\Sigma}^{-1} \\bm{\\lambda}}\n",
    "$$\n",
    "\n",
    "Where $\\tilde{\\Sigma}^{-1}$ is the regularized covariance-matrix."
   ]
  },
  {
   "cell_type": "code",
   "execution_count": 29,
   "id": "09887cf5",
   "metadata": {},
   "outputs": [
    {
     "name": "stdout",
     "output_type": "stream",
     "text": [
      "Agric   -0.0307\n",
      "Food     0.0153\n",
      "Soda     0.1329\n",
      "dtype: float64\n"
     ]
    }
   ],
   "source": [
    "cov_matrix = sector_train.cov()\n",
    "\n",
    "cov_matrix_regularized = cov_matrix.copy()\n",
    "for i in cov_matrix_regularized.columns:\n",
    "    for j in cov_matrix_regularized.index:\n",
    "        if i != j:\n",
    "            cov_matrix_regularized.loc[i, j] /= 2\n",
    "\n",
    "inv_cov_matrix = np.linalg.inv(cov_matrix_regularized)\n",
    "\n",
    "one_vector = np.ones(len(lambda_i))\n",
    "numerator = inv_cov_matrix.dot(lambda_i.values)\n",
    "denominator = one_vector.T.dot(numerator)\n",
    "weights_tangency = numerator / denominator\n",
    "\n",
    "weights_df = pd.Series(weights_tangency, index=sector_train.columns)\n",
    "\n",
    "print(weights_df[:3])"
   ]
  },
  {
   "cell_type": "markdown",
   "id": "6a5c171c",
   "metadata": {
    "vscode": {
     "languageId": "plaintext"
    }
   },
   "source": [
    "### 2.3.\n",
    "\n",
    "Evaluate the performance of this allocation in the `testing` period. Report the **annualized**\n",
    "- mean\n",
    "- vol\n",
    "- Sharpe"
   ]
  },
  {
   "cell_type": "code",
   "execution_count": 33,
   "id": "f64841a9",
   "metadata": {},
   "outputs": [
    {
     "name": "stdout",
     "output_type": "stream",
     "text": [
      "Annualized Mean Return: 0.1812\n",
      "Annualized Volatility: 0.1195\n",
      "Annualized Sharpe Ratio: 1.5155\n"
     ]
    }
   ],
   "source": [
    "start_test = '2023-01-01'\n",
    "sector_test = sector_rts.loc[start_test:]\n",
    "\n",
    "sector_test = sector_test[weights_df.index]\n",
    "portfolio_returns_test = sector_test.dot(weights_df)\n",
    "mean_return = portfolio_returns_test.mean()\n",
    "vol_return = portfolio_returns_test.std()\n",
    "\n",
    "mean_return_annualized = mean_return * 12\n",
    "vol_return_annualized = vol_return * np.sqrt(12)\n",
    "\n",
    "sharpe_ratio = mean_return_annualized / vol_return_annualized\n",
    "\n",
    "print(f\"Annualized Mean Return: {mean_return_annualized:.4f}\")\n",
    "print(f\"Annualized Volatility: {vol_return_annualized:.4f}\")\n",
    "print(f\"Annualized Sharpe Ratio: {sharpe_ratio:.4f}\")\n"
   ]
  },
  {
   "cell_type": "markdown",
   "id": "69a6f8bc",
   "metadata": {
    "vscode": {
     "languageId": "plaintext"
    }
   },
   "source": [
    "### 2.4.\n",
    "\n",
    "(7pts)\n",
    "\n",
    "Construct the same tangency portfolio as in `2.2` but with one change:\n",
    "* replace the risk premia of the assets, (denoted $\\lambda_i$) with the sample averages of the excess returns from the `training` set.\n",
    "\n",
    "So instead of using $\\lambda_i$ suggested by the factor model (as in `2.1-2.3`) you're using sample averages for $\\lambda_i$.\n",
    "\n",
    "- Return the weights of the tangency portfolio for `Agric`, `Food`, `Soda`.\n",
    "\n",
    "Evaluate the performance of this allocation in the `testing` period. Report the **annualized**\n",
    "- mean\n",
    "- vol\n",
    "- Sharpe"
   ]
  },
  {
   "cell_type": "code",
   "execution_count": 35,
   "id": "57c02450",
   "metadata": {},
   "outputs": [
    {
     "name": "stdout",
     "output_type": "stream",
     "text": [
      "Tangency Portfolio Weights (Using Sample Averages) for Agric, Food, Soda:\n",
      "Agric    0.1441\n",
      "Food    -0.0698\n",
      "Soda     0.3227\n",
      "dtype: float64\n",
      "Tangency Portfolio Performance (Using Sample Averages) in Testing Period:\n",
      "Annualized Mean Return: 0.1768\n",
      "Annualized Volatility: 0.1530\n",
      "Annualized Sharpe Ratio: 1.1555\n"
     ]
    }
   ],
   "source": [
    "lambda_i_sample = sector_train.mean()\n",
    "numerator_sample = inv_cov_matrix.dot(lambda_i_sample.values)\n",
    "denominator_sample = one_vector.T.dot(numerator_sample)\n",
    "weights_tangency_sample = numerator_sample / denominator_sample\n",
    "weights_df_sample = pd.Series(weights_tangency_sample, index=sector_train.columns)\n",
    "\n",
    "print(\"Tangency Portfolio Weights (Using Sample Averages) for Agric, Food, Soda:\")\n",
    "print(weights_df_sample[:3])\n",
    "\n",
    "sector_test = sector_test[weights_df_sample.index]\n",
    "\n",
    "portfolio_returns_test_sample = sector_test.dot(weights_df_sample)\n",
    "mean_return_sample = portfolio_returns_test_sample.mean()\n",
    "vol_return_sample = portfolio_returns_test_sample.std()\n",
    "\n",
    "mean_return_annualized_sample = mean_return_sample * 12\n",
    "vol_return_annualized_sample = vol_return_sample * np.sqrt(12)\n",
    "sharpe_ratio_sample = mean_return_annualized_sample / vol_return_annualized_sample\n",
    "\n",
    "print(\"Tangency Portfolio Performance (Using Sample Averages) in Testing Period:\")\n",
    "print(f\"Annualized Mean Return: {mean_return_annualized_sample:.4f}\")\n",
    "print(f\"Annualized Volatility: {vol_return_annualized_sample:.4f}\")\n",
    "print(f\"Annualized Sharpe Ratio: {sharpe_ratio_sample:.4f}\")\n"
   ]
  },
  {
   "cell_type": "markdown",
   "id": "8c172cbe",
   "metadata": {
    "vscode": {
     "languageId": "plaintext"
    }
   },
   "source": [
    "### 2.5.\n",
    "\n",
    "Which allocation performed better in the `testing` period: the allocation based on premia from the factor model or from the sample averages?\n",
    "\n",
    "Why might this be?"
   ]
  },
  {
   "cell_type": "markdown",
   "id": "ad107030",
   "metadata": {},
   "source": [
    "The allocation based on premia from the factor model performs better, as it has a Sharpe Ratio of 1.5155 vs 1.1555. This may be because factor models are less prone to overfitting and account for systematic risk."
   ]
  },
  {
   "cell_type": "markdown",
   "id": "1af10554",
   "metadata": {},
   "source": [
    "### 2.6.\n",
    "Suppose you now want to build a tangency portfolio solely from the factors, without using the sector ETFs.\n",
    "\n",
    "- Calculate the weights of the tangency portfolio using `training` data for the factors.\n",
    "- Again, regularize the covariance matrix of factor returns by dividing off-diagonal elements by 2.\n",
    "\n",
    "Report, in the `testing` period, the factor-based tangency stats **annualized**...\n",
    "- mean\n",
    "- vol\n",
    "- Sharpe\n"
   ]
  },
  {
   "cell_type": "code",
   "execution_count": 37,
   "id": "605f9414",
   "metadata": {},
   "outputs": [
    {
     "name": "stdout",
     "output_type": "stream",
     "text": [
      "Factor-Based Tangency Portfolio Performance in Testing Period:\n",
      "Annualized Mean Return: 0.0624\n",
      "Annualized Volatility: 0.0582\n",
      "Annualized Sharpe Ratio: 1.0719\n"
     ]
    }
   ],
   "source": [
    "cov_factors = factors_train[factor_names].cov()\n",
    "cov_factors_regularized = cov_factors.copy()\n",
    "for i in cov_factors_regularized.columns:\n",
    "    for j in cov_factors_regularized.index:\n",
    "        if i != j:\n",
    "            cov_factors_regularized.loc[i, j] /= 2\n",
    "inv_cov_factors = np.linalg.inv(cov_factors_regularized)\n",
    "\n",
    "numerator_factors = inv_cov_factors.dot(factor_premia.values)\n",
    "denominator_factors = np.ones(len(factor_premia)).T.dot(numerator_factors)\n",
    "weights_tangency_factors = numerator_factors / denominator_factors\n",
    "\n",
    "weights_factors_df = pd.Series(weights_tangency_factors, index=factor_names)\n",
    "factors_test = factors_rts.loc[start_test:]\n",
    "factor_returns_test = factors_test[factor_names]\n",
    "portfolio_returns_test_factors = factor_returns_test.dot(weights_factors_df)\n",
    "mean_return_factors = portfolio_returns_test_factors.mean()\n",
    "vol_return_factors = portfolio_returns_test_factors.std()\n",
    "\n",
    "mean_return_annualized_factors = mean_return_factors * 12\n",
    "vol_return_annualized_factors = vol_return_factors * np.sqrt(12)\n",
    "sharpe_ratio_factors = mean_return_annualized_factors / vol_return_annualized_factors\n",
    "\n",
    "print(\"Factor-Based Tangency Portfolio Performance in Testing Period:\")\n",
    "print(f\"Annualized Mean Return: {mean_return_annualized_factors:.4f}\")\n",
    "print(f\"Annualized Volatility: {vol_return_annualized_factors:.4f}\")\n",
    "print(f\"Annualized Sharpe Ratio: {sharpe_ratio_factors:.4f}\")\n"
   ]
  },
  {
   "cell_type": "markdown",
   "id": "f7d96085",
   "metadata": {},
   "source": [
    "### 2.7.\n",
    "\n",
    "Based on the hedge fund's beliefs, would you prefer to use the ETF-based tangency or the factor-based tangency portfolio? Explain your reasoning. Note that you should answer based on broad principles and not on the particular estimation results."
   ]
  },
  {
   "cell_type": "markdown",
   "id": "89bf4d3f",
   "metadata": {},
   "source": [
    "I would prefer to use the factor based tangency portfolio. Investing in the factors closely aligns with the hedge fund's philosiphy, offers exposure to systematic risk premia without sector specific risks, and offers better risk adjuted returns by focusing on sources of expected return the model identifies."
   ]
  },
  {
   "cell_type": "markdown",
   "id": "1ad3346a",
   "metadata": {},
   "source": [
    "***"
   ]
  },
  {
   "cell_type": "markdown",
   "id": "8df41e0e",
   "metadata": {},
   "source": [
    "# 3. Long-Run Returns\n",
    "\n",
    "For this question, use only the sheet `factors excess returns`.\n",
    "\n",
    "Suppose we want to measure the long run returns of various pricing factors."
   ]
  },
  {
   "cell_type": "markdown",
   "id": "e7254eb5",
   "metadata": {},
   "source": [
    "### 3.1.\n",
    "\n",
    "Turn the data into log returns.\n",
    "- Display the first 5 rows of the data.\n",
    "\n",
    "Using these log returns, report the **annualized**\n",
    "* mean\n",
    "* vol\n",
    "* Sharpe\n",
    "\n",
    "### 3.2.\n",
    "\n",
    "Consider 15-year cumulative log excess returns. Following the assumptions and modeling of Lecture 6, report the following 15-year stats:\n",
    "- mean\n",
    "- vol\n",
    "- Sharpe\n",
    "\n",
    "How do they compare to the estimated stats (1-year horizon) in `3.1`? "
   ]
  },
  {
   "cell_type": "code",
   "execution_count": 39,
   "id": "5fa73e3b",
   "metadata": {},
   "outputs": [
    {
     "name": "stdout",
     "output_type": "stream",
     "text": [
      "               MKT     HML     RMW     UMD\n",
      "date                                      \n",
      "1980-01-01  0.0536  0.0173 -0.0171  0.0728\n",
      "1980-02-01 -0.0123  0.0061  0.0004  0.0758\n",
      "1980-03-01 -0.1381 -0.0102  0.0145 -0.1004\n",
      "1980-04-01  0.0389  0.0105 -0.0212 -0.0043\n",
      "1980-05-01  0.0513  0.0038  0.0034 -0.0113\n",
      "      Mean  Volatility  Sharpe\n",
      "MKT 0.0735      0.1588  0.4630\n",
      "HML 0.0198      0.1098  0.1801\n",
      "RMW 0.0435      0.0836  0.5210\n",
      "UMD 0.0501      0.1604  0.3122\n"
     ]
    }
   ],
   "source": [
    "log_factor_returns = np.log(1 + factors_rts)\n",
    "print(log_factor_returns.head())\n",
    "\n",
    "mean_log_returns = log_factor_returns.mean()\n",
    "vol_log_returns = log_factor_returns.std()\n",
    "\n",
    "mean_log_returns_annualized = mean_log_returns * 12\n",
    "vol_log_returns_annualized = vol_log_returns * np.sqrt(12)\n",
    "\n",
    "sharpe_ratio_log = mean_log_returns_annualized / vol_log_returns_annualized\n",
    "\n",
    "performance_df = pd.DataFrame({\n",
    "    'Mean': mean_log_returns_annualized,\n",
    "    'Volatility': vol_log_returns_annualized,\n",
    "    'Sharpe': sharpe_ratio_log\n",
    "})\n",
    "print(performance_df)\n"
   ]
  },
  {
   "cell_type": "code",
   "execution_count": 40,
   "id": "f71844e1",
   "metadata": {},
   "outputs": [
    {
     "name": "stdout",
     "output_type": "stream",
     "text": [
      "     Mean (15y)  Volatility (15y)  Sharpe (15y)\n",
      "MKT      1.1032            0.6152        1.7933\n",
      "HML      0.2965            0.4252        0.6975\n",
      "RMW      0.6531            0.3237        2.0177\n",
      "UMD      0.7514            0.6214        1.2093\n"
     ]
    }
   ],
   "source": [
    "T = 15\n",
    "\n",
    "mean_cum_return_15y = mean_log_returns_annualized * T\n",
    "vol_cum_return_15y = vol_log_returns_annualized * np.sqrt(T)\n",
    "sharpe_ratio_15y = mean_cum_return_15y / vol_cum_return_15y\n",
    "\n",
    "performance_15y_df = pd.DataFrame({\n",
    "    'Mean (15y)': mean_cum_return_15y,\n",
    "    'Volatility (15y)': vol_cum_return_15y,\n",
    "    'Sharpe (15y)': sharpe_ratio_15y\n",
    "})\n",
    "print(performance_15y_df)\n"
   ]
  },
  {
   "cell_type": "markdown",
   "id": "e7eacfbc",
   "metadata": {},
   "source": [
    "Over a longer time period, we get the benefits of time diversification, and our Sharpe ratios improve across the board."
   ]
  },
  {
   "cell_type": "markdown",
   "id": "bb0721e5",
   "metadata": {},
   "source": [
    "### 3.3.\n",
    "\n",
    "What is the probability that momentum factor has a negative mean excess return over the next \n",
    "* single period?\n",
    "* 15 years?"
   ]
  },
  {
   "cell_type": "code",
   "execution_count": 41,
   "id": "3a3e6786",
   "metadata": {},
   "outputs": [
    {
     "name": "stdout",
     "output_type": "stream",
     "text": [
      "Probability that UMD has negative mean excess return over next year: 0.3774\n",
      "Probability that UMD has negative mean excess return over next 15 years: 0.1133\n"
     ]
    }
   ],
   "source": [
    "from scipy.stats import norm\n",
    "\n",
    "mean_umd = mean_log_returns_annualized['UMD']\n",
    "vol_umd = vol_log_returns_annualized['UMD']\n",
    "\n",
    "z_single = (-mean_umd) / vol_umd\n",
    "prob_negative_single = norm.cdf(z_single)\n",
    "\n",
    "mean_cum_umd_15y = mean_umd * T\n",
    "vol_cum_umd_15y = vol_umd * np.sqrt(T)\n",
    "z_15y = (-mean_cum_umd_15y) / vol_cum_umd_15y\n",
    "prob_negative_15y = norm.cdf(z_15y)\n",
    "\n",
    "print(f\"Probability that UMD has negative mean excess return over next year: {prob_negative_single:.4f}\")\n",
    "print(f\"Probability that UMD has negative mean excess return over next 15 years: {prob_negative_15y:.4f}\")"
   ]
  },
  {
   "cell_type": "markdown",
   "id": "d09963cc",
   "metadata": {},
   "source": [
    "### 3.4.\n",
    "\n",
    "Recall from the case that momentum has been underperforming since 2009. \n",
    "\n",
    "Using data from 2009 to present, what is the probability that momentum *outperforms* the market factor over the next\n",
    "* period?\n",
    "* 15 years?"
   ]
  },
  {
   "cell_type": "code",
   "execution_count": 42,
   "id": "26f7764f",
   "metadata": {},
   "outputs": [
    {
     "name": "stdout",
     "output_type": "stream",
     "text": [
      "Probability that UMD outperforms MKT over next year: 0.2780\n",
      "Probability that UMD outperforms MKT over next 15 years: 0.0113\n"
     ]
    }
   ],
   "source": [
    "start_2009 = '2009-01-01'\n",
    "\n",
    "factors_2009_present = factors_rts.loc[start_2009:][factor_names]\n",
    "log_factors_2009_present = np.log(1 + factors_2009_present / 100)\n",
    "log_excess_umd_mkt = log_factors_2009_present['UMD'] - log_factors_2009_present['MKT']\n",
    "\n",
    "mean_excess_umd_mkt = log_excess_umd_mkt.mean()\n",
    "vol_excess_umd_mkt = log_excess_umd_mkt.std()\n",
    "\n",
    "mean_excess_umd_mkt_annual = mean_excess_umd_mkt * 12\n",
    "vol_excess_umd_mkt_annual = vol_excess_umd_mkt * np.sqrt(12)\n",
    "\n",
    "z_single_excess = (-mean_excess_umd_mkt_annual) / vol_excess_umd_mkt_annual\n",
    "prob_underperform_single = norm.cdf(z_single_excess)\n",
    "prob_outperform_single = 1 - prob_underperform_single\n",
    "\n",
    "mean_cum_excess_15y = mean_excess_umd_mkt_annual * T\n",
    "vol_cum_excess_15y = vol_excess_umd_mkt_annual * np.sqrt(T)\n",
    "z_15y_excess = (-mean_cum_excess_15y) / vol_cum_excess_15y\n",
    "prob_underperform_15y = norm.cdf(z_15y_excess)\n",
    "prob_outperform_15y = 1 - prob_underperform_15y\n",
    "\n",
    "print(f\"Probability that UMD outperforms MKT over next year: {prob_outperform_single:.4f}\")\n",
    "print(f\"Probability that UMD outperforms MKT over next 15 years: {prob_outperform_15y:.4f}\")\n"
   ]
  },
  {
   "cell_type": "markdown",
   "id": "61981e79",
   "metadata": {},
   "source": [
    "### 3.5.\n",
    "Conceptually, why is there such a discrepancy between this probability for 1 period vs. 15 years?\n",
    "\n",
    "What assumption about the log-returns are we making when we use this technique to estimate underperformance?"
   ]
  },
  {
   "cell_type": "markdown",
   "id": "c27595fe",
   "metadata": {},
   "source": [
    "Since mean returns scale with time, and volatility scales with the square root of time, cumulative mean return trends higher than cumulative volatility, reducing the odds of \"underperformance\" as time grows. We are also assuming that log returns are normally distributed and independent."
   ]
  },
  {
   "cell_type": "markdown",
   "id": "a4b9e1da",
   "metadata": {},
   "source": [
    "### 3.6.\n",
    "\n",
    "Using your previous answers, explain what is meant by time diversification."
   ]
  },
  {
   "cell_type": "markdown",
   "id": "1b400aa8",
   "metadata": {},
   "source": [
    "Time diversification is the concept that holding investments over long periods reduces the probability of negative cumulative returns. Given the facts about how returns and volatility scale in my prevous answer, this means Sharpe ratio grows over time, too."
   ]
  },
  {
   "cell_type": "markdown",
   "id": "be46869f",
   "metadata": {},
   "source": [
    "### 3.7.\n",
    "\n",
    "Is the probability that `HML` and `UMD` both have negative cumulative returns over the next year higher or lower than the probability that `HML` and `MKT` both have negative cumulative returns over the next year?\n",
    "\n",
    "Answer conceptually, but specifically. (No need to calculate the specific probabilities.)"
   ]
  },
  {
   "cell_type": "code",
   "execution_count": null,
   "id": "276c89c6",
   "metadata": {},
   "outputs": [],
   "source": []
  },
  {
   "cell_type": "markdown",
   "id": "0a8eda25",
   "metadata": {},
   "source": [
    "***"
   ]
  }
 ],
 "metadata": {
  "hide_input": false,
  "kernelspec": {
   "display_name": "base",
   "language": "python",
   "name": "python3"
  },
  "language_info": {
   "codemirror_mode": {
    "name": "ipython",
    "version": 3
   },
   "file_extension": ".py",
   "mimetype": "text/x-python",
   "name": "python",
   "nbconvert_exporter": "python",
   "pygments_lexer": "ipython3",
   "version": "3.12.4"
  }
 },
 "nbformat": 4,
 "nbformat_minor": 5
}
