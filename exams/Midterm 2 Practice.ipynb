{
 "cells": [
  {
   "cell_type": "markdown",
   "id": "559895d2",
   "metadata": {},
   "source": [
    "# Midterm 2\n",
    "\n",
    "## FINM 36700 - 2023\n",
    "\n",
    "### UChicago Financial Mathematics\n",
    "\n",
    "* Mark Hendricks\n",
    "* hendricks@uchicago.edu"
   ]
  },
  {
   "cell_type": "markdown",
   "id": "01cde8d3",
   "metadata": {},
   "source": [
    "# Instructions"
   ]
  },
  {
   "cell_type": "markdown",
   "id": "cc273c1a",
   "metadata": {},
   "source": [
    "## Please note the following:\n",
    "\n",
    "Points\n",
    "* The exam is 100 points.\n",
    "* You have 120 minutes to complete the exam.\n",
    "* For every minute late you submit the exam, you will lose one point.\n",
    "\n",
    "\n",
    "Submission\n",
    "* You will upload your solution to the `Midterm 2` assignment on Canvas, where you downloaded this. (Be sure to **submit** on Canvas, not just **save** on Canvas.\n",
    "* Your submission should be readable, (the graders can understand your answers,) and it should **include all code used in your analysis in a file format that the code can be executed.** \n",
    "\n",
    "Rules\n",
    "* The exam is open-material, closed-communication.\n",
    "* You do not need to cite material from the course github repo--you are welcome to use the code posted there without citation.\n",
    "\n",
    "Advice\n",
    "* If you find any question to be unclear, state your interpretation and proceed. We will only answer questions of interpretation if there is a typo, error, etc.\n",
    "* The exam will be graded for partial credit."
   ]
  },
  {
   "cell_type": "markdown",
   "id": "624f27b1",
   "metadata": {},
   "source": [
    "## Data\n",
    "\n",
    "**All data files are found in the class github repo, in the `data` folder.**\n",
    "\n",
    "This exam makes use of the following data files:\n",
    "* `midterm_2_data.xlsx`\n",
    "\n",
    "This file has sheets for...\n",
    "* `info` - names and descriptions of each factor\n",
    "* `factors (excess returns)` - excess returns on several factors\n",
    "* `portfolios (excess returns)` - excess returns on industry portfolios\n",
    "* `risk-free rate` - risk-free rates over time\n",
    "\n",
    "Note the data is **monthly** so any annualizations should use `12` months in a year."
   ]
  },
  {
   "cell_type": "markdown",
   "id": "ebf6e066",
   "metadata": {},
   "source": [
    "## Scoring\n",
    "\n",
    "| Problem | Points |\n",
    "|---------|--------|\n",
    "| 1       | 30     |\n",
    "| 2       | 35     |\n",
    "| 3       | 20     |\n",
    "| 4       | 15     |"
   ]
  },
  {
   "cell_type": "markdown",
   "id": "7fb2fc26",
   "metadata": {},
   "source": [
    "### Each numbered question is worth 5 points unless otherwise specified."
   ]
  },
  {
   "cell_type": "markdown",
   "id": "cb5c2bdf",
   "metadata": {},
   "source": [
    "### Notation\n",
    "(Hidden LaTeX commands)\n",
    "\n",
    "$$\\newcommand{\\betamkt}{\\beta^{i,\\text{MKT}}}$$\n",
    "$$\\newcommand{\\betahml}{\\beta^{i,\\text{HML}}}$$\n",
    "$$\\newcommand{\\betaumd}{\\beta^{i,\\text{UMD}}}$$\n",
    "$$\\newcommand{\\Eri}{E\\left[\\tilde{r}^{i}\\right]}$$\n",
    "$$\\newcommand{\\Emkt}{E\\left[\\tilde{r}^{\\text{MKT}}\\right]}$$\n",
    "$$\\newcommand{\\Ehml}{E\\left[\\tilde{r}^{\\text{HML}}\\right]}$$\n",
    "$$\\newcommand{\\Eumd}{E\\left[\\tilde{r}^{\\text{UMD}}\\right]}$$"
   ]
  },
  {
   "cell_type": "markdown",
   "id": "81156e8f",
   "metadata": {},
   "source": [
    "# 1. Short Answer"
   ]
  },
  {
   "cell_type": "markdown",
   "id": "b2cf4bc8",
   "metadata": {},
   "source": [
    "#### No Data Needed\n",
    "\n",
    "These problems do not require any data file. Rather, analyze them conceptually. "
   ]
  },
  {
   "cell_type": "markdown",
   "id": "4ed2ec27",
   "metadata": {},
   "source": [
    "## 1.\n",
    "\n",
    "Suppose that we find a set of factors that perfectly hedge any asset. Will these factors work as a linear factor pricing model? "
   ]
  },
  {
   "cell_type": "markdown",
   "id": "3769721a",
   "metadata": {},
   "source": []
  },
  {
   "cell_type": "markdown",
   "id": "2de7e3f3",
   "metadata": {},
   "source": [
    "## 2.\n",
    "\n",
    "If the Fama-French 3-factor model fit perfectly, would the Treynor ratio be equal for every asset?"
   ]
  },
  {
   "cell_type": "markdown",
   "id": "1b269599",
   "metadata": {},
   "source": [
    "## 3.\n",
    "\n",
    "Suppose the CAPM fits perfectly. Then assets which have higher time-series r-squared metrics on the market factor will have higher Sharpe ratios."
   ]
  },
  {
   "cell_type": "markdown",
   "id": "41aa46a6",
   "metadata": {},
   "source": [
    "## 4.\n",
    "\n",
    "Based on the case, what are two ways DFA hopes to generate attractive returns for investors?"
   ]
  },
  {
   "cell_type": "markdown",
   "id": "f2a8aede",
   "metadata": {},
   "source": [
    "## 5.\n",
    "\n",
    "We analyzed a strategy similar to \"AQR's Momentum Funds\" (mutual funds.) We found this implementation had much higher returns than the momentum factor of Fama French. What was a major drawback to this construction?"
   ]
  },
  {
   "cell_type": "markdown",
   "id": "e990eba3",
   "metadata": {},
   "source": [
    "## 6.\n",
    "\n",
    "From our analysis, momentum has had a negative mean return since 2009. Is this evidence against momentum as a pricing factor? Explain why this is a problem or why it is not a problem."
   ]
  },
  {
   "cell_type": "markdown",
   "id": "632ce7d4",
   "metadata": {},
   "source": [
    "***"
   ]
  },
  {
   "cell_type": "markdown",
   "id": "c143ec8e",
   "metadata": {},
   "source": [
    "## Data\n",
    "\n",
    "**All data files are found in the class github repo, in the `data` folder.**\n",
    "\n",
    "This exam makes use of the following data files:\n",
    "* `midterm_2_data.xlsx`\n",
    "\n",
    "This file has sheets for...\n",
    "* `info` - names and descriptions of each factor\n",
    "* `factors (excess returns)` - excess returns on several factors\n",
    "* `portfolios (excess returns)` - excess returns on industry portfolios\n",
    "* `risk-free rate` - risk-free rates over time\n",
    "\n",
    "Note the data is **monthly** so any annualizations should use `12` months in a year."
   ]
  },
  {
   "cell_type": "code",
   "execution_count": 151,
   "id": "7ab931bc",
   "metadata": {},
   "outputs": [],
   "source": [
    "import pandas as pd\n",
    "import numpy as np\n",
    "import matplotlib.pyplot as plt\n",
    "import seaborn as sns\n",
    "from scipy.stats import norm\n",
    "import statsmodels.api as sm\n",
    "import scipy.stats as stats\n",
    "import arch\n",
    "import warnings\n",
    "warnings.filterwarnings(\"ignore\")\n",
    "from arch import arch_model\n",
    "from arch.univariate import GARCH, EWMAVariance\n",
    "sns.set_theme()\n",
    "import portfolio_management_helper as pmh\n",
    "\n",
    "factors = pd.read_excel('../data/midterm_2_data.xlsx', sheet_name = 'factors (excess returns)').set_index('Date')\n",
    "portfolio = pd.read_excel('../data/midterm_2_data.xlsx', sheet_name = 'portfolios (excess returns)').set_index('Date')"
   ]
  },
  {
   "cell_type": "markdown",
   "id": "a78ee6f4",
   "metadata": {},
   "source": [
    "# 2. Linear Factor Pricing Models (LFPMs)"
   ]
  },
  {
   "cell_type": "markdown",
   "id": "cef5b592",
   "metadata": {},
   "source": [
    "This problem tests the following LFPM:\n",
    "\n",
    "$$\\begin{align}\n",
    "\\Eri = \\betamkt \\Emkt + \\betahml \\Ehml + \\betaumd \\Eumd\n",
    "\\end{align}$$"
   ]
  },
  {
   "cell_type": "markdown",
   "id": "ec8d1b59",
   "metadata": {},
   "source": [
    "## 1.\n",
    "\n",
    "### (8 pts)\n",
    "\n",
    "Estimate the **time-series (TS)** test of this pricing model. \n",
    "\n",
    "For each asset, report the following statistics:\n",
    "* annualized alpha\n",
    "* betas\n",
    "* r-squared"
   ]
  },
  {
   "cell_type": "code",
   "execution_count": 152,
   "id": "adc6d90d",
   "metadata": {},
   "outputs": [
    {
     "data": {
      "text/html": [
       "<div>\n",
       "<style scoped>\n",
       "    .dataframe tbody tr th:only-of-type {\n",
       "        vertical-align: middle;\n",
       "    }\n",
       "\n",
       "    .dataframe tbody tr th {\n",
       "        vertical-align: top;\n",
       "    }\n",
       "\n",
       "    .dataframe thead th {\n",
       "        text-align: right;\n",
       "    }\n",
       "</style>\n",
       "<table border=\"1\" class=\"dataframe\">\n",
       "  <thead>\n",
       "    <tr style=\"text-align: right;\">\n",
       "      <th></th>\n",
       "      <th>Annualized Alpha</th>\n",
       "      <th>R-Squared</th>\n",
       "      <th>MKT Beta</th>\n",
       "      <th>HML Beta</th>\n",
       "      <th>UMD Beta</th>\n",
       "    </tr>\n",
       "  </thead>\n",
       "  <tbody>\n",
       "    <tr>\n",
       "      <th>NoDur</th>\n",
       "      <td>0.0293</td>\n",
       "      <td>0.6179</td>\n",
       "      <td>0.7395</td>\n",
       "      <td>0.2046</td>\n",
       "      <td>0.0493</td>\n",
       "    </tr>\n",
       "    <tr>\n",
       "      <th>Durbl</th>\n",
       "      <td>0.0107</td>\n",
       "      <td>0.6135</td>\n",
       "      <td>1.2719</td>\n",
       "      <td>0.1736</td>\n",
       "      <td>-0.3200</td>\n",
       "    </tr>\n",
       "    <tr>\n",
       "      <th>Manuf</th>\n",
       "      <td>-0.0010</td>\n",
       "      <td>0.8703</td>\n",
       "      <td>1.0495</td>\n",
       "      <td>0.1975</td>\n",
       "      <td>-0.0367</td>\n",
       "    </tr>\n",
       "    <tr>\n",
       "      <th>Enrgy</th>\n",
       "      <td>-0.0151</td>\n",
       "      <td>0.4656</td>\n",
       "      <td>0.9922</td>\n",
       "      <td>0.6370</td>\n",
       "      <td>0.0752</td>\n",
       "    </tr>\n",
       "    <tr>\n",
       "      <th>HiTec</th>\n",
       "      <td>0.0282</td>\n",
       "      <td>0.8295</td>\n",
       "      <td>1.1550</td>\n",
       "      <td>-0.6371</td>\n",
       "      <td>-0.1406</td>\n",
       "    </tr>\n",
       "    <tr>\n",
       "      <th>Telcm</th>\n",
       "      <td>0.0035</td>\n",
       "      <td>0.5881</td>\n",
       "      <td>0.8373</td>\n",
       "      <td>0.0944</td>\n",
       "      <td>-0.0845</td>\n",
       "    </tr>\n",
       "    <tr>\n",
       "      <th>Shops</th>\n",
       "      <td>0.0267</td>\n",
       "      <td>0.7422</td>\n",
       "      <td>0.9469</td>\n",
       "      <td>-0.0422</td>\n",
       "      <td>-0.0150</td>\n",
       "    </tr>\n",
       "    <tr>\n",
       "      <th>Hlth</th>\n",
       "      <td>0.0319</td>\n",
       "      <td>0.5805</td>\n",
       "      <td>0.7576</td>\n",
       "      <td>-0.1199</td>\n",
       "      <td>0.0741</td>\n",
       "    </tr>\n",
       "    <tr>\n",
       "      <th>Utils</th>\n",
       "      <td>0.0137</td>\n",
       "      <td>0.3427</td>\n",
       "      <td>0.5279</td>\n",
       "      <td>0.3530</td>\n",
       "      <td>0.1086</td>\n",
       "    </tr>\n",
       "    <tr>\n",
       "      <th>Other</th>\n",
       "      <td>-0.0198</td>\n",
       "      <td>0.9101</td>\n",
       "      <td>1.1154</td>\n",
       "      <td>0.4268</td>\n",
       "      <td>-0.0487</td>\n",
       "    </tr>\n",
       "  </tbody>\n",
       "</table>\n",
       "</div>"
      ],
      "text/plain": [
       "       Annualized Alpha  R-Squared  MKT Beta  HML Beta  UMD Beta\n",
       "NoDur            0.0293     0.6179    0.7395    0.2046    0.0493\n",
       "Durbl            0.0107     0.6135    1.2719    0.1736   -0.3200\n",
       "Manuf           -0.0010     0.8703    1.0495    0.1975   -0.0367\n",
       "Enrgy           -0.0151     0.4656    0.9922    0.6370    0.0752\n",
       "HiTec            0.0282     0.8295    1.1550   -0.6371   -0.1406\n",
       "Telcm            0.0035     0.5881    0.8373    0.0944   -0.0845\n",
       "Shops            0.0267     0.7422    0.9469   -0.0422   -0.0150\n",
       "Hlth             0.0319     0.5805    0.7576   -0.1199    0.0741\n",
       "Utils            0.0137     0.3427    0.5279    0.3530    0.1086\n",
       "Other           -0.0198     0.9101    1.1154    0.4268   -0.0487"
      ]
     },
     "execution_count": 152,
     "metadata": {},
     "output_type": "execute_result"
    }
   ],
   "source": [
    "ts = pmh.calc_iterative_regression(\n",
    "    multiple_y=portfolio,\n",
    "    X=factors,\n",
    "    annual_factor=12,\n",
    "    warnings=False,\n",
    "    keep_columns=['Annualized Alpha', 'R-Squared','MKT Beta','HML Beta','UMD Beta',]\n",
    ")\n",
    "ts"
   ]
  },
  {
   "cell_type": "markdown",
   "id": "31da8bdc",
   "metadata": {},
   "source": [
    "## 2.\n",
    "\n",
    "### (7pts)\n",
    "\n",
    "Estimate the **cross-sectional (CS)** test of the pricing model. \n",
    "\n",
    "Include an intercept in your cross-sectional test.\n",
    "\n",
    "Report the\n",
    "* annualized intercept\n",
    "* annualized regression coefficients\n",
    "* r-squared"
   ]
  },
  {
   "cell_type": "code",
   "execution_count": 153,
   "id": "8cf740ec",
   "metadata": {},
   "outputs": [
    {
     "name": "stdout",
     "output_type": "stream",
     "text": [
      "Lambda represents the premium calculated by the cross-section regression and the historical premium is the average of the factor excess returns\n"
     ]
    }
   ],
   "source": [
    "cs = pmh.calc_cross_section_regression(\n",
    "    portfolio,\n",
    "    factors,\n",
    "    annual_factor=12,\n",
    "    provided_excess_returns=True,\n",
    ")\n"
   ]
  },
  {
   "cell_type": "code",
   "execution_count": 154,
   "id": "e5b5e775",
   "metadata": {},
   "outputs": [
    {
     "data": {
      "text/html": [
       "<div>\n",
       "<style scoped>\n",
       "    .dataframe tbody tr th:only-of-type {\n",
       "        vertical-align: middle;\n",
       "    }\n",
       "\n",
       "    .dataframe tbody tr th {\n",
       "        vertical-align: top;\n",
       "    }\n",
       "\n",
       "    .dataframe thead th {\n",
       "        text-align: right;\n",
       "    }\n",
       "</style>\n",
       "<table border=\"1\" class=\"dataframe\">\n",
       "  <thead>\n",
       "    <tr style=\"text-align: right;\">\n",
       "      <th></th>\n",
       "      <th>Annualized Eta</th>\n",
       "      <th>MKT Annualized Lambda</th>\n",
       "      <th>HML Annualized Lambda</th>\n",
       "      <th>UMD Annualized Lambda</th>\n",
       "      <th>R-Squared</th>\n",
       "    </tr>\n",
       "  </thead>\n",
       "  <tbody>\n",
       "    <tr>\n",
       "      <th>MKT + HML + UMD Cross-Section Regression</th>\n",
       "      <td>0.0637</td>\n",
       "      <td>0.0320</td>\n",
       "      <td>-0.0158</td>\n",
       "      <td>0.0303</td>\n",
       "      <td>0.3662</td>\n",
       "    </tr>\n",
       "  </tbody>\n",
       "</table>\n",
       "</div>"
      ],
      "text/plain": [
       "                                          Annualized Eta  \\\n",
       "MKT + HML + UMD Cross-Section Regression          0.0637   \n",
       "\n",
       "                                          MKT Annualized Lambda  \\\n",
       "MKT + HML + UMD Cross-Section Regression                 0.0320   \n",
       "\n",
       "                                          HML Annualized Lambda  \\\n",
       "MKT + HML + UMD Cross-Section Regression                -0.0158   \n",
       "\n",
       "                                          UMD Annualized Lambda  R-Squared  \n",
       "MKT + HML + UMD Cross-Section Regression                 0.0303     0.3662  "
      ]
     },
     "execution_count": 154,
     "metadata": {},
     "output_type": "execute_result"
    }
   ],
   "source": [
    "cs[[\"Annualized Eta\",\"MKT Annualized Lambda\",\"HML Annualized Lambda\",\"UMD Annualized Lambda\",\"R-Squared\"]]"
   ]
  },
  {
   "cell_type": "markdown",
   "id": "e43dcd2d",
   "metadata": {},
   "source": [
    "## 3.\n",
    "\n",
    "Report the annualized factor premia (expected excess returns of the three factors) as implied by each of the TS and CS estimations."
   ]
  },
  {
   "cell_type": "code",
   "execution_count": 155,
   "id": "12cb7cea",
   "metadata": {},
   "outputs": [
    {
     "name": "stdout",
     "output_type": "stream",
     "text": [
      "Lambda represents the premium calculated by the cross-section regression and the historical premium is the average of the factor excess returns\n"
     ]
    },
    {
     "data": {
      "text/html": [
       "<div>\n",
       "<style scoped>\n",
       "    .dataframe tbody tr th:only-of-type {\n",
       "        vertical-align: middle;\n",
       "    }\n",
       "\n",
       "    .dataframe tbody tr th {\n",
       "        vertical-align: top;\n",
       "    }\n",
       "\n",
       "    .dataframe thead th {\n",
       "        text-align: right;\n",
       "    }\n",
       "</style>\n",
       "<table border=\"1\" class=\"dataframe\">\n",
       "  <thead>\n",
       "    <tr style=\"text-align: right;\">\n",
       "      <th></th>\n",
       "      <th>MKT Annualized Historical Premium</th>\n",
       "      <th>HML Annualized Historical Premium</th>\n",
       "      <th>UMD Annualized Historical Premium</th>\n",
       "    </tr>\n",
       "  </thead>\n",
       "  <tbody>\n",
       "    <tr>\n",
       "      <th>MKT + HML + UMD Cross-Section Regression</th>\n",
       "      <td>0.0839</td>\n",
       "      <td>0.0250</td>\n",
       "      <td>0.0617</td>\n",
       "    </tr>\n",
       "  </tbody>\n",
       "</table>\n",
       "</div>"
      ],
      "text/plain": [
       "                                          MKT Annualized Historical Premium  \\\n",
       "MKT + HML + UMD Cross-Section Regression                             0.0839   \n",
       "\n",
       "                                          HML Annualized Historical Premium  \\\n",
       "MKT + HML + UMD Cross-Section Regression                             0.0250   \n",
       "\n",
       "                                          UMD Annualized Historical Premium  \n",
       "MKT + HML + UMD Cross-Section Regression                             0.0617  "
      ]
     },
     "execution_count": 155,
     "metadata": {},
     "output_type": "execute_result"
    }
   ],
   "source": [
    "#time series\n",
    "pmh.calc_cross_section_regression(\n",
    "    portfolio,\n",
    "    factors,\n",
    "    annual_factor=12,\n",
    "    provided_excess_returns=True,\n",
    "    keep_columns=[\"MKT Annualized Historical Premium\",\"HML Annualized Historical Premium\",\"UMD Annualized Historical Premium\"],\n",
    "    return_historical_premium = True,\n",
    "    return_annualized_premium = True,\n",
    ")"
   ]
  },
  {
   "cell_type": "code",
   "execution_count": 156,
   "id": "532db5e3",
   "metadata": {},
   "outputs": [
    {
     "name": "stdout",
     "output_type": "stream",
     "text": [
      "Lambda represents the premium calculated by the cross-section regression and the historical premium is the average of the factor excess returns\n"
     ]
    },
    {
     "data": {
      "text/html": [
       "<div>\n",
       "<style scoped>\n",
       "    .dataframe tbody tr th:only-of-type {\n",
       "        vertical-align: middle;\n",
       "    }\n",
       "\n",
       "    .dataframe tbody tr th {\n",
       "        vertical-align: top;\n",
       "    }\n",
       "\n",
       "    .dataframe thead th {\n",
       "        text-align: right;\n",
       "    }\n",
       "</style>\n",
       "<table border=\"1\" class=\"dataframe\">\n",
       "  <thead>\n",
       "    <tr style=\"text-align: right;\">\n",
       "      <th></th>\n",
       "      <th>MKT Annualized Lambda</th>\n",
       "      <th>HML Annualized Lambda</th>\n",
       "      <th>UMD Annualized Lambda</th>\n",
       "    </tr>\n",
       "  </thead>\n",
       "  <tbody>\n",
       "    <tr>\n",
       "      <th>MKT + HML + UMD Cross-Section Regression</th>\n",
       "      <td>0.0320</td>\n",
       "      <td>-0.0158</td>\n",
       "      <td>0.0303</td>\n",
       "    </tr>\n",
       "  </tbody>\n",
       "</table>\n",
       "</div>"
      ],
      "text/plain": [
       "                                          MKT Annualized Lambda  \\\n",
       "MKT + HML + UMD Cross-Section Regression                 0.0320   \n",
       "\n",
       "                                          HML Annualized Lambda  \\\n",
       "MKT + HML + UMD Cross-Section Regression                -0.0158   \n",
       "\n",
       "                                          UMD Annualized Lambda  \n",
       "MKT + HML + UMD Cross-Section Regression                 0.0303  "
      ]
     },
     "execution_count": 156,
     "metadata": {},
     "output_type": "execute_result"
    }
   ],
   "source": [
    "#cross section\n",
    "pmh.calc_cross_section_regression(\n",
    "    portfolio,\n",
    "    factors,\n",
    "    annual_factor=12,\n",
    "    provided_excess_returns=True,\n",
    "    keep_columns=[\"MKT Annualized Lambda\",\"HML Annualized Lambda\",\"UMD Annualized Lambda\"],\n",
    "    # return_historical_premium = True,\n",
    "    return_annualized_premium = True,\n",
    "    # compare_premiums = True,\n",
    ")"
   ]
  },
  {
   "cell_type": "markdown",
   "id": "eb4f7e39",
   "metadata": {},
   "source": [
    "## 4.\n",
    "\n",
    "Use the r-squared statistics from the TS and CS tests above to assess whether these factors are effective for decomposition and/or pricing.\n",
    "\n",
    "Be specific as to how the r-squared statistics from the TS and CS tests impact your conclusions."
   ]
  },
  {
   "cell_type": "markdown",
   "id": "621a9d6f",
   "metadata": {},
   "source": [
    "## 5.\n",
    "\n",
    "Report the annualized pricing mean absolute error (MAE) implied by each of the TS and CS estimations."
   ]
  },
  {
   "cell_type": "code",
   "execution_count": 157,
   "id": "2466cf2b",
   "metadata": {},
   "outputs": [
    {
     "data": {
      "text/html": [
       "<div>\n",
       "<style scoped>\n",
       "    .dataframe tbody tr th:only-of-type {\n",
       "        vertical-align: middle;\n",
       "    }\n",
       "\n",
       "    .dataframe tbody tr th {\n",
       "        vertical-align: top;\n",
       "    }\n",
       "\n",
       "    .dataframe thead th {\n",
       "        text-align: right;\n",
       "    }\n",
       "</style>\n",
       "<table border=\"1\" class=\"dataframe\">\n",
       "  <thead>\n",
       "    <tr style=\"text-align: right;\">\n",
       "      <th></th>\n",
       "      <th>TS Annualized MAE</th>\n",
       "      <th>CS Annualized MAE</th>\n",
       "    </tr>\n",
       "  </thead>\n",
       "  <tbody>\n",
       "    <tr>\n",
       "      <th>MKT + HML + UMD Cross-Section Regression</th>\n",
       "      <td>0.0180</td>\n",
       "      <td>0.0079</td>\n",
       "    </tr>\n",
       "  </tbody>\n",
       "</table>\n",
       "</div>"
      ],
      "text/plain": [
       "                                          TS Annualized MAE  CS Annualized MAE\n",
       "MKT + HML + UMD Cross-Section Regression             0.0180             0.0079"
      ]
     },
     "execution_count": 157,
     "metadata": {},
     "output_type": "execute_result"
    }
   ],
   "source": [
    "cs[[\"TS Annualized MAE\",\"CS Annualized MAE\"]]"
   ]
  },
  {
   "cell_type": "markdown",
   "id": "61e91b41",
   "metadata": {},
   "source": [
    "## 6.\n",
    "\n",
    "Which asset has the highest premium as implied by the TS estimation? And as implied by the CS estimation? (For the latter, feel free to include the cross-sectional intercept.)"
   ]
  },
  {
   "cell_type": "code",
   "execution_count": 158,
   "id": "110b1f9b",
   "metadata": {},
   "outputs": [
    {
     "data": {
      "text/html": [
       "<div>\n",
       "<style scoped>\n",
       "    .dataframe tbody tr th:only-of-type {\n",
       "        vertical-align: middle;\n",
       "    }\n",
       "\n",
       "    .dataframe tbody tr th {\n",
       "        vertical-align: top;\n",
       "    }\n",
       "\n",
       "    .dataframe thead th {\n",
       "        text-align: right;\n",
       "    }\n",
       "</style>\n",
       "<table border=\"1\" class=\"dataframe\">\n",
       "  <thead>\n",
       "    <tr style=\"text-align: right;\">\n",
       "      <th></th>\n",
       "      <th>TS Predicted Premium</th>\n",
       "    </tr>\n",
       "  </thead>\n",
       "  <tbody>\n",
       "    <tr>\n",
       "      <th>Enrgy</th>\n",
       "      <td>0.1038</td>\n",
       "    </tr>\n",
       "  </tbody>\n",
       "</table>\n",
       "</div>"
      ],
      "text/plain": [
       "       TS Predicted Premium\n",
       "Enrgy                0.1038"
      ]
     },
     "execution_count": 158,
     "metadata": {},
     "output_type": "execute_result"
    }
   ],
   "source": [
    "#TS\n",
    "ts = ts.rename(columns={'MKT Beta':'MKT','HML Beta':'HML','UMD Beta':'UMD'})\n",
    "((factors.mean()*12)[['MKT','HML','UMD']] * ts[['MKT','HML','UMD']]).sum(axis =1).to_frame('TS Predicted Premium').nlargest(1, 'TS Predicted Premium')"
   ]
  },
  {
   "cell_type": "code",
   "execution_count": 159,
   "id": "f61805ff",
   "metadata": {},
   "outputs": [
    {
     "data": {
      "text/html": [
       "<div>\n",
       "<style scoped>\n",
       "    .dataframe tbody tr th:only-of-type {\n",
       "        vertical-align: middle;\n",
       "    }\n",
       "\n",
       "    .dataframe tbody tr th {\n",
       "        vertical-align: top;\n",
       "    }\n",
       "\n",
       "    .dataframe thead th {\n",
       "        text-align: right;\n",
       "    }\n",
       "</style>\n",
       "<table border=\"1\" class=\"dataframe\">\n",
       "  <thead>\n",
       "    <tr style=\"text-align: right;\">\n",
       "      <th></th>\n",
       "      <th>CS Predicted Premium without intercept</th>\n",
       "    </tr>\n",
       "  </thead>\n",
       "  <tbody>\n",
       "    <tr>\n",
       "      <th>HiTec</th>\n",
       "      <td>0.0427</td>\n",
       "    </tr>\n",
       "  </tbody>\n",
       "</table>\n",
       "</div>"
      ],
      "text/plain": [
       "       CS Predicted Premium without intercept\n",
       "HiTec                                  0.0427"
      ]
     },
     "execution_count": 159,
     "metadata": {},
     "output_type": "execute_result"
    }
   ],
   "source": [
    "#CS\n",
    "cs = cs.rename(columns= {'MKT Annualized Lambda':'MKT','HML Annualized Lambda':'HML',\n",
    "                        'UMD Annualized Lambda':'UMD'})\n",
    "(ts[['MKT','HML','UMD']] * cs[['MKT','HML','UMD']].values[0]).sum(axis=1).nlargest(1).to_frame('CS Predicted Premium without intercept')"
   ]
  },
  {
   "cell_type": "code",
   "execution_count": 160,
   "id": "d422de2c",
   "metadata": {},
   "outputs": [
    {
     "data": {
      "text/html": [
       "<div>\n",
       "<style scoped>\n",
       "    .dataframe tbody tr th:only-of-type {\n",
       "        vertical-align: middle;\n",
       "    }\n",
       "\n",
       "    .dataframe tbody tr th {\n",
       "        vertical-align: top;\n",
       "    }\n",
       "\n",
       "    .dataframe thead th {\n",
       "        text-align: right;\n",
       "    }\n",
       "</style>\n",
       "<table border=\"1\" class=\"dataframe\">\n",
       "  <thead>\n",
       "    <tr style=\"text-align: right;\">\n",
       "      <th></th>\n",
       "      <th>CS Predicted Premium with intercept</th>\n",
       "    </tr>\n",
       "  </thead>\n",
       "  <tbody>\n",
       "    <tr>\n",
       "      <th>HiTec</th>\n",
       "      <td>0.1065</td>\n",
       "    </tr>\n",
       "  </tbody>\n",
       "</table>\n",
       "</div>"
      ],
      "text/plain": [
       "       CS Predicted Premium with intercept\n",
       "HiTec                               0.1065"
      ]
     },
     "execution_count": 160,
     "metadata": {},
     "output_type": "execute_result"
    }
   ],
   "source": [
    "predicted_cs = cs['Annualized Eta'][0] + (ts[['MKT','HML','UMD']] * cs[['MKT','HML','UMD']].values[0]).sum(axis=1)\n",
    "(predicted_cs).nlargest(1).to_frame('CS Predicted Premium with intercept')"
   ]
  },
  {
   "cell_type": "markdown",
   "id": "0a8eda25",
   "metadata": {},
   "source": [
    "***"
   ]
  },
  {
   "cell_type": "markdown",
   "id": "45d9f9ca",
   "metadata": {},
   "source": [
    "# 3. Additional Analysis"
   ]
  },
  {
   "cell_type": "markdown",
   "id": "b6e16122",
   "metadata": {},
   "source": [
    "## 1. \n",
    "\n",
    "Consider the three-factor pricing model above. How can we assess whether all three factors are useful in this pricing model? \n",
    "\n",
    "Specifically, discuss whether the previously estimated regression betas would be informative. If not, what other statistic could we calculate?"
   ]
  },
  {
   "cell_type": "markdown",
   "id": "4917ec2d",
   "metadata": {},
   "source": [
    "## 2.\n",
    "\n",
    "Suppose we are testing the 3-factor model above, and now we want to allow for time-varying betas.\n",
    "\n",
    "How could we test the model while allowing for this?\n",
    "\n",
    "Be specific about the number of regressions we would run and the nature of these regressions."
   ]
  },
  {
   "cell_type": "markdown",
   "id": "9b5ae486",
   "metadata": {},
   "source": [
    "## 3.\n",
    "\n",
    "State one advantage and one disadvantage of using the CS estimation as opposed to the TS estimation in fitting the LFPM to the data."
   ]
  },
  {
   "cell_type": "markdown",
   "id": "ab345650",
   "metadata": {},
   "source": [
    "## 4.\n",
    "\n",
    "Suppose we are investing in just the assets included in our data set. We want to implement a momentum strategy.\n",
    "\n",
    "Relative to the momentum strategies we studied, do you expect this strategy would have higher or lower...\n",
    "* mean\n",
    "* volatility\n",
    "\n",
    "Explain."
   ]
  },
  {
   "cell_type": "markdown",
   "id": "ecd7b8ee",
   "metadata": {},
   "source": [
    "***"
   ]
  },
  {
   "cell_type": "markdown",
   "id": "4bba6573",
   "metadata": {},
   "source": [
    "# 4. Returns Over Time"
   ]
  },
  {
   "cell_type": "markdown",
   "id": "fbce55a1",
   "metadata": {},
   "source": [
    "## 1.\n",
    "\n",
    "If Barnstable’s assumptions hold, (log iid returns, normally distributed,) then in what sense is an investment safer in the long-run? And in what sense is it riskier in the long-run?"
   ]
  },
  {
   "cell_type": "markdown",
   "id": "26e19f68",
   "metadata": {},
   "source": [
    "## 2. \n",
    "\n",
    "### (10pts)\n",
    "\n",
    "Data \n",
    "* Make use of the `risk-free rate` tab.\n",
    "* Construct the **total** factor returns by adding the risk-free rate to the excess `MKT` and `HML` factor returns.\n",
    "\n",
    "Assumptions\n",
    "* The total returns are lognormally distributed and iid. \n",
    "\n",
    "Report the probability that `MKT` will outperform `HML` over the following 5 years."
   ]
  },
  {
   "cell_type": "markdown",
   "id": "deca7ce8",
   "metadata": {},
   "source": [
    "***"
   ]
  }
 ],
 "metadata": {
  "hide_input": false,
  "kernelspec": {
   "display_name": "base",
   "language": "python",
   "name": "python3"
  },
  "language_info": {
   "codemirror_mode": {
    "name": "ipython",
    "version": 3
   },
   "file_extension": ".py",
   "mimetype": "text/x-python",
   "name": "python",
   "nbconvert_exporter": "python",
   "pygments_lexer": "ipython3",
   "version": "3.12.4"
  }
 },
 "nbformat": 4,
 "nbformat_minor": 5
}
