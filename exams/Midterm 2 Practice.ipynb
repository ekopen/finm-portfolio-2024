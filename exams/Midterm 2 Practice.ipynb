{
 "cells": [
  {
   "cell_type": "markdown",
   "id": "559895d2",
   "metadata": {},
   "source": [
    "# Midterm 2\n",
    "\n",
    "## FINM 36700 - 2023\n",
    "\n",
    "### UChicago Financial Mathematics\n",
    "\n",
    "* Mark Hendricks\n",
    "* hendricks@uchicago.edu"
   ]
  },
  {
   "cell_type": "markdown",
   "id": "01cde8d3",
   "metadata": {},
   "source": [
    "# Instructions"
   ]
  },
  {
   "cell_type": "markdown",
   "id": "cc273c1a",
   "metadata": {},
   "source": [
    "## Please note the following:\n",
    "\n",
    "Points\n",
    "* The exam is 100 points.\n",
    "* You have 120 minutes to complete the exam.\n",
    "* For every minute late you submit the exam, you will lose one point.\n",
    "\n",
    "\n",
    "Submission\n",
    "* You will upload your solution to the `Midterm 2` assignment on Canvas, where you downloaded this. (Be sure to **submit** on Canvas, not just **save** on Canvas.\n",
    "* Your submission should be readable, (the graders can understand your answers,) and it should **include all code used in your analysis in a file format that the code can be executed.** \n",
    "\n",
    "Rules\n",
    "* The exam is open-material, closed-communication.\n",
    "* You do not need to cite material from the course github repo--you are welcome to use the code posted there without citation.\n",
    "\n",
    "Advice\n",
    "* If you find any question to be unclear, state your interpretation and proceed. We will only answer questions of interpretation if there is a typo, error, etc.\n",
    "* The exam will be graded for partial credit."
   ]
  },
  {
   "cell_type": "markdown",
   "id": "624f27b1",
   "metadata": {},
   "source": [
    "## Data\n",
    "\n",
    "**All data files are found in the class github repo, in the `data` folder.**\n",
    "\n",
    "This exam makes use of the following data files:\n",
    "* `midterm_2_data.xlsx`\n",
    "\n",
    "This file has sheets for...\n",
    "* `info` - names and descriptions of each factor\n",
    "* `factors (excess returns)` - excess returns on several factors\n",
    "* `portfolios (excess returns)` - excess returns on industry portfolios\n",
    "* `risk-free rate` - risk-free rates over time\n",
    "\n",
    "Note the data is **monthly** so any annualizations should use `12` months in a year."
   ]
  },
  {
   "cell_type": "markdown",
   "id": "ebf6e066",
   "metadata": {},
   "source": [
    "## Scoring\n",
    "\n",
    "| Problem | Points |\n",
    "|---------|--------|\n",
    "| 1       | 30     |\n",
    "| 2       | 35     |\n",
    "| 3       | 20     |\n",
    "| 4       | 15     |"
   ]
  },
  {
   "cell_type": "markdown",
   "id": "7fb2fc26",
   "metadata": {},
   "source": [
    "### Each numbered question is worth 5 points unless otherwise specified."
   ]
  },
  {
   "cell_type": "markdown",
   "id": "cb5c2bdf",
   "metadata": {},
   "source": [
    "### Notation\n",
    "(Hidden LaTeX commands)\n",
    "\n",
    "$$\\newcommand{\\betamkt}{\\beta^{i,\\text{MKT}}}$$\n",
    "$$\\newcommand{\\betahml}{\\beta^{i,\\text{HML}}}$$\n",
    "$$\\newcommand{\\betaumd}{\\beta^{i,\\text{UMD}}}$$\n",
    "$$\\newcommand{\\Eri}{E\\left[\\tilde{r}^{i}\\right]}$$\n",
    "$$\\newcommand{\\Emkt}{E\\left[\\tilde{r}^{\\text{MKT}}\\right]}$$\n",
    "$$\\newcommand{\\Ehml}{E\\left[\\tilde{r}^{\\text{HML}}\\right]}$$\n",
    "$$\\newcommand{\\Eumd}{E\\left[\\tilde{r}^{\\text{UMD}}\\right]}$$"
   ]
  },
  {
   "cell_type": "markdown",
   "id": "81156e8f",
   "metadata": {},
   "source": [
    "# 1. Short Answer"
   ]
  },
  {
   "cell_type": "markdown",
   "id": "b2cf4bc8",
   "metadata": {},
   "source": [
    "#### No Data Needed\n",
    "\n",
    "These problems do not require any data file. Rather, analyze them conceptually. "
   ]
  },
  {
   "cell_type": "markdown",
   "id": "4ed2ec27",
   "metadata": {},
   "source": [
    "## 1.\n",
    "\n",
    "Suppose that we find a set of factors that perfectly hedge any asset. Will these factors work as a linear factor pricing model? "
   ]
  },
  {
   "cell_type": "markdown",
   "id": "2de7e3f3",
   "metadata": {},
   "source": [
    "## 2.\n",
    "\n",
    "If the Fama-French 3-factor model fit perfectly, would the Treynor ratio be equal for every asset?"
   ]
  },
  {
   "cell_type": "markdown",
   "id": "1b269599",
   "metadata": {},
   "source": [
    "## 3.\n",
    "\n",
    "Suppose the CAPM fits perfectly. Then assets which have higher time-series r-squared metrics on the market factor will have higher Sharpe ratios."
   ]
  },
  {
   "cell_type": "markdown",
   "id": "41aa46a6",
   "metadata": {},
   "source": [
    "## 4.\n",
    "\n",
    "Based on the case, what are two ways DFA hopes to generate attractive returns for investors?"
   ]
  },
  {
   "cell_type": "markdown",
   "id": "f2a8aede",
   "metadata": {},
   "source": [
    "## 5.\n",
    "\n",
    "We analyzed a strategy similar to \"AQR's Momentum Funds\" (mutual funds.) We found this implementation had much higher returns than the momentum factor of Fama French. What was a major drawback to this construction?"
   ]
  },
  {
   "cell_type": "markdown",
   "id": "e990eba3",
   "metadata": {},
   "source": [
    "## 6.\n",
    "\n",
    "From our analysis, momentum has had a negative mean return since 2009. Is this evidence against momentum as a pricing factor? Explain why this is a problem or why it is not a problem."
   ]
  },
  {
   "cell_type": "markdown",
   "id": "632ce7d4",
   "metadata": {},
   "source": [
    "***"
   ]
  },
  {
   "cell_type": "markdown",
   "id": "a78ee6f4",
   "metadata": {},
   "source": [
    "# 2. Linear Factor Pricing Models (LFPMs)"
   ]
  },
  {
   "cell_type": "markdown",
   "id": "cef5b592",
   "metadata": {},
   "source": [
    "This problem tests the following LFPM:\n",
    "\n",
    "$$\\begin{align}\n",
    "\\Eri = \\betamkt \\Emkt + \\betahml \\Ehml + \\betaumd \\Eumd\n",
    "\\end{align}$$"
   ]
  },
  {
   "cell_type": "markdown",
   "id": "ec8d1b59",
   "metadata": {},
   "source": [
    "## 1.\n",
    "\n",
    "### (8 pts)\n",
    "\n",
    "Estimate the **time-series (TS)** test of this pricing model. \n",
    "\n",
    "For each asset, report the following statistics:\n",
    "* annualized alpha\n",
    "* betas\n",
    "* r-squared"
   ]
  },
  {
   "cell_type": "markdown",
   "id": "31da8bdc",
   "metadata": {},
   "source": [
    "## 2.\n",
    "\n",
    "### (7pts)\n",
    "\n",
    "Estimate the **cross-sectional (CS)** test of the pricing model. \n",
    "\n",
    "Include an intercept in your cross-sectional test.\n",
    "\n",
    "Report the\n",
    "* annualized intercept\n",
    "* annualized regression coefficients\n",
    "* r-squared"
   ]
  },
  {
   "cell_type": "markdown",
   "id": "e43dcd2d",
   "metadata": {},
   "source": [
    "## 3.\n",
    "\n",
    "Report the annualized factor premia (expected excess returns of the three factors) as implied by each of the TS and CS estimations."
   ]
  },
  {
   "cell_type": "markdown",
   "id": "eb4f7e39",
   "metadata": {},
   "source": [
    "## 4.\n",
    "\n",
    "Use the r-squared statistics from the TS and CS tests above to assess whether these factors are effective for decomposition and/or pricing.\n",
    "\n",
    "Be specific as to how the r-squared statistics from the TS and CS tests impact your conclusions."
   ]
  },
  {
   "cell_type": "markdown",
   "id": "621a9d6f",
   "metadata": {},
   "source": [
    "## 5.\n",
    "\n",
    "Report the annualized pricing mean absolute error (MAE) implied by each of the TS and CS estimations."
   ]
  },
  {
   "cell_type": "markdown",
   "id": "61e91b41",
   "metadata": {},
   "source": [
    "## 6.\n",
    "\n",
    "Which asset has the highest premium as implied by the TS estimation? And as implied by the CS estimation? (For the latter, feel free to include the cross-sectional intercept.)"
   ]
  },
  {
   "cell_type": "markdown",
   "id": "0a8eda25",
   "metadata": {},
   "source": [
    "***"
   ]
  },
  {
   "cell_type": "markdown",
   "id": "45d9f9ca",
   "metadata": {},
   "source": [
    "# 3. Additional Analysis"
   ]
  },
  {
   "cell_type": "markdown",
   "id": "b6e16122",
   "metadata": {},
   "source": [
    "## 1. \n",
    "\n",
    "Consider the three-factor pricing model above. How can we assess whether all three factors are useful in this pricing model? \n",
    "\n",
    "Specifically, discuss whether the previously estimated regression betas would be informative. If not, what other statistic could we calculate?"
   ]
  },
  {
   "cell_type": "markdown",
   "id": "4917ec2d",
   "metadata": {},
   "source": [
    "## 2.\n",
    "\n",
    "Suppose we are testing the 3-factor model above, and now we want to allow for time-varying betas.\n",
    "\n",
    "How could we test the model while allowing for this?\n",
    "\n",
    "Be specific about the number of regressions we would run and the nature of these regressions."
   ]
  },
  {
   "cell_type": "markdown",
   "id": "9b5ae486",
   "metadata": {},
   "source": [
    "## 3.\n",
    "\n",
    "State one advantage and one disadvantage of using the CS estimation as opposed to the TS estimation in fitting the LFPM to the data."
   ]
  },
  {
   "cell_type": "markdown",
   "id": "ab345650",
   "metadata": {},
   "source": [
    "## 4.\n",
    "\n",
    "Suppose we are investing in just the assets included in our data set. We want to implement a momentum strategy.\n",
    "\n",
    "Relative to the momentum strategies we studied, do you expect this strategy would have higher or lower...\n",
    "* mean\n",
    "* volatility\n",
    "\n",
    "Explain."
   ]
  },
  {
   "cell_type": "markdown",
   "id": "ecd7b8ee",
   "metadata": {},
   "source": [
    "***"
   ]
  },
  {
   "cell_type": "markdown",
   "id": "4bba6573",
   "metadata": {},
   "source": [
    "# 4. Returns Over Time"
   ]
  },
  {
   "cell_type": "markdown",
   "id": "fbce55a1",
   "metadata": {},
   "source": [
    "## 1.\n",
    "\n",
    "If Barnstable’s assumptions hold, (log iid returns, normally distributed,) then in what sense is an investment safer in the long-run? And in what sense is it riskier in the long-run?"
   ]
  },
  {
   "cell_type": "markdown",
   "id": "26e19f68",
   "metadata": {},
   "source": [
    "## 2. \n",
    "\n",
    "### (10pts)\n",
    "\n",
    "Data \n",
    "* Make use of the `risk-free rate` tab.\n",
    "* Construct the **total** factor returns by adding the risk-free rate to the excess `MKT` and `HML` factor returns.\n",
    "\n",
    "Assumptions\n",
    "* The total returns are lognormally distributed and iid. \n",
    "\n",
    "Report the probability that `MKT` will outperform `HML` over the following 5 years."
   ]
  },
  {
   "cell_type": "markdown",
   "id": "deca7ce8",
   "metadata": {},
   "source": [
    "***"
   ]
  }
 ],
 "metadata": {
  "hide_input": false,
  "kernelspec": {
   "display_name": "Python 3 (ipykernel)",
   "language": "python",
   "name": "python3"
  },
  "language_info": {
   "codemirror_mode": {
    "name": "ipython",
    "version": 3
   },
   "file_extension": ".py",
   "mimetype": "text/x-python",
   "name": "python",
   "nbconvert_exporter": "python",
   "pygments_lexer": "ipython3",
   "version": "3.9.6"
  }
 },
 "nbformat": 4,
 "nbformat_minor": 5
}
