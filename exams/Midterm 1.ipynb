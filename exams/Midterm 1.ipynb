{
 "cells": [
  {
   "cell_type": "markdown",
   "id": "559895d2",
   "metadata": {},
   "source": [
    "# Midterm 1\n",
    "\n",
    "## FINM 36700 - 2024\n",
    "\n",
    "### UChicago Financial Mathematics\n",
    "\n",
    "* Mark Hendricks\n",
    "* hendricks@uchicago.edu"
   ]
  },
  {
   "cell_type": "markdown",
   "id": "01cde8d3",
   "metadata": {},
   "source": [
    "# Instructions"
   ]
  },
  {
   "cell_type": "markdown",
   "id": "cc273c1a",
   "metadata": {},
   "source": [
    "## Please note the following:\n",
    "\n",
    "Points\n",
    "* The exam is `100` points.\n",
    "* You have `125` minutes to complete the exam.\n",
    "* For every minute late you submit the exam, you will lose one point.\n",
    "\n",
    "\n",
    "Submission\n",
    "* You will upload your solution to the `Midterm 1` assignment on Canvas, where you downloaded this. (Be sure to **submit** on Canvas, not just **save** on Canvas.\n",
    "* Your submission should be readable, (the graders can understand your answers,)\n",
    "* and it should **include all code used in your analysis in a file format that the code can be executed.** \n",
    "\n",
    "Rules\n",
    "* The exam is open-material, closed-communication.\n",
    "* You do not need to cite material from the course github repo--you are welcome to use the code posted there without citation.\n",
    "\n",
    "Advice\n",
    "* If you find any question to be unclear, state your interpretation and proceed. We will only answer questions of interpretation if there is a typo, error, etc.\n",
    "* The exam will be graded for partial credit."
   ]
  },
  {
   "cell_type": "markdown",
   "id": "624f27b1",
   "metadata": {},
   "source": [
    "## Data\n",
    "\n",
    "**All data files are found in the class github repo, in the `data` folder.**\n",
    "\n",
    "This exam makes use of the following data files:\n",
    "* `midterm_1_data.xlsx`\n",
    "\n",
    "This file has sheets for...\n",
    "* `stocks excess returns` - excess returns of the 14 biggest companies in the S&P.\n",
    "* `proshares excess returns` - excess returns of ETFs and indexes from the Proshares case study.\n",
    "* `fx carry excess returns` - excess returns from FX products.\n",
    "\n",
    "Note the data is **monthly** for the first two sheets (stocks and proshares). Any annualizations for those two sheets should use `12` months in a year. Annualization for the third sheet (fx carry excess returns) is explained in section 4."
   ]
  },
  {
   "cell_type": "markdown",
   "id": "ebf6e066",
   "metadata": {},
   "source": [
    "## Scoring\n",
    "\n",
    "| Problem | Points |\n",
    "|---------|--------|\n",
    "| 1       | 15     |\n",
    "| 2       | 25     |\n",
    "| 3       | 35     |\n",
    "| 4       | 25     |"
   ]
  },
  {
   "cell_type": "markdown",
   "id": "7fb2fc26",
   "metadata": {},
   "source": [
    "### Each numbered question is worth 5 points unless otherwise specified."
   ]
  },
  {
   "cell_type": "markdown",
   "id": "632ce7d4",
   "metadata": {},
   "source": [
    "***"
   ]
  },
  {
   "cell_type": "markdown",
   "id": "50a39225-f8d7-4a42-a675-fb9716e55932",
   "metadata": {},
   "source": [
    "# 1. Short Answer"
   ]
  },
  {
   "cell_type": "markdown",
   "id": "127d44ea-9d06-4bba-ac24-f19e9376c8d6",
   "metadata": {},
   "source": [
    "#### No Data Needed\n",
    "\n",
    "These problems do not require any data file. Rather, analyze them conceptually. "
   ]
  },
  {
   "cell_type": "markdown",
   "id": "668aaba8-6dcf-4700-9714-36111e1c67af",
   "metadata": {},
   "source": [
    "### 1.\n",
    "\n",
    "#### (10pts)\n",
    "\n",
    "In the mean-variance optimization of `homework 1`, suppose we found the mean excess return of TIPS is 4% annualized.\n",
    "\n",
    "Explain--conceptually--how each of the following would have impacted the new (with TIPS) MV solution.\n",
    "* TIPS is found to have correlation of 0% to `IEF` and 0% to SPY.\n",
    "* TIPS is found to have correlation of 100% to `IEF`.\n",
    "\n",
    "Would it be possible for TIPS to have been found to have 0% correlation to every other asset in `homework 1`? Explain."
   ]
  },
  {
   "cell_type": "markdown",
   "id": "d8405651",
   "metadata": {},
   "source": [
    "TIPS already had quite a low correlation to our portfolio, and that is why it was so valuable, because it reduced the risk profile of our portfolio via diversification. If it would have had a 0% correlation, then that would have made it even more valuable. However, if it was highly corelated to IEF, than we would not have gained as much benefit from it. IEF is the ticker for 10 year treasury bonds, so including another highly correlated bond wouldn't have been very valuable unless TIPS had a large return. It is very unlikely TIPS would have a 0% correlation to the assets. Since there were already bonds in the portfolio, it was bond to have some sort of correlation with them as they share similar properties, like sensitivity to interest rates, etc."
   ]
  },
  {
   "cell_type": "markdown",
   "id": "fe910811-eddc-48ae-9e3c-2b99e6c62dec",
   "metadata": {},
   "source": [
    "### 2. \n",
    "\n",
    "Depending on the application, one may or may not choose to include an intercept term in a linear factor decomposition of an asset’s returns. In what circumstances would I prefer to include an intercept, and in what circumstances would I not?"
   ]
  },
  {
   "cell_type": "markdown",
   "id": "dc0bb916",
   "metadata": {},
   "source": [
    "An intercept makes sense when the intercept is investible. For example, if the intercept is the risk free rate, then we can absolutely use it. However, in the case when it is not investible, like in our example about replicating hedge fund returns where the intercept represented the alpha hedge funds generate, we cannot easily invest in it, and should not include it."
   ]
  },
  {
   "cell_type": "markdown",
   "id": "e38b33d9-8628-4bf5-a662-73da5dfe0ace",
   "metadata": {},
   "source": [
    "***"
   ]
  },
  {
   "cell_type": "markdown",
   "id": "a78ee6f4",
   "metadata": {},
   "source": [
    "# 2. Portfolio Allocation\n",
    "\n",
    "For this question you will only use data from the sheet `stocks excess returns`.\n",
    "\n",
    "It contains excess returns for the 14 largest stocks in the S&P."
   ]
  },
  {
   "cell_type": "markdown",
   "id": "ec8d1b59",
   "metadata": {},
   "source": [
    "### 1.\n",
    "\n",
    "Calculate the tangency portfolio from the start of the sample to December of 2018 (to 2018-12-31), which we call in-sample period. Use the following methods:\n",
    "- Traditional tangency portfolio.\n",
    "- Regularized tangency portfolio (divide by 2 every element outside of the diagonal in the covariance matrix prior to the calculation).\n",
    "\n",
    "Return:\n",
    "- The weights of each asset for the traditional tangency portfolio and the regularized tangency portfolio.\n",
    "- The sum of absolute values of the weights for the traditional tangency portfolio and the regularized tangency portfolio:\n",
    "\n",
    "$$\n",
    "\\sum_{i=1}^{n} |w_i|\n",
    "$$\n"
   ]
  },
  {
   "cell_type": "code",
   "execution_count": 387,
   "id": "8af20b72",
   "metadata": {},
   "outputs": [],
   "source": [
    "#import libraries\n",
    "\n",
    "import pandas as pd\n",
    "import numpy as np\n",
    "import matplotlib.pyplot as plt\n",
    "import seaborn as sns\n",
    "\n",
    "import statsmodels.api as sm\n",
    "import scipy.stats as stats\n",
    "import warnings\n",
    "warnings.filterwarnings(\"ignore\")"
   ]
  },
  {
   "cell_type": "code",
   "execution_count": 388,
   "id": "fc8dc6f5",
   "metadata": {},
   "outputs": [
    {
     "data": {
      "text/html": [
       "<div>\n",
       "<style scoped>\n",
       "    .dataframe tbody tr th:only-of-type {\n",
       "        vertical-align: middle;\n",
       "    }\n",
       "\n",
       "    .dataframe tbody tr th {\n",
       "        vertical-align: top;\n",
       "    }\n",
       "\n",
       "    .dataframe thead th {\n",
       "        text-align: right;\n",
       "    }\n",
       "</style>\n",
       "<table border=\"1\" class=\"dataframe\">\n",
       "  <thead>\n",
       "    <tr style=\"text-align: right;\">\n",
       "      <th></th>\n",
       "      <th>AAPL</th>\n",
       "      <th>AMZN</th>\n",
       "      <th>BRK-B</th>\n",
       "      <th>GOOGL</th>\n",
       "      <th>JNJ</th>\n",
       "      <th>JPM</th>\n",
       "      <th>LLY</th>\n",
       "      <th>META</th>\n",
       "      <th>MSFT</th>\n",
       "      <th>NVDA</th>\n",
       "      <th>TSLA</th>\n",
       "      <th>UNH</th>\n",
       "      <th>V</th>\n",
       "      <th>XOM</th>\n",
       "    </tr>\n",
       "    <tr>\n",
       "      <th>date</th>\n",
       "      <th></th>\n",
       "      <th></th>\n",
       "      <th></th>\n",
       "      <th></th>\n",
       "      <th></th>\n",
       "      <th></th>\n",
       "      <th></th>\n",
       "      <th></th>\n",
       "      <th></th>\n",
       "      <th></th>\n",
       "      <th></th>\n",
       "      <th></th>\n",
       "      <th></th>\n",
       "      <th></th>\n",
       "    </tr>\n",
       "  </thead>\n",
       "  <tbody>\n",
       "    <tr>\n",
       "      <th>2012-06-30</th>\n",
       "      <td>0.010943</td>\n",
       "      <td>0.072609</td>\n",
       "      <td>0.050116</td>\n",
       "      <td>-0.001270</td>\n",
       "      <td>0.082263</td>\n",
       "      <td>0.077918</td>\n",
       "      <td>0.047953</td>\n",
       "      <td>0.050766</td>\n",
       "      <td>0.048052</td>\n",
       "      <td>0.111916</td>\n",
       "      <td>0.060768</td>\n",
       "      <td>0.052919</td>\n",
       "      <td>0.073267</td>\n",
       "      <td>0.088352</td>\n",
       "    </tr>\n",
       "    <tr>\n",
       "      <th>2012-07-31</th>\n",
       "      <td>0.045822</td>\n",
       "      <td>0.021677</td>\n",
       "      <td>0.018121</td>\n",
       "      <td>0.091196</td>\n",
       "      <td>0.024570</td>\n",
       "      <td>0.015958</td>\n",
       "      <td>0.026101</td>\n",
       "      <td>-0.301929</td>\n",
       "      <td>-0.036613</td>\n",
       "      <td>-0.020260</td>\n",
       "      <td>-0.123682</td>\n",
       "      <td>-0.126667</td>\n",
       "      <td>0.044002</td>\n",
       "      <td>0.014958</td>\n",
       "    </tr>\n",
       "    <tr>\n",
       "      <th>2012-08-31</th>\n",
       "      <td>0.093695</td>\n",
       "      <td>0.063985</td>\n",
       "      <td>-0.006075</td>\n",
       "      <td>0.082161</td>\n",
       "      <td>-0.017188</td>\n",
       "      <td>0.031486</td>\n",
       "      <td>0.031399</td>\n",
       "      <td>-0.168306</td>\n",
       "      <td>0.052556</td>\n",
       "      <td>0.036008</td>\n",
       "      <td>0.039935</td>\n",
       "      <td>0.062649</td>\n",
       "      <td>-0.004849</td>\n",
       "      <td>0.011533</td>\n",
       "    </tr>\n",
       "    <tr>\n",
       "      <th>2012-09-30</th>\n",
       "      <td>0.002878</td>\n",
       "      <td>0.024450</td>\n",
       "      <td>0.045849</td>\n",
       "      <td>0.101397</td>\n",
       "      <td>0.022030</td>\n",
       "      <td>0.090012</td>\n",
       "      <td>0.055749</td>\n",
       "      <td>0.199417</td>\n",
       "      <td>-0.034312</td>\n",
       "      <td>-0.049099</td>\n",
       "      <td>0.026730</td>\n",
       "      <td>0.024657</td>\n",
       "      <td>0.047099</td>\n",
       "      <td>0.047619</td>\n",
       "    </tr>\n",
       "    <tr>\n",
       "      <th>2012-10-31</th>\n",
       "      <td>-0.107527</td>\n",
       "      <td>-0.084192</td>\n",
       "      <td>-0.020903</td>\n",
       "      <td>-0.098271</td>\n",
       "      <td>0.027789</td>\n",
       "      <td>0.037321</td>\n",
       "      <td>0.025805</td>\n",
       "      <td>-0.025320</td>\n",
       "      <td>-0.040922</td>\n",
       "      <td>-0.101877</td>\n",
       "      <td>-0.039204</td>\n",
       "      <td>0.010720</td>\n",
       "      <td>0.033436</td>\n",
       "      <td>-0.002989</td>\n",
       "    </tr>\n",
       "  </tbody>\n",
       "</table>\n",
       "</div>"
      ],
      "text/plain": [
       "                AAPL      AMZN     BRK-B     GOOGL       JNJ       JPM  \\\n",
       "date                                                                     \n",
       "2012-06-30  0.010943  0.072609  0.050116 -0.001270  0.082263  0.077918   \n",
       "2012-07-31  0.045822  0.021677  0.018121  0.091196  0.024570  0.015958   \n",
       "2012-08-31  0.093695  0.063985 -0.006075  0.082161 -0.017188  0.031486   \n",
       "2012-09-30  0.002878  0.024450  0.045849  0.101397  0.022030  0.090012   \n",
       "2012-10-31 -0.107527 -0.084192 -0.020903 -0.098271  0.027789  0.037321   \n",
       "\n",
       "                 LLY      META      MSFT      NVDA      TSLA       UNH  \\\n",
       "date                                                                     \n",
       "2012-06-30  0.047953  0.050766  0.048052  0.111916  0.060768  0.052919   \n",
       "2012-07-31  0.026101 -0.301929 -0.036613 -0.020260 -0.123682 -0.126667   \n",
       "2012-08-31  0.031399 -0.168306  0.052556  0.036008  0.039935  0.062649   \n",
       "2012-09-30  0.055749  0.199417 -0.034312 -0.049099  0.026730  0.024657   \n",
       "2012-10-31  0.025805 -0.025320 -0.040922 -0.101877 -0.039204  0.010720   \n",
       "\n",
       "                   V       XOM  \n",
       "date                            \n",
       "2012-06-30  0.073267  0.088352  \n",
       "2012-07-31  0.044002  0.014958  \n",
       "2012-08-31 -0.004849  0.011533  \n",
       "2012-09-30  0.047099  0.047619  \n",
       "2012-10-31  0.033436 -0.002989  "
      ]
     },
     "execution_count": 388,
     "metadata": {},
     "output_type": "execute_result"
    }
   ],
   "source": [
    "#import data\n",
    "\n",
    "FILEIN = '../data/midterm_1_data.xlsx'\n",
    "sheet_exrets = 'stocks excess returns'\n",
    "retsx = pd.read_excel(FILEIN, sheet_name=sheet_exrets).set_index('date')\n",
    "\n",
    "retsx.head()"
   ]
  },
  {
   "cell_type": "code",
   "execution_count": 389,
   "id": "c9bc58b0",
   "metadata": {},
   "outputs": [],
   "source": [
    "#splitting up in sample and out of sample data\n",
    "retsx_IS = retsx.loc[:'2018']\n",
    "retsx_OOS = retsx.loc['2019':]"
   ]
  },
  {
   "cell_type": "code",
   "execution_count": 390,
   "id": "0c265387",
   "metadata": {},
   "outputs": [],
   "source": [
    "#using the function from the practice midterm for the tangency portfolio\n",
    "\n",
    "def tangency_weights(returns, cov_mat = 1):\n",
    "    \n",
    "    if cov_mat ==1:\n",
    "        cov_inv = np.linalg.inv((returns.cov()*12))\n",
    "    else:\n",
    "        cov = returns.cov()\n",
    "        covmat_diag = np.diag(np.diag((cov)))\n",
    "        covmat = cov_mat * cov + (1-cov_mat) * covmat_diag\n",
    "        cov_inv = np.linalg.inv((covmat*12))  \n",
    "        \n",
    "    ones = np.ones((returns.shape[1], 1))\n",
    "\n",
    "    mu = returns.mean().values.reshape(-1, 1)  # Convert mu to a column vector\n",
    "\n",
    "    scaling = 1 / (ones.T @ cov_inv @ mu)  # Transpose ones to make it a row vector\n",
    "    \n",
    "    tangent_return = scaling*(cov_inv @ mu)\n",
    "\n",
    "    tangency_wts = pd.DataFrame(index = returns.columns[:], data = tangent_return[:], columns = ['Tangent Weights'] )\n",
    "        \n",
    "    return tangency_wts"
   ]
  },
  {
   "cell_type": "code",
   "execution_count": 391,
   "id": "d9edc88a",
   "metadata": {},
   "outputs": [
    {
     "data": {
      "text/html": [
       "<div>\n",
       "<style scoped>\n",
       "    .dataframe tbody tr th:only-of-type {\n",
       "        vertical-align: middle;\n",
       "    }\n",
       "\n",
       "    .dataframe tbody tr th {\n",
       "        vertical-align: top;\n",
       "    }\n",
       "\n",
       "    .dataframe thead th {\n",
       "        text-align: right;\n",
       "    }\n",
       "</style>\n",
       "<table border=\"1\" class=\"dataframe\">\n",
       "  <thead>\n",
       "    <tr style=\"text-align: right;\">\n",
       "      <th></th>\n",
       "      <th>tangency</th>\n",
       "      <th>regularized</th>\n",
       "    </tr>\n",
       "  </thead>\n",
       "  <tbody>\n",
       "    <tr>\n",
       "      <th>AAPL</th>\n",
       "      <td>-0.127836</td>\n",
       "      <td>-0.014706</td>\n",
       "    </tr>\n",
       "    <tr>\n",
       "      <th>AMZN</th>\n",
       "      <td>-0.040576</td>\n",
       "      <td>0.03631</td>\n",
       "    </tr>\n",
       "    <tr>\n",
       "      <th>BRK-B</th>\n",
       "      <td>0.131333</td>\n",
       "      <td>0.109162</td>\n",
       "    </tr>\n",
       "    <tr>\n",
       "      <th>GOOGL</th>\n",
       "      <td>0.025968</td>\n",
       "      <td>0.050545</td>\n",
       "    </tr>\n",
       "    <tr>\n",
       "      <th>JNJ</th>\n",
       "      <td>0.130408</td>\n",
       "      <td>0.09919</td>\n",
       "    </tr>\n",
       "    <tr>\n",
       "      <th>JPM</th>\n",
       "      <td>-0.013929</td>\n",
       "      <td>0.053691</td>\n",
       "    </tr>\n",
       "    <tr>\n",
       "      <th>LLY</th>\n",
       "      <td>0.352670</td>\n",
       "      <td>0.214949</td>\n",
       "    </tr>\n",
       "    <tr>\n",
       "      <th>META</th>\n",
       "      <td>0.030541</td>\n",
       "      <td>0.034896</td>\n",
       "    </tr>\n",
       "    <tr>\n",
       "      <th>MSFT</th>\n",
       "      <td>0.137917</td>\n",
       "      <td>0.08997</td>\n",
       "    </tr>\n",
       "    <tr>\n",
       "      <th>NVDA</th>\n",
       "      <td>0.163501</td>\n",
       "      <td>0.071696</td>\n",
       "    </tr>\n",
       "    <tr>\n",
       "      <th>TSLA</th>\n",
       "      <td>0.030066</td>\n",
       "      <td>0.036511</td>\n",
       "    </tr>\n",
       "    <tr>\n",
       "      <th>UNH</th>\n",
       "      <td>0.290230</td>\n",
       "      <td>0.189845</td>\n",
       "    </tr>\n",
       "    <tr>\n",
       "      <th>V</th>\n",
       "      <td>0.306209</td>\n",
       "      <td>0.184558</td>\n",
       "    </tr>\n",
       "    <tr>\n",
       "      <th>XOM</th>\n",
       "      <td>-0.416502</td>\n",
       "      <td>-0.156617</td>\n",
       "    </tr>\n",
       "  </tbody>\n",
       "</table>\n",
       "</div>"
      ],
      "text/plain": [
       "       tangency regularized\n",
       "AAPL  -0.127836   -0.014706\n",
       "AMZN  -0.040576     0.03631\n",
       "BRK-B  0.131333    0.109162\n",
       "GOOGL  0.025968    0.050545\n",
       "JNJ    0.130408     0.09919\n",
       "JPM   -0.013929    0.053691\n",
       "LLY    0.352670    0.214949\n",
       "META   0.030541    0.034896\n",
       "MSFT   0.137917     0.08997\n",
       "NVDA   0.163501    0.071696\n",
       "TSLA   0.030066    0.036511\n",
       "UNH    0.290230    0.189845\n",
       "V      0.306209    0.184558\n",
       "XOM   -0.416502   -0.156617"
      ]
     },
     "execution_count": 391,
     "metadata": {},
     "output_type": "execute_result"
    }
   ],
   "source": [
    "wts = pd.DataFrame(index = retsx_IS.columns, columns=['tangency','regularized'])\n",
    "wts.loc[:,'tangency'] = tangency_weights(retsx_IS, cov_mat = 1).values\n",
    "wts.loc[:,'regularized'] = tangency_weights(retsx_IS, cov_mat = (1/2)).values #regularizing by a factor of 1/2 as indicated in the question\n",
    "wts"
   ]
  },
  {
   "cell_type": "code",
   "execution_count": 392,
   "id": "03ecdff5",
   "metadata": {},
   "outputs": [
    {
     "data": {
      "text/plain": [
       "tangency       2.197687\n",
       "regularized    1.342647\n",
       "dtype: object"
      ]
     },
     "execution_count": 392,
     "metadata": {},
     "output_type": "execute_result"
    }
   ],
   "source": [
    "#chat GPT prompt: get absoulte value of each row in a data frame\n",
    "wts_absolute = wts.abs()\n",
    "sum_absolute = wts_absolute.sum()\n",
    "sum_absolute"
   ]
  },
  {
   "cell_type": "markdown",
   "id": "31da8bdc",
   "metadata": {},
   "source": [
    "### 2.\n",
    "\n",
    "Calculate the annualized summary statistics (mean, Sharpe, vol) of both portfolios in-sample.\n"
   ]
  },
  {
   "cell_type": "code",
   "execution_count": 393,
   "id": "9f72a5f0",
   "metadata": {},
   "outputs": [],
   "source": [
    "#importing performance summary code from practice midterm\n",
    "\n",
    "def performance_summary(return_data, annualization = 12):\n",
    "    \"\"\" \n",
    "        Returns the Performance Stats for given set of returns\n",
    "        Inputs: \n",
    "            return_data - DataFrame with Date index and Monthly Returns for different assets/strategies.\n",
    "        Output:\n",
    "            summary_stats - DataFrame with annualized mean return, vol, sharpe ratio. Skewness, Excess Kurtosis, Var (0.5) and\n",
    "                            CVaR (0.5) and drawdown based on monthly returns. \n",
    "    \"\"\"\n",
    "\n",
    "    if isinstance(return_data, pd.Series):\n",
    "        return_data = return_data.to_frame('Returns') \n",
    "        \n",
    "    summary_stats = return_data.mean().to_frame('Mean').apply(lambda x: x*annualization)\n",
    "    summary_stats['Volatility'] = return_data.std().apply(lambda x: x*np.sqrt(annualization))\n",
    "    summary_stats['Sharpe Ratio'] = summary_stats['Mean']/summary_stats['Volatility']\n",
    "    \n",
    "    summary_stats['Skewness'] = return_data.skew()\n",
    "    summary_stats['Excess Kurtosis'] = return_data.kurtosis()\n",
    "    summary_stats['VaR (0.05)'] = return_data.quantile(.05, axis = 0)\n",
    "    summary_stats['CVaR (0.05)'] = return_data[return_data <= return_data.quantile(.05, axis = 0)].mean()\n",
    "    summary_stats['Min'] = return_data.min()\n",
    "    summary_stats['Max'] = return_data.max()\n",
    "    \n",
    "    wealth_index = 1000*(1+return_data).cumprod()\n",
    "    previous_peaks = wealth_index.cummax()\n",
    "    drawdowns = (wealth_index - previous_peaks)/previous_peaks\n",
    "\n",
    "    summary_stats['Max Drawdown'] = drawdowns.min()\n",
    "    summary_stats['Peak'] = [previous_peaks[col][:drawdowns[col].idxmin()].idxmax() for col in previous_peaks.columns]\n",
    "    summary_stats['Bottom'] = drawdowns.idxmin()\n",
    "    \n",
    "    recovery_date = []\n",
    "    for col in wealth_index.columns:\n",
    "        prev_max = previous_peaks[col][:drawdowns[col].idxmin()].max()\n",
    "        recovery_wealth = pd.DataFrame([wealth_index[col][drawdowns[col].idxmin():]]).T\n",
    "        recovery_date.append(recovery_wealth[recovery_wealth[col] >= prev_max].index.min())\n",
    "    summary_stats['Recovery'] = recovery_date\n",
    "    \n",
    "    return summary_stats"
   ]
  },
  {
   "cell_type": "code",
   "execution_count": 394,
   "id": "360e869a",
   "metadata": {},
   "outputs": [
    {
     "data": {
      "text/html": [
       "<div>\n",
       "<style scoped>\n",
       "    .dataframe tbody tr th:only-of-type {\n",
       "        vertical-align: middle;\n",
       "    }\n",
       "\n",
       "    .dataframe tbody tr th {\n",
       "        vertical-align: top;\n",
       "    }\n",
       "\n",
       "    .dataframe thead th {\n",
       "        text-align: right;\n",
       "    }\n",
       "</style>\n",
       "<table border=\"1\" class=\"dataframe\">\n",
       "  <thead>\n",
       "    <tr style=\"text-align: right;\">\n",
       "      <th></th>\n",
       "      <th>Mean</th>\n",
       "      <th>Volatility</th>\n",
       "      <th>Sharpe Ratio</th>\n",
       "    </tr>\n",
       "  </thead>\n",
       "  <tbody>\n",
       "    <tr>\n",
       "      <th>Tangency Portfolio</th>\n",
       "      <td>0.348256</td>\n",
       "      <td>0.134053</td>\n",
       "      <td>2.597896</td>\n",
       "    </tr>\n",
       "    <tr>\n",
       "      <th>Regularized Portfolio</th>\n",
       "      <td>0.276599</td>\n",
       "      <td>0.114184</td>\n",
       "      <td>2.422392</td>\n",
       "    </tr>\n",
       "  </tbody>\n",
       "</table>\n",
       "</div>"
      ],
      "text/plain": [
       "                           Mean  Volatility Sharpe Ratio\n",
       "Tangency Portfolio     0.348256    0.134053     2.597896\n",
       "Regularized Portfolio  0.276599    0.114184     2.422392"
      ]
     },
     "execution_count": 394,
     "metadata": {},
     "output_type": "execute_result"
    }
   ],
   "source": [
    "tan_statistics = performance_summary(retsx_IS @ wts['tangency'] , 12)\n",
    "reg_statistics = performance_summary(retsx_IS @ wts['regularized'] , 12)\n",
    "\n",
    "summary_df = pd.DataFrame(columns=['Mean', 'Volatility', 'Sharpe Ratio'])\n",
    "selected_columns1 = tan_statistics[['Mean', 'Volatility', 'Sharpe Ratio']]\n",
    "selected_columns1.index = ['Tangency Portfolio']\n",
    "\n",
    "selected_columns2 = reg_statistics[['Mean', 'Volatility', 'Sharpe Ratio']]\n",
    "selected_columns2.index = ['Regularized Portfolio']\n",
    "\n",
    "summary_df = pd.concat([summary_df, selected_columns1])\n",
    "summary_df = pd.concat([summary_df, selected_columns2])\n",
    "summary_df\n"
   ]
  },
  {
   "cell_type": "markdown",
   "id": "eb4f7e39",
   "metadata": {},
   "source": [
    "### 3.\n",
    "\n",
    "Use the weights calculated in question (2.2) to produce portfolio returns out-of-sample for both the Traditional and Regularized portfolio (from January 2019 onwards). \n",
    "\n",
    "Report the **last 3 returns** of both portfolios in the out-of-sample (the traditional tangency portfolio and the regularized tangency portfolio)."
   ]
  },
  {
   "cell_type": "code",
   "execution_count": 395,
   "id": "efcaed23",
   "metadata": {},
   "outputs": [
    {
     "name": "stdout",
     "output_type": "stream",
     "text": [
      "Last 3 Portfolio Values:\n",
      "Tangency Portfolio\n",
      "date\n",
      "2024-07-31    5033.416466\n",
      "2024-08-31    5543.002099\n",
      "2024-09-30    5403.529786\n",
      "dtype: float64\n",
      "\n",
      "\n",
      "Regularized Portfolio\n",
      "date\n",
      "2024-07-31     4040.67216\n",
      "2024-08-31      4301.8046\n",
      "2024-09-30    4230.921856\n",
      "dtype: object\n"
     ]
    }
   ],
   "source": [
    "#Chat GPT prompt: how to calulcate these weights vs these returns to calcualte a new weighted returns dataframe \n",
    "weighted_returns_tangency = retsx_OOS * wts['tangency'].values\n",
    "weighted_returns_regularized = retsx_OOS * wts['regularized'].values\n",
    "\n",
    "total_weighted_returns_tangency = weighted_returns_tangency.sum(axis=1)\n",
    "total_weighted_returns_regularized = weighted_returns_regularized.sum(axis=1)\n",
    "\n",
    "starting_value = 1000\n",
    "\n",
    "tangency_portfolio_value = starting_value * (1 + total_weighted_returns_tangency).cumprod()\n",
    "regularized_portfolio_value = starting_value * (1 + total_weighted_returns_regularized).cumprod()\n",
    "\n",
    "print(\"Last 3 Portfolio Values:\")\n",
    "print(\"Tangency Portfolio\")\n",
    "print(tangency_portfolio_value.tail(3))\n",
    "\n",
    "print(\"\\n\")\n",
    "\n",
    "print(\"Regularized Portfolio\")\n",
    "print(regularized_portfolio_value.tail(3))"
   ]
  },
  {
   "cell_type": "markdown",
   "id": "ee6aa5f9-4201-4600-b8ff-48c9af2ff5c3",
   "metadata": {},
   "source": [
    "### 4.\n",
    "\n",
    "Report the annualized summary statistics (Mean, Vol and Sharpe) of both portfolios in the out-of-sample.\n",
    "\n",
    "Note: you are using the weights optimized for the in-sample and generating statistics with the out-of-sample returns."
   ]
  },
  {
   "cell_type": "code",
   "execution_count": 396,
   "id": "15f3a7e6",
   "metadata": {},
   "outputs": [
    {
     "data": {
      "text/html": [
       "<div>\n",
       "<style scoped>\n",
       "    .dataframe tbody tr th:only-of-type {\n",
       "        vertical-align: middle;\n",
       "    }\n",
       "\n",
       "    .dataframe tbody tr th {\n",
       "        vertical-align: top;\n",
       "    }\n",
       "\n",
       "    .dataframe thead th {\n",
       "        text-align: right;\n",
       "    }\n",
       "</style>\n",
       "<table border=\"1\" class=\"dataframe\">\n",
       "  <thead>\n",
       "    <tr style=\"text-align: right;\">\n",
       "      <th></th>\n",
       "      <th>Mean</th>\n",
       "      <th>Volatility</th>\n",
       "      <th>Sharpe Ratio</th>\n",
       "    </tr>\n",
       "  </thead>\n",
       "  <tbody>\n",
       "    <tr>\n",
       "      <th>Tangency Portfolio</th>\n",
       "      <td>0.321558</td>\n",
       "      <td>0.222352</td>\n",
       "      <td>1.446167</td>\n",
       "    </tr>\n",
       "    <tr>\n",
       "      <th>Regularized Portfolio</th>\n",
       "      <td>0.268686</td>\n",
       "      <td>0.176334</td>\n",
       "      <td>1.523729</td>\n",
       "    </tr>\n",
       "  </tbody>\n",
       "</table>\n",
       "</div>"
      ],
      "text/plain": [
       "                           Mean  Volatility Sharpe Ratio\n",
       "Tangency Portfolio     0.321558    0.222352     1.446167\n",
       "Regularized Portfolio  0.268686    0.176334     1.523729"
      ]
     },
     "execution_count": 396,
     "metadata": {},
     "output_type": "execute_result"
    }
   ],
   "source": [
    "tan_statistics = performance_summary(retsx_OOS @ wts['tangency'] , 12)\n",
    "reg_statistics = performance_summary(retsx_OOS @ wts['regularized'] , 12)\n",
    "\n",
    "summary_df = pd.DataFrame(columns=['Mean', 'Volatility', 'Sharpe Ratio'])\n",
    "selected_columns1 = tan_statistics[['Mean', 'Volatility', 'Sharpe Ratio']]\n",
    "selected_columns1.index = ['Tangency Portfolio']\n",
    "\n",
    "selected_columns2 = reg_statistics[['Mean', 'Volatility', 'Sharpe Ratio']]\n",
    "selected_columns2.index = ['Regularized Portfolio']\n",
    "\n",
    "summary_df = pd.concat([summary_df, selected_columns1])\n",
    "summary_df = pd.concat([summary_df, selected_columns2])\n",
    "summary_df"
   ]
  },
  {
   "cell_type": "markdown",
   "id": "2147058f-7c1b-4f56-ae94-d8ae77b5a96d",
   "metadata": {},
   "source": [
    "### 5.\n",
    "Which portfolio has better adjusted by risk returns in the out-of-sample? Could there be a mathematical/optimization reason why one portfolio had better adjusted by risk performance? \n",
    "\n",
    "Relate your answer to your findings in question (2.2) (Sum of absolute weights in the traditional and regularized tangency portfolio.)"
   ]
  },
  {
   "cell_type": "markdown",
   "id": "9c90d8c8",
   "metadata": {},
   "source": [
    "The regularized portfolio has better performance out of sample, which is what we saw in HW1. This is due to the way we \"optimize\" our portfolio. The matrix math ends up causing some weights to be too extreme without regularization, which is why the abs value of weights for the tangency portfolio are higher, causing the model to perform fine in sample but struggle out of sample."
   ]
  },
  {
   "cell_type": "markdown",
   "id": "0a8eda25",
   "metadata": {},
   "source": [
    "***"
   ]
  },
  {
   "cell_type": "markdown",
   "id": "45d9f9ca",
   "metadata": {},
   "source": [
    "# 3. Hedging and Replication\n",
    "\n",
    "For this question you will only use data from the sheet `proshares returns`.\n",
    "\n",
    "The following assets excess returns are available in this sheet:\n",
    "\n",
    "- **HDG US Equity**: ProShares Hedge Replication ET\n",
    "- **QAI US Equity**: NYLI Hedge Multi-Strategy Trac\n",
    "- **SPY US Equity**: SPDR S&P 500 ETF Trust\n",
    "- **EEM US Equity**: iShares MSCI Emerging Markets\n",
    "- **EFA US Equity**: iShares MSCI EAFE ETF\n",
    "- **EUO US Equity**: ProShares UltraShort Euro\n",
    "- **IWM US Equity**: iShares Russell 2000 ETF\n",
    "- **SPXU US Equity**: ProShares UltraPro Short S&P 5\n",
    "- **UPRO US Equity**: ProShares UltraPro S&P 500"
   ]
  },
  {
   "cell_type": "code",
   "execution_count": 397,
   "id": "200e7cf5",
   "metadata": {},
   "outputs": [
    {
     "data": {
      "text/html": [
       "<div>\n",
       "<style scoped>\n",
       "    .dataframe tbody tr th:only-of-type {\n",
       "        vertical-align: middle;\n",
       "    }\n",
       "\n",
       "    .dataframe tbody tr th {\n",
       "        vertical-align: top;\n",
       "    }\n",
       "\n",
       "    .dataframe thead th {\n",
       "        text-align: right;\n",
       "    }\n",
       "</style>\n",
       "<table border=\"1\" class=\"dataframe\">\n",
       "  <thead>\n",
       "    <tr style=\"text-align: right;\">\n",
       "      <th></th>\n",
       "      <th>HDG US Equity</th>\n",
       "      <th>QAI US Equity</th>\n",
       "      <th>SPY US Equity</th>\n",
       "      <th>EEM US Equity</th>\n",
       "      <th>EFA US Equity</th>\n",
       "      <th>EUO US Equity</th>\n",
       "      <th>IWM US Equity</th>\n",
       "      <th>SPXU US Equity</th>\n",
       "      <th>UPRO US Equity</th>\n",
       "    </tr>\n",
       "    <tr>\n",
       "      <th>date</th>\n",
       "      <th></th>\n",
       "      <th></th>\n",
       "      <th></th>\n",
       "      <th></th>\n",
       "      <th></th>\n",
       "      <th></th>\n",
       "      <th></th>\n",
       "      <th></th>\n",
       "      <th></th>\n",
       "    </tr>\n",
       "  </thead>\n",
       "  <tbody>\n",
       "    <tr>\n",
       "      <th>2011-08-31</th>\n",
       "      <td>-0.027036</td>\n",
       "      <td>-0.006489</td>\n",
       "      <td>-0.054976</td>\n",
       "      <td>-0.092549</td>\n",
       "      <td>-0.087549</td>\n",
       "      <td>-0.005889</td>\n",
       "      <td>-0.088913</td>\n",
       "      <td>0.056476</td>\n",
       "      <td>-0.210854</td>\n",
       "    </tr>\n",
       "    <tr>\n",
       "      <th>2011-09-30</th>\n",
       "      <td>-0.032466</td>\n",
       "      <td>-0.022141</td>\n",
       "      <td>-0.069420</td>\n",
       "      <td>-0.179063</td>\n",
       "      <td>-0.108082</td>\n",
       "      <td>0.142180</td>\n",
       "      <td>-0.111505</td>\n",
       "      <td>0.190006</td>\n",
       "      <td>-0.207003</td>\n",
       "    </tr>\n",
       "    <tr>\n",
       "      <th>2011-10-31</th>\n",
       "      <td>0.050531</td>\n",
       "      <td>0.025239</td>\n",
       "      <td>0.109147</td>\n",
       "      <td>0.162986</td>\n",
       "      <td>0.096274</td>\n",
       "      <td>-0.069502</td>\n",
       "      <td>0.151011</td>\n",
       "      <td>-0.298828</td>\n",
       "      <td>0.326066</td>\n",
       "    </tr>\n",
       "    <tr>\n",
       "      <th>2011-11-30</th>\n",
       "      <td>-0.028608</td>\n",
       "      <td>-0.007964</td>\n",
       "      <td>-0.004064</td>\n",
       "      <td>-0.019724</td>\n",
       "      <td>-0.021765</td>\n",
       "      <td>0.054627</td>\n",
       "      <td>-0.003784</td>\n",
       "      <td>-0.035515</td>\n",
       "      <td>-0.033502</td>\n",
       "    </tr>\n",
       "    <tr>\n",
       "      <th>2011-12-31</th>\n",
       "      <td>0.012875</td>\n",
       "      <td>0.001822</td>\n",
       "      <td>0.010449</td>\n",
       "      <td>-0.042649</td>\n",
       "      <td>-0.021744</td>\n",
       "      <td>0.075581</td>\n",
       "      <td>0.005144</td>\n",
       "      <td>-0.051986</td>\n",
       "      <td>0.022939</td>\n",
       "    </tr>\n",
       "  </tbody>\n",
       "</table>\n",
       "</div>"
      ],
      "text/plain": [
       "            HDG US Equity  QAI US Equity  SPY US Equity  EEM US Equity  \\\n",
       "date                                                                     \n",
       "2011-08-31      -0.027036      -0.006489      -0.054976      -0.092549   \n",
       "2011-09-30      -0.032466      -0.022141      -0.069420      -0.179063   \n",
       "2011-10-31       0.050531       0.025239       0.109147       0.162986   \n",
       "2011-11-30      -0.028608      -0.007964      -0.004064      -0.019724   \n",
       "2011-12-31       0.012875       0.001822       0.010449      -0.042649   \n",
       "\n",
       "            EFA US Equity  EUO US Equity  IWM US Equity  SPXU US Equity  \\\n",
       "date                                                                      \n",
       "2011-08-31      -0.087549      -0.005889      -0.088913        0.056476   \n",
       "2011-09-30      -0.108082       0.142180      -0.111505        0.190006   \n",
       "2011-10-31       0.096274      -0.069502       0.151011       -0.298828   \n",
       "2011-11-30      -0.021765       0.054627      -0.003784       -0.035515   \n",
       "2011-12-31      -0.021744       0.075581       0.005144       -0.051986   \n",
       "\n",
       "            UPRO US Equity  \n",
       "date                        \n",
       "2011-08-31       -0.210854  \n",
       "2011-09-30       -0.207003  \n",
       "2011-10-31        0.326066  \n",
       "2011-11-30       -0.033502  \n",
       "2011-12-31        0.022939  "
      ]
     },
     "execution_count": 397,
     "metadata": {},
     "output_type": "execute_result"
    }
   ],
   "source": [
    "FILEIN = '../data/midterm_1_data.xlsx'\n",
    "sheet_exrets = 'proshares excess returns'\n",
    "retidx = pd.read_excel(FILEIN, sheet_name=sheet_exrets).set_index('date')\n",
    "\n",
    "retidx.head()"
   ]
  },
  {
   "cell_type": "markdown",
   "id": "b6e16122",
   "metadata": {},
   "source": [
    "### 1. \n",
    "\n",
    "You work at a hedge fund.\n",
    "\n",
    "Suppose the hedge fund is long $1 million of HDG and wants to hedge the position.\n",
    "\n",
    "A junior analyst suggests that we can hedge our position by looking at some select ETFs, and then taking a position in the ETFs that will offset the risk of our HDG position.\n",
    "\n",
    "They pick QAI, SPY, EEM, UPRO, SPXU, IWM, and EFA.\n",
    "\n",
    "What dollar position would we be taking in each ETF to hedge your HDG position?"
   ]
  },
  {
   "cell_type": "code",
   "execution_count": 398,
   "id": "fcab5284",
   "metadata": {},
   "outputs": [
    {
     "data": {
      "text/html": [
       "<div>\n",
       "<style scoped>\n",
       "    .dataframe tbody tr th:only-of-type {\n",
       "        vertical-align: middle;\n",
       "    }\n",
       "\n",
       "    .dataframe tbody tr th {\n",
       "        vertical-align: top;\n",
       "    }\n",
       "\n",
       "    .dataframe thead th {\n",
       "        text-align: right;\n",
       "    }\n",
       "</style>\n",
       "<table border=\"1\" class=\"dataframe\">\n",
       "  <thead>\n",
       "    <tr style=\"text-align: right;\">\n",
       "      <th></th>\n",
       "      <th>HDG US Equity</th>\n",
       "    </tr>\n",
       "  </thead>\n",
       "  <tbody>\n",
       "    <tr>\n",
       "      <th>QAI US Equity</th>\n",
       "      <td>$-151,537</td>\n",
       "    </tr>\n",
       "    <tr>\n",
       "      <th>SPY US Equity</th>\n",
       "      <td>$-515,376</td>\n",
       "    </tr>\n",
       "    <tr>\n",
       "      <th>EEM US Equity</th>\n",
       "      <td>$-44,816</td>\n",
       "    </tr>\n",
       "    <tr>\n",
       "      <th>UPRO US Equity</th>\n",
       "      <td>$140,222</td>\n",
       "    </tr>\n",
       "    <tr>\n",
       "      <th>SPXU US Equity</th>\n",
       "      <td>$-32,654</td>\n",
       "    </tr>\n",
       "    <tr>\n",
       "      <th>IWM US Equity</th>\n",
       "      <td>$-139,036</td>\n",
       "    </tr>\n",
       "    <tr>\n",
       "      <th>EFA US Equity</th>\n",
       "      <td>$-117,000</td>\n",
       "    </tr>\n",
       "    <tr>\n",
       "      <th>Total</th>\n",
       "      <td>$-860,198</td>\n",
       "    </tr>\n",
       "  </tbody>\n",
       "</table>\n",
       "</div>"
      ],
      "text/plain": [
       "               HDG US Equity\n",
       "QAI US Equity      $-151,537\n",
       "SPY US Equity      $-515,376\n",
       "EEM US Equity       $-44,816\n",
       "UPRO US Equity      $140,222\n",
       "SPXU US Equity      $-32,654\n",
       "IWM US Equity      $-139,036\n",
       "EFA US Equity      $-117,000\n",
       "Total              $-860,198"
      ]
     },
     "execution_count": 398,
     "metadata": {},
     "output_type": "execute_result"
    }
   ],
   "source": [
    "#bringing this in from the practice midterm\n",
    "\n",
    "y = retidx['HDG US Equity']   \n",
    "X = sm.add_constant(retidx[['QAI US Equity', 'SPY US Equity', 'EEM US Equity', 'UPRO US Equity', 'SPXU US Equity', 'IWM US Equity', 'EFA US Equity']])\n",
    "model = sm.OLS(y,X).fit()\n",
    "\n",
    "betas = model.params\n",
    "\n",
    "exposure = betas * -1_000_000\n",
    "exposure = exposure.drop('const')\n",
    "exposure = pd.DataFrame(exposure, columns=['HDG US Equity'])\n",
    "exposure.index = exposure.index.str.replace('Beta', '')\n",
    "exposure.loc['Total'] = exposure.sum()\n",
    "exposure['HDG US Equity'] = exposure['HDG US Equity'].map('${:,.0f}'.format)\n",
    "\n",
    "exposure"
   ]
  },
  {
   "cell_type": "markdown",
   "id": "4917ec2d",
   "metadata": {},
   "source": [
    "### 2.\n",
    "\n",
    "#### (7pts)\n",
    "What is the gross notional of the hedge?\n",
    "\n",
    "What is the R-squared of the hedge?\n",
    "\n",
    "What do these two statistics indicate about the practical use of this hedge?"
   ]
  },
  {
   "cell_type": "code",
   "execution_count": 399,
   "id": "77c3f155",
   "metadata": {},
   "outputs": [
    {
     "data": {
      "text/plain": [
       "0.9128835765562017"
      ]
     },
     "execution_count": 399,
     "metadata": {},
     "output_type": "execute_result"
    }
   ],
   "source": [
    "rsquared = model.rsquared\n",
    "rsquared"
   ]
  },
  {
   "cell_type": "markdown",
   "id": "2a9cef5c",
   "metadata": {},
   "source": [
    "The gross notional of this hedge is about negative $860k, and the RSquared is fairly high, at about .91. This means while we can hedge HDG effectively, it is going to require a LOT of capital, almost an equivalent amount as the long position. This will not be optimal from a liquidity point of view."
   ]
  },
  {
   "attachments": {},
   "cell_type": "markdown",
   "id": "fc40b82a-d979-42c7-bbca-f7ede2c133f3",
   "metadata": {},
   "source": [
    "### 3.\n",
    "\n",
    "Suppose instead we don't want to hedge our position. We believe that the value of HDG can be *entirely* determined by some combination of the other ETFs. \n",
    "\n",
    "So, you propose the following model:\n",
    "\n",
    "$$\n",
    "HDG_t = \\beta_1 QAI_t + \\beta_2 SPY_t + \\beta_3 EEM_t + \\varepsilon_t\n",
    "$$\n",
    "\n",
    "We think any difference between the value of HDG and the value of the ETFs is a mispricing, and will revert to 0 in the future. We call such a strategy \"trading the residuals\".\n",
    "\n",
    "Therefore, if $\\varepsilon_t > 0$, we should be short HDG and long the basket, and if $\\varepsilon_t < 0$, we should be long HDG and short the basket.\n",
    "\n",
    "Now...\n",
    "* Run the model specified above and report the $\\beta$'s values.\n",
    "* After, create the \"basket\" portfolio, using the $\\beta$'s as weights (they do not need to add up to one). Report the final three values."
   ]
  },
  {
   "cell_type": "code",
   "execution_count": 400,
   "id": "aaed28c5",
   "metadata": {},
   "outputs": [
    {
     "data": {
      "text/html": [
       "<div>\n",
       "<style scoped>\n",
       "    .dataframe tbody tr th:only-of-type {\n",
       "        vertical-align: middle;\n",
       "    }\n",
       "\n",
       "    .dataframe tbody tr th {\n",
       "        vertical-align: top;\n",
       "    }\n",
       "\n",
       "    .dataframe thead th {\n",
       "        text-align: right;\n",
       "    }\n",
       "</style>\n",
       "<table border=\"1\" class=\"dataframe\">\n",
       "  <thead>\n",
       "    <tr style=\"text-align: right;\">\n",
       "      <th></th>\n",
       "      <th>Betas</th>\n",
       "    </tr>\n",
       "  </thead>\n",
       "  <tbody>\n",
       "    <tr>\n",
       "      <th>QAI US Equity</th>\n",
       "      <td>0.341458</td>\n",
       "    </tr>\n",
       "    <tr>\n",
       "      <th>SPY US Equity</th>\n",
       "      <td>0.176273</td>\n",
       "    </tr>\n",
       "    <tr>\n",
       "      <th>EEM US Equity</th>\n",
       "      <td>0.083082</td>\n",
       "    </tr>\n",
       "  </tbody>\n",
       "</table>\n",
       "</div>"
      ],
      "text/plain": [
       "                  Betas\n",
       "QAI US Equity  0.341458\n",
       "SPY US Equity  0.176273\n",
       "EEM US Equity  0.083082"
      ]
     },
     "execution_count": 400,
     "metadata": {},
     "output_type": "execute_result"
    }
   ],
   "source": [
    "y = retidx['HDG US Equity']   \n",
    "X = sm.add_constant(retidx[['QAI US Equity', 'SPY US Equity', 'EEM US Equity']])\n",
    "model = sm.OLS(y,X).fit()\n",
    "\n",
    "betas = model.params\n",
    "betasdf = betas.to_frame().drop('const')\n",
    "betasdf.columns = ['Betas']\n",
    "\n",
    "betasdf"
   ]
  },
  {
   "cell_type": "code",
   "execution_count": 401,
   "id": "ac6041bb",
   "metadata": {},
   "outputs": [
    {
     "name": "stdout",
     "output_type": "stream",
     "text": [
      "Last 3 Portfolio Values:\n",
      "date\n",
      "2024-07-31    1560.825130\n",
      "2024-08-31    1572.597945\n",
      "2024-09-30    1593.733392\n",
      "dtype: float64\n"
     ]
    }
   ],
   "source": [
    "#chat gpt: how do i use these betas as weights to use their raw returns to create weighted returns in python \n",
    "retidxfitlered = retidx[['QAI US Equity', 'SPY US Equity', 'EEM US Equity']]\n",
    "betas = betasdf['Betas']\n",
    "weighted_returns = retidxfitlered.mul(betas, axis=1)\n",
    "basketreturns = weighted_returns.sum(axis=1)\n",
    "\n",
    "starting_value = 1000\n",
    "portfolio_value = starting_value * (1 + basketreturns).cumprod()\n",
    "\n",
    "print(\"Last 3 Portfolio Values:\")\n",
    "print(portfolio_value.tail(3))"
   ]
  },
  {
   "cell_type": "markdown",
   "id": "607c71d0-bcf5-47e0-8539-7a8dc7f8e4fc",
   "metadata": {},
   "source": [
    "### 4.\n",
    "\n",
    "#### (8pts)\n",
    "\n",
    "Construct the strategy indicated by the approach in the previous problem.\n",
    "\n",
    "For a given period $t$:\n",
    "- if the $\\varepsilon_t \\leq 0$ (is negative or equal to 0), you should be long HDG 200% in HDG and short 100% in the basket portfolio **in period $t+1$**.\n",
    "- if the $\\varepsilon_t > 0$ (is positive), you should be long 200% in the basket portfolio and short 100% **in HDG in period $t+1$**.\n",
    "\n",
    "Do not worry about the look forward bias: in this scenario, you should run the model only once with the entire dataset and define your $\\varepsilon_t$ for any $t$ also considering the model that has acess to data in $t+1, t+2, ...$ to make the calculation.  \n",
    "\n",
    "Report the annualized summary statistics of this strategy (Mean, Vol and Sharpe)."
   ]
  },
  {
   "cell_type": "code",
   "execution_count": 402,
   "id": "f289343e",
   "metadata": {},
   "outputs": [
    {
     "name": "stdout",
     "output_type": "stream",
     "text": [
      "Annualized Mean Return: -0.005065135702811191\n",
      "Annualized Volatility: 0.004359808761221946\n",
      "Sharpe Ratio: -1.1617793302914414\n"
     ]
    }
   ],
   "source": [
    "#not really sure if this is working, i feel like i am missing something.... the results seem messed up.\n",
    "#chat gpt prompt: how would i approach this question using my previous regrssion\n",
    "\n",
    "strategy_returns = []\n",
    "y_pred = model.predict(X)\n",
    "epsilon = y - y_pred\n",
    "\n",
    "for i in range(len(epsilon)):\n",
    "    if epsilon[i] <= 0:\n",
    "        strategy_return = y[i] - basketreturns[i]\n",
    "    else:\n",
    "        strategy_return = basketreturns[i] - y[i]\n",
    "    strategy_returns.append(strategy_return)\n",
    "\n",
    "strategy_returns = pd.Series(strategy_returns)\n",
    "\n",
    "mean_return = strategy_returns.mean()\n",
    "volatility = strategy_returns.std()\n",
    "sharpe_ratio = mean_return / volatility\n",
    "\n",
    "print(\"Annualized Mean Return:\", mean_return)\n",
    "print(\"Annualized Volatility:\", volatility)\n",
    "print(\"Sharpe Ratio:\", sharpe_ratio)\n"
   ]
  },
  {
   "cell_type": "markdown",
   "id": "7397b033-f586-49bf-9763-489276723d8a",
   "metadata": {},
   "source": [
    "### 5.\n",
    "\n",
    "On a different matter, we are now studying QAI and want to track (replicate) it using the other available ETFs.\n",
    "\n",
    "Use an intercept and report:\n",
    "\n",
    "- $\\beta$ (and the sum of $\\beta$'s absolute value).\n",
    "- $\\alpha$ and Information Ratio.\n",
    "- $R^2$.\n",
    "- Correlation matrix between the assets used to replicate QAI."
   ]
  },
  {
   "cell_type": "code",
   "execution_count": 403,
   "id": "da7ab1cc",
   "metadata": {},
   "outputs": [],
   "source": [
    "y = retidx['QAI US Equity']   \n",
    "#should have just dropped QAI below, oops\n",
    "X = sm.add_constant(retidx[['HDG US Equity','SPY US Equity','EEM US Equity','EFA US Equity','EUO US Equity','IWM US Equity','SPXU US Equity','UPRO US Equity']])\n",
    "model = sm.OLS(y,X).fit()"
   ]
  },
  {
   "cell_type": "code",
   "execution_count": 404,
   "id": "9a2f5868",
   "metadata": {},
   "outputs": [
    {
     "data": {
      "text/plain": [
       "const            -0.000525\n",
       "HDG US Equity     0.231451\n",
       "SPY US Equity     0.565072\n",
       "EEM US Equity     0.047792\n",
       "EFA US Equity     0.032642\n",
       "EUO US Equity    -0.020484\n",
       "IWM US Equity    -0.000157\n",
       "SPXU US Equity    0.051074\n",
       "UPRO US Equity   -0.095099\n",
       "dtype: float64"
      ]
     },
     "execution_count": 404,
     "metadata": {},
     "output_type": "execute_result"
    }
   ],
   "source": [
    "betas = model.params\n",
    "betas"
   ]
  },
  {
   "cell_type": "code",
   "execution_count": 405,
   "id": "ce187d26",
   "metadata": {},
   "outputs": [
    {
     "data": {
      "text/plain": [
       "1.0442958943860663"
      ]
     },
     "execution_count": 405,
     "metadata": {},
     "output_type": "execute_result"
    }
   ],
   "source": [
    "betas.abs().sum()"
   ]
  },
  {
   "cell_type": "code",
   "execution_count": 406,
   "id": "e00fad37",
   "metadata": {},
   "outputs": [
    {
     "data": {
      "text/plain": [
       "-0.000524683277264027"
      ]
     },
     "execution_count": 406,
     "metadata": {},
     "output_type": "execute_result"
    }
   ],
   "source": [
    "intercept = model.params['const']\n",
    "intercept"
   ]
  },
  {
   "cell_type": "code",
   "execution_count": 407,
   "id": "d9cb38bc",
   "metadata": {},
   "outputs": [
    {
     "name": "stdout",
     "output_type": "stream",
     "text": [
      "Information Ratio: 6.135312663412404e-14\n"
     ]
    }
   ],
   "source": [
    "#chat GPT: how would i get the information ratio\n",
    "\n",
    "predicted_returns = model.predict(X)\n",
    "benchmark_returns = retidx['QAI US Equity']\n",
    "active_returns = predicted_returns - benchmark_returns\n",
    "average_active_return = np.mean(active_returns)\n",
    "tracking_error = np.std(active_returns)\n",
    "information_ratio = average_active_return / tracking_error\n",
    "\n",
    "\n",
    "print(\"Information Ratio:\", information_ratio)"
   ]
  },
  {
   "cell_type": "code",
   "execution_count": 408,
   "id": "597f5cff",
   "metadata": {},
   "outputs": [
    {
     "data": {
      "text/plain": [
       "0.8419884087094259"
      ]
     },
     "execution_count": 408,
     "metadata": {},
     "output_type": "execute_result"
    }
   ],
   "source": [
    "r_squared = model.rsquared\n",
    "r_squared"
   ]
  },
  {
   "cell_type": "code",
   "execution_count": 409,
   "id": "71f440c2",
   "metadata": {},
   "outputs": [
    {
     "data": {
      "image/png": "[encoded data removed]",
      "text/plain": [
       "<Figure size 800x600 with 2 Axes>"
      ]
     },
     "metadata": {},
     "output_type": "display_data"
    }
   ],
   "source": [
    "corrmatrix = X.corr()\n",
    "plt.figure(figsize=(8, 6))  # Set the size of the heatmap\n",
    "sns.heatmap(corrmatrix, annot=True, cmap=\"coolwarm\", linewidths=0.5)\n",
    "plt.title(\"Correlation Matrix\")\n",
    "plt.show()"
   ]
  },
  {
   "cell_type": "markdown",
   "id": "e23fbaed-bfd0-4ba3-80b1-10282619aba9",
   "metadata": {},
   "source": [
    "### 6.\n",
    "\n",
    "Explain how good is your replication, pointing out at least one good or bad argument related to each of the statistics mentioned in the bullet points above (thus, you should have at least 4 arguments)."
   ]
  },
  {
   "cell_type": "markdown",
   "id": "bedb7e55",
   "metadata": {},
   "source": [
    "The R Squared is quite high, which shows it is a good replication. The information ratio is also very low, implying we performed really close to our target benchmark. The intercept is very small, which means we do not have to introduce a risk free rate to replicate and can use our basket of stocks. And finally, the absolute beta values add up to only one, which means we do not have outsized weights, meaning our replication is working quite well."
   ]
  },
  {
   "cell_type": "markdown",
   "id": "ecd7b8ee",
   "metadata": {},
   "source": [
    "***"
   ]
  },
  {
   "cell_type": "markdown",
   "id": "cb06f50c-cc60-4ee7-9828-bc6bff90c46d",
   "metadata": {},
   "source": [
    "# 4. "
   ]
  },
  {
   "cell_type": "markdown",
   "id": "4c6cde15-77e9-480a-ac34-0ae92694cdab",
   "metadata": {},
   "source": [
    "The data in sheet `fx carry excess returns` has **excess** daily returns for trading currencies.\n",
    "* You **do NOT need** to know anything about FX, currency, or the underlying strategies.\n",
    "* Rather, just take these return series as given.\n",
    "\n",
    "For the problems below, we will **only use** the `JPY` series."
   ]
  },
  {
   "cell_type": "code",
   "execution_count": 410,
   "id": "f89b4cb1",
   "metadata": {},
   "outputs": [
    {
     "data": {
      "text/html": [
       "<div>\n",
       "<style scoped>\n",
       "    .dataframe tbody tr th:only-of-type {\n",
       "        vertical-align: middle;\n",
       "    }\n",
       "\n",
       "    .dataframe tbody tr th {\n",
       "        vertical-align: top;\n",
       "    }\n",
       "\n",
       "    .dataframe thead th {\n",
       "        text-align: right;\n",
       "    }\n",
       "</style>\n",
       "<table border=\"1\" class=\"dataframe\">\n",
       "  <thead>\n",
       "    <tr style=\"text-align: right;\">\n",
       "      <th></th>\n",
       "      <th>JPY</th>\n",
       "    </tr>\n",
       "    <tr>\n",
       "      <th>date</th>\n",
       "      <th></th>\n",
       "    </tr>\n",
       "  </thead>\n",
       "  <tbody>\n",
       "    <tr>\n",
       "      <th>2019-01-07</th>\n",
       "      <td>-0.001843</td>\n",
       "    </tr>\n",
       "    <tr>\n",
       "      <th>2019-01-08</th>\n",
       "      <td>-0.000324</td>\n",
       "    </tr>\n",
       "    <tr>\n",
       "      <th>2019-01-09</th>\n",
       "      <td>0.005222</td>\n",
       "    </tr>\n",
       "    <tr>\n",
       "      <th>2019-01-10</th>\n",
       "      <td>-0.002486</td>\n",
       "    </tr>\n",
       "    <tr>\n",
       "      <th>2019-01-11</th>\n",
       "      <td>-0.000865</td>\n",
       "    </tr>\n",
       "  </tbody>\n",
       "</table>\n",
       "</div>"
      ],
      "text/plain": [
       "                 JPY\n",
       "date                \n",
       "2019-01-07 -0.001843\n",
       "2019-01-08 -0.000324\n",
       "2019-01-09  0.005222\n",
       "2019-01-10 -0.002486\n",
       "2019-01-11 -0.000865"
      ]
     },
     "execution_count": 410,
     "metadata": {},
     "output_type": "execute_result"
    }
   ],
   "source": [
    "FILEIN = '../data/midterm_1_data.xlsx'\n",
    "sheet_exrets = 'fx carry returns'\n",
    "retfx = pd.read_excel(FILEIN, sheet_name=sheet_exrets).set_index('date')\n",
    "retjpy = retfx[['JPY']]\n",
    "\n",
    "retjpy.head()"
   ]
  },
  {
   "cell_type": "markdown",
   "id": "b827c465-d9dd-4466-bbc7-946e3fce7029",
   "metadata": {},
   "source": [
    "### 1.\n",
    "\n",
    "Calculate the `1%` VaR as follows...\n",
    "\n",
    "Empirical VaR:\n",
    "* At every point in time, calculate the `1st` quantile of the returns up to that point.\n",
    "* No need to scale the answers.\n",
    "  \n",
    "Report the VaR for the final date of the sample."
   ]
  },
  {
   "cell_type": "code",
   "execution_count": 411,
   "id": "e7c16d3a",
   "metadata": {},
   "outputs": [
    {
     "data": {
      "text/plain": [
       "-0.01717837630807654"
      ]
     },
     "execution_count": 411,
     "metadata": {},
     "output_type": "execute_result"
    }
   ],
   "source": [
    "#using my solitions to homework 3 for this \n",
    "\n",
    "def calculate_var_1percent(series):\n",
    "    return series.quantile(0.01)\n",
    "rolling_var = retjpy['JPY'].expanding().apply(calculate_var_1percent)\n",
    "rolling_var.iloc[-1]"
   ]
  },
  {
   "cell_type": "markdown",
   "id": "f973bfcf-8d52-4465-8513-f393b85393c4",
   "metadata": {},
   "source": [
    "### 2.\n",
    "\n",
    "Now calculate the `normal VaR` of `JPY` as follows,\n",
    "\n",
    "$$\\text{Normal VaR (1\\%)} = -2.33\\, \\sigma_t$$\n",
    "\n",
    "where $\\sigma_t$ is estimated with\n",
    "* rolling volatility.\n",
    "* using a window of `233` days.\n",
    "* without using a sample mean.\n",
    "\n",
    "Report the VaR for the final `3 days` of the sample."
   ]
  },
  {
   "cell_type": "code",
   "execution_count": 412,
   "id": "a77a3485",
   "metadata": {},
   "outputs": [
    {
     "data": {
      "text/plain": [
       "date\n",
       "2024-08-01   -0.013358\n",
       "2024-08-02   -0.013646\n",
       "2024-08-05   -0.013844\n",
       "Name: JPY, dtype: float64"
      ]
     },
     "execution_count": 412,
     "metadata": {},
     "output_type": "execute_result"
    }
   ],
   "source": [
    "rolling_vol = retjpy['JPY'].rolling(window=233).std()\n",
    "normal_var = -2.33 * rolling_vol\n",
    "normal_var.tail(3)"
   ]
  },
  {
   "cell_type": "markdown",
   "id": "98805080-a0db-48bd-ab7a-34574b8ace75",
   "metadata": {},
   "source": [
    "### 3.\n",
    "\n",
    "Now calculate the `normal VaR` of `JPY` as follows,\n",
    "\n",
    "$$\\text{Normal VaR (1\\%)} = -2.33\\, \\sigma_t$$\n",
    "\n",
    "where $\\sigma_t$ is estimated with\n",
    "* EWMA volatility\n",
    "* using $\\lambda = 0.94$.\n",
    "* without using a sample mean.\n",
    "\n",
    "Report the VaR for the final `3 days` of the sample."
   ]
  },
  {
   "cell_type": "code",
   "execution_count": 413,
   "id": "1bbe935a",
   "metadata": {},
   "outputs": [
    {
     "data": {
      "text/plain": [
       "date\n",
       "2024-08-01   -0.017406\n",
       "2024-08-02   -0.019869\n",
       "2024-08-05   -0.020179\n",
       "Name: JPY, dtype: float64"
      ]
     },
     "execution_count": 413,
     "metadata": {},
     "output_type": "execute_result"
    }
   ],
   "source": [
    "lambda_ewma = 0.94\n",
    "ewma_vol = retjpy['JPY'].ewm(span=(1/(1 - lambda_ewma)), adjust=False).std()\n",
    "normal_var_ewma = -2.33 * ewma_vol\n",
    "normal_var_ewma.tail(3)"
   ]
  },
  {
   "cell_type": "markdown",
   "id": "1778a4f4-0382-4b27-a4bd-5b980fee9f82",
   "metadata": {},
   "source": [
    "### 4.\n",
    "\n",
    "Make a plot of the three timeseries of your VaR estimates.\n",
    "\n",
    "Succinctly point out the pros / cons of these approaches."
   ]
  },
  {
   "cell_type": "code",
   "execution_count": null,
   "id": "3ff993dd",
   "metadata": {},
   "outputs": [],
   "source": [
    "df = pd.DataFrame({\n",
    "    'expanding var': rolling_var,\n",
    "    'rolling var': normal_var,\n",
    "    'ewma var': normal_var_ewma\n",
    "})\n",
    "\n",
    "plt.plot(df.index, df['expanding var'], label='Expanding VaR', color='blue')\n",
    "plt.plot(df.index, df['rolling var'], label='Rolling VaR', color='green')\n",
    "plt.plot(df.index, df['ewma var'], label='EWMA VaR', color='red')\n",
    "\n",
    "plt.xlabel('Date')\n",
    "plt.ylabel('Volatility')\n",
    "plt.title('Expanding, Rolling, and EWMA Volatility')\n",
    "\n",
    "plt.legend()\n",
    "\n",
    "plt.show()"
   ]
  },
  {
   "cell_type": "markdown",
   "id": "766661e3-af58-4918-ba7e-e9aba15333da",
   "metadata": {},
   "source": [
    "### 5.\n",
    "\n",
    "What statistic do we use to judge the performance of a VaR model?\n",
    "\n",
    "Estimate and report this statistic across the VaR methods.\n",
    "\n",
    "Which VaR model do you find is best?"
   ]
  },
  {
   "cell_type": "code",
   "execution_count": 386,
   "id": "252a40b7",
   "metadata": {},
   "outputs": [
    {
     "name": "stdout",
     "output_type": "stream",
     "text": [
      "Expanding VaR Hit Rate: 0.0230\n",
      "Rolling VaR Hit Rate: 0.0199\n",
      "EWMA VaR Hit Rate: 0.0069\n"
     ]
    }
   ],
   "source": [
    "#using hw3 solutions and a gpt prompt: how to calulcate hit rates for VaR\n",
    "\n",
    "retjpy_jpy = retjpy['JPY'].reindex(df.index)\n",
    "\n",
    "expanding_hits = (retjpy_jpy < df['expanding var']).sum()\n",
    "expanding_hit_rate = expanding_hits / len(retjpy_jpy)\n",
    "\n",
    "rolling_hits = (retjpy_jpy < df['rolling var']).sum()\n",
    "rolling_hit_rate = rolling_hits / len(retjpy_jpy)\n",
    "\n",
    "ewma_hits = (retjpy_jpy < df['ewma var']).sum()\n",
    "ewma_hit_rate = ewma_hits / len(retjpy_jpy)\n",
    "\n",
    "print(f\"Expanding VaR Hit Rate: {expanding_hit_rate:.4f}\")\n",
    "print(f\"Rolling VaR Hit Rate: {rolling_hit_rate:.4f}\")\n",
    "print(f\"EWMA VaR Hit Rate: {ewma_hit_rate:.4f}\")\n"
   ]
  },
  {
   "cell_type": "markdown",
   "id": "a266c53b",
   "metadata": {},
   "source": [
    "We want to assess VaR by looking at the \"hit rate\", or the amount of times our daily returns cross the thresholds we set with VaR. A lower value is best, which means that our EWMA VaR is the best model to use. We do want to keep in mind that too low of a hit rate means the model is too conservative, but in this case our EWMA is 0.7% and the next lowest is our Rolling VaR at 2.0%, so if we say the optimal hit rate is around 1%, then EWMA is still best."
   ]
  },
  {
   "cell_type": "markdown",
   "id": "cff0e17f-9126-4f11-99c0-fa9796143021",
   "metadata": {},
   "source": [
    "***"
   ]
  }
 ],
 "metadata": {
  "hide_input": false,
  "kernelspec": {
   "display_name": "base",
   "language": "python",
   "name": "python3"
  },
  "language_info": {
   "codemirror_mode": {
    "name": "ipython",
    "version": 3
   },
   "file_extension": ".py",
   "mimetype": "text/x-python",
   "name": "python",
   "nbconvert_exporter": "python",
   "pygments_lexer": "ipython3",
   "version": "3.12.4"
  }
 },
 "nbformat": 4,
 "nbformat_minor": 5
}
